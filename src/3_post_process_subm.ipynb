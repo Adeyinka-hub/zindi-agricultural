{
 "cells": [
  {
   "cell_type": "code",
   "execution_count": 5,
   "metadata": {},
   "outputs": [],
   "source": [
    "import pandas as pd\n",
    "import numpy as np\n",
    "import joblib\n",
    "\n",
    "import pathlib"
   ]
  },
  {
   "cell_type": "code",
   "execution_count": 6,
   "metadata": {},
   "outputs": [],
   "source": [
    "data_path = pathlib.Path(\"../data\")\n",
    "train = pd.read_csv(data_path/'Train.csv')\n",
    "train_extra = pd.read_csv(data_path/'train_add.csv')\n",
    "train_extra_2 = pd.read_csv(data_path/'train_add_20201029.csv')\n",
    "\n",
    "label2code = {word: idx for idx, word in enumerate(train.label.unique().tolist())}\n",
    "code2label = {v:k for k,v in label2code.items()}\n",
    "\n",
    "train_df = pd.concat([train, train_extra, train_extra_2], axis=0).reset_index(drop=True)"
   ]
  },
  {
   "cell_type": "code",
   "execution_count": 13,
   "metadata": {},
   "outputs": [],
   "source": [
    "train_class_dict = train_df.label.value_counts() / train_df.shape[0]"
   ]
  },
  {
   "cell_type": "code",
   "execution_count": 14,
   "metadata": {},
   "outputs": [
    {
     "name": "stdout",
     "output_type": "stream",
     "text": [
      "(1017, 194)\n"
     ]
    }
   ],
   "source": [
    "subm = pd.read_csv(\"submissions/gm_w_new_dens_2.csv\")\n",
    "print(subm.shape)"
   ]
  },
  {
   "cell_type": "code",
   "execution_count": 15,
   "metadata": {},
   "outputs": [],
   "source": [
    "speech_prod_dict = joblib.load(\"probs_dict.joblib\")"
   ]
  },
  {
   "cell_type": "code",
   "execution_count": 16,
   "metadata": {},
   "outputs": [],
   "source": [
    "subm_pred_cols = subm.drop(\"fn\", axis=1).columns.values\n",
    "replace_preds = np.array([train_class_dict[i] for i in subm_pred_cols])"
   ]
  },
  {
   "cell_type": "code",
   "execution_count": 22,
   "metadata": {},
   "outputs": [
    {
     "data": {
      "text/plain": [
       "array(['audio_files/00118N3.wav', 'audio_files/00P0NMV.wav',\n",
       "       'audio_files/01QEEZI.wav', ..., 'audio_files/ZSC69U3.wav',\n",
       "       'audio_files/ZU1I8MR.wav', 'audio_files/ZYO56VD.wav'], dtype=object)"
      ]
     },
     "execution_count": 22,
     "metadata": {},
     "output_type": "execute_result"
    }
   ],
   "source": []
  },
  {
   "cell_type": "code",
   "execution_count": 33,
   "metadata": {
    "scrolled": true
   },
   "outputs": [
    {
     "name": "stdout",
     "output_type": "stream",
     "text": [
      "updated weights for audio_files/05KISR5.wav with mean speech probs 0.003523151212538354\n",
      "------\n",
      "updated weights for audio_files/37839CJ.wav with mean speech probs 0.004766196737983736\n",
      "------\n",
      "updated weights for audio_files/DWLVCY9.wav with mean speech probs 0.0028154577268062583\n",
      "------\n",
      "updated weights for audio_files/HJ9ACW2.wav with mean speech probs 0.007202305982861182\n",
      "------\n",
      "updated weights for audio_files/J0N19SG.wav with mean speech probs 0.0032605875760388834\n",
      "------\n",
      "updated weights for audio_files/JFS7FAK.wav with mean speech probs 0.003661880148169787\n",
      "------\n",
      "updated weights for audio_files/LZL66TN.wav with mean speech probs 0.003789361209748088\n",
      "------\n",
      "updated weights for audio_files/OFFQD80.wav with mean speech probs 0.007900190950204857\n",
      "------\n",
      "updated weights for audio_files/RI11IKN.wav with mean speech probs 0.0038822527529428835\n",
      "------\n",
      "updated weights for audio_files/SY0BKC1.wav with mean speech probs 0.007236266022791033\n",
      "------\n"
     ]
    }
   ],
   "source": [
    "updated_preds = list()\n",
    "thr = 0.01\n",
    "for fn, cur_preds in zip(subm.fn.values, subm[subm_pred_cols].values):\n",
    "    fn_probs = speech_prod_dict[fn.split(\"/\")[-1]]\n",
    "    mean_fn_probs = np.mean(fn_probs)\n",
    "    if mean_fn_probs >= thr:\n",
    "        updated_preds.append(cur_preds)\n",
    "    else:\n",
    "        updated_preds.append(replace_preds)\n",
    "        #updated_preds.append(np.ones(n_classes) / n_classes)\n",
    "        print(f\"updated weights for {fn} with mean speech probs {mean_fn_probs}\")\n",
    "        print('------')\n",
    "updated_preds = np.array(updated_preds)\n",
    "assert updated_preds.shape == subm[subm_pred_cols].values.shape"
   ]
  },
  {
   "cell_type": "code",
   "execution_count": 50,
   "metadata": {},
   "outputs": [],
   "source": [
    "new_subm = subm.copy()"
   ]
  },
  {
   "cell_type": "code",
   "execution_count": 51,
   "metadata": {},
   "outputs": [],
   "source": [
    "new_subm[subm_pred_cols] = updated_preds"
   ]
  },
  {
   "cell_type": "code",
   "execution_count": 52,
   "metadata": {},
   "outputs": [
    {
     "data": {
      "text/plain": [
       "0.9872173058013766"
      ]
     },
     "execution_count": 52,
     "metadata": {},
     "output_type": "execute_result"
    }
   ],
   "source": [
    "np.mean(new_subm[subm_pred_cols].values == subm[subm_pred_cols].values)"
   ]
  },
  {
   "cell_type": "code",
   "execution_count": 37,
   "metadata": {},
   "outputs": [],
   "source": [
    "new_subm.to_csv(\"submissions/gm_w_new_dens_2_PP_1.csv\", index=False)"
   ]
  },
  {
   "cell_type": "code",
   "execution_count": null,
   "metadata": {},
   "outputs": [],
   "source": []
  }
 ],
 "metadata": {
  "kernelspec": {
   "display_name": "Python 3",
   "language": "python",
   "name": "python3"
  },
  "language_info": {
   "codemirror_mode": {
    "name": "ipython",
    "version": 3
   },
   "file_extension": ".py",
   "mimetype": "text/x-python",
   "name": "python",
   "nbconvert_exporter": "python",
   "pygments_lexer": "ipython3",
   "version": "3.6.9"
  }
 },
 "nbformat": 4,
 "nbformat_minor": 2
}
