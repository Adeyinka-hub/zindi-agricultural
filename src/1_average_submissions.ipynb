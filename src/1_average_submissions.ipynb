{
 "cells": [
  {
   "cell_type": "code",
   "execution_count": null,
   "metadata": {},
   "outputs": [],
   "source": [
    "## intermediate average submission:\n",
    "\n",
    "import pandas as pd\n",
    "import numpy as np\n",
    "import matplotlib.pyplot as plt\n",
    "\n",
    "%matplotlib inline\n",
    "\n",
    "preds_to_average = [\n",
    "    \"tmp/melspec_resnet34_repr/melspec_resnet34_repr_merged.csv\",\n",
    "    \"submissions/simple_kaggle_custom_spects.csv\",\n",
    "    \"submissions/resnet50_augmented.csv\",\n",
    "    \"submissions/densenet161_augmented.csv\"\n",
    "]\n",
    "\n",
    "\n",
    "all_subs = list()\n",
    "source_pred = pd.read_csv(preds_to_average[0])\n",
    "pred_cols = source_pred.drop(\"fn\", axis=1).columns.values\n",
    "for file in preds_to_average[1:]:\n",
    "    tmp = pd.read_csv(file)\n",
    "    source_pred[pred_cols] *= tmp[pred_cols]\n",
    "\n",
    "source_pred[pred_cols] = source_pred[pred_cols]**(1/len(preds_to_average))\n",
    "\n",
    "sv = source_pred[pred_cols].sum(axis=1).values\n",
    "for c in pred_cols:\n",
    "    source_pred[c] /= sv\n",
    "    \n",
    "assert np.all(np.isclose(1, source_pred[pred_cols].sum(axis=1).values))"
   ]
  },
  {
   "cell_type": "code",
   "execution_count": null,
   "metadata": {},
   "outputs": [],
   "source": [
    "source_pred.to_csv(\"submissions/2nd_roll_average_gm.csv\", index=False)"
   ]
  },
  {
   "cell_type": "code",
   "execution_count": null,
   "metadata": {},
   "outputs": [],
   "source": []
  },
  {
   "cell_type": "markdown",
   "metadata": {},
   "source": [
    "### Final average submission (before postprocessing):"
   ]
  },
  {
   "cell_type": "code",
   "execution_count": null,
   "metadata": {},
   "outputs": [],
   "source": [
    "import pandas as pd\n",
    "import numpy as np\n",
    "import matplotlib.pyplot as plt\n",
    "\n",
    "%matplotlib inline\n",
    "\n",
    "preds_to_average = [\n",
    "    \"tmp/resnet50_aug_mixup_repr_folds/resnet50_aug_mixup_repr_folds_merged.csv\",\n",
    "    \"tmp/densenet161_mixup_repr_folds/densenet161_mixup_repr_folds_merged.csv\",\n",
    "    \"submissions/2nd_roll_average_gm.csv\",\n",
    "    \"tmp/dens161_aug_mixup_repr_folds/dens161_aug_mixup_repr_folds_merged.csv\",\n",
    "    \"tmp/resnext_aug_mixup_repr_folds/resnext_aug_mixup_repr_folds_merged.csv\",\n",
    "]\n",
    "\n",
    "source_pred = pd.read_csv(preds_to_average[0])\n",
    "pred_cols = source_pred.drop(\"fn\", axis=1).columns.values\n",
    "for file in preds_to_average[1:]:\n",
    "    tmp = pd.read_csv(file)\n",
    "    source_pred[pred_cols] *= tmp[pred_cols]\n",
    "\n",
    "source_pred[pred_cols] = source_pred[pred_cols]**(1/len(preds_to_average))\n",
    "\n",
    "sv = source_pred[pred_cols].sum(axis=1).values\n",
    "for c in pred_cols:\n",
    "    source_pred[c] /= sv\n",
    "    \n",
    "assert np.all(np.isclose(1, source_pred[pred_cols].sum(axis=1).values))"
   ]
  },
  {
   "cell_type": "code",
   "execution_count": null,
   "metadata": {},
   "outputs": [],
   "source": [
    "source_pred.to_csv(\"submissions/gm_w_new_dens_2.csv\", index=False)"
   ]
  },
  {
   "cell_type": "code",
   "execution_count": null,
   "metadata": {},
   "outputs": [],
   "source": []
  }
 ],
 "metadata": {
  "kernelspec": {
   "display_name": "Python 3",
   "language": "python",
   "name": "python3"
  },
  "language_info": {
   "codemirror_mode": {
    "name": "ipython",
    "version": 3
   },
   "file_extension": ".py",
   "mimetype": "text/x-python",
   "name": "python",
   "nbconvert_exporter": "python",
   "pygments_lexer": "ipython3",
   "version": "3.6.9"
  }
 },
 "nbformat": 4,
 "nbformat_minor": 4
}
