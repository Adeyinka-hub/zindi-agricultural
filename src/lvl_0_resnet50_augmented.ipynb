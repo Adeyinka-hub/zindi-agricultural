{
 "cells": [
  {
   "cell_type": "code",
   "execution_count": 1,
   "metadata": {},
   "outputs": [],
   "source": [
    "import os\n",
    "import time\n",
    "import random\n",
    "import warnings\n",
    "import typing as tp\n",
    "import pathlib\n",
    "from contextlib import contextmanager\n",
    "\n",
    "import cv2\n",
    "import librosa\n",
    "\n",
    "import numpy as np\n",
    "import pandas as pd\n",
    "\n",
    "import torch\n",
    "import torch.nn as nn\n",
    "import torch.nn.functional as F\n",
    "import torch.utils.data as data"
   ]
  },
  {
   "cell_type": "code",
   "execution_count": 2,
   "metadata": {},
   "outputs": [],
   "source": [
    "import python_speech_features as psf\n",
    "import matplotlib.pyplot as plt\n",
    "\n",
    "%matplotlib inline"
   ]
  },
  {
   "cell_type": "code",
   "execution_count": 3,
   "metadata": {},
   "outputs": [],
   "source": [
    "data_path = pathlib.Path(\"../data\")"
   ]
  },
  {
   "cell_type": "code",
   "execution_count": 4,
   "metadata": {},
   "outputs": [
    {
     "data": {
      "text/html": [
       "<div>\n",
       "<style scoped>\n",
       "    .dataframe tbody tr th:only-of-type {\n",
       "        vertical-align: middle;\n",
       "    }\n",
       "\n",
       "    .dataframe tbody tr th {\n",
       "        vertical-align: top;\n",
       "    }\n",
       "\n",
       "    .dataframe thead th {\n",
       "        text-align: right;\n",
       "    }\n",
       "</style>\n",
       "<table border=\"1\" class=\"dataframe\">\n",
       "  <thead>\n",
       "    <tr style=\"text-align: right;\">\n",
       "      <th></th>\n",
       "      <th>fn</th>\n",
       "      <th>label</th>\n",
       "    </tr>\n",
       "  </thead>\n",
       "  <tbody>\n",
       "    <tr>\n",
       "      <td>0</td>\n",
       "      <td>audio_files/IV38R7F.wav</td>\n",
       "      <td>akawuka</td>\n",
       "    </tr>\n",
       "    <tr>\n",
       "      <td>1</td>\n",
       "      <td>audio_files/KM4SKWT.wav</td>\n",
       "      <td>banana</td>\n",
       "    </tr>\n",
       "    <tr>\n",
       "      <td>2</td>\n",
       "      <td>audio_files/F5POSU9.wav</td>\n",
       "      <td>obulwadde</td>\n",
       "    </tr>\n",
       "    <tr>\n",
       "      <td>3</td>\n",
       "      <td>audio_files/MMVDXG2.wav</td>\n",
       "      <td>nnyaanya</td>\n",
       "    </tr>\n",
       "    <tr>\n",
       "      <td>4</td>\n",
       "      <td>audio_files/9TVM96F.wav</td>\n",
       "      <td>pampu</td>\n",
       "    </tr>\n",
       "  </tbody>\n",
       "</table>\n",
       "</div>"
      ],
      "text/plain": [
       "                        fn      label\n",
       "0  audio_files/IV38R7F.wav    akawuka\n",
       "1  audio_files/KM4SKWT.wav     banana\n",
       "2  audio_files/F5POSU9.wav  obulwadde\n",
       "3  audio_files/MMVDXG2.wav   nnyaanya\n",
       "4  audio_files/9TVM96F.wav      pampu"
      ]
     },
     "execution_count": 4,
     "metadata": {},
     "output_type": "execute_result"
    }
   ],
   "source": [
    "train = pd.read_csv(data_path/'Train.csv')\n",
    "train.head()"
   ]
  },
  {
   "cell_type": "code",
   "execution_count": 5,
   "metadata": {},
   "outputs": [
    {
     "data": {
      "text/html": [
       "<div>\n",
       "<style scoped>\n",
       "    .dataframe tbody tr th:only-of-type {\n",
       "        vertical-align: middle;\n",
       "    }\n",
       "\n",
       "    .dataframe tbody tr th {\n",
       "        vertical-align: top;\n",
       "    }\n",
       "\n",
       "    .dataframe thead th {\n",
       "        text-align: right;\n",
       "    }\n",
       "</style>\n",
       "<table border=\"1\" class=\"dataframe\">\n",
       "  <thead>\n",
       "    <tr style=\"text-align: right;\">\n",
       "      <th></th>\n",
       "      <th>fn</th>\n",
       "      <th>label</th>\n",
       "    </tr>\n",
       "  </thead>\n",
       "  <tbody>\n",
       "    <tr>\n",
       "      <td>0</td>\n",
       "      <td>audio_files_full/3d43af6faf2244c288154dc4ff6a7...</td>\n",
       "      <td>obuwuka</td>\n",
       "    </tr>\n",
       "    <tr>\n",
       "      <td>1</td>\n",
       "      <td>audio_files_full/3d43af6faf2244c288154dc4ff6a7...</td>\n",
       "      <td>obuwuka</td>\n",
       "    </tr>\n",
       "    <tr>\n",
       "      <td>2</td>\n",
       "      <td>audio_files_full/744b1a437234489fae9512694d221...</td>\n",
       "      <td>obuwuka</td>\n",
       "    </tr>\n",
       "  </tbody>\n",
       "</table>\n",
       "</div>"
      ],
      "text/plain": [
       "                                                  fn    label\n",
       "0  audio_files_full/3d43af6faf2244c288154dc4ff6a7...  obuwuka\n",
       "1  audio_files_full/3d43af6faf2244c288154dc4ff6a7...  obuwuka\n",
       "2  audio_files_full/744b1a437234489fae9512694d221...  obuwuka"
      ]
     },
     "execution_count": 5,
     "metadata": {},
     "output_type": "execute_result"
    }
   ],
   "source": [
    "train_extra = pd.read_csv(data_path/'train_add.csv')\n",
    "train_extra.head(3)"
   ]
  },
  {
   "cell_type": "code",
   "execution_count": 6,
   "metadata": {},
   "outputs": [
    {
     "data": {
      "text/html": [
       "<div>\n",
       "<style scoped>\n",
       "    .dataframe tbody tr th:only-of-type {\n",
       "        vertical-align: middle;\n",
       "    }\n",
       "\n",
       "    .dataframe tbody tr th {\n",
       "        vertical-align: top;\n",
       "    }\n",
       "\n",
       "    .dataframe thead th {\n",
       "        text-align: right;\n",
       "    }\n",
       "</style>\n",
       "<table border=\"1\" class=\"dataframe\">\n",
       "  <thead>\n",
       "    <tr style=\"text-align: right;\">\n",
       "      <th></th>\n",
       "      <th>fn</th>\n",
       "      <th>label</th>\n",
       "    </tr>\n",
       "  </thead>\n",
       "  <tbody>\n",
       "    <tr>\n",
       "      <td>0</td>\n",
       "      <td>audio_files_full_20201029/2497942026ef4d7e97d4...</td>\n",
       "      <td>obuwuka</td>\n",
       "    </tr>\n",
       "    <tr>\n",
       "      <td>1</td>\n",
       "      <td>audio_files_full_20201029/d027264654b94950aeb2...</td>\n",
       "      <td>ejjobyo</td>\n",
       "    </tr>\n",
       "    <tr>\n",
       "      <td>2</td>\n",
       "      <td>audio_files_full_20201029/d027264654b94950aeb2...</td>\n",
       "      <td>ejjobyo</td>\n",
       "    </tr>\n",
       "  </tbody>\n",
       "</table>\n",
       "</div>"
      ],
      "text/plain": [
       "                                                  fn    label\n",
       "0  audio_files_full_20201029/2497942026ef4d7e97d4...  obuwuka\n",
       "1  audio_files_full_20201029/d027264654b94950aeb2...  ejjobyo\n",
       "2  audio_files_full_20201029/d027264654b94950aeb2...  ejjobyo"
      ]
     },
     "execution_count": 6,
     "metadata": {},
     "output_type": "execute_result"
    }
   ],
   "source": [
    "train_extra_2 = pd.read_csv(data_path/'train_add_20201029.csv')\n",
    "train_extra_2.head(3)"
   ]
  },
  {
   "cell_type": "code",
   "execution_count": null,
   "metadata": {},
   "outputs": [],
   "source": []
  },
  {
   "cell_type": "code",
   "execution_count": 7,
   "metadata": {},
   "outputs": [],
   "source": [
    "label2code = {word: idx for idx, word in enumerate(train.label.unique().tolist())}\n",
    "code2label = {v:k for k,v in label2code.items()}"
   ]
  },
  {
   "cell_type": "code",
   "execution_count": 8,
   "metadata": {},
   "outputs": [],
   "source": [
    "audios_path = data_path / \"all_audio_resampled\""
   ]
  },
  {
   "cell_type": "code",
   "execution_count": 9,
   "metadata": {},
   "outputs": [],
   "source": [
    "def get_image_path(audio_path):\n",
    "    file_name = audio_path.split(\"/\")[-1].split(\".\")[0]\n",
    "    ip = str(audios_path.resolve() / f\"{file_name}.wav\")\n",
    "    return ip\n",
    "\n",
    "train[\"image_fn\"] = train.fn.apply(get_image_path)\n",
    "train_extra[\"image_fn\"] = train_extra.fn.apply(get_image_path)\n",
    "train_extra_2[\"image_fn\"] = train_extra_2.fn.apply(get_image_path)"
   ]
  },
  {
   "cell_type": "code",
   "execution_count": 10,
   "metadata": {},
   "outputs": [],
   "source": [
    "train_df = pd.concat([train, train_extra], axis=0).reset_index(drop=True)"
   ]
  },
  {
   "cell_type": "code",
   "execution_count": 11,
   "metadata": {},
   "outputs": [],
   "source": [
    "### build validation that includes all classes:\n",
    "\n",
    "\n",
    "vcs = train_df.label.value_counts()\n",
    "\n",
    "## possible schema:\n",
    "# 25+ - take 3\n",
    "# 12-25 - take 2\n",
    "# 12- - take 1\n",
    "\n",
    "def num_for_val(num_examples):\n",
    "    if num_examples >= 25:\n",
    "        return 3\n",
    "    if num_examples >= 12:\n",
    "        return 2\n",
    "    return 1\n",
    "\n",
    "train_df[\"num_examples\"] = train_df.label.map(vcs.to_dict())\n",
    "train_df[\"num_for_val\"] = train_df.num_examples.apply(num_for_val)\n",
    "\n",
    "random.seed(12)\n",
    "train_df_new = pd.DataFrame()\n",
    "for label in train_df.label.unique():\n",
    "    tmp = train_df.loc[train_df.label == label].copy()\n",
    "    tmp[\"dummy\"] = tmp.label.apply(lambda _: random.random())\n",
    "    tmp.sort_values(by=\"dummy\", inplace=True)\n",
    "    tmp[\"rank\"] = range(tmp.shape[0])\n",
    "    train_df_new = pd.concat([train_df_new, tmp])\n",
    "\n",
    "train_df_new.reset_index(drop=True, inplace=True)\n",
    "train_df_new[\"val_subset\"] = train_df_new.num_for_val > train_df_new[\"rank\"]\n",
    "train_df_new.drop(\"dummy\", axis=1, inplace=True)"
   ]
  },
  {
   "cell_type": "code",
   "execution_count": 12,
   "metadata": {},
   "outputs": [],
   "source": [
    "assert (\n",
    "    set(train_df_new.loc[train_df_new.val_subset].label.unique()) == \n",
    "    set(train_df_new.loc[~train_df_new.val_subset].label.unique())\n",
    ")"
   ]
  },
  {
   "cell_type": "code",
   "execution_count": null,
   "metadata": {},
   "outputs": [],
   "source": []
  },
  {
   "cell_type": "code",
   "execution_count": 13,
   "metadata": {},
   "outputs": [
    {
     "name": "stdout",
     "output_type": "stream",
     "text": [
      "(2500, 7)\n",
      "(349, 7)\n"
     ]
    }
   ],
   "source": [
    "# from sklearn.model_selection import train_test_split\n",
    "\n",
    "train_df, val_df = train_df_new.loc[~train_df_new.val_subset].copy(), train_df_new.loc[train_df_new.val_subset].copy()\n",
    "print(train_df.shape)\n",
    "print(val_df.shape)"
   ]
  },
  {
   "cell_type": "code",
   "execution_count": 14,
   "metadata": {},
   "outputs": [],
   "source": [
    "train_df = pd.concat([\n",
    "    train_df.drop([\"num_examples\", \"num_for_val\", \"rank\", \"val_subset\"], axis=1),\n",
    "    train_extra_2\n",
    "]).reset_index(drop=True)"
   ]
  },
  {
   "cell_type": "code",
   "execution_count": 15,
   "metadata": {},
   "outputs": [
    {
     "name": "stdout",
     "output_type": "stream",
     "text": [
      "(4360, 3)\n",
      "(349, 7)\n"
     ]
    }
   ],
   "source": [
    "print(train_df.shape)\n",
    "print(val_df.shape)"
   ]
  },
  {
   "cell_type": "code",
   "execution_count": 16,
   "metadata": {},
   "outputs": [],
   "source": [
    "## check no val leaking\n",
    "assert train_df.merge(val_df, on=[\"image_fn\"], how=\"inner\").shape[0] == 0"
   ]
  },
  {
   "cell_type": "code",
   "execution_count": null,
   "metadata": {},
   "outputs": [],
   "source": []
  },
  {
   "cell_type": "code",
   "execution_count": null,
   "metadata": {},
   "outputs": [],
   "source": []
  },
  {
   "cell_type": "code",
   "execution_count": 17,
   "metadata": {},
   "outputs": [],
   "source": [
    "class Compose:\n",
    "    def __init__(self, transforms):\n",
    "        self.transforms = transforms\n",
    "\n",
    "    def __call__(self, image, trg=None):\n",
    "        if trg is None:\n",
    "            for t in self.transforms:\n",
    "                image = t(image)\n",
    "            return image\n",
    "        else:\n",
    "            for t in self.transforms:\n",
    "                image, trg = t(image, trg)\n",
    "            return image, trg\n",
    "\n",
    "\n",
    "class UseWithProb:\n",
    "    def __init__(self, transform, prob=.5):\n",
    "        self.transform = transform\n",
    "        self.prob = prob\n",
    "\n",
    "    def __call__(self, image, trg=None):\n",
    "        if trg is None:\n",
    "            if random.random() < self.prob:\n",
    "                image = self.transform(image)\n",
    "            return image\n",
    "        else:\n",
    "            if random.random() < self.prob:\n",
    "                image, trg = self.transform(image, trg)\n",
    "            return image, trg\n",
    "\n",
    "\n",
    "class OneOf:\n",
    "    def __init__(self, transforms, p=None):\n",
    "        self.transforms = transforms\n",
    "        self.p = p\n",
    "\n",
    "    def __call__(self, image, trg=None):\n",
    "        transform = np.random.choice(self.transforms, p=self.p)\n",
    "        if trg is None:\n",
    "            image = transform(image)\n",
    "            return image\n",
    "        else:\n",
    "            image, trg = transform(image, trg)\n",
    "            return image, trg"
   ]
  },
  {
   "cell_type": "code",
   "execution_count": 18,
   "metadata": {},
   "outputs": [],
   "source": [
    "SR = 22050"
   ]
  },
  {
   "cell_type": "code",
   "execution_count": 19,
   "metadata": {},
   "outputs": [],
   "source": [
    "class PitchShift:\n",
    "    def __init__(self, pitch_range, sr=SR):\n",
    "        self.pr_low, self.pr_hi = pitch_range\n",
    "        self.sr=sr\n",
    "    \n",
    "    def __call__(self, audio):\n",
    "        shift = np.random.choice(np.linspace(self.pr_low, self.pr_hi, 100))\n",
    "        return librosa.effects.pitch_shift(audio, self.sr, shift)\n",
    "\n",
    "\n",
    "class TimeStretch:\n",
    "    def __init__(self, stretch_param):\n",
    "        self.stretch = stretch_param\n",
    "    \n",
    "    def __call__(self, audio):\n",
    "        \"\"\"\n",
    "        if self.stretch is one number, use it as stretch param.\n",
    "        if it's 2nums array, use it as limits for uniform distribution\n",
    "        from which we sample stretch param\n",
    "        \"\"\"\n",
    "        if type(self.stretch) in (int, float):\n",
    "            return librosa.effects.time_stretch(audio, self.stretch)\n",
    "        else:\n",
    "            low, hi = self.stretch\n",
    "            s = np.random.choice(np.linspace(low, hi, 100))\n",
    "            return librosa.effects.time_stretch(audio, s)\n",
    "        \n",
    "class AddNoise:\n",
    "    def __init__(self, loc, scale):\n",
    "        self.loc = loc\n",
    "        self.scale = scale\n",
    "        \n",
    "    def __call__(self, audio):\n",
    "        noise = np.random.normal(loc=self.loc, scale=self.scale, size=audio.shape)\n",
    "        return noise + audio"
   ]
  },
  {
   "cell_type": "code",
   "execution_count": 20,
   "metadata": {},
   "outputs": [
    {
     "name": "stdout",
     "output_type": "stream",
     "text": [
      "3600\n",
      "['audio_files_full_20201029/d027264654b94950aeb204f64d05d8d7_49386199acdf4c2ab6ade67216e8dc8e.wav'\n",
      " 'ebikongoliro'\n",
      " '/home/letfoolsdie/zindi_nlp/data/all_audio_resampled/d027264654b94950aeb204f64d05d8d7_49386199acdf4c2ab6ade67216e8dc8e.wav']\n"
     ]
    }
   ],
   "source": [
    "import IPython.display as ipd\n",
    "\n",
    "idx = np.random.randint(train_df.shape[0])\n",
    "print(idx)\n",
    "print(train_df.iloc[idx].values)\n",
    "p = train_df.iloc[idx][\"image_fn\"]\n",
    "\n",
    "raw, _ = librosa.core.load(p, sr=SR)"
   ]
  },
  {
   "cell_type": "code",
   "execution_count": 21,
   "metadata": {},
   "outputs": [
    {
     "data": {
      "text/html": [
       "\n",
       "                <audio controls=\"controls\" >\n",
       "                    <source src=\"data:audio/wav;base64,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\" type=\"audio/wav\" />\n",
       "                    Your browser does not support the audio element.\n",
       "                </audio>\n",
       "              "
      ],
      "text/plain": [
       "<IPython.lib.display.Audio object>"
      ]
     },
     "execution_count": 21,
     "metadata": {},
     "output_type": "execute_result"
    }
   ],
   "source": [
    "ipd.Audio(raw, rate=SR)"
   ]
  },
  {
   "cell_type": "code",
   "execution_count": 22,
   "metadata": {},
   "outputs": [
    {
     "data": {
      "text/html": [
       "\n",
       "                <audio controls=\"controls\" >\n",
       "                    <source src=\"data:audio/wav;base64,UklGRuqnAQBXQVZFZm10IBAAAAABAAEAIlYAAESsAAACABAAZGF0YcanAQAx91X/FQAPC2D9wgcB/80GdgSpAWAFSPBFCxoRiP4v+bH3dfnv/lr1OAFU/SEHNPsGCCcCTf+V+bX6p/+m9ZYNmv6W+Uv9HvXIAW34KQAh/08JngNhB74BTvje830M+far8awBhflUCeT42QYt+lwPxQGmAgb04P279rkAuP8xAsr5x/9T8BcGPgRGDWL+DAVZ+Bn1Kv7+BDH+mvwQ+AYFTgaPA8X2Kvk++e8LyQJdBKr/IBIs/28D2gEuBE4EM/Mv+ZILrvjvAXT5ZAJe+Hr6KgIO+mP1VweuCA/93P4mBJEFZvugAeMBogeU+cz8Tu/FClEDL/6fBYoDgAWZA134nf1G/zf7Rgh8CSgBJv4wCnf/pgQGApH9j/iUA10KDgCu8k4BV/eX+QoFmQmaEPwGzQPYCBX42/66/Jb+lgaU9cP2IQnNBWcJiQMT//wGrAAPAeEFr/02+xnzv/+A+gDzXv4oCUb3lf6MAgYB7gBU908Kwgu4/UX5/vyP+177ivwtAfT5ZPU/BHv7FvU+CTsC8QB6AwAGZfct/XgIjPmw/9QLN/19A2kTJv86BQ8GKwSP/wD3bv7W+8EFZgMZAKUC+AY9DUMGRQ9WAxwJoOwbBuTwl/zK+PL5OPx29EP2FQQ1/88I9wDy/M/8vgGcDEL/yv+5+H0A1P1PBCkB5PW3ASD/ef1/CikGSfN2AbH8lP8UAuT6mP1p++T4WPfO8kIIkAF0A1P8SPif+MP3ogXX+NEOi/n19AQO7gR7BQD7IwRJ+CT8qfo6+wb5ePxT9X8EhAQaBgoI6gxNAXv89PnuACr5PP2G+cII6faQAcgCKQPhA8gLZv60C4ACSA8G/gf8F/0C9zP9Avc8BScDmg1xGGgDWwKz+EH8ygaIBwD+1AH3+fjvg/qW+tj/9f0kAhX19RIZAdH5Y/8b+iEE0AAY/Vj+0gRN9QgJ/v9oBVf6XP9vBWz8M/fV/yH/nfXBBFkCoPgRCQABOgR7AfIJ5AHyA0EBkPfX/6YEkf2jBYYIrAU6/yQBHge//AT+mAjZAE77ifYbACgBvf+Y/iQDlwDAALUImPp9/h4CQgUaAoz+bf0G+4X3YvJt/n4ChPjk/x//BAlF/SL1VwiwCSEH5fqh+ML2iOoR/dP7EwDoBIb9UQNj+KoAtPmWApIAHQLa+Jb5wQUW+nIGHf3CBxH6t/frFfELd/9ZA2wJ1Axr+637uQj2+goOCAgL8kD7vfcx8SP+nQsy94b9Pwdq/ffyKf62CND9BwC0BREBG/wnBPL/EQOG8qr8HgpWDeYB9wUU9bABPPsLBNEAUAHa/QL/F/tO/Er1Cv/nCCD8Du/G+3f+wQF6ASUArPpY/AQDBQwz9on3Pv0QC5YExv43D/gI9wwH/g8IPwAjAGMAifk7+SD2dQBO/DH9fv+T8VMH1ASfACkQdO11AdMNDfr+A68IK/n49vz9GQRIE30D2vzVBb8CWPlg/7r8GQKS8FD2mwkPEF0Akfh3C6UBwv0xAx0AIACM+dgCwPse9vIBovt5AYH9N/tXCVz+9/n2+Jv+Gv1c+or7U/92BV/6PAMeBrcBuvoY+t34qvVy/MUMPP/KAasBMf5Q9VL4PgloBZsGOgeODKkHcfvk+eAElwZG/FL2vwp2BhUCvwA5Cl4NiQX0A6T/iP/iAfn/9fCLBB77HPk1A+sAPPsMBjcI3RAgAxf+8/2vAzL6//qc/Vr8+f/V/Jv2rPuGEA30oA21DjIJnAhT/XD/hQCl7oH9Z/TK9ZECSAQ7Bqz2KQoVBqIEC/bkAav89v4n7iD9lfwd/Cj58fmu+L0KyPhtCaoASQ0rCPz23/wJ/CX4Cf0vBx8BBvnXAvT+XQjZ+in8lwgS9MX/mvK191T9BwF48CMVFfww/E8GEwee/iz+awFUBHT3rvj2BZT+tAJS+gv8QP8LDRMDagYOAhH7igl9/A3+kv4W8wwEigNM/2b4FQLMCgMG3w38/3UAQvtr+SMD5vtH+4cAHAn3C80D+AA798YCCgs8BAEFXgdV+2r5awPQ+7z7oPw5/okIKvYTAoMEBAUHBUT/FQuIBqsCvgeJ+yP30QnsCE8A0QKABvQB/wbT+7IIHvTbCLX2pQo6+WLvmfigAwX25gcr/H4Epf+1/ZAAHwnR81z/Av+u/WwBYQXJD/4FCgZFAokFCgF0/Izx0/jb9uEFcfn3BbP1V/N6BiT6AwC//Mb72v5ZBc/+PPo+/CQA1/xD/9H34vrzA40LNgeXA1wCVwA6AHP9wgM79Vb+Jv2mBtYDFfy0/G4EDQfU/9wBD/e4AJMMTvf4CM/+Tf3KA7b/0ALYA2oFTf/v/+P3tQifAO4DJAQj/Db+3QGfBT8Mk/dFCWUE//2ZBiYMzAGB/wMANQOtAZIAnwU37hEINfgGByIDhv9QDVIFiQi+CC8HJwoaCbL/yv+J9An2uAFcEMr8hQ1b/8cHVf5m9a8Fy/1g/RoBAwEz9hcBegCfA8H+WwkW+p391gOtBjn38gf79zH5mfotBSb/OAUHEhQClgNZDREI2QQC/hkCRA4/+pAKpv3n+iEEvgrN/W4BWgFO9jn81vZsAKD3BwDK/K4CmQvz/GELRgwy+Pf7X/dT7icFYf6+9DD/NQOL/f76uweJAxoFKAUFCFwGPv/m/AD0oP9c99D4FgvUBnbyHv52DDcC0gikAqYEVPvO/z8IbP24EBICjQdNEKoRz/jf91gC+/lWBOX/YwaL/3T4Efnz/vb+jPSNDOz5cAfT9AH5WQRtBJr+1/h7AFT/c/6p/wcAEPGz+80BOw25/wMBCwXR+MUCyfqp+v79qPMVA1gGg/19BBf2z/2o/fIF8P/tCLEByQDO/BoAcfgZAd/2cvnG85zwIwD+AM389/nf/T0BRfnHBlYC//uW+KIIWPxhAqL/hQhi91/+eABZAU0GwgDcBSr/7ALJCnP/3AjT90Yd6/gc9bT7qwYHBsr3QwMbBzkBj/CPDUP/rQcu96EEMPy3AgkGbwQeBGvtvQJGDcMJBPOYALj1KgZUBtECH/6x+fX5Yfal9lT8RAF9BK7/OvUi+qMBjfzuBEEKkgnB7+kKNgL5/sAAeACIAUz9H/89DI4MGQBRBbjy1vLmCJcMd/p4/o4AOw+d/UX+FQBfAdz/qv/l82H+ifbE+UMEagtlBd7wzwKpAq76Hf6d/rT9EQVdAzYBPAekBLkJqffxCGT5+fwFATv6ZfvUCW74TQUX/sAHFAdUAbL45wSX+YcDFgAU+hX+ffhk/O4EIwis/C8CfvwXATMD+f0ECx34AQIoABv8KvzRA6f3kAb/E5D9GvrqBon5ff4G+TsLuP9uBlgCvwdjAlQJXvkOAPT9DgDQ/zoL3wj/AcX/JABp/XwGfwhwAIv71gXo+h0KzP/t+gsHDvnt/ir5kPh5/7AD5/pLAlsFWQzEAuoFnwFwAYULhABdCZsGy/9YBAn6rQeUACj/1PmyBP/89P5M9JsCgfzY/0P18/tFCq32Ef5zBlL/OQg3/lf07gAMBdf8HQGd83ED1vMdAlz7yP7B+xoIQvmc9cD7iPY/DEoA3/8cAQsB4f18/xz9cAkEBWYENwIk+coFm/9J/gMORwj88soCygBjAAP0PgEuDefw4fhg+iMGMPaXDuwCj/uUA6f8TPyR+RkAXf6p+wrxSPwBC3/u2/Ol/mP1cgcIA7/9PAWd/J0KRfx0BYMFBvqN+k/3bPh2+9b9pwvxCwEGa/nL+g4Gp/2bAXkBAwKh9HQFGAdrBqED8Pv19qkEFgNY/igJXwWPC6EC2AKL/xcALQUV/M//QwFpARr9VBWWBEsENPTvCBD1Mu7z/uj5ygWBAMn+dPWDBv720QI2Akb95PwF/lUNTwJFBakP2gS5+5z8f/7J/nL3LwvmBkQKZAKS868DKQes/lABT/yHA63y/AGGBe7wMPlqC3X3D/UmAqT1NAihA1cBTgLs/RUKHgYr+wAG+QXn+L72VQAxBND7pgHAAvD6tgBUA8IIC/ZKAnvuTAfsBWHxlf9F/HIG6v1n+8P2sgZx+bgFYghMC00PlwjlAUv7vgW3/pT85gGd/b73CgGT9XEJ0Pri/gQPhPyP+qH8Xv3n+o76qALC+bD2rQ8I+2//UQCKAMz/xwXtBkfyU/LL8wT0f/oxCHYQOP7DAtv9lfM8/kwPTwQvAVv6vQF296oHsvqo9EEC0PscBTz6EwFNCI0DhggjCbf77gTv/v8J4gab/E0FlP4b/z35FwaW++MGAwCqBF0DNvcb/MkEhfrL/53/NAIA+/4AsQNaA1kBn/2PAs8APwEi9noPqfvK/vwA+gy99Dj/Kgi69Nf2DQNlDWoBaQJNBcTzS/j1APj4hghPBiYGPQGeBRD2Gvr3/5n81/mI/koQ6O2nAHT4L/ho+9gBLBHM+icH/OmACkcMp/oJ8d79wwcNAiDzqAG0AWD74fxuBnDvEga5/vr01QRVB17+CAndACUAKgqyB8sAKQDA+eP6G/Uv+VD6bANg/iL8E/E7/Pb8SgKo/HID6AzKDJX3TAIvA6kFlwZ5BSoC/P1DCjkE+wSZ+d0Cq/kh/cEONQCT+3gCgAuy+1IAoAzQ+Nn5qfQ18MMCdwAW+D0C4vngBsYAV/5OCREQbwIHAaXtpw5WCqkKle969Az8f/nKBRD8Fvjp/dj+gfJ5AcQGDAg4BRf3/P3c++L6lwFZ/FfvwgNP+t4A6wfeAiAPZQN0DCD/svxSAUgDufziClP1uApN71T/igYLBdwMagZb+hn9qv+yBH8HKP0GC2sG2QND9jcPEvwyCt/xHPKy+9MIRQfACrD+xwmzAnL7AfyB85sBxQKa/QX7NQZp/TX5XvboAmoEtgb1/rwJ/fqeAtkB5ANyCMf7cvx5/4vzr/mo9osA7Ab7DNLt1vzMCtb3TgGBBysAHgdyBSUD2QqnAD8OePwyAvoCWgDo/uINswBRBFj3lPdF/qX3WAv3CaIO1fg/7OX5jQYq7w77+v8XDY4KnABl/wf8cv72A4QFygwpApECzQOB994HMe1p+0IIfQjyAuQJ5gg6Cf8D3AG1BDv7cgrkDvoFUevr+fbr1fxy/oX/CQu4CDD7gv6JCWQTFg77Bxn2pgEE+yn0KPZE/qP8VQXB/ZIDyggjDdgRUQrL/Vr6aP2f/e3x7vxG+Ev/+f4V+Pz58/0A+ob8LAclCAH6uv4M/vQDjwJrAbz/WP0hAsP/bQKWATQAWgpLAdIDaQgIAwfwwPgs/zgDAAo4/xsBavr9+CHu2PyZ9VMGgP568c4E+v4Z9MgDhfuI+dX/bPzcAjMEFfVf/UH+SQJ9+kr7SPLnA4kHXQrrBKb+3gi7+o/++QME+7n6/P669RIESfokAoYNOgHYC+EP9gBl/LvxBQN5+7T8HPgzAWn3ePki+r36FAKbCWAHPgwQD9T9ExDa/eP4D/hbCTwINvY58pz+JP+MA/0GGQvXCuIKzQzJ60/7Xf26/38RuwFKCof66P3MAAkFmPjk+4UEh/yyDGj9DgLnAlH+mwpr9q31fAJS9sUAUvz6/YPxZAOt+YIIowLp+/f8hANh+1j4Hwg6/eL+yQUCAl79tfQy+gzzYfJiA0j94wSJA5sNjQMUASEHCf42BeX5XwgtB0v/w+1dBGL5HA017+sCLglPBNIBdwCEBS334QVVAuD/dPpJ+bn7Xvrw9M7/LP/3CLgGoAvZAJEHQPaK/VD/8Qcr/SsGMvvlC0AI5gVcBpT33QmPADIEAPWh+KsG5/xN+6ADCwX4+bIAsPwwAjH78fWm/2n9OP1WAUD59QWC96EQGgsN+08G0gOHB1DyuPxP+y0A6/sl+PXw0fm8Bn0DkwixACEJtwNwAxv3bwKsAX0G+f2eBD/yh/ed9oz7/wX5CS71pAaW/RAAdQmeBen5nARU+6T5UfjM+jf1aQPI88UETPmBDVcDLweO9/33lf6iBQECcQGkBUoGNgQAAaj8PgLn9bwBk/vY8nYHgQAi7FP8N/63B+/5CAQHAjv5G/aQ/+4AyAVc9MMC2AOT/34EhPohC2gU5gbtCqb8YQEa/vX/fvwkAS32L/oO8zT/zwPfBOsBV/YnANwEkgDlAmcCvf7h9yTzX/jY80v8XgAH+P8IVQRZBEMESwHv+88G8/1/AL/1rAMH+of7+wb4+Wz4kwSo9/P5kgILAon4SP6T+8cDWgmLD9gAjf57BAz2C/2m9+P8sfYfB9kD2gFADSgJJ/vh+1EJegfHBZ/21Aqi8wT3g//iAlAMDQP1+tELMArx+ngDc/zmD0EHJ/XG+dkA0v1KBTb78fze93EIIwJvArQHGgK3Aq/8RAOFAqP80AZKDEP+eBGW9ln6yfU+Dgf5SAVy/YsFePnJ9Hb4agnf++r/SAiM96LyjfRi+LD5lgFJ/cL+PAYp+J/1xv6I94P2QAMuB4kLTwlAAcXwRvlx+98K2fsNAiv9tgAO970E3vkW+4kBlQfADnr/8f/W/1f3aAF7BoAKWPS/+WkBawFjEdT5GA4iDZ0M5fqFAzv3BvRC/jD/hgEP7j0BwgevBLD8YQNvDpD9JwD79RsCWAG2/1D7YQBH+zcIL/1HAMsAhP0ZBHQBk/p8CdT1rwkO+IcGVgJTBCoDDfdI+GfyU/OgB9sMsALS+Cj6Hvlp/Azz+f2VEJAJJABlBwD+A/sq+c8Dnv9uC5kJ7P32BIH5jv3Z/HQECgF4C7wK3wqK/rzzBwLH9CbyOPef9xUDfwwS+TLzgQas/lIFIPq0AtT36vDRAZv1c/m3BQn82wBtAKMRvgdnBPP0vfr+AigFUfiB/tYBmvXP61/5mP8GCWn/9gjjCAPzTv54/Ij7jAnsBEIFqQamA+IBTf1b9u/x7gyZCbUWvQVmCj36n/u09GzzfPulAH8CFQLF+pQCRQQf/y0GuAgl/ykU1PMg8a4CywX1+b/57Pnt/5sKhAXyDZr7Pf/289X7K/mr/xEAKBEfBbcKHAz99C4I/gjnCI74Sv08+Yf6Jgh3+TEAKQWu9ukExQxh/M8Jlgtw+Lv12v3a/6UH7AiY9O76L/9cAUACugKj+vkDk/vq/HwCGgJJClr4BwFg9dj6Fw0/ALH/dfSG/8QA/QTf/ij+hgQR/hQA+wAe+sQFSQZbBbL+6gY+/GcEqQhkA339rAoe/Qb9fwO3BQYCo/6iBgH3Tgdy+p0BIP+c8GT72f+t9a36KvkuAp4FvRMqDYn8TAdEAnj4jv589uP2LPNU9p8A5/DSAGH1XP6XDJAWW/yKC0H+PgTUBz8H0gNjAED7OAdNA70LQgB99nz2YgAk9If/JQvS/UD2MQSu/kP7kPRn/fP8M/7LCXQIFQRlClT85f8Z78QDuQhJ/Uf4jf11+yT8hQEgBd4REwlaBo3+B/+k+LML1P4i+8AB9/dq/NoH9ALV++EHyAGdCSgNWvzgCCcB2/uq+sP2Rf+YGhMO/QvjDmT6DgMBCpD6jP6l/m/yB/2T+Ev8aggN9+38gP+D+T/+8P1L/q7/NAhs79wAL/m9BO3/3/XTC8QKRQEA96T45v0vBG7xmPdOAM75XwBZ+tT3HPq+/ukJ0flA+28HVQluBvYHNfk1+/IBV/bMAED3AABU+c0Ggv1C/xH9kgJ4A+MDgPug/d77AvfA/gwEWvu//I0DzgUd/7AH0AWz8Wz3l/0o/rT2E/tMDVUE+AYzGSL+Ogc/A2UBtvU7928C8AGm+IjzmQVV9Xz8/AFuC+gAcwURBPv+9wIFAq796/xs/NH87/sMAJ8DLPI6+P/+8AM5B14ATwn8/DL1v/Qf+TQFIf89BIj9qgH5A8z7/Pdg+2AKVQL0BFr3HQSEB70JJ/8y81UG6ARIB8f7jg1e+br7OwWh/08JWAMoDmUFhQXfAtv5ygk8AGgWKgyu/zAK4wK3BksOZflg/E3/OPj7/pwMwQweBggG2ASdAd357ggpAsj7Av0E/aUDjvCBCNb7d/uuATgFbgxcCIP+4vud9t8BNvpVChP2U/d9BpHzUvvV+Yb1FwlV/V0GmP0MCnf7IfxC+ojxGP9X+Qb97gIGCOkBGgitAjwFCgBlCf37yACL+qj64fzR90D3Ivw6Ajn8+AEh+In4ZfYEBEb5IPyV+07/Tv+UBvEJbQsRB0kB4P+0+OwAm/Y790b4GfDR+j3+VAGcCa4HuwRgAYMJ/PzQ/OP+NfexBjj6dPuN+IT4qQFP8tX/vf6b/uLz6/8tCRX7T/zH/q78GgLd+Lj4CQal/rwJ+/fv/uAExQPIAJz0Z/gcAqr1egTqAk/7ZPpD/wr+FRJuEh4Qnv51Ch4B+wNQ/kcJAvl+67P73ABzA2f7ugQ0CqQCywRW+yn6NwGDAkAC8v7l9zr5CwP9BjP/oRGtCkAIWvbc6gL+RP2S92LwRAkJDdT96QJQDsoEbATBBeD/WvSFAosF6vqG9lf49+4n9vj3QgOx/mEG0P1NB8gFrAVDBfUFewN4AVIQFvslCTv0Bv29Avf+eBbpCQ0E/Anj/cr6Yv6t+6H5PfQGAI74QfvPC30IjRKsCRsI+wOmDar00v8x/OXsM/xv+dXuovnv/ukNqA0TBLIB4QZlA0r+4/Px8Cn/zwbA/s0IX/oMA1cLrAyzArD8rPo8BPbz6PtgCJ7zGf7BBD4ItgW2E+MNvf10/k8BmPip8b8BkP7f+i75ZvAS7035R/zv/8kIxQFv9JT8+gACCycM8Pg4/s33AfgI9hIEVwdUAmL/RwZrAGgDu/9qAYMHDPcJ+tPxR/pb/p36WQGI/JQRugszDTgDyQfUBSMA8/xY94rz//4S8vADLg4zCqQJAQgtErgI6fI2/Yr51wKf+cb1W/rJArUGjPJBCDwIf+2t99UB2vMs/1Hvr/389K4HzPvyAZLzEwBCB3AGPQbm+6rwogXbAw8ABv/m+J34JvmN/V31eP03BpP3yQMvB4kD6w4T//QGgf7I9FT7df+v+c0EyQJfAN3+wP3v9N0OVgglBfME7/Uo8kEC1QDe+eAHqwJSBZoGZQITBrsCDQWB/MYFfvXO8Pr4svh0/skA2AYsBzMJ/A2kD9oJ9PTu+ZD7pfYe+bPy0wQ99/cFNgO8BVwOhgM/AtL2hP0F/ZryMvKB9rX8zwJvCmIEtwRHECUYqgZV/XP6UfzOCHjtGvxI+yQDhvnw9kL6FQGYBkH9kPo2/pwGxQvZBSAE8/1Z/hUCHPXpC039t/CEBAsBQfwmALT9FAUkCBX3pwAzBFDxIAMO9RX6xAMbBGYB7AT1A8X+KP8dAmgACfNl/GH5l/JB/U4DCAy1Ax8Y+wvxAeX9OAZDAAX4D//1BWL7g/O8+kH8eADBCYn+CvTz/5D4cPylBPgBKvjZ9Fr5v/3hBFH+tg+w9xcB//2AA08GafjrASjx2O438OfzLfex9cb4rPNVBnYSZgOoCe8EahFfAAn3/wF29e74ofgK9YX8pPlFCJ/5hQJnBwH9/f9OBNn8bvib9z4Gvfnx9DYCnQLDCMAKTgkUALMDXwfg+/UEuAZo82P8JvX2CRvzPgUFA7ICfwuDADkJ3QDu9Mz+twCx/ngGCf2+ApoUo/8QAI7+YgSvCGb4ZfR1AOkGOwMk9TgI6f1TDoD/OQWcCU4BhwNs9fkPVAhSA7H/HvsM+7n5YP8x8wQCtf9P9WMO4AFL/2oIPgTWBgL+Cfqo/yUAmvKV9on5G/kIA3YCCwCK/x8Duf8PBV38/fOE/0ru5PsI+EsG2wD4CbwD/f4y8hkA/whtCSb4yftxAykDqfqO8EsF/wdMAvP4HQRL/Mf8bQJEB1kP5fq5BO0FR/nu8Zr8hQfbBd/4B/eE8VIAlQFoBw759vtwAVH9JQ3O8aABdwm5BywNAALk+zMGbv0BACcBqwqxAH70zOl59A3/rgA68eD6kgKy9UAGwv/cCGMFJ/zpAGvz3f+D+P35AAJF/c0NGQFT//X+av3GA7z4dQJQ9Ln+DPN9/PACgQVuBVsCxgwTBnsDyQK8AskIhQfA+QD+6wGXBVTzIwXp9McHcgPf/kYAWQQbC8T99gJeFCwIqQDhBogGaAV1CmH2cADA+rz5HgGc+iQD0A0vC5YF0gXc/aMMYv3U/pIIvPqE98EEawSZDncHywhCAEb6K/6I+lfzdfyHAXn9gQ/sCFIDggFS/ZcCKfgA+br0M/wlAT8CEwI4BDYCjv8WBiwU/g7tBT3wIvnB+hkKAv/pAYP6pArDCnb49wutAQj3DAN0A8sEGQIS95kAfQIl9I4O2wgH/0UDOwVR/hX8Aht8CYMCMgXXAC0I3QPy9In8DAFL+pYEffn9ACkDYPrqCdbxKAIfDTr/6QDf84r4z/zs+N37XwhJABv7EAxO/GoH9fvC/hT51gJB9Cb9fPyqBdr8VwlREY8LNAPzCwoTy/4NACv34fPQ9RLvTwAl+bsKbQa1ASoLKPkRCbIBIPY98Qz39f+3/qL97weDDAIQJQ0P/PX2vPwAAIP3MAXKCYL3hvYkCHwBEQzjBckHs/dvAVj9fwMf/pMT/f5iBgP9fgY3BjgBTfzW+Gj2Bwdl/yL3vPU4AJsOdf9F/LsBDvaS/pkFH/WLARb5Zf/o/N4HLQcxDzMDGgNZBSr/7wFOAS/1RfZm9lb2sfp9C0ULPgje/tQGhfevAfIAJ/oVA7EE3gDGBUv/5wMtAWMD3wEfD8f0nvzg9Xr0Rfy7+6IANwclCS4GUvpr9FUHXwPq+yL46vzaAA34VgK//D8CwAlqBucBFP2QE0D5lvdL9gASywa5++0JywRKB5gDoAZ3BWkJh/+0+4kAVvpICO4FTvgiBDD+hQCX/K0KKwIq/ZMC/Pov+0UHLQf+Abv+RgpHAcoBLvlk/yv7w/zv+0z1tfrAAmz1wv+t9F8GPv2O8JD0WvlFA+f6YgZkCKAD1uz3AG75KPeFCgL7FP5Q+s36gvvB9Hf7BAE6Bp8EGf+DDdL8s/qG/VT52gAE8gL+VQ/RAQYAEfmeBKv4+wcc80z8Kv4xCKQJ3QZn+Yn4Bw3QCcMHLgDvBIsMc/lv9ywH8gxgFtUHzf+ZD2D7/ANW/fEC7QAE+CX9bgUY/BH9zvmFBfn+tAsnBfMJ4/wxAxMCdv5gBFn5E+1n4x8FFfQa/lED+Al1+g4BewE+AJj9gPZ/97T4MwPe/OH/AQVJBtz8If1a95oAcQb8+1AAZgE8Cqn8WAm6BIMMJfqC/In5UgQK+90GEv2tCO8BhP87B7YF0foxCU/96Pjw88j7/frFA40MsQaMCTbz+vos9xz8qQEfCWT3vw1++rj9BwusCc8BpPj9AY7+2QAI8xzzy/y3Ba38iQNVB8IEHvxJCAMHfwPfChsFO/yv8qD7BfxZ/lICr/vaBO0FYAHeAkn+7RHBDM8EwgETBKYFEQRj+ov7RgM2EggGWfhh+yYIxgAqAvT9BAFi9hT4DwkLCHkLmgBK/ycNNQkxA6n2b/R3/EwAZAIOB/7+pQFSBa358AWBA4/3TQqUCjT07ghf/sb7vvC+BpsFyQSj+kv+sAJR/Mn1Sf7X+bsAJvbS/tz4tfn9BLrtgAaa8lH2Zv7k/q4GBP3g+q/4a/a5BisGGwUz8XIIMgWM66/wkvGB+p8APgDp/QQIsQXdCi8GiP4e/H38oQH1/5X6sAXFAB4KFfkIBDEHtfcBBGX7mwWaE7T75fCj/Tz7dgTQBnf+swd2AJYCggCl99L94wE2ARMQ1gYbCbwN0fhC8aMElv1j/+ESvwBa/NUCVf4B+YX/0A4W/vcJqAcUAJ/8nAP6+LDv7vwODcL6uw0F/8AAKP4s+pr4jA7XAF747Pl7A3T36wV+CCj8Rfa4+00Ckv3I/ff/ZfRa91r+wP0N+mUAKvo3+hQAjQAQCxX+zf++CeYErgbkCk4Ny/0XAzf7FP/d//z6V+/y82b6h/QX9RT5YPuOBCn/OAEdBBEWGf48+hn+8fecBCj8qwU/ATIDbfkZ+4ICLgOVBRoGNfoAAJH16/l3AYr4Owxu/k/13frR/un71P5O+Hn7nQnY+bUK2v/g/7UBqfkx72f1WfqK/kf1jAKpClIGRv5GCsX2pgp8AKIJSQH+BVH80vys9Vb6LwXTAH/4jAIXA435eghvDFICZ/7mAFn7Mf4sCI/9sw/GAZMF//3HAPcMFvvq/pUFXQBgAEP1Xv71+b8HuxHKCBENDf69EgoLlxH/BkH6NgscBRv0jAd5/vn+cAA890gC6viDAhEHff0AAM/4zgBbA9/3n/9H/P8AYwddAHkNvPntA+ru4Ael/CYHqvX99qj31v7s7ZoFwP4T8EQCqghoBBL7GA1JBOsJ4QBz+UX80vRS8eH5PgYzBXEMuglk/18ItvMP+ur0mvzTAb7/uwXaCc0GUfvWCTgOrAKD+JT4qvvi/On69PNY9dXwnQCaBWQFJQBR+/71fAWi++/6uga09/wC8gRs80r41QOx/5sDkw8BC3gTGwQ/AygDBAd7ACIFCv2MCKP5tQAjB4gBngAjBY0T6wAMBWgAOQDPBML5+QTdAjcCIfK2BtL7l/ycAmcLG/aJBDkK5v2qA5gMa/13/XH6HfOWB/v/7v+uApH5JwuqASwInAot+i34yQGV/QAB0Pl8BDb5TAaz/RD5BAVFA9cGcQnoEVnyr/xO7M3ttvde/sb5sAWcDa8Grf/w/6ML1/I7AeYaUAao9p7zqfVn85wALPt6EH33Hg0Y910A1fqJ/RQBwf6cALf+Qg3R/aoInP61CmIKRxQ3DIIPhhAq+3f6KPvO8efzgPpk+J74BvddBgsIaAodApD2hfsWDL8AiwhV/8QECQJq+Lj2aAUnA/QJFv3FCQ0PEQOd+oAAcQMY+4b8c+/h+W77XgX+AL4IJAgGEkcCSvvwAtkCTfIi+EPzHPDn9pr3QvmHAAz2Xgh6CuwGIhMC/VwIKgKz/T/+LACF9W/+sf3RCiH2gAuLDAYBbPyo8hgD1PWODWr7zAkdCLQFewEy9ODxqf8hBq7+V/oW9rMA5fkJ8PD34fpRBUP1twJODhj+AQFRDZUBvwOo/AsBDwLpAXUCSwTs/v8HwPc0+xL50Qk9CL32IQn29qfojP9E6nQHof2w+93xCwxrBzoHghTI8Aj7i/lv7wcBmARMDv0F1vk68mIE6QCI/rz8w/uACJQCPP5k/cMKzQH9CLYG1QJMCUb4Pgv4/CX3x/m4+7P/AwBuARn+TfNe/AsCigLx/eoF5AKGEacAIP0hCTL7iPg2/hr/gAUV+7zxsfqk+nrvhv30+xr3zvPOAzoDdPk9/gMLzwx5AFEQMRebA9QDAQAhA0T8Nfjt88/nj/gBAtP1qgKJ7m751vyP9RQDBAnn/yQAhgDTCRABGgNaCIX89vseAmD+wQMr8qkBnfyH/wkBBAWEBSL+FQSqAWcDpgKeABcG7QgXEHoH1QUuA+b1Bvcg/Gj09vfz9gj19gb3+vIILAkhAe39KQMWADUADQERAOn8MQQdBEEAG/fIAYnxwALg/Nr/bf9r/N4I4vwt+cwEGwYg9U/7LQH9Ban6yAMSBvf4XwxTCrIOXhCcBJn8XPqh+6b3KwDI6zUAFP128kECAwfnCAUC6AjJBNYCFA6I/0zzg/kE+unru/ap9Dz7gPoWCqYBcwi8/gkBBvwE9z30GPda7bb5GA7r+dMCLgY6CPz75wxAB94AeAQdATjs5P7k+2f88/LQ+Yf2K/h0Da4LpwzvB/f8kQDP//IFhv2kBFwC4fH39j/0WgbrAv78agMv/2UDf/7w+GL7Vwee8yADzPU9BHIHBAJtAvEFcggcDDwMbw1tAHkCbwed+VP9YgC0/+b8mwTZ/QAFjf3E/EL8qfvq/hL6KP6t/7r+7fnc+ln76fc1AdAJCAHmABjxiwTg+osFL/cH+fb8Qu84AVz6CPaD/J8K3A0WAc4L2PfP/Rn/Jvy5DiX9SPqh+G8BLfkOAlcCsvmLAYz+iwm6At3yCPofB6UORvwYCkMATwSBEl8D7QHKArH3MgF5B70BfQbi/AL/gvjgCOcNDPXs7wz+U/ak/YP8HgeJ/8n7CAEw8UwAtAWLEaYGCfol9k39yPsyBED8nv3UBHsBJPRt+fAJSgRfCzwCGQVBCCYBpwD17e/4OAbW+fwMk/zi/HH7ugzg/8cGpviMDgMEAflTCQkHiBQ1/C0G7PPGBEQK8fx3AkgGxQNE+3j8eAZyAQUBRgFkDJ0C5/tNBVn1vwja+mf9xgH18M/8cvcpAokLCwD4BroLwBJo/NAD0QQE+2j8h/lf+/z/uBBS+6kAbfpuCOMK3/ttCGsCMfFS9yD1AADV+Ub8twKYA3sGwv9GAD39pABaA271hvgB+pb7UP0a+OP5YP8MCZX5FfthAn35Q/Ua+oD8yP8R8/rwtPm5+en91wFzAcgOmgU8B40If/86D9kAkwcDCszuxgJv+xH7dAJ0AUoQPvhuBUEFkgAJAZ0BUP5AAhztNQrZ/ugB+wfSBrP6vvhc/ogF+f0fDygHIgQmBj3+3PuLCHcJfwKn/Rb3+fFM+w8AtwREAB79zglPCusIGwj8A4j/1fyXBDn6JfmM9kQGaQpn/o78EwodDQT8MPn3/z4AJwJJ6RL7w/vQAvsGNQeRBTQFSQvr/ID2oAqwAYf7kfaW9hEFzQd//uYDQQ3/BI4BGfoCEewDkPnX/HDzG/RA+RUENv30//EDhgRL9lwKPAWD/OcJ/vAtCT0E9AM28cb5BwZ0Ahf+7v/Y9twAcgwuBc4FwQU6/lIBkAJEDk3/Cg3aA371hf9F/AkPk/7d+bH2ywvB9uYA7QX9+dADoQ+FEEsDCAzXAE37cP7dBZD2RQCdBsUDpPzDAlH6lw5E8XgAzu2Y92b8Jv2JCpUD4v7G+dMAVP/hCgQDJfqF/pL3cAFG+JUB5AWm6Az/xQAr/Bf75QodCRf4U/do+pf+t/4B/LD3IQhd93P/JwQmBfz9c/q39UMHdAer9wT8DwUF+4f+sfvd/331Vvv4+0YDDv8cDyDwnAczDvUHjAgeB2cHggpu/Ur60f9L9S0ARfg8Ai4ItAncASsHk/LHA3r+Rv+G+K/95AnFAJXvRf2BAS8ISw+T8r4FHwaO/eP/JAQL9ucCV/9HAqb8//hoCXX5fQsDCGYF5QrPAp785QYzCRYC+P1pBHT2/fs5+XH94Pmh98TuFQO6BeAEDf0XB7YGCQNLBob+wwJ+BwH04ARg+wEHW/lk9EgD8wXv/yr7DQV4BqYLeQmVAU0CRwkQ+V4FnPmb/ZD/OQIf/sQBSggFA3AOkgIl9rr5hQb6BOYCfQFw/7bwwRCQ/f8DSwMPCBoCB/0uASgMxvqzARcCTvbf9mX6FfkA+PD5BP2MBJkDNfoaA2D9SwN7/jL5mAeuA678jACK+pcFO/DjBPEBWwW077QJ2wGe/bkNcgiH/Qj8kgUE+QIF3Aqe+2r8kACg+VYEtgYi/Zn/CPdR9Cf6uwi/ARkIzAUtCfv/FQnq96H9mwYd/WAA3gDFABPzggZZ/NH6Ovg0/CwINvh4Bj38cvrOA8P68glb9c0DbhC1AhUCkhcK/AX9Bwck/RT6iv+uAdH5ZPIv+OwAfv5x8yMLTAW5/1MBzfgjAEIQiwn2CVEAQQZ4EYz6pfdQB0oFv/Jn/MP++vgJArP8qQPpA5gA5RWdBEUKRQoJFXH3PAE+/b8HnPcWEoP2Afam/XsC7/qiACUGrPfn7nwJYwBgCKr8Cf2W98zrbf1yC64Akfqc/CUAcgJjBEsA8Qpm/vP8+wEG/nD7vQe58mf43/fG9AnwGf0ABDEAiAm0C67+cg8XAiIAR/3X/boEb/fa+R0Hjvdo/+H+pfwQALwNhwVl/9gBoQ6uBUn27wOP+10AH/DW803ygP3B/Gn4yfm4/Av8QPw4/LTyuPkv9Pj3kvlV91wAmOzp7hP4ZQ/g/yT9BPycB/0C1BEWAdUAIfMZ+Zz+CAih+XX7oP4g+ncF9wMQ+n//FwlO/JEMtQLW/RQGpgNADKP9RA2ZASYKdwCBBdgBRQYE+6gD5gcK/5sAPAKUB7f6f//Y/jn9dgL38oXySvsmBDf50fcT+bIDP/1J+0v6IgYLAR/3gf+lEfH5pPzF/KcBBwpdC335BAfP+4z96/gmAtf6ifzwAKz5Kf9F/lf39AKm9+MElfS+AXH9lQBG/50ClPujC2j9gfjt//z71Pa1+NL1Zf5DBu8BA/K4/On7GAHuCHMIiAgeAgkCYfR1C3f7C/2EAPQC0wAiBW/38PWd/ZwHDQdkAdgAlgS19jj62wamCtQK1wwRAcD1b/1HAOMIogAHDzz4kxBp+Kj9m/Z0/VwC/Abq/Uf7zfZoB3QKJAAG/ZkGfQYo+r0EOvdoAVb5+QEtCSMDwv5U/CEGD/8PCsYHdPr8BjALm/46CG7+whCq/mMCngWT9qn6l/nJBCz42fM1BE3+3fsX8lPzlAS6/soBqf0MAw/2ifiRAkgMdvVq8H8DXPVq6sn8SvomALv6LP+R+UT6cwKFBt0DPg2q+GUCoPF+AUr4Lv9GApsEDP88CLwIyRDDCtcFagDY+Mz8gwSLCNf9/wRj8V8DpwXe/2z9agHc9CT7pgQ8BTIBQv1oAAMHg/xoAaUBPPhTERr3Mfp4DDAGmQOB+/EDfAg3/eIB4wR6+yH0TPhrBAMDnQLN7ucILf4u+zf9egbT8/YOnwSd/UgJrPUKALX7jwNJ+8wNEgdKATn6a/2Z/VAAkvjP/JH8HfUoDOL7Jwby+wj3ewYX+7AC5gOL/l/z9QOP+lf7hgvjAMbwA/LA+eYCkQIFBQIFw/pY/Tb94f8SCDz7ufM5+6AD/gJ89Fb+Dfpz+Iz9MP68ATX9qgTF8T8FIwUpBL8G6ATLBlMKqgn9A+kEIPPW+5UMGwKnBXwB+AIcAvT8mvjs/dH5cQqS+goAAf5FGdT81AkJAAH7lvPFBZb+avjAA4oO1wbmAU8Atfwe/zsKfgFc+3b/QwQzCG/vRQJKAtr7gAGnBV8FSAScAtMDzflhBmT+WQMQDSH91gh2/oMDUwNu/Db4rgJmArz6ZAVm7ZfzYP3R+9v3Bg/dB/z7zu80/VUCkQASBH7+q/3bAhgHEwIp/ZD1yfYMA9kExQC0Bpn/d/cy/f/6q/LcA1cB2f2p/iT8zPMu+KYAegR6//f/Dvu6BJ8EMQcx/Dn7NRV2A8oKDAhjAer92/sK+/z5Vgcw9p4DTwC6/rcJaARS/lT6Fwd/CBgF8AWq9moCBf5lBhYG+feZCYsNmwkw8xkEDQJl92Pz3hKpBbH8NvxOADL4WgGU+XH87PVfAfD3Df8B9QYFbQnv+439/fvuASj52P8K/9LvNfU5+M72VvMy/YAH+fuBAcD67ABbAX/9ywRh9Mz77ALKCQUCEfjK+XgDyAQ8BFECD/dH/UQGFPvoByf9o/IfEL8Et/pnBcP3wwHQ/2UEsfomAwkJVfqt8Tf//AF7BVIJmv5rB7r/HPfJ+xL9QRHt/QUItBFb/nv6iARjA18Itgn0CLkGggGL+5X0DvUo/EL3CARbAVsF6vloA7XznP5mAJj2Yf3mBSb9O/1y+5kEkf6B/rn6O/4KB64Fifrh/UICXA68AH/z4f5DBvIA2ggvCg351v4rAhv1Ufk5BR8GofxF7+v/sgGe/i0FhPxSBj/2QAIYAWsGlvdgB9gEi/XiCon1Jvzk/zb73u079hAGpv8xDc37GOZcDTf7bfM0/rj/Rwn8+xIMv/pj/dcCQvSu/Zr7bwKk/Fr2Ifr5B2oGOwYSCKT/yv4d+q0GvQbu/zL+TP8YAO/+pwFDAVMERgW992wG7vaEAc34lQYG8xcNngUTBvH1JwrU/7H6qwXdA/39lf/4AA3tZQo798IDlAxIByz5YQG79KzroP9XBMD26QF7CDcEz/rd98EFFviF/fT7GgNwCtcAOPgWA5QEGfifAkwL9PX5A6f8ZAkNC8wHE/0z93QE1AOV/X4HYQYCBMf6E/kb+3kDl/sz9nb6Of9BDRv6r/RiCYQIzAtBBq0My/mO/gf5rwKUAy7/pvvA/hj9kgWk/Er3QQQgAFf9rQHJBaQFyPyiBOf2KQJCBQX5UxDSAxz+/ArU/fQM8vdRCaD+hwH1Bv7/2/lG/gcHYAZeAJ0GK/+b/gr9IexWC/wEdPWIA3kJoAQ5+Pj/rgKI/Y3+wvp+AVcEKQJmAIn+E/s+Bbb9DASB/DkEvgL1/Jb8mgRS/S8Edf5K+CD9Bv/fDl77Jgy5BAUBSP8+ENkJlvXh88wC1wLI9JH8AQQk9wMMWAGf9mUH5gH9AMX2Pvn1Byv+6Pnq9zr0bPzw/TT29/iDAA4CnAXo+SwA6PjYBbz5E/ziC0sFXAaD+3MFcv2++dsEZv+bBEb4rfEa9cP+2f6LAUEBRPf6/ab3AgAwA9v5ef6b92D6Pv6+B8/1f/wV9/32CQV9AJH8DvxZ+qD1nRXtALEES/oW9ooCpfMz/Ef+AQRV+Yv+oADj7zL2aA1O/X78Ef8RAn4BNQAkBAkEXP5e/qb+9/yF9KsGawe5+9P81vem/zcI4P+RBScAPga1+iv5UQIHA9v4mAwmA8vyhvq8+e4BBgmdC5v2H/DB+Tj6bvns+QUNQAVs/p/9BwdtAhwNigwxBhQFBgSnAS8C1QUbAqDxMvgt9/L7Rvxg+P4H7ftICBYTfAD0Bxz/xwJl/Fn6lf88+MIEIgdw/Dj4+Ac6Bd0A8PELB5MASgRb/x4JjPKn9kADuvykA/YDuPQxBej6yvRrCBj60/iLCBz6TA6A+yILcwPS9UYA1QyY+vIBbAHbBGUA+QUVBb//uABOAMwBJAC5CZf2+f99+B8DnPpMBbb6ePv7/3v8jAfA+4T8O/cx/40JbhRj/p/8OvtQ82IDifzDBEL8nBFfAGr6k/5xATQBq/+iBsETmf5O/2b0QQWIAGX9+P/I/sMF/vzgAzoMZvoICfEC+/+U+fgE5QJ0+8D7Twc+/7cDifxy9NsRjQJIBZ4OzwcHANT3W/6q9Ln+kQDB/0b+DgTN++L7IPkw69b0kgs7Bl8DXfyoCCIEc/w3BEQM6gPaAu8FMP109c34RgkN8qgLGvxsAbr3Xw1kA80GpPqc+nr7qPyb/V79ngUECAP7kghg+iUClwbGDjwG0AO9ARUAEQViACP6sQHK9Yv7VwkqB8cELwwd/rr7dgZG/iD7Tf38DSf4IPgP+6wLdvzjAP71sAUX/lMDTvOI83AJmQQGAr8C1/zEBbDzVvM2/R4Ghwu6BGz4OAOB9m0C9PiG+6D73ANfA77+kPmsA0z6me+D6Yf5sPeW/Zz4SAZWAm36cQWaAur56QEoA3sIXfSI8mL8+/sBArgG6P6tA4T9EferBIT6TAV56jj/hPto+Zz+7AkNATDsf/f1ADQA+vrl/43+vv8x/fMAQfy1Cb8EBvnM/sX85/tSD376GgEQAUD9CgFiAo8DV/pQAVMBGPoeDlH+1QIaBML+5/QhCbv36gqW8xwBYfys+kT+IPR5/OgJPv4dAZr01vfmALLw3AU99UYIawTx+skIKf+2AUAHhAL48fb6sgSSAO//mP7/B8/+mQFsA9sEJf0RAE8CKgLP+SILGQ3oBBT9QQC6AKYD+QJ7C1z5I/iE8C/6lvXq8soDPP3KAhIAyv6I+lH/cwXU///5xAXbAhH7yf1G+RkFUwJ/8dX1q/jZ+cj6KAnYB5EF5wQVAGsC2welAHAGYwFnBF4RCAoH/on+nO3PBmH37fcEAJ8Aiv/XDEn94ffD8AQDnAjQByUQCAM6DFkHX/2c/jUFh/U8BA8Evfmn9cP9JgV4+b7/8P2ABvL6rQaW/3QF5v/08uYOKvul7MD2ngTb/aj9TwSCAroHl/1GAd4AMf7YA1sCzP8G/an8V//69GYGLQo+B7j9+QYBBo4Jofyp8A0EHfzQ/OIAx/QDA/gG1QXJCLL6mQSM83gA+/1gDs38dQSsCkz9rv6aCgP9gQUhAvEJ2v6y+q78Zf2fBp0K/QC4BuIAEQOdBd381f8A9of9UvFsANL/ggffAWgD0AIDBtwHQgIoCD/8YQD5AQUDKv2U/K8IYvX1BLT5twP8+K/5DAD1/c73LfVt+f0Ccw0sDtr46QtJA3T11AF6+2328gq7C8UIOQR8/WP7Mfqx/sz8S/yH/5bvagUBBXsHnQ2oBE//swMg/Wv7NQhl+eX7NwGl/P78KwTwD9z5ivH4DbP7tw/8/wL4KAXa+XP/zP+V92sITP80Cp7/YP8w+24Eyvr0CAcGjQCV9ST9af7j/EL8F/ZK/8cBpgGX/cH/qv7nBSf8Gwqe+lD+4wfeACIECf34BRHsBPVq8uQGPPcE/QIBn/eqA7ASE/Qn/s4F0wEC+F75cwl1/bkAk/9HBwjyv/55Cb//FAld8gL2zP7GAcsFZgG0Al/4I/VpAs4G6gKQ//D2BgtZ9MQGef2ZBUr99QDRA30GLv4YACwGcPzv9/j4rAGF9lMHlfv4/Nz62woR/k0GFPMm+UMFpP3C/zgA1frD+mIKiwB895oEhPwxAvUCfe5P+qv8jw9aAuUOI/u6/TYBMP76/EcFGAhq/ff4y/3698UCjAXj+8f52gRoCJ4DdP5uAD8IovgnBE8NIQDH/W//2gJ3AjIJjP6p/Mf/vP2dBdD9sPnT9FX6cQ2F+xUM7QDQ+vkEowW678r2zAhn81v3ZwNN/uECVAlX88X2U//4/ZAJvAMR+un5JPiwCBT+bf7QANv9Fvm28kj+RwcB9lz6c/loDdQEj/PmCCv/WPXYANwFr/siBqbingCrA5cDLvyZ+0X/rwKvBEz/8AQkCAXtGv22CMT9Hv0YA2b9ivtSAr4ULPeM/E/+jA1FB60Jw/ozBY39OgTh/voBCvYW/CH2HAm195P/HQn6A9r7df8y+tL9rO8IAGz/S/w39nT7EfjE/0EFygT3BRj3kAE5+UH+bgMOB0v29PbG87sGmQPTABP/OPYuAkr+UP4G+94Cvvet9I0EjQGB+cD2JgYuB4T4/gbl+zUDlQIe8zEAzPze/B8BIgcABgcBT/rK9avymPdhADILwfxNCBf6jvqGAIgCW/++8JD7bgVQ+JEDvAgQC5DyUPlY/pUFP/m4A8f6DAfz/sv9ZfUwB0b1B/Q/AXgJqfg7+d/2MfsZ/Wv8w/0N+k8MRfvuAaUByQiuAuz+UfIuBewCPP0E/A0EZwLNC0oDiADs/HsLjf/sAbX2jQEyE0cCqQY0/+T9GAIZAObzlPZT/vcBYPz1AnMA9/08CGIGGgmdCm79Qf0BAgYLL/0kBZT7TfZDBRkLuvg3/eH8oQKx+Dj9PPA8/Xz3FAC8/xT7sQwwAkoLEQCNBv7/ahLQBp39/fmi92Tyfvz2/igAfgZvBAUBvgdx9+ATYQMoAPsBWvOn+NsAYv5c+dcBMQFVBcsGxvdJ/gH9gwOm/WkAE/x89575lwHx++oFOfeQCA7piv5SA8r5agAl/dMFHPzPFbj/hfweAkQKzfrq/pT2JvhSB9wCeAGPA14LeAb5B30DcP3R/kP9ugGW/B8JDAjVBeUFiPbbAf318QRKARUDRQJZ96PzfPyrBisHuv0iAJcMIfoBAPv8dfWX+cP3Af8U+vz3XwV4/5EAkRCF/tgLHfvV/TT4p/dZ/ln/CwMN+VjtFfnwB7AAN/+q///8w/1E+HUB2gWXBN37A//hDzbxA/s3+S4GoQHo9NgCtQMl/vcGOQuvAGUEKP+E+18AyPkm9pT7KwKuBTL/2gu4/Qn0UPjoAcX0MgH/AboK5wGFAvD2jP5NADv5gwBZ/ST2hQJu/AX8lw0y+doCjfyeBV4EVPY2+/76bQCnAgEIAAOfBdsIcv86AT0Fmg4dCRwEhP9KAnUNfQZ+Chz0EgQO/CwCygQaAUL4IhDqADP+GgqZBb8GbQNsB5AEuw4GABX3BgPz/x0DPQh2+yoEAwOp/r/8av7o/8//9/0s+jD8aQLpA7z4wPYHBjT3lfz6/nf/LAPx+sgA0voWBJ0Ct/25/KL/OfvSCKX+ywLU+vHzvv5S8h/6eAyn/8QMzPK/Axr7nP7+BwYFSvkl/3z5XgCL/44AhQGnBT/zVgyg/Pz9sfcVAnQJqwGn++7/HAGm+DsEhwThAKz9hf+k9gMPsQsLA5r/Efr28dn33wLG/eT30AcGCIn6TALJ+q7+avnM/q8CY/44/nz3KwI0+o4CZQWmBN8JA/mIAJUCYQHxCDACqQauB9L+Qv8wA1cCd/zQAan8v/0K/WYAVe1EAbIIbPPy/1MBmAKJAsQMKQuA+NALfPa+/qIBNgIIDJT3a/73CtgH1Ph8A676Jgpw/hcFjftjCmb4GQnyBFv7Avf//FP/oARa/rH5RPGI/JoLCPpqCK79cwS8/X8IMQPn/AQBywVuBcL88wMYCjUCkgW6A2kE2O8b84QAEPjO+VsIBQIg9Fz22umJ9L/3bf0pBwUCRwwm/E3yXAkNAscGYAvr8UoCFvfzA8v7dPoJBBf1Z//M/wgAPQEuCjUAiwVG888GLQxfCDH7NQIWCPkBR/89/SH9MP91C7v9agpUC4sHhALK9cUB7P5kABL8FQDFAcD8FwMfBXMGiPrH/xkFb/yT/vkTzvmI+6D8iQETAoXxyvzpABL0xAIpArsIIf5E9u3yjQfYACUAIf0A/c0M5v0d/MEG0v1ZA2r+DQKB/HkCnfhr+ywBzPqA/ZH3TALL8jwEZwcq+vUKd/qSBZH9zQMwADP8Z/tp9qn6cPohDOQHPA4X+usFGP9oBaD/kAH8CqMDggX3Bjj5q//oAxIBzvMuCFv9gwV8BaoEiwc2ENP9LPV9AykCBA1QCykCYAGJC9j/P/+OEFgRNPSL+yz77fgH+3z+bQD//aIFLwfV/Y/5vf7AB+H7kgMQBRTw+gF1+h75RAzS/bbzNQ6q+rUJq/oV+lgAuPgU/JcAtvjzBsP9ZP1++xAH3waSABcDqQe8//cAnAQ1+Tf4mQJpAZjvWACQAF3+EvhdCh/2DADO/p36WPRaBRD6oP3F9sgTFvW8/+IBQgQrB+b5u/5PAjYA0gLdBfkHof+bAeD+Gfyw/54Hgv8Y/oT/uwdf+Mr8gQbh/fXt/AhEDe3+0/6b+2YLcRQJBcT3mfzqBekF8fYI/JYB/P4zAeT4Gf4Y+Db7U/WrBKj3Jv9d/rH6a/qzB+b/APkpBuUKvPix8ID5YfxC9FP7SAb0B2kLxQAs9zACmAW1/0IAIgeb/xEDOQL9+vr36vF8/uT3b/s6Dq/wnQAJ9/r4KfumA6z3+vMf8lAFkQNZAecBkvoB9qv7WwcYA3T9rANnAS3/+vYP8dv6RvzOAM0BcwvN/ITzufQhBx33KAG3/Bz+kAQM7pr3MRB2A474R/dTAgoLBQYF/cAG0QeTBnX7jvGg8hgBWgNABRwFJQyCFKkMTfxqFcv6dveA+fD+APN6CkoFLgjp/4MB0QhXC4j/bQULCP3/uvnZ/mUNOP1N/7/9/QqP/SMCxAjtAMgDKA1zAb0HuwT+BvkGlgJb+ccORPyy+p3+M/6I+dAJ5P35A0T29fvN/XL/nAH5Bcb9DAu4EJUKuQIg+xUA4QeE96z5kgFT+W3+EfmI9x8K/QATCEwBeAb89rb/sPjm/i74kvunAGH4mPlr86sF2f/2Bu/z1QSm/hQIcv21/QoExv7R/C8JeAFdDSz5Hwbc86T2Pw+7/H4J6AfLA679swGz//Dz+QOD+/QFzvIU+rv2cgc//H33MPxDBgP/8PQLC6T3o/gvBCEC4/wG/7sGRQlsC2UC+wWw6xL+LPhz/Q8GJQ1sA88EYPjZ96j/LvzI/2v7K/tQ92QAe+4G//AGNwoVAfICBvZm/7r76wH2BZX60QbW+5ACqP+6/wL5SQWfA+EOXABKAOwFXfOg/xcC2faE9jYBewab/SYDVP+/Bi0HDgBc+lUBCAXZBJX6RvdYAQAFXgSA96nz2ghpBCUDsgBU/rH5Nvs2/wQFrvs4BPIOLwD1+vkA9wId/QsCxP/e/PUFZQCB/1v3dgJu9tsBH/+gAc0CgfYKBZUA/xHd/Jn/fgZfBC77FwQXA90L3QLrBBH+yv0EAmj7rwIp9Vr2BfhUAGIEZQnr+YX+SP1U+/wL7PeK+3DsKAIMAskBrPGfCvUMIv+DAzL99/El+fD9ivvo/UMEVgcH+qr/twWF+WAH/AajA28IGQLC/jP+6ga1BqcJaAd788gAjfjzBc4EAvpb/dgOjATXAh8JkQY29Tj4xgJXCG8ENO0W8xcB8fnHALb/9QjFCw3yEgqaBj8C3f+aAzL4/vy5CRsCavBlBBoGuAEzAK3+sAXxAqLzk/wL9tf4zPG4+FoAOP7LAbv0C/UZ+ggAxANNBxz2IgNcA6//sgQeBHEF2vvAAykAtQOW91UAQPWuAYkBUPcgBUj3mvtDBa38/v8B8iH45fq9+rH28Plo9uf2Qv7uB4H3M/hlAmn/Ffz2Ac/z9PdKCXz/L/8ZChD9AwxuA2L4LP9DDQr88P8+8xv46vy3Ain9hACh/JED6gKlAAL9OfwG/0n7MxEH8Zz5CgENBx3+HwNhBbT56/shBkQFMP17DmEEOPXb+SP8W/xiASsFHwA/Ayr5PfXACN77a/IB/Y/8n/ZA98oDrQEd8csENQeuA4f8aO/WB037NQSb/Yz///2jCWYC/v0uA4wAffsmAyH5qASF/076r/g9AXMJiPVMCDoCjwGWBvgGmgBWBjACj/3QAvIB0v61A8b+VwHS/Gv39QayBOEKF/6D+fgBRPkdAyn+RQoOAWH/GQC9A90JowOIA2n8ZgGK9LT/FAtxDO3wmACcB4UKDgKw8/ILZgw1/0IJlgWAByMGjgAMCbL9Uv0i9voH6wFQBX75ufHb+Mn47PQtBYH0EPwc+en8yfLB/cf6oQYA/gsGYAIoCPoJxgDk+DsAAwSgBJD9JP6N9VsOmAVw/eb4dfYNC/wLsgZY/kr69gSV9X8FKAEi+CUKpwUzCBz2LQO2+fr2WwsWBVIEsvwwAXf6Qwk4+rIAZgH0/HkI5giF+/sD7/gs/m75PQIaBtH5bgb4E6T+afml/nAFDf/w/e/56wGtEw4A5gGF+vT5yfUW/yn41/p9+cj9rgfzBEwGbADD91H8c/ZA/3D+Cv9a9n/5hAXs9nALnfl6+YcPxgY4BvcBFgenBngH+QKjAqcA6ggpBfgCZwN9B6UEpQBVBIH++fjFBhj7ZwKx/k39WwGy/QH7SgTa/5L84vgZB3kENv7/AmEJA/Iz/zb7qwCj+uP0cAMpBg71Bwdk9Aj2lPs9/yv3xgmMASX64/y3AWr+G/5k/uH///tR/hf5j/6i/eT5DfhO+c4FOQj3ApID+gbVA5j03QrAB2QFHAOLBJ0BXg4N+hL8GgoH/Y35PQJBAiD/9euBB6/0EPsq/An//fsc/aT/mwPW/kf/1P88+l0E3/1R8ZH+4PeK+zsI9uvfDVcFDAS3+Pz5RgJZCk79hw3w8jgBSQE3AoACrQlZ/rsAuQBR/2IAwfz5/e8KFgbv/DAExPtS/eT4Kfhf/Kn7DwxuEKIBTRIR8nEJvgEBAjYIePFp/TP+YgyXCm//xgipBYr8o/3QBoMAgANT+kD9jwPa9rD6F//b9xz6MwRN9P3/D/IQ9bIJ1QMnCkYFA/xS+tD/jwKjAf794AQk8sMNlQOL98UH4/yuBSL04vhA9l0J6/miB90B3Pfx/6T80v3p/P76RvkvARIBA/tT7X0F9/hiCFgJOv/A/hUEjwI7Awv3SvbhA6sBYgPz/XP9BAXJAb8G1QE1+TwF7ffu+PYGFwIcBsH7XQEo+OwDMghhAMQR7QpsAfQDvwSxC78DRfxyAmX9wfu8+2UA7/6e+5wN4Aab/pD8uAzgA4X35gUcAesEGAZxBbUHowab86UOt/hRBsMI4gkWAEz+bgbdCs0CaAK+Buj/fwPc9+bwNAJA9Rb5QvOrAFj+n//Y+Nb7Jf+H+sUEsAIJBjf+Kv628U0BKP0j/FMKgf3m+Y4GnPLcB+f3af62CSYC3v53A1EA8wOhAHLvlwNyAp4WzwD0DSD+pQXd/dcFUQdTD7b86PeT9zIJUv65A+MDcPgAACIGTP4m/wsLyAT9A9/2HwNY+tQBuf+3+rsA+gJv8qABuAh+AEwLlf7pBpQCe/PxBQz/PAsE8PAEwgdXBWL+pf4qDPbx4AaB/Qv+Yff3/4QBHPnB9vEFLfwD+6b+3Acl9ekJtf7+/SwNNfesC9XwqfjNBrEHNgk5ADL+0wSMAa8Co/40ABb/gf8o9KT5TgMeAF4BCvfRA+UBQQTZ+fAA5AMBBRgC0wM5A5r/IgKO88b/EPyP/dAHJQD3Ag37HgU7Chf+dvbY9UP5vvfk+4Xy5vFYC2MJswCTBVMBJgcuAyQAcAN2CfcLivc6+aIAuPsc/2H/X/09BcH7g/yD+x/+cf2XA/4RrPl5+zsG4AGJBpIMxf7OCFkBcP+a9mz9fwI3AS78owa//nIHsvab+j8Akv9TCVoIagXR++4INQQcB0T7fP9uBBYOKP8d/47+RgMqA4v4EepOAEcMBQTt/fIMvPtl+fAAHgWzALAH+u6Z8NHypAQh+2sIXP7x8zv4Dv5FD3L/Nv0FBJj1zfQm9CYKwQNCAc725PsTApP8K/R1CxwKv/bRAzQGKvlzApn9BQWh/yAJP/nVC8z6RwB/AqoFLvfK/ysKsP1S/pIEyPO/AzkCmPrSAbz2pAU1+PP6rfyI/yn9/vNz/p724gGgAxb9IgDS9O4JwAPD+v8Drfus9mb9n/lh/4T5NQBn+hb7mvzXApH+/fUeCNf2WvM9AH0IQQcOEhsA7P/DBHwE4Qto/iT7zfJt9yT56Qap/wXwOf/2AD/5ZPjoAJ8I7/kM+HH6pwJyCqIKNf6bA5X7LgDEBlH94fw5AB0PCv3I/5L5vgENA/H9LgJE/qD/+/6//WH+Y/trBuQBiPqmCBP91gPeDi3+1gnTBi8A/fsrALL9mgwYBQUC2fiv/S8DAAF1G7D/fA2U9MUD4P52AfUAYvRL8i8DpfcIAA4LHP8AC5UBXvpGC7EDfPoz/tbxhP94/UP6yvIe90L4GQi9+Rz/tPzm/XcCRve2/sMGJQhr9u32zf71C30NuxGP9/X+tvhM+U4IR/qqBVcEPwNEBtwJ7Pqx9jEJPPihBhX92QiE/pn90Pos+ygD1vo/87H8qgVl9sz7vxA39vkFav8JAWYDwgQ3/SP9hwlFBHL8XANhBpUDa/xY9QIEuwLu9XT5NQHmFaDz3P1c+QH7VvxOAqcAlQLK+bYAN/VN9vMG0vmz/gz4S/iY9G//TfQqC9wAJAy3+QwNFwIYC7z3qv2QCCgG8g66A9v7QgGs9Q8Elf9z+CIE7fg4/3YDDfieBtb5fwKV+7z8wgEOAbj5Bf8T9JYJTP2SBXn+8Ppp/m0LJAzyBI0JwgOU/8f6s/yy9erzuf3s+kQCn/eUBVj+Yvp3BFsPYv9JAhUEbQbI/mwA2/0kBhUG0/6pA/QErP3hEHPxMgWa8/gEkQ/9ALMQpArY97cEH/yWALEBcQD6+aEDgfw2++0A0/1Q/EQAagYK/bQM5vul+EYCef+5/kf/aAU4+Kj8yQemC1f9tvPa+Z8GqAPQ9akAqPYLAecH0QEM/i79DfZkBH/8XgoM/KH/dfaBAwv56/bD/Bn82wQBBf34PAIiCxcA6v/K97QA9/lqAHj2RgVI/D0EEAP+AN/69Q2LBLn7ZwBh+0kDcf03D88BAvaz/hH/SQfeAyv9OwHtA0v9QALUARUDagqtB/T9vwDDALoJQgsH9/4BmgZOAAT5XgGc/pj6CQLF+k/76PVa/lX4awecBAAB9PYUA6vzgwOF9hn4B/8mCQX8y/TLAP/6E/xpAaAIV/Kk+9wEd+8UCdX3WPhsEtcD6gd3AogL1AejALL/MviY/cP93P5iAtn4xg5YBBAMvPvS/MUDRgkV+JkAn/eVBcD7WAvU+u/7y/tADOUItf/CBAkIIAx69Db4owGIBon87AXNBRcDbgPTBCv8MgkVBy32K/x+/0P/Nv8a/iEGvPkQAtIAA/2X+UEMhQPL/LkEQvLTAYoHZPxZ+FcBbAux/Kn6pv82CFUI1Pvy/gkGgATbCF8AAAfD6wX9Ug2uARn+0AjHBKb8JwHMAjj6NPtS9Z8BmfljB4X/evfv+fIA7ethCrcD4wAH/KkAB/wx+NP9RgBL/0EAovzU+3IKL/yqArwHaQBFCWn0tv+c/ij71QOm/TL+fAWpCNgKTQwCATAJOACtDUgBrgBnAdQKdQQ2/Mn0hwJoAOsB1waa9t798/pXAm/+FAf2+ab7Dwaq/Qf6UforADv6evZ5Bu7/fQJMBSYG7wmdCJUSrvjj+PEC8/8vBWoCiP9c/Zb/lgQ7Cy72dAG1DgILCvlU+nz8tgI8/sL/DPdTAaD93/4d9pAPRQZOBXP+3QUe/scAlApLC1b9xwbi/jH7c/to8sQELPtFBCn9kPsK970De//P+9v2VQYFDzIIyfgCB2D+IgINB8wBqv/PArH6kwJG9tH2jvy3/1P0uQhg/LL4yPpn9ioIUPuh8BkDGu0o+cAAywW2/gn8+//xBkcBCgh/AUkJ8gWpBVj8MfVM/7YLNwHC/3oFy+84BHYCk/4RBXoAc/80ARYC5vxe/Q4Fk/1AAsUCofiWDXbv7AQQClsNcwYhA+L61fX8BRz+c/ez/Ur3r/PX/nEL4/+0A3bz8gW+En0Klfle/5wAhgtR+IcLrAgZ+NsUq/wtA5j6zQ9YADUCMPVjAf/81ga4AEkCB/ys+iYBJv3uFrz43gndAzQGifwPA/EHi/5hDIQCaf0n/9IFNhC3/1j8UwXMAWr8zvzvBR/8AAdsA8ESdBdzAAL4vfqL/AsB3vs1AFD4bg2hBYgDVv0l970B1P43AyH1ZgVbDuz2jQrAAbn+Fv8aAhL+kvmCAqcINgFy+2MIGw2uAOD9mv98/JX6YPqc/MEIegZyBRYGQ/+g/s3+H/obACoG3ANIBaf8kP6UBFP+5QiXDUMHPgQZ8ozza/ZX943/bgP2DoL82v8n+AACCwSiCwr8HAIr8x8Etw3SAlcLtwhDAyj6ngwP+w/7cgpc/iIDxAc1DLP8KARD/4gB1O9WAvcGLApVBY0Kzfyj/5j6ZPjWAH0Dxg8ZCAsFBgks/C8FvANEAUn2yggoAcPxTPcH/I/5fAI0AOv6DwRIBNoB9fnb/RP28PsD88/6/PdKBQUIBPmIBucG8AAk+ikHhfL1+KMBifeSAf8GF/1A/jv/3fwZ/HsCXArT+M73u/gn/In+3/OtAvH+ev+bBZ38Y/fs98v4SQsV/b71kQhm+g0KgAKtBY4HlAOn/WMFRgLgB6EKWgDx/HECifxm+pf/qAbUDkQI7/aAAX4BQ/lH/u/9WPm8+1wB4Aou+Qb6ZQsk/9f2LAQ2BFcDJgINAZ0AgAXb/aoCBvvWBY8HiQVOAWrshvQP+Cf/vv5H9qsFUflSBDYCcgFDAiYNNwqV+z/4gvRkBYT9vP9fD74CzfwnAwMHkQUM+x8CbvpbDob72wNKAvD6cv/QAmz+UwfgAC/53vzkAnrwH/1Q8TMFPvXrCOv+Tv03BFEDJ/6rAm34ZQvBAgAPZgrc/eIKcAAHAajzivqoC1cEs/tnCBkHehH8/18Dsfu1AGn34QEt+3P9Fv+9+NH15wPNCvz5fP0E+jcDcAJqAMkBhPu8+j8JEfj8/+v3Cf93/O718AKE+5sBbvdECtEP3wRlBEb2rP86/tMDF/Z8/vAHPQm3+dcBrhJ5+woEFQN++14ATvoG/6YCrwTjAUr/WgjXB7rzywoz+l8I5/zHAYwHdvqq/2oB0QPrAFsGg/aPBLX3HfA++2EEjP/2DJn/ZP2+AjEAQwMr/zALr/GEBsICeQvCAzUFXAD7/HoHOvJw9w8DGwVxEKQCVQOa95D6vgFt9/v98/5W950OR/9vBl8NHgA5Aff8YQEiCAn+H/xNBmwEWv5oBK/9fvZtAuzzEQlGAE/9DfLt/S8I4/T7AMABWAGaChcI6wKWAd/0rf/tBSYH+fAY+o/+hg8T8+IDNPsBC+gF6PyLAk4DGPo/+VX5sfzqCjMEM/8YDVf4JAQhBNX/LvzG9vjybfbiDwYDG/mSAGkArAfPARf3yPvXBnX2AAL9AFoBIvpUAbn9u/9U/Tz9EAFB+u3xWwg6BswBXQMn7zYHiwiG8QIQ/QbU/Yv1qP9G/PcFkgfaA8X4CvKwAHrugv4f+I0KufbcEogCKQbUAdMApwYG+QIAM/q6/mv1XgIu+E77NAGz/0L7HfrO/6sDZvz8Aaz7/wDRBpYGrfxXBfYAtvV6BW30SvqmBHz6RQO2+Z8BWP7qAkT5kPi2//v/fgwnBCP6XwPYAW7+5gmBANz4JP4V/KEGt/svADb/eQFJ/Hn/OP8P+rAJ8fpU/QP+IQB4COb1Zftj+i0CAPytBgACevk5/qYHuPnqAD4EAw7b//oAnv9w+3n+UwLrANQBoAHZDnT6ZP8h9t8I1gfF8xMFB/sRALkEYvUDBcL2N/ip8m8EOv3VAj/8vPtz9jsIEP4t/rD3pv9M+woOTP+SBv/3ivrxBPL5I/9WB9v+V/s2BCX+vQPsAusA/f5mAKYDGP3H/IL52/5TET4Dq/xX9SwIAxAkBzT+mPjF/pf4tQXRBeICCwMq+JYECPwWBab+SPgWBB8D8/uoArT/OfguBaATBAXbBzf5pvhg9V8AYgrk9dr/7ADuAjn0owpe9LnykwZyAPX9af56BazzKv/L+FELvgqA+DgArPwsAXn+kwFx/Dj9J/oqBJkAZv53+h/+aO/DCF/9JwKa/oMHsgHmAMcE4/sxC8gAM/W187TyEwbh9AEFFAGbCPgFrvUlAcQC8AH+/XH/6frw/vUFsQJxBOX9Hvtv/aAAfgEcBKIGLAjq+ZD4a/5Q/6cCsvlOAicCJwdu+8YBZQrtBhH91vhMBXLybP0c/fsASwRf+0T5j/0mDib00QsQCCj63PSJB6oAvwUw/9X81vgD/p78ewkQBocM3f6v/Mb33gSsEwH74PgJArQF/v9gBY3/gvX49AT4twQBBsX76/jw9aD5WQC0+kr/0vxXBnwFZPdF803xRPzUARb94Pwp/g39GP1+CNQDyP/B/d4EtPmy9Nb6RAL3ADr+3v5J/GMA7frx/wMEagEq/iwK9gNKBa37QwiF+y37pQZ0BM8EtAgQ9Qf+6f9I/T4Dl/n++cX/Mfx595ABIwcm+JT+mQflAJX8Yu5M/pIOUvr6/ooAMAQkA4cHyfiZ/WEGOgg8CL7w4guGCfgBsAoTBaT/1v1zAi3z7/cX+RwAgfJ4+SYEnQPB+bYIgRKKBjj44e4c/70BP/wSAtb8F+y/9OIEF/7N84oFoQKa/9D5kwMdCfvx7hTC70IFQ/gV9/j8cf6QBsL/cwLh+HcC1fpI/O7xvvrxB5v6TP4o9zfzSQFL/0cD3APg9Vn5cPbq/Uj8ZfyRBrkC8gsF9Tv+oQRMCY8AOwEx/EYDgALzAWH8OwDA/EsDLQKvA5P5/wAgAZj82frIEKMQsgukAbQETANqA8H/RfwYAUkIRf4VBgUA3P32DFcM2PYDAd/yWwYwAhn7pwW4AMHvkAFyAfP2h/ww+PL6ogkP85kPmvIbAtP7TPPP9jcAP/e7+b0GywEg9xQESgXV/5v/rf5MAGz+VALr/hr7GvpA+BD2n/zoAToBOAch9wgKMQQeAvEHQwjeBmD1xQqBBIMEbwPM+zv6j//o9XAAb/xW8+QBBgV7CNn/Kgj0+Nv/EgSt9n8A1AVg+UADCgGQ/737Nwsw/DsFHBTACZMI6AVhBS3u0wVxBvL6HQUrCAz5xQff/OL9OBDtBRD71QFH/iAAGgWH/aP9TP/F+P3v7/m9+7f+pf2R9gQAKAD5A9QEN/5J/t/+1fkb9n/z7wUqA6X5zft6Boj9xwU69+r/OQYQ+kUHAf66A+33xAd0BCACJf28+nQA4vwWALr7Kfre81AB+wPuAOABmwQz+DYGkPMNB4/+YP/0+yr5jwgM/r8HDu4nAa/71f/VBQIEIwPKApsGsvVH/1oDsAVD+LsDYQIB/KP3OwHg/80Lav8183ACOv47/GIG1P1W+wwA1gGxA3f5IP0eCQL7Swum/nz7fACk+pD8EQXn9cX9LwJ7Bpf8lQNo/qMB4QRV/QEAN/KzAvwFfPxnBFcCtwTcBU4AfgKNBTDyrfig/4D3OhFr8af7AgSA/+L/tPsCA8L4xPx6/EkClQAI8qv/lQeM/1z8lQD4+s4CI/3LBLgDqgNt+LoGcRAC+s78lgrVBPT7F/4jBlsFSAEeA6cCGPqQ+9j3HAFE/eb++gPiB6H5afqxBx0E4wDDATrtrwGmDGP88f1X+P8AJ/vF+pUHCACU/b4L0fWoAl7/mgXp/xT69gNiAoD2nv6G/Xj8r/0y/Iv0wfksAsf2d/ru+2z9nQZT/sb7ggOnBgUHqfVm+ZT8vvh8AqwKf/zcCacIgQbo/NwCRvmCB4MDRP+mAJwO4gTS/EUBLwba/bwFJAZT/IL41fwbAzQJHvs6/3UIP/kwAzUG/vdCCC39FQF9/McNxweZ/Bv+RvHZDTsBnA+XB5D9P/k9/f4JgvqjCnAAJgR5BO4KKwIAB+v1wPZi+jT6+ACG+q0BnRNK/kb4dAYO+C8FIAIbBRn5aw2G9nn4Bvrc+U33+/lT9/gFNf1//K4CUfX7BEsJ/QP1/JcDKAjz+5z69PgVA7AH8ANABAgGBPlUCOD+jfvg/7f4ugFFA+kEzQW99YMCCgmWA2b7cgDWBRH4uPgw/R3+x/NtAJgH9PzrA5L8ewe1CJr9d/s1BwL8BvZ+Cyf4A/upCLgEZf6BDtvuWgTk/E79sgag/Xn5AAW6/pYFKg2W+7/+FfYL/1kCTgHCAan91AIFCRUJmQk3/TUEJQcPCwn5xglaCEv7/AnF/Q4C1gbt7uv96Ato+5j3AgQr/9n6hPxJAEz8RfuBAtEEugHHCzX7c+yA/hgBR/5/+63/xfrdEYgH5PG5/rn3N/rV/z8K5PJu9Xr4WfUFBCX40gcXAssCqAh+Ajv7cv9+BUkJDPKb+mnuTwhC9y0DSf6cCHHzofogBTMB8fUw/OH4lQKmAi4E0P1YDmf7pwAB+ioCF/GLAmcHeQCn+of/KvlrART8MgJtAPvxIfog/7oEUAeyAxv9VgVgAdoKdACJ+h0PWvtcBEAMw/7s/BACmQdDAQf7vQKb8vP5IAMS+2YA7PVS9m72lQFU/+kEhwrLBKjzqv0MCvH3oPzsBiX6+ATE+0H4iPnS+Rf88ABq8fL5bwZg+rYE6gIpA6z/aAAa9PP1bvYbAN8Gqf8XArYCCP6p8S0FbAUjBJv+yAMC+yX9VPbCCmj33/6J9iz9A/f4/EIG7fmjAXACSfqh/MLrMgCh+4UHyPl7Ak33nP66+kYC0QPDAhgCLwvFAggPS/D8A94Dlvj+/7D65QtZ+oUA0QCjBf/8Jf9o/GoFNQc2/a8KA/5Q9MX9uQnr95D5nw7UBHb7MwTS/z0JpPYe94kBsgSdB/T3ewjLBaQBNvwq/ij37QrAAWMJxu6w/9sE6PygBmT8CAyK+Ob4dPb5AwsIiu7iBm/4FPtCAtX8uQbPCgoAYAmo8wkCFAhjA/j9AAO5AG0LxAho/YH1xwTlB64C4vckALMI8gCrC0UEbgJB9Q/8UAKcCnb+VwV59xLt+faZ/Sf9ngTHAkEEMQpq+XAEsPJHAjICVvft/XkEHfX2Ayr/u/fSC80A0AdRBBwB6/ZSAWUCbQRIAFoMK/x78Z4IDfkc8ZDwgfm/CncLoweu/1cC0gFzBIP5S/y0BPv/avlj+rIHSwFS9N379f4aB/v8vQD6/5wKBgTY+dn7VhIXCDj0jfoW+lf8s/FdDyoLdgjXAsL7Lv3x+pz/2Ql+BAMA3Pc3CZkKsfsvBc4Ax/QBAMz9/f0W/PD4fgZUCsgEcgmm/x0JpgAKEKYFJfseElAH7wz4Az4AwQCD+Hr5jvgd/5//pQKg9WP9PwBb/AL3YQSkA2LyvPlKBy//IgGH9xD1mPp1/okCB/fm+Jb9iQ93Edj9IAAH91r66vFR+80COPyTBKAJfPq6+2cMRwGB8uoAbQupAqkCDQ2RBi7/qP+0DDL7ofZt8xj9//u3EE36d/ftDDf+4wQO99344v/pBrAKt/7C++v9tgN7DG0GuARG+UL3ef1nB4cANv2f/IERd/QzBJ4D0fyvCX/zdfaU9Nz8+gRgEuYHKwJE/1AFSwMyBjoD6QLL/5H41/pBA3IMn/+9/KD1B/re/40IbQipCrz0sepq/kACMv5IAuX7uv8SA3QEdvp7BEwAt//A5cEB8gOsB0n+Jfz0/QH41vPTApUFLPwIAXTzJ/IMAab7awVS89kCRPk97oT3CQF28nH9QQP2/uv6wgF6BA8Cl/XN+4YGtfePAHX70gqdATz9bfy7/yr/dwHBBFn1Cvu++On8If6i9+0BSgn+/Oz+OfdT+GD9H/xS+cv9DQUP+lgH3fhT+Uv9S/9z94L8N/8o+JADJQMu/1MKlQkn/Qj/XgF5/Ob3rwGTBtrr7gKZ9A79XvZuAWH72QFd7sgGfP7ZCtL7cP17+nz4+Af8/ZoH+f/a94/8YQOA90IJFgUgCY0CIPEYAlgBOvox+j7vzgY//+H+QQg0AhMELf7X9w35lP8LB277Nfvw/7X/7wF7Ahr/MQYB9B76dfLC8lMID//N+pX8i/6mCT0GEAsdDmYE6gVf8M/5iwZnBkn7I/lu+z8JsvoGBr8HOBD2+MsHAASe/D4J0/eWDEX8UvR0/3EDAvxs+5/7oPmABOkGO/fU+w0Hvwqi+6AGNwWmBc76tfyq+1sGbu8ICPb4Iv1o/1P5iP5p9jj/2QQM//bzmvVZBCYBfvb9/68ARwY9+vv1mPdN/hMSc/gPAwj4ifsp/V76DwA9BzMGovyWBLwMgABPCnz/Xv0p7wIOBvI2DO0BE/SpARn9CPgV/R4AiwOt9Jr7nAgLBNT/zfvaAacIdf4zBbQDXv2i98AIs/9CBDX/HPzk/d0BDQoFBuf8Gfe0An/+pwnk964JFfLjCor9+QdRAJH6u/4L+z0PlAA79YL+Kv5BAHkI4AYp/8H+sADs+WUBbvMQAoz4H/xOD3j9Zv9q/wgDKP5n9F8BQgAs89wEHgAs+tUESghMCYj8EPgS/GsBbASR+vgISfjF9m7/x/TLAc/0bwrO+u8D1wB+BzIEP/3ACHf+2wrhAvnyAfkpABEHsfeLC08ETA3B/4P/Mggb+i4LSwhyCYkE9gNA8GEI1fsg9pgEqfwJCF8ARAkzBXXyfgXC/dT+3wEc/43zQf2S9+8CvgKXBQX1Egwt8rn/cgheA5MF7fZ5AzT32/TvCMf3LP40Drr6jAM1CNH+KwaG/dABigimEQT9dAgFARH6KwLaAVP77/tGAC4BdvnRBdYGe/rkAcD2df4L/cP1uQK//dkDUfYE+tDyDAPhBqrzrPyM/h0BOQjcAFT5egGsCdr8sggL9i7wpgdMCF4Gm/v0+4z40faU/8YAhv0XCYMD5f98/8vyWwEQ/Wj/cfsYCEf+HQLiA6cDWfocCZf/ZvyU/ML6FgHdAGvzKP0WAKf+KPiKCVj8OvOM97Dx8wAhDTD90ArY9tsG0PR5/qn8lfep+EwBrf8pBAMNIADPAejyfBS69wkHO/PMBD7/IPWoCVADK/+UBtT2TfvBAwoBhvuuAIQA+v+/+WUChf1NDZn9bwKt/Bv+yPcI/C8Gl/cWC34EHgrGAO8MYfgb/SoHp/3cCa/+B/qLAnzyPwqW+hcCjwqVBFILtAey8SD9Mg8DDygBdP5pDT75hANX/Gr89/UdBhYPEgag/xT6vwO0CUj3I/yL+HD6BP89/voBiwGN/of0ufcN7/jwtfpx+v4E8Ae6CPH7xArhB9P8Pgsp/uYRDfsF+mMDN/xzAz35if9xAPsB8wNB96QAbAvjAUcFaAEX9YT9xvu29Ab8Vf0bBfAKxAU3Ccz7ZQhXDvsC3gE1+175gvXw/Lf/wwN49fn/NwJIAs38/AGY8mMDWwNT/gQAh/tqAo/0vAC6+dr/avcKBQj4lxW2AObyLAPzB+0M+fx2800As/Al+xX8RvbhEYMDTP1w/q70lAaA/eT9QAXoBc4AwAG3CI4CFfFIDDL5Wv3tACgCxP/OAGX7dP/7+h8BwQGx/Ob9oxi6/cICmfxo96DvFf4rCaMLKQK+CZP+O/0mDyoBGfwJ/ED6U/+b/5P8owjxA9v9PQTE/pn8ofr0B2H6JAiSCuf1N/1w/4IBeQSt/Ar95QeNBz4LswdqAVYA4wUtDEgCG/mwB+j6YQHSAJD+Bvpu+1vvYwRRAJ/41wRiAZ8En/9UC5UG4ADk+sr2Vfu/CKn7CALo92D4SAMXAvT7nAgqAGoBy/DsAN34LwSoBKH7kgAmASb8WgBhA7YJR+1SAp38afMbAPv1KQAq/an5/frD/hn8swIp+fn2bws1BPr92O4k/cj7AwIrAx0P3Ppj7Jf8uQjkAjj1ugGeABD8Yv4vBf8DZ/JC9jcE2QGpBsH7Wg4SAhn84vsKALz5p/x5CCIJt/4WAykDMP/h/oQJi/+0+qf/o/nJ+xP+8wXPDrX6H/4m/l8EPv/I/TkEw/9Q+6r/tf14AVjziPc/+dn1oQ1/A04DZPUsAKb5AfFA/YP6RfvfCUkFQv6d/Pb+JfZdBa3/BAFT/6X0evvN8hHwvQKG9gT8RPrV+T/3SQgxAJLze/6M95QBN/8r/pUBrfkH/vL61P+3/tb4DgA6A0rzAgBW+Iv9Xv2W9+n4PAH2/bgB1v8V/x3/hwG//twK4wGVA3f34f9i8UoQXQKkA/r6jfq5AxYGKgtN91P7KwkWBMj1xwDuAJ4QiwaSBOABXgiIAffzxAGH/lUFMPoK/aT3WwMl+3gI5ggjCun+MBBN/2/8WfgY+63+NvmE9tf4pgyN80X5Zf4Z+fEJPgb9Aa0BPexD/Mn68gfd92P6Wv0gBB8DAf3R/34HcAQz/l4DFPmh9Wf0LQBt8db1fvau88X7ffg+BusC3AMhBxH0RwCg/9kFG/q2BDQE4vyw9uz/fgLMB7b/AgtbCWMCmwowBRX8QAM1+3H4VwHOBzwBVvgD+1H57PZ1AdT1xgR7ATf9MP48+XX5gAM3+tf94wEs+y369P/39bn5tfktCTYMiAJc/NoFVPbvA/L+TQNjAGgD1fdv/i8GMAaH9tgAPPwGAocDoAWh6sMDJ/jA+Gbz8/MN+iz5GAps+wwABgcABM8K5wqt+N3/8fsyDML2eARGB6QFOP7rBYb2Vv6t+ZD+CPmc/70A5fef+csCTfa1/Sr8cAZaAMD+u/ZgAUsIjQu3+/f8TPteAJ8Erf7u8skMUfJr+OwCkxKQCboLePeEBhj6Cf76Aob9LPf/CkcFrwmpATEC5wQfCZkHNfUBBu/0jAwA/Qf/9voUCZLzDwV4BKAB0P+B+lT8HPWICDcAsgM5+jMDwQY7/mMJe/cxAmUDT/5Z/NjtwQuYAV4IQQK2CQMDffgiCnf8gwHjCEoGgfrTCHH56gY49SYLDAsCCT76UAXkDRcDsAaQDkMBgQGwDAv/6P5PAS38BQxy+PAAaPxt/E8KfwbrCK77Pf9p/LUH1PJJBOEFv/9T9w39wAUPB4cEZvrkDHf3agW/ALUR9AS59gn78f7r/0QMYfODALEBIPle/A79HAOmBhcHwv9rAo/9LPk9/jECG/wyA7sGugNI8YMGZPNo/pn8Af3SADMAxABXAm31mQNtAesESPLi984Gwv8pCyoB2/8dBPwEmAAbAn7yVQUf8cX3SBBr/CML5gk5ASH2W/cT+Hz7VvxWBg8AdwC5A4oFvggs/iz00gDHBTH96ADm+GwFo/9S8gH8vwmT+8ALBAQ3B2D4pvcR/fv+3gr0/776O/p/92AGywtSAW4MLgUx+sMI3P2ABTYMevyIBmP2EgLDAuP0DQrCBpf8VP9GB5ADd/Ui/sgBC/zmA0H5gf01B2kDnxL+BNMDXAXQ+Ej+JhO8/VH3CAPQC/UF1gT5ALP9ZPimBw0E0/zu/VULbvkp/6f2vvp5AsECKP7/A7b3jPoy8kD6hwTkBGoAcwB5CkEPJfUC9Q70AgQ1+NMFYAHc96cIFwUp/IAG9PlLA7YBhAUDANP2GwgR+icBWvzu9D73tPt7/2oCSP4K/9b4wPT2/W0CMwif/lkK2QmWATv5igmT9aX+a/sp+goHmgEqAa0CGf2d9MT/MAPy6hf4mvul/Yr3iP8+ARX3xgFrB/AApv9RA6YNRPCYAyYE8/4sBjD3xfCrBHj83QKZ+jMFy/sB/Dz1aPgy/A4AF/1J/q/7t/yqBSr72P0S//r5t/u2ALX0bP5o/OH3r/x0BZ37zwTw9rECBQBr/eX+W/6//YL4of2z/c/8rvptBIH47ArU/b3/l/VECEYBmAb7BW8C0QJU+DsD1fww/xgJbf8X/40A8QmI9gcBiwZbAKACKwbo/wAHPvVl/wr0vvVv/7X4tvw6DeD+xAU3/rkFtPMl/OL4ePfEBQH5zgA7/z/5QgM+CbADPfsDAjIFFv3F9tAD3wLi9p39E+5NAXUMMATQ+2b9LgTp/foAxgKNAmn38wpcBPUC2AKUA8Pz2gHaAh/8Af3l/6r48P5X/WwOEQSvBxAJI/qPA8QDnQfn/Wz4Yw3EBe7/JPsN95D+qv5yB7ILUP9m9vLyaAiQAqv90wMl+pj+yfxF+RICnvq3C7j8j/gH+ckErgC3BpD7uO7U9lH70wZF/s/+IgG3+KL/agIi+kUEcwzw+1709vJs77H9pvjjBsn5jP9b/PEBWfbyCPUDWgLi+zf06QYY+kcB3wRABUb4a/ZZBQAI9PGCAI7+gAGW/kQD0gJa+HLyuQEZAVn9xwNM8qv/hggi+aEKeAaIAFn8SwKB9ogEd/+R/4f+IP/m/4TtSAGWB0H5fQPKAzH77wZJ9cUTSfqBA/j/7/9h/4X6kQP8B04DGAXf/60FJgUj+DALePkOAR0JhgA0/C//uASW+nL3CQhTBJX6b/9K+4X8dvtG96D8OQOHDU8EtPwTEYwE4vraCDIJkALj8toANgSxDyD4BQapAr8GKP8VEA38MP4l9mAFQQJ/ArgE8QcN/lsGh/2N+48BVPsSB/gKGwb+DnsKNgFk+JH2JfddFFoHkvrmCsXzmAOa/SIGHv3iAif3cPESAHD3nAGu+xEFYgg1/db+JQdk9oz3jPM6Ao0Lef/SAVgIr/soBN/0v/ouCzUFPQI4+Hf8z/vH+FL8FQBH9tH4QvjVBIf/uvBp+77yDfk4BsgEaf/N/9X7XvpeCJ/6I/8k/Mv16wC/AqYTZgblBRkDbw0d9scAaPgEA7n9G/xd/p/5fv3c9NT4N/NDBFsBNvVz/2EHv/Ju+psCHg5IAu35yAS9B/vvrABz/6f5RfjY/jv7/QWeDmkE+/vG9kn2QvQ/+OL9hvr2BLf+sQHT/eUGnwJfA1/54RBe9n73MASt/3gBzQ8y/WH+wfnZ/rz/xPsEAOX4URGK9s0CwfQ+CVD/owOFA1n2lAN7/H/4Q/7i/836+fj3B6780QVH7tX3vPwa/FT7A/7WCnn83vuTBiAGgQUN8yL6lgBQASsGpvf7Dcj6q/J++P723wZTB+z/TQDuAOgEsf7tBJP9tf3x8AD7uf1sAe4FaQzDA2X+GfS5BCv68gSu/wf4gvzS98P4jfua+zb4p/VC/RQIQAhdCFMAqf3H84v9bgDp/y4EmwwVA98LywGq/8P84/6f+p/5yf4tAMkPCffR+oAD+gHF9cz6TwM2A6zuTfskBUr6yvoWAEcGgvyo/7X/lhGABn0GzwQDBVXyD/gIBWQBjATtAm3wTfqhBX30lfjw8tD8wPZgAoYBAvdG/MD82u+t+FEGufIN/AX9Pvtz9xAJWgTM9AQAZ/w1+V73owMm+l7seQPy9wP8P/t0Bb4OXv5zBf/5Pfy0/RL1NASo/9X9TvkuBIwCUQAxCiH4OQAq/+QB0gKc+koKKvmC+xgA+v/k+KT8cgCY+7f/Sf3u/esEuvyXCGAC/P1aBk/5IfzP+YQABv+t+2XwOflL8K4IwP/g/kwBAgMbA9T/IvFBBGr0mwU7BSL5V/q9AnAI0gjM/hsFF/8HBbb3mQS0/joHuQAO8Tz9Pv0p/H78GwsUCnT4qQPJAcX68QgQ/eQCjgMuA68JtQi8/OP/JQFi+KQMvQdSEwntFPZoASkDUwgU+/H72fy391j+egJ1Bd/2LwZKAxMNo/lo+AT5k/sgBlz8lAZqAEMKafp+CpQPxQb6AX0E/P2++pQKkhNQ/GcJJ/om/VQKZf6P/fv5xfhL/PcHpAaNACcB7AKQ+yz/I/Q0C6D88vxw86TvP/y682MNFQuFBcz8UP4o+ZYI/QZX+rL2m/9Q8uj0rPfX8TD4I/VX//v9w/fzAm8D3f4SASMBkQO4BDUD2fXr/ZIBSwAp+3792/XpB7P+8/dg/5gGIQAz+Uj83frECyMF1fsh/Lf9+w7A8vn5TPrD8Kr5cAFU758FZ/OaCo0Jjeob+Yj51wYe/rYEwvjU84z9YAxlDDUK/fgBAy32QQnyAKYF+wJ+BUoHBgCg+2IC2vi395IBBQX5/YX5LPmNAIYARgV199P/sgqt/Nr/Kv7U8z8Eifs2AAMCNwB3ELMJLvmp+277Qv1l/8sHFvkGBq76fQbp/O37IQE3AvgLugOO+vwJ8Qr6/mUB9vVgAl8EmfV7/wb6OQHmAC8J/vNT/7b9igQr+nzwBPLy+0H8hA/ACQHwUwbh/8YJ+f4q+qsOy/hV+zQCpQGW/dsEwAT9BHkRbwXP+CgSbvvRASX2XAcADqL7Rghj/AH6Wv7lAH0GNf1YA64EfAfp+nYA9/3U+DL8Y/Wq/Bj5owrB/L78KAAWCuX/R/qOBBUJM/s0AWACbQKcAuv9VvIv/gwGRPg4AqIAgQ4zAOEDDANuBlf/Pvjf/7L0Vf82+w8GGQ7bDpv5bQgR+uoIPfulBccBhAsS/XIDXQNGB7v0FPh6BqEA4/ri9qb6k/uh+d38MAHECT8ACQOkAJYAHfToBgf6bgMn/vMI2gWMBQIC7AISBvr76/BI/Mfy9PivAI36IQvE8rPwsQL0+un4Q/yHA533fAL48cj32wRIAz8CcvX59YQKDAEf+KL8qgrGDYH/jvn4Cf8Eh/PiALnxAAo5+8b3Xwh0+HMLlgSL++j9NgeC+0//XPXR9o8DmP25Bur4gP77BN39FfB7+WcFP/jj91gAJvyO8QT2SPkq/5/6GgFc9x4GYP9g7xH+d/JT+0j8df1s+8H/+QJLB7/1ff529tgJlgWDApMGbvuT+8P5+vzyBIwJHgNX+RbqO/7yBrsE/wA68x8BLQk1AA0Mbf8WAuz6TgkuBzQCPwbkDIYGr/rHC0IGmAra/eUClfJpBpcHGgfYCrX8cQNs+0sC1Qdk8pH6KPZMCKQJVA2OBJgA7fNA9gT0DP/P+WH9dQi//hoF2/npDEcGCAVz/HoMvQ0DCGsEtAXK/sL8NgNh8VT76fRg+8T/A/mzCzsB2AAXATsFRvvnCpoDSP5m9iT9swwn8n4HuPQFAQgHSwCq+Xz4OARfA/v58QN9AxEJ6P06/vb2RPSlC9n8UQJXBBL8aAUmCUcBGBIsB5ABTgYk/Qb7FP8j+CwFawpO8fQH5PeDAXL2CPueADMCMPqdAc36yg81B178lgEVB7cC6/tP+jMIC/W1DU74vPsd+4b8PwKY+lYEm/z4+Kb50ARq9sv91APm9VT4evr5+wzzA/tGB1MBl/qtCi746wJ1+fvssgRP/Sr9m/6N/CQIYgFl+7D9RAGNB0v2h/BuB/Dxhfmc+WUDaQVj/vf/dASp/hoDju4H/IP3efpABhEFWgKfC+37egsA/xz+u/zEA84C+wcR9vMGTPze+lED7AiO8/QHwvZjA3L/RQByBxUE7/V4ELL99QTlAAYH4fRx8wsGYP/M/KcGPwS0DxAEzwai/q374/qcCK0CsvkMAisBOP4LAlH9E/6VBIr7vP1FAy730/ki/kQE5QhKDJ7/W/g98FME4Ajo91X+6/zpAQD15P0/CKf7WAWM/TgFl/jGABcEJgdg80kMlvofCVb+BP9MBHsKyQhf+4b6EADb/5f88/wPAAv4XQoAAq8Aw/m+/NYHUQVeBIcBcPZ194MDOANAA8AHuva+94n9vPaE9q0DrPjj/Pj93/t5DKX/rADlCM/y5fzt+N4H9gaeByz+Dww187MKuAi0AQsNdvi6/sENnQP39Q4DLv4DCV79IwHtD1sD2gDT/UgOgQS2/JH73flQ+4T9Pwd6/AgL9v628yMDUwNHCBwFcwTk+Ir5ffy4+Kb2JABICQ3/qAgeA5D4n/1hBYUIyvtM/aYJjv3F/9oD4P1B/bABHQB7ATv5rvhODGIFwAVn+5ELVfw1/nH/RAH++zsITwJ4/3kGRQAxDSX6e//CBBH8QgIMBC8C5f0i/x0Jd/aM+uYA6ALJ9HIIbP649eIADP2TCu3zLAYqAq34vgQpCfH6Z/1U/ML7TgPPBY/49f6u/pAETQSU/LUGigFh/L789u0FCJ4DAvoL/08CKPrpABIHXwvU+m33WP4t9Uv8fQT9/24C/ACN9VMC6/Yh/x8CI/+X/9D+8QXy9fPwBfYpB2H9xfkfCS7yPAJi/df9Dv1rA+j8eP/z/YUAivo/9zL5DgU3+LLutfthCxX//ABZEdQHWv7R8sn7DQWg9wcDdgJR/b0AGvkQA53/ff3K+XsCovkKAtwOF/bN8Y//2P0Z9TQBRQQbDYv5hgDJBiUDnP3C/7ACnAUA9BUAav0xCXcAxgDKCR37Pgm591oDAQaUEBsGXAo1B1oCQgE1Arn2jgI6/v0BLvydALP6SQxAAKX6Tv9DAUv6KPjQ6S8AKQcd62gFCA7RAl77WAdcAS8FrwkR/pcBQP+79yP/+/w++Az6vwZN+oMNoAEQ9TcDFANSB+77wPs+BOIE8AEuA1UB0P6J+KD6qgC3DX8BuQa2+UwB0/Wf+Xn5jPFABUf6AvbL8hv9DQ1E+ToGwP0aARL25v2FAJf4nPxs+Y//vQMXBS4G7AaB+SsFj/bED8oAHvdk/oQAbwUWAkEIFhJnCX35C/74+unxBgT7BFYBqPnb+AP7Uvqe/TL/3QFiC/3+iQD6Bvr0HwJSAxbyR/3kAUEDtvrX/jD8HfSM99L/BvlFBR7y3g1NDlEMMQdu/7kBIQBbAHwKygX8/0USyPm+B4Hz9P+G/5TzVg7q8dYG8/Ty8r79UwH/B+P+hPau/B30JPg2BbMLzwBQ950Fwv6l+1P/g/00C6UGTP/j+YcIDPwBBE768ge8+Z79LQP8A2b28gC7+W8KgwcrByABGfP48nEEnPVzB+/5FPmUBLP/qhDo9ikFHADo/qIGFvY1ET4E8voX/MEDWwKfBGD//vh4/o3+IwfuAPoD8fHV+Cr24AjjA0T38vwFCKn+jAOkBCQC1v/9CdwKZ/dDBaj6M/5w/3H/tQNlBf39WvF6Au0DowX5/EQFfwOt+acGpv9O+uoEIvtkEFUGRQf4+fv6qvy/AFAGdAb7/mb89wFu/07+0gJW9zUIRftl+tQJdvpn/mAEEPJAAegMJghC82r/0AYZ/w4N7PmW/YHyXvnMB80CkQLa9yn7E/N6AwP2yvcP9ooGqv3T8Db/D/33A+4Jn/tvBNj6NPy1+kH/ovxl+rUElwbB/bf/SgubBbnxewDh/dQE8AZJ/mwIff2d+KL6XPh//sb3QPU3BgENz/3NGckAjwe984kL3QqI9BIAyfaaAygC5wRuCAn/UwJpFGQBt/uV/Hz+m/0cBPL/pfnFAGv+2fXo/4wKyAiTCHvzIvUW/ZgIYwTy+xD/xvmQ+dQFmfJF/zwFXAPYAAcDbgSy7s370v8C//4H3gFlA1L4ffdx8Vf3MPgsAez+qQVe+3wBlQEB+nMI/gI+8Nz8vfvZ8xz5xwEG9eAAVQEGBt/3t/5xEqkArwYWCUX7AfEK/EMJbQbWATQAE/iP/Jv+wQNNATr5Rfyx/tYCU/rhAdD1ePoCAzAFrgjOAzT7GQhb/BsDgv9QAQD2cAX7+AkF0Aou+2ry2vYAAWf7yPrd/g32Hf55BEUD3fdMAnH3gv8QAUL+Kv16A8oLgPHv/YoAeQX/BXULSg7T/ikAq/VZ/s8DU/3m/Ufxrvks+WUAaAiEAoD7dAVlA1sBmgF08Aj6KPTL8rQBvvRN/SkBA/Xm/90C5P/q9ZoEcP+6/rcHqhGLAG4Bhwfx98f3gAJqChv6B/Xr+yL+2PklAgoBHwAm9ysFnfkD/tMAUvqZ8in6JwOqBGoL6QmM9Sb/VfRm/tr2HgazAvP9Iv0H/0sFEvra/Wv3AgIj/J8AOgHzBCn7UAWjAT4C4AYC/Gr/fAIBBc4FFf4K/DUK6QKxAaP8ePw79dH4mP+eAPn/5A3ZBQUG+PopAbD61wJg+/gAi/y4A58Ghv3WABMCYfun/9b7Rv+p/P8AK/ow9ov/g/9ABZkGMvNK+x4I2gl9/QMJuADO+czyvgQV+ToBz/uZATX9hQAZA4EN1waHCREEDgAn/a30AQLgAeEElQktAFz7hAy/7A8B3ADD/7kGnQUq/3kBSQLoC7j9ugbxAQsFRgM49Dz9dgVh/mH3+v1/Bxr2BwIrBCwIewSXA28HwfW6AlAA/ASe/Jz91P7J/ZIBvvsd/gYC7fkw/K0FpvvB+fz9pgU/A/YM0vWv9uABmgTbBGEBwvmy9UcGSAPq+Jv+5fM7Atz8cgOq/6cIJ+75+N0CmAMZBaf8WgZgBtr/Tfik/rv7Xwyi/ZfmdgP18Z4DaPvP/5b9T/wC+wUDvggE/Jr/+waDATn9ff299iwFafYjAhEG5AhZ+R7+CAGF/uwIJvt1BE/4GP2Z/2ACRg2y9tz4aAwH8eD0t/ex9KkDEPkY+qX5ggjb99P3CQL0/Tv82PEiDkjzIRB+DKH66vicAaAAoPvXBxgHuv6QCg37pvz/7iP/0v7CAnj8r/sH/WkI6vxmAxD+Z/sy/jEAWw2S/fkC2QF9BCwIjgAxCcsBOQBy9TABzfpvCbgHJgKRBQwCWQWi+EwA+v1ZAokAzfmx+TQEjQqXAC4C1AOa/XP81/bO/iP9TwiJ/yH8qAHXAkYFyv2p/xMDTwFX+hEEYA0KA4YFxPsgCdD/qwyI8ssBvgTR6iIEsfgXBfD4ZwVCBxoC3Pb/++j/MP9aB0QEr/jGAvj3rv+2Afr9L//t91T+nfqN8mwLSADC/wj4lvd6+2sCuvxiBx30gQWs/Jj5zQi5AWv+egZt/SoDKP/Q+lsK/QMc/vL/twbt+mMCSg1uBjQAuPg+ClH5UflFAub0EQhCCIAERAaTA98BDQlsBPf6sABt+hD8xgLj/Q0Fv/0c+n737P/RAsD6GA4IBNn+l/elDPP1BgE9Dm//cwPkB1L/yfxsAJ/+FPgQ/yYKXgYu9/wEBvOqBuT2/ATM/1v7uQM1/0T9av10Am4HcwiPA54CQ/0BBEUBxwZR/zQB9P92AVD9B/6U95cGjwCX8QT4egT/+/T3DQe3+FAHhAMu7Av9JPtr+1/vvfnCBTYDnvzEDVAHlvg3/A8GaQW1AQ0J6QFdCuMB9/U0BP4IOfd1+wv98fraAX38zQkqBRT7swPI9KwG9gZ7CfQA4gdxCZD/ewBO91sIewUsBNoBZPm0BsT3zP3M/VICGvmA/jb5vQIpCAIBsQCcBbQBGQHzAKUA2wxpAU8CLAs1BAwBb/uACB3/pgDm+OAGNgE6+RwMxfYR+Q4GngCQ+ccAXQCZAoYRYwS7/3ILkgNuAvb56QUFA3MBBARwEGH8iPyQ+g77ogM//ZLxOv75/r4Aufuy98oAyvww7+gDdgIt95P3S/mMCoMF6/rRAnb9LQcOAWT8Mv3M9mT8ZvkVB0sDTP9S/8/6wfEb+Fz85QJN/xP+3f0IAtn+Wf4w+yP3IhJzB2//Xw0WCa0FsP1mB7/7xALwBo35eft0CoMDEwT98BjzEPsYAKMD1fWkB5X5nP8VA5/89gKgBTUC0/WA9wb8rPmc+jQJwQmQAJwIzAkR/AH9xvpH9swFqwU2BIr2xABuBNEGYg1T/1z+LAiW8az5gPnfCkEA1wiRC1AJqPNo/RYAtfbxBXEG/f0e95EIUwKv6jXpc/06BBkACAQI96UDPP4+/i3+wQ0a/LT9e/GGAm7+rvl1+Q356vcZCDX/UAaOBLn2UPCm+mICSgIa9Pn6zv4VAPL/AQKq9P38fgXd9dr/0wx3+4T/5/7l/yINM/iQ+XoFrQSY/Sf9kgsN/675UwJ9/awAEQnzBSoEoALCD5QJofdmBU8JrwLD8UcJU/OkCF/1KQvQ/iQDMATb66QAsPz5/g4JJf1U96cJSw2fELf80ArVBODyqftWAJX6I/9KAjf88vZ79XIEKwQz8yYDMfwY9Jv9iwch++z6WwYG/g//xPgI/uPtIP2K9tj+nwF3AZACZA1SB+b6jwYq+PcGogX1CCkEmglgAXkATwMVBt4CPQVN/qsBsAfj/L3y+fs//SUCWP8DCTj/dANcA+j8yPzbBUAJoPj3BLIHPAI9AgL7M/1EC58INQTt/ED9/gaqCLPzuw6c9+X+vgsJ/9QFmvqMBCT3Iv0i+pABdP+aB4b9RgkrA2wFzf7B/7oFNwEtBLkCIQH2/wz83QZN/UwFc/ZN/AAJafjO/Qn99Qu3/fYGBP7m+4kNpPma+gQD0w1TBNn6e//uDBj+WPjnBhT6AvznDbP6sPIR/2gDXwZg98L4RfzAAXj1gPuBCHIQo/IoCLT/RxKp+svyC/zgAa71pAXwDmX35whDD078lf6wBwj/8Q/n+2ABSQME/GAA6vvC98n7dgXnAugMfPtx/9kCaQalAm/7gwNLCMn5OQh/+ZQCYwKHCy/+y/6vDy/+VPw+96oPSwo6A2IH//3d+oMMdvywBV77q/9z96T9DP8F/wIKbAKZ+AwC7ga8/UsENQPH/nT4ngC2/MMDQA4G9e4Fme+n84ED2wAsBeb+vPTKAXz6IwcE/+cD1grkB58LFPm8A6kFFPC1ANb5HQIwB4b+BgEhBtf+iQWJCLkI5QEWDCr8kfwyBSQK/fENBlEDQv5mANvs8gCg98kHOf6fCBn7mvclAWL4JPnl+9wA1QB3C60CWQJQ+iX9JQkjBy0CBwMa/ev1JAaXC3f5rQC0BBoLTwlNDOYLygO2AY4HgwKJ/k38Cwk/A6D+oPLWBu0DV/HOC+j/+v9h/oAE1wO4/bYBPfTK9LH6EAO8Arz3oAz68m0CVgXf/0sMnQ0BBYX/gwN+/Oz1SAkwAfgFuvm8BeMEc/iT+VQQ7/9h+p/2QPthBxQDrvJk/JQBtwHsCjEFMwbE//IBvwEh/Lz8hAVeBOIFJgKd/gD1RvwxA/b9HPkB9wv9AAWyAV8BvflCDakB3/ERCYb5ePqZAe/6JQO1/AL/uAmGAJP6agqgAJX7tgSM8+kGL/6wAPUAPASU/er8WQOp/VoKJwYpCtL+tf+m9/4BVwK3/CcCTPgHBCACZvre/gkAhP7a+uIJSvvmBgoFjAhh/DP+rAufDAwALQBuBj0Amv7DAs0Dg/R2A7YAxgig/FUAn/TK+SECZvVe/V//2O8JBpX/DQPq93/zr/3d+iT6uvUMCrcGZvOjC20AHwcxAij9SRC39oUAOQ+pBqgSNQfv+18ACA3v/pYFzQPI8h0CKwtt/IgGtADxDagFfwNM+8UBCfkWBxL/NgZQ92j/d/jy/40I6gM+BNIAgA3o/6D98Qal/Y76igVXBn4CGfLIAdgDl/+L/9X4uf1k89/+hvl8COz6U/nK+zcKGP5X/10Eu/n4BaYDPvinBW78+fODBl31XAE8ARIFcPwg/TT6HQpW87T//f0KBsf9jgS9BBcD8wOj/nH+rvPq/KT8iP23BWD1dvVqAPr/D/ivAgX+UQFrAJgBMACvBZkElAJR+v77pPOW+jkDcfe/B9j6pAAy/BUOrgj8AxMHOgtb/iACHvncAIENP/jaCPj4BgZvAZT5UQro/Xj9efzz/6PyjfSM/Fv6/ASP/qsI0Pmn+qX7TQOF+E73ivaJBZr0JAe09P79fvUxAgn9kfoRBNwDzANaCD8DEPpJ/HAC1wuVDBQN3Ac3/QYDx/VNBCABJfu2AwX5mwHU/lQGgAJ0Btr1mfsZ9tr+DwRjB1QA4wG0874BNwCjC5z3yvsHAz0G7f6q/dfu8Ahj+OTsBPr6/tAHU/WV8kT2rQHyA08FHAJYCTH78/m3C08DPABkC+QAcgkADO33FAfs9TUDRvYgA97zDAiFBaH5VQETBbD7tvsZDnzzh/xSCGb+yfwW/NQHyP7a7GH9kPYsDhz9X/ij/0v02PeS+2ILYewm+TMBEAKuB2sKEgWz/3kGGQPs/YH+fAil9t74uvZqANQKAP/+BWz71AOuDJcFqv6CBAL1NQYV+UQIZgZd/Q/zzAN0/awDKvsO/EH7EPvB/wn8Ugae+e76lA7PAYf8x/lU8+H/9/bfAdn/ZfXpAhsEVwbQCijziwa9+doEEAXABIQBGAk6CFUC4QTs/f357AoL/9PvCwPdASAE6APv98cAnf85/e77QAEE+n/2F/Xj/wgHnAXk/3QK6xCi9RsEH/35BJgAKgPs96P4cwRrBTUBq/5nAbcFyA6x8T8BUP48ECEUb/IZBTz+WAJ2BGf84P5lAb7/uPaXAfr6lPV997kEY/IyC1L5JP7uC5n8RwGR9RL/Df/RAYP6FgrB+C7/WQE0BHDw2PcWC478TvWD+iH3awdiBK4H6AIFAQsAifaU+ooGnvpmA6L8NP2EBOAFVgiHCTP1T/8O+hMFNfsXA2gSNQWlBPb7oPzS/+gKN/ih9dIESPVpDM8GA/3K91L7SQBS/Vv+KQelAN38L/jc/+LuFAA++kkBGAMWC3IElP+4ABX7mAZM/AEDlwgfCjz1l/rKAwv/WfemBMMGvAOr8J0Byg1M/4MFZANJCIgK8gtbAEMDu/X7AWwBhwEoB8P+uO3a/RsFyQCS8asBeAQFC+kEDPtiD9ECYwBj/Vz+n/xmBhH+jP+vETz2f/6O+Xz6VQQFEvT3GQQtAo4DOgle+Sv7HP8g+UH9dPozBSD9cfyt+ikC/vSyCxIMBwULAgn1iQE4ALYBn/iHBnIGNP3W+jEYyfim8K38+QAU9psAyw4TCU8Lhf3UBvz3+gbkByUD3vaUAjv9xADXAN/6rgwdBXAKrgSUBTcK6gq7Br8EefcHA0sCRPsW8JQFQwGn+9b7PfMH8g77LfpsBrsG8QLiAJX9nvxsCI78YPwbB2QEEgoyAqv5Qgaj/vb8rgmU+X8HCv/zBxEEj/9cBQoC3vYzB+4H2AKK/Ir1d/vCAVMHgPtu/MP6TfcTA4L2ePWi9gUFCAXgBMQIcgZW+aIFHgMD9rv2MfzJAMgK4fziC4YCPf/I8FMI6vfn+9MABglhBI8F4/QfAczw4gMDBisAKv73/wj/UfuO/OwHk/lN/hQECAheBuIAXQMVBOz77gEmBtDx3vnBAy7zzfsWBREI/gnG8A4CxAEjAocPxP9FABcKYO9gDksB6vztB/T9/QBdCeAF1PaqAcANOPpz94cGWASBAvID+fr/DIL7xvUT+ZMGr/759sP4KgYKCVEAjwDZ+WT88fTo++4EO/opBEgQgAfo/373GPObAaP2vgD1A0QHAgp2A4MAS/WVA+wBqgLJ/BP+dQoJAOoHfAJu/tAA6QShALz7Ev+gB1oF9fUU/YXvAPb9AYH/mfgPAGn00f3R/gX9iAONBKT6RvtZ/xkGrwJiAQ0HpwDBB/QFlwX6CFkDSAET+5oALvlxB8oAewVzBdL5hP8U/ywRUAFq9lcGLgPKBMwAsAXYCNr4Vf+1BtIDvALk9T8HXfz5/a4Affly83r9RQ7wCg731QER+2P8Hfx+/78EHA1k/kABLwGnCvL7ExEG+CEFav9u/FYLwQW2ARoB9AP6/poLswEn9hfvufLP/bv6DAAB+aj4q/1L/7D8ywQ0AKsLvPnnCL4Gw/jd9b76yweb8w8A0ANp+1n+Z/Ak+F/3uv0c+Ov8df7UA1z6T//K+xUOYAcG9koBlfo2+HP+9hAsAfYOVARN8f8NR/9NAUn/4fwqBqQGCfu3+Cb+FP1W+aL6FP0Z+dsEQfha9lL+kvhmAoMBIPa9Bp7/9gCJBPYDlP44A60IAwFGBMoBCv7GDKMChwBYACv3YQbiBBj5pwUg/BkIgPKU/rIDe/YlAx3/NvfjAfj7wgN8/QkESQIiDSz33AB/BnX6qQEk/YYG1P0aAv3/Q/vd/RYAPPnG/JQMr/0R/Ef+kQAhAXsFJv7EAt8HJAG4BhL9uwfdAD8Bbf36CKgANAD2/F8F8/ns9Vf7BPs8BD/4igm+By77+wxs+jn47QZXB2YHbPj8+1X1Nwa/9a8BbvWFAyIDDPyIAor/hfpR9u8B9/pSCS36dgbDAMQE0PxdBPgAHAeB/rgIBREr+gMDK/5bBEsIywCWCWD50v9W/mAA5AjA9R754wbK+N8Ayv3+8Yj6EAUsAC0Cs//29878OALbCH33VgPh+ov7cPoGDoICBgOLCxj/dPgZADX2gAzs+/8OBAY0DTj99wDT/DD+pgBc/h4EtAyQAzwSv/r1/eTw7Ql2/9T9lvuoAe0BiPvx/8f68fYNAa0FcQFdB6oF+Pz9+9L+q/x4CjD6mAhd/dIBZf5NBIf+OPmd/fz8VvejABQKigLLBYr/AgRmBk0BZABfAmL+VP+jA1r7xPso/SQEGQVXCaf+1vzU+rbzbfZ0CAP7fQmH+oT+AwFxAqD93ftM/0UBkQBz/p8HC/xaBDP7MPchALb9gPzI/rn4F/Rh/jMEEP20AYP5ovS0+0cCfgnU/6QIJQNXAEr+1QL89z/67P5tAYr+WftNCM8BGgbpBdgFQATCAVYAlgAQ/BAIB/938hT7ov4s9Ab/NAlm+g4DFQLPAyYJ2AoRATT8wPXj/ZMLoQO7BHAEM/dVAmH6HAG3BOr13/+3+fQDyAAt+/b/yAQ1BtP/tvz7++YBuf5HB6T6UQrJ9qcEogBdBYwIKwGU+i0FjflI/7D/MgBpAFv94vwN+8UALAyU/10AXfk39usCDQRbAUP8Wv7cBBEDkflV/hAE9/rx9176gPvr8X744wK3ASj4P/lt/er6E/UE/yQEOPwR9+z5iADg+7ABg/HnC+3/5Qx9A2YAawLTC+IEwPsp/toIZgar+i7/0AlQDJD1yvjrCTD9IgGDBA4EawEAAtb8k+bg/G0Aofhl9+IJkv8x/Ff8NwB0/Rv7NwK2+fz8Xft4Apf9LgpD+/L9pPNU/nz9AAfdAaYBKfeXAPsAUgHlC7wIpP2++Cn6UgVB///5dQIlFnH+AfTGAsb/9ft29638qgDhB435rQDNAxH+ngqI+mwB3wiRArn9dPagAlYAnAmXDIf7sAGjAPQBDwCMCiAGgvgH99sLU/cv/5AE2Qr0AzoJP/iX+UsBhQqw+zL0HgqU9h3xyQO7/V8KtvXsA7MOef/y/b77wfvXCAYIiwXO/hH5EQF6/XL4VgfP9zL8QfvW/yD58PwS/XX9xAHw+TcDOwOXBY3+2Q2QANf8vv7M9bsBogczAw8BjwlG/UwEnvgFBvUD8flsBpb8SQLX+IL33vr5+c4CXvr6Clf/vQbk+JXy0/mEBfz4IfMY+tn29Q5ABnv6GQXo/+//sf3wB/EDswFHB4oFivh4+Lryo/ev+jAAVgRC+6cGgvoNADYGyQJjCFv/kP3/+5YDOhB/ArX/uPv0/NEBxwov+TkLKfzmAS4CLf8x/gP5NQOI/jH+gAB4DKoMzAWN+CD/6QXIAwj6dAcS/D/1FP9HAuwPpPhuCIMD+PYx+yIC9vvb+JwGwQfeAyb8bAB6ASX8uwC2BAkDnwRr9GgGTgZ++iv9Z/1lCCYA/gOIBYD9vP/FATQGHwXvAAEIhgKa9IL6cf+wBmABJgZvCE75hPkj97YAhwMqEt339gaDBykJrAgdBAMIvQVUBCAKZQQW+kAAffwxAyEDYgbr/BoDoe99BRwDMvtY+E0KRgt0AV4BIQMW/d76c/47+4n4tQKY/HcAigG7/bQB9AA4+Yv6RAAs9p34CfnGADf9YQTh/pQBLPkR+8v5z/fp9jcCiv05AScFSwMM+q/3aPy/AzwE8vkz9Wj8/vaI+k4HUfYoAq7+Gf8qB1T+Dgj2/s0B2wE2+8f9Tf2PCnr8WAyo+iX+fQTDA0D+KwCx+3Dxb/tt8jcFBvkJCVYAdPkV+7v9mwfm+ej95/deBtYFSwTq+R/4LP2J9EEGGAN3AfX9vge4ELz+AgZAA0v0KwX29WIDgvbpEA8AiQCS+8n7iPWkBqr2t/xmA0v69v4HAxQACgCp9RgIbvV2/dcGbv28+RIFQv1P/MYGpQrtBCPulvmzA9D5Dfi7AfwD5gVG/b8AzwJA+476HgG3ASL/av+QBef+YgY+/4T9ZPM+/y38+wN08pgAnwHV/vcChvuUA0742AauBZ77CQHa+NX9Kgrl+TIFe/kn/iTz0fOV9hn4+fAO+sD+dP42CksEEfzH/vD+SgPx98P5lQ7MCaL5RQDMB/kFlfzmAX73QAUzA4kG6vZt+97+9ffBAdv/P/+SAkECUvWN9dD78fzh9UoGCPpN/GkBvP0RChcGivgH/WX6HvqS/hME/gdcAKn9Dgd/BVP7yvv3BCgEtQMpCUwLuwQWAWADCPlm+cwEWwe2+4oAdP6/AmD7RwGGBiwDffkWC2/3mfxdBD3+a/qdBMP3FgGIAj/8Qv8AAQ73vftiCgMDtwG7+lnzcP9jAzfx6gbSAGcEYe3g9HUBLv7d/tcK9vzD/RwOmv94AVsNaAEiBi0DaQGxACIEgglaAjAJOwg2BzUHnP19+1f72wPFBJr6hP5DAkX+AAKsBrT66vzh8QUDHPbo//0Ivv/+Arn81AntBFsL6wno+5f6bAE3BkAJTf6h+1b+tgHI/Ej9mAWuA/oGivyBE6YDMQDq+tP58/yQBDUCvACrA5T9Q/ZoBQb+mf2fBAgAA/b1Am3/cPkOAzcGevQUB4EAcvp1Ap4ClPU6ASIC1fvc/qb5zQax+ev/6gkMAikAxAYUBRb5RPOqBEj+6wWCDiAA8/3t+d7+BfYF+pT+XQPx9CMD0fdb9UICPvtfBqX6Ev4/9W3+IQn5/30CKf+EBc/9j/I4BwUI/wlO/xL+jwj2/9T7ivloBuf3X/xJ+xEMifn1DMUDjAHKCSj/G/wu/YwFqvhv/wYN3wEfCML+w/2R7boBFQBy/WYCrAojArT7QvVOAHX4EP3uAyQH/fle/0T9RvQKC1ADzvd2+jj77/qI+Tb8mhHq/nsF1Pv6/b0EYP5E/wL1/gB4A3IERvvBCT/51wSvB0D/wwA69mIBOwUK/kkDkfse+jb2QfZ2/d/+wfv5CT/1swNS/975nvnR7kwM3v3xAaMR7gsi+BkIGvWMA6UBj/9vAUoJcvu18BAFUv6MB/AFTAEmBNz2J/q4+xwDIPyQ+t/3CvPOAHj60gaT+OP8Bviz+DD8J/cTBs4Kl/xi8QkFp/Z/Bcn/MwvxDDYEu/v5+OcSGgFh/HoMkAKL9bb3SQt+73EEXQ3kAksJtQ+0Bgr8qQPp9C/+7PPxCLkDpAN+/HAEiApn/ej5yweN/lEATfhn/UYNTvPY+FnxjQB96sr/EQIG9gUIhv0A9NgB/wuoAKP1F/X19ZYJ1APJ+5kMVAQb9IIDxQRBAWbwEQCE+kwBcf8LAaUDdwQ09RsK6Pcg/zQEdgAmCr0DAvco9LX9+fZd9Oj/OfxN/5j+tfdEBtX5qQ5i/t/6ogV2/IINSwBIDoT9zPwWCNr1nggX+Dz6gP74Cv0CM/rzB5kAAvlQ/q0CEPvwDLgMpAC39vQIFAACAUj7iP1q87ER7P0694wEwAJV92cAjvsd9vsEIfFYAV75TgeeDGH9x/QTDLT5/QP1/4H8AwfG9s4Bcf7A91YCWgLC8YAC6/xRCvAAY/1CB6f9rP4A/aMKj/jE9Y0K+AD49wAG7AIjBF4GXQFj9BX+G/9+8skBX/O9A4EFffj7BZEKB/9rBwj+N/zA818GbQDr+wILAPPd/4QH1vvlBAMNuQT097wHSwFQB1f3QQBEBdX4+AOq+uX3yAxLANj4c/sAAH0B2BNEBTYKgAVpAqn6UfjaBln8tP4PAPEGLPz+/bX+3QnB8sj/VAKL+gkCOwbg/VP4Sv+v+jQFIAUy7gX8dgIx/jMJefs5+7n6q/gL8lUGBvu3+w/9QAAd9ZP7HPgIBRAJiP62/7/s5gWb/8cBo/n7/loOM/qHBWsFgQxrCnP/Avb598D6s/r+/Ef2xPu3Ae3/WQIZ98z+cvq6/hIMLP0zBl378/woDLwEbvrmAK39FAM08Nb/Fvb+C9b/TwmvCzUEF/+y8xP/pQDb8zUN+/dU/PIDxw8M/ZUJiPZ3/c0Sf+/cCPwA5v6VDPf5dQYg9koD9PeKAQgDP/9I/rkIQf+EAUkGP/7yBaj7qgUq+dMBVf0eBe4JUQOAAuL6twbyCn0EWf4h/HX7twYb+ej6GgBn+7UC0vy5AcD54AMf9c0GGgKt+vr5zwUH+//+zfZSBzsCCQI+/KsDZALv+YP7/P7r+2f+HgaR+iH+kv5E+MYFqvuQ/WcDtvtUBEH0IwkgARsFTgPK/1MA7/mPA6ADngoz++cHEfiFBR0BmQgvB3AIJvqW+Yn9x/fn/EP72/5aAT0Gvut1/QQG9PiY+e/61ABL9g8ABfDVC9P9kvNwAdoB3QXF/yP0/fun+KUG9//aBJEIfgI1+e4Ac/gU9uH3aQVx+iv84/j59iwDZwVl/PnvGgEf8cgBzQj6BgH58QIA/FX3lPnB+3IIoQRG+uMDrwR7BVr3vQY6Cff6QP1s9l3zjfx+/VoCmfyXBbUExv+ABp4DKQWX9tD+EACcAgv7zf+J/6IKXftP+b77ZgSfAnQJlvsiAYP7z/yK7v3+2wLa9fb4HPYm+Gf/JAExAY4IswKu+wT+R/00+qwKQgQQ/b4DT/riCBb9Wv7z+mf04/K2B1UBZPfW+qL+6PE7BuUInAJO/nQLlfzu/m79/fmXAb742/La/BH7uuc+87X2lgJc/AL+7+vN9TjzWwPB9Rv1Gwb4AWcG9v0NADMAWRFlCm0FoAPV+kj1HwbY/zACUPuRAFwEhPhtA6b2NPyrA3n/VwuW+hIBPAG6++T5uQg/A94DggrWA+z6DAd5Bej5s/zY9uICOQYR+w75LwopAbH96wW8+dwBk/sr/e4C3wDt/Rf9AgS+AiP+YPt+DVn8uQ2VBKUEXgWZA3D0JQDX9oP68vPIAcr4rflZDbz+e/NB/1v8ngmgCwv4rg5IAlD0ivubCXwA8wSP9cj9GgDVBh8H0hBL/XkB7gCDA6v3fArPBHUHJgWrAxX9evBn9e37Y/ph/WQDsQ5gBdb5lANzCyj+MvVGATkFQfsKBpsHiQB4/tMBsQbICJb2X//UBx8BYvqW9cQDjPV1CV8DNvmI/AQNTvRB8+Tz6v/iAAkJhPnL9RP8gANTCRLy4/WO+r0KcQS5/un3kf1uAMEEbvuUAIQJpvy9/3T3qv4GCpb7OQES+nsA7ACHCM8C/Pyv/6X/+PEz/JvtvwCsBdL7egPe9qoMigehA+oExPjbAHIHNALC+FHylwvQ+3r9LgEhDWADv/07/UgB+wTpApUA4w29/VAIBfuYCtb8efihAOr6SvdE+xz6MP7D/VwFzgViFBz/tfoaBNsAfQmjCXH5If+k+s/zjPbf/3sCtf6/93n7twBt+wUHTwDc+VEKD/kbBAYE3AWrBDP5efjj+jb6fP6CCB8GewBS+j8ARgFf+DcCU/1yBs0OVgYN+10Ff/4/AZ8GLAO4+TwDIQp8A80C8fVUCZcKLQUPBSr6S/3l+qjwef6z/x0DRQK5+xz3tgBk/r0CHASGCSUA2P8iDS4ABfRyCaIGL/xQDI4Cmv/TBYYDdQHl/yEMrwgqAovyAQOWBe4EbQGNAGcCfviN/A8IvviQ/sEAWAkQCAn57gBeAJn67vy4/3DrOAAqBb/yrAZFASr1PQjbAGkIMBVu/GUCmfjK9fn8jfC+A3gHX/7CApj+ZQbdCx0C4gP/+aoCz/Gy/hMCOQG79H/zrvmU+VcHXBEhApQLSOob8or+dgzd714RwvrUCJf0rP2T+owHyvTn9gr7UvYjDbvvpgQJAXgHHBde/pcC+gMEBxAByALK/tIAhPUX/978VwOr/7/6JPX2AKv6xAoo+3f4SfmfAHb8TAmwBacBBBOj/l0H6wUb/RX+sfBW/5oADPUFA/34dvwoBpQByQC3/dT8Dgg9BLX7ZgGbAsAPEwBAB9sB9/izAL/3LAuH/5oE2fnbASL55/OdASgBhf3N/PH0NP1RAJgBoAGmAfn7ngOp+CMEFQqY+10MP/wI++QATgCGCBT8YwAx9YYAIgyQ/n4Ga/9888P+EPy69lD9P/qA/0jwLAkD9w35hf/s/5D5If7A/dT8W/9S+hb8mQYGCGEBP/r/BKUEnwq0/n74HPqx93wAOQEX7cX/L/zFApUBlwm+/HIGoQcV9K74yPOg/ssBUvrPAOr5pgJLFQEDjfNx/vb82RFT+xH+5/80B8//SwGXCjb7wgA8/kj/tADx/Iv0fggFCm0Gav3o+A0BZfzK9EkDm/1ZBwf6MwGh//QIlwxmBNYQagbQ+pb7TAbz/y//vAMHAUYLUQHLDOP6iv3MAwcB9AhsAO3/vAkT++AEZAaE+Uz0aAi7BIoBzP//8EIFMO+U/OwA0QOg+jsPCAMyB3/9rgDH913+AwPd+Zv3Wwcw/BcDUwHjEHP3Wgj7/9QAhAVdAFgFLfAh+9sIhvNLCggKu/4M/lUGZPLgA0b6vQUxAeP3HACYBDn6SAas/68ARwaY+mP98/tZB4T7pw/vBHsNtfwMBtL2Gf7fAyIBOQBI9sL6nxASA/cBsAhbBo769fXw/jj5YwaJ+Bj9NQkEA1IEi/2j+5AGgAOp9ML9nAST+Kv9owTVBwL/OP2kDLYCC/mbA1L8bP1o/KQCrgDwBJgCgvQZ+zr8YwFAA3L7+wP3ACX7ov3E8nj5HQe3A0n3eQlpC97/rPYcB5YGifdy++L8iPh//4QI6wR+/SIA5fyx+7X3PPmA96L7rv2bB1D9pwJOAaP6zfurBEn+PAUmCw7usgHgAccIsQCKBeHy0QeQ/WcCCP3jAOMApQBFEIP7JfvVBVr7NAQpCE/2XP838esAIQd8/sQEcvhA/JcDI/7b+GQJHgu1//YD1Agc+xz2z//4/+H3Mv7t/En0GAN58pL2fAAFE135jvah/qABDwQ8/pb83gae9k/6tPc9/yoJ9PzaDUn4J/Z/B/sEmf7QBLT+fPR6AOgKyAac9t4DNf1NBMX2W/mcCfb1bAY/Cpz5LgbQ/nv6vf7p8RL71/yY/NsJIQBA+/kBq/xtAOv/DQGOA5D+N/5i+AUARwOW/2784v1AAs0O1v05AGD1tAF0+XL7rvrAAloIzPf7+jX7+gXd/Br0lPJU+5wGOv+t+RD+owFPCA4C5wcfBEsAuv2X9hMDbAEdEMj7lAjN+3X6owHKA7H9g/UJCQABrwE096MCbAaX/4gFwBQV+rsKRP/oBvkBCQBoAEX50wZ7Afnv3gjY+y4A8wGv/Q0H4va1CdIDUQCf+RMLwAAB/rr4kQsPCj/7qv4MC9MKPfgCA7bydfuO/3UMyPsSAnj/ePv8EJb9bPYpBqv3bvv+/2QF8wQR+Ef1ZvJQA4X4JQw0BLv3aguzBMT9lvse/qwFoAIi9tcJreV1Bu30nuy8EU8GcgHi/M/9f/9zBS8GVvz5AkMIegYDAqryF/z+BX38DPobBmkD3Qaq/pMFEQGKBuAFRgHD+iH66f+b/YEK7vgA9mgCAQF2/FD/3/rg+dj9mQQU+DINbAfm+2T7QQg4+z7/0Psb/Mn/cPnmASIJKgG3+5sGp/8uAigK3AXB78b8BfZnBPz/dwfEB43+3AEvDK8CywIt+OcIhQfF/EsItQCr+vb+BQjm/n7w4e0e97P2TAFVAzcO3AP/6Uz7xPOK/sf6a/zn/1QBnQC/+wwHZv0cCC4E8P8KDLkFdvvw+6j6Tg2i8tIID/mF+tAKKQac+FsAXf5wBDr8pPh9AoH1NgnyBvr8XQ2SACz40gKQASYAJ/J0+UP/mgOQ/Ej0dQZO/8UE7PxOBmP6XQIb/xIK7vbmBtAGZA9M/cf0dASNBmDzQwTm/Pv/J/olCPjyqvsA90oAEwf5AOj5FgWW/mnzGgQjAWH/v+jY9P3+JASnD6IAJv2ZA9X4vPkEC9MExQFa+h/6ggbv/pQCEfQvCJAKlP9ADM4BJApZ+0YG4Ppx+D0CjAWo+Bv5xQQE/Dr35v26Ap/5DQaW9uwDGftyCO7zUQ0q/+v26woI/sf9WAGTBjX7hAAh+Zr65/3o/LQAqQUm+x0DqwGNAGj3GQbFC0AJdfWi88ABmwI+BFX+XwlLAQv48vl0DMv9jgcM/XD5VAmUDHIDZwBS+7n9hgAE//T59fpaBcr2HAq8BsD2iwd1AnH9E//8Bsf5ogK3CMEC/AO4/NEBoAjP/BPyZvOF/TYCRvvA/QT4tfeu8BD6F/eXAcT7YfdfAMv/MACn96T9JwhPBU4Btf+N/tkBCPM7/7L7yPyAELv9pfkJCbkGugjN/U4AGPtXByP7MQbmAx37GhAnAIf5aAefAEz82wYQ/mIIBvrl99QDkwtL/OEBGv+++yX9LQKgBHb1l/3F+wv9HQRaDPX3BfiOBbwKfxJFBywCVAnp9kr/tPUMC34E1wS++SQBGfSoBVv7hwD3AaoDgABCBDH7vfI+AiUIkPzWCfgJ/gPnCFMLDvh8+uUHZP3k7+AERgc4DeQFxgMMBOL8KPOW+iAEAP9L/cwBiQ9c9S0CRwm7BFb/BgZ2Bkv8xfuE+5oAn/7LBGUA8fIm+JX/oQDP/Hb2IPtN/wINmAEw+4f67QoF/T/6HPmNBVgGTQX8Bhb/WQzA/VL0sASQAj0CZvqFA6AAQwLEBeT+AAXMAdgDmQE7Bqn7BPwK+cj/cP3e/drzvwMnAxAKu/vwAU4G5f5J9CICd/60/dwB0PdS++YBZAjoAx0IzPhrClz3n/koATz51gaJBTX9v/w4+0/65PMNBpj/ee/VAQoF7QHV/O0CpwF+/XX3TQWh/4z4vQRaAYb+IP3dArkC+vWP9Oj80ALE/REGb/vG83P8QPRO/LkAEfuU/2f7kfgO/qn+kQKl98gAigG8/KkGBgHy/u/8Zf5y9VUIMv6D/wkAbQnjAmr8Yvlh91z+bQMwANwNm/cWACT6JwEy+hX77PEi/lsI8v+R/mn6JfzfDDIFGfx5An4H1gT8AY8DKPZFAnUA/Pw28PQHEf8BC1T56fR+/SX+gQIl84EBefrVAGz7NPvo+1b38vPIB/L+LgI8AtYOrf6n/IL39wOXD08HMQjaBP0A/viP+eYIIwi//Ir5lAodBkn66PyK/qz+CPv9BvsCvgiQAmT7NwNjC6f6cvmI/X8JkQHG9kQCtQMY8+D8qAMJBkH6kvZe/T7/NAEqCuoDwAbL9R7/FQdfA9vyrvZVBBYP+PzY/L0Ar/duBmYCWgvw+2YD4gef/qv+zgsaACH4i/+n+zvvfgdx+jEIjv+WAKYCjv3k9xD+JPfE58H+ZPkDAl36dvMrDLD+FwGR/1AE4/s5AcgAsAbJCOoDnQB5C+362QFnClYMSPoTAPIDYAB8Atj/LwU29lH+5//lDagHGgQJAPj+jvxeBGwGdA5hBcMEpveB+0n7TAYU9gwHZwwcASb5w/v8/v/+rPnmAI7+7gQ8APQFmv4g9DwEO/diASb/8gO5Bo/9hwLc/xMEcvg9Ch75l/+v+b4HZAyKA1wDgwicAwcIhQZm+44S2ge2B2r5nfhLDUgCAvo18rwLPgAiDYMD6v+jAAEC+AIo+0b2MP3rDP4LdvyAALn7dwapBxgB0f8yE8n+NwM0+rsB+AuZ+0cAFwZjAer2+QVr9iwLs/7ZAZ/3mvq5/jgLxgML/WT55vjVAicEMgexAz/5Xwh3BmMFuwm++d4Gnfm78jT2ef/+/REL1ATP/1T2ngQlAsACIAKtAXwHMv2EBN30SP8d+VwNGwJZAWgILP/t87f3tgMe+A/+swIR96/+LvixDR34qQwoBSUOUfmh+B/3K/zA/bn1cv7zBogABBOZ6BD9WvwRBPYG6PtRAPzubvfi/O4F6/kWBIMBF/5s+QL53v5fBoD9gQMFAwkF3QUQ+mT/p/1f+4z7YPxMB2X3DvsqAVL5TQgr+VwCUPuiCUvvOwnmBXYLIQIJBD7/DAWyB6756AFWAx/8fQHWBBULxgbS9ecEvgJl/3j+Vv7UAzv8ggDFBsr+GQNS+3Xxi/6t/XAHDQA295r4Hf8jCgYAhANQ/CD6nwDz/Ub8WQBmCzUFFvv5+GUHR/uR/Uz80/aUA6b1pPS4+Jr/DvwS/qL9CgMd98cC3QH3ArL2ZQFe/ZQGR/tlBNP+NPzm+tMANgPn/XgDEgv47+H9YgM6AzL+V/hKABH6rQiX+nj/6QAYBooE3Pwv+wj7k/7YCAf4DPQ3CRoFqwe3BcjrEwD6/hf5jvhB+JAEfQZa+6z42v8c+9oFUwNNA0r8Nw+r9TEFrAXXDG3wHf1TDoQAzPMkAS78t/acASEID/hW93P/Avol/PkDL/tO/hz1XQF6/PD/HgLZAdH+Nf9L+uwBKQDB+a0HSP6W/8sF9QqGANX/qPdWBAj7vv17AyYGZPhlAvX5vfhJAiwABvlD+gD54P+JAgwFCg6vCPAEe/4OAhn4wfj7/BgAFA3s+6r79PvaETn6NwPd+ZL3g/XT/XEC4wiLAif25QAn9Tz5/P4XAnL/Ovsi+d0C+AAF/xz6QwiP+BEIwQ7a/gMIeQLY9nH+PfnKA7D7OwSd+rAFBwQ1+tj/7QtR9p37qwGe9hEDIQOFByH5oPsKALoI4e7A/mT71QAVCcwGP/42/8vznvXZAwwGUwg9Btb/Mv+Y983/N//5Cef9Vwa3/gMFM/3s9MACTfjT/RsCvAAmAwT9TwCE/awB8w81/RAHyv5Z/Qv80geX+Lv6R/19DPkIJQbs/6j2ewsi9ncIn/3S9IAJef/7CdYBCABuARoC/PZq8kH4Fv7c/AECHurk+1ACjATc+YUBvQa3+8v+XAjv+dH3Uf3d9TMC4Qjm/gsEtfwP87kG8f2HBSr92/t4/vICyPYqBL357PoA+H4O0gRP+xQFpwL6BZb8lwL9Dx7/OAeB/gUIrgYo81fzNgbF8Tb3HAEK/g0H/wVMD3j0TwfB9375hAhO/u0A6f2+/a4Ikwen/5IBUgNO/T0FkPu993H4CAH783vyXAERCvP/WvxH9iz9dAn593v/Ef/z87cD1gNj/TD/+QCD+iv36fnq9xT8tQBUAxz7OgZ2A9H7uADn/jYKnQTK9jUABgkX/8v72gFWAqn92/1s/t31hf6F+1rzZwWSBy79GPlEA6X3+QoE+gn8EguaC6L7RvcOBeQEXQSvBpIDFv7FBC4IIffYDPQBlPr++FIBq/h7+SIElP7Z9aL9qwNcASwILgePAo7ymAGOBcn7w/VL/koH2wC392//XQEFBboL/f+h7xf/0f7v+z7+K/tqAKYIsv9C+pb4vgH4/xX9QvUfCOH/bgLa9Bn4cfpuB5jx8f45+1wA1QmKChoD0QU2Bhz9Kf6QBDv7mQUsBVz2TwUyA8sFyPmo/2wFNAk/AIP2X/5bBpX/bAR79+INb/6VDG4LSAMQ/2cH8QAwAoAPi/Vm/xAJpQx//AkD/frK97AESfT7BwL74/c89O8Cev///IsBGgam99L9KvwD+tD4cQb1+kf/+/ae/fr82f0aAwz7+/5R+GT/pQcDATYD/wFfAykFjBS0B6/23/61/+LumAGX+6MCHgFA+6gFlwfc+Zf/fQQc+N77Ue+2848LZ+8w/KoFtvUCAsD+JQaBAPoFpAeb+xsOkwguA18FivhvBAYBV/FI++cA8gNcBbP7i/nmBjUGOAUeFBH/KQAH/MsHq/f2BKgFvADb8swDnfbRBf38/RHUBFwNZwBKBHADVPuRCfcCKPkHBfYBFAeRBbsAEA/Y/n31lAM6/SULNQZv/a/+RgIHAlMMNfi4EuQEugKi/VsMwQjt9ccH9QC1A2ICwwP+BPUEZ/0I98D8Nfpy9S3/CgKw+qAK8vGRCYf7+/N58zj9KvYm+DsDHQOjAfkEjPMGAHMAmPxAAuQFzv6k/SEKOAnHCLMDk/6/A9QHO/8xCR79YwP//UkBbwiQ8VcE7fRbCHH4Zg639REARf8hCN0DZf/+CccHMPqj8Kf+0wJg97IGDQmEBMH+/vNr8QgQIf3n/Q73w++c/dX+YQYQBQUD7/p89Fz5a/we+UH5DwB88/r5nQOw9+j4gAuKAqj9kwZH/qQE1/09+2D86/8b+3MH6/F9AIP7Pv/Q/m4DaP9yAoABxgl9+4UB1/4v+Qz9YAdY9/0B3QFh99D6UgjQ+XID4AJXBfT15ANy94sG6wFyBU4Glv0RDKT5xvSO/jH+TwOfAsP94vqm/AECLwKaCs75gftT9RTwnRSj9/r2EP5H++MLLPtG+ID/chQC+scKqvzZApwFY/uVAdIA9P2X+Wb34Q/L+1b6hALw+IP8nvpfBWf/Nuyu83wI+QrGBiX7IQKJDKsBCwg//Dr9Bf01+W/yBvXW/zL5XgRt+rcD4wHA/pnyzvY9/z/4kfwXAVn98Am5/zz6bgehAOoF6vn0+PL/nfse90n7xgHMBRoDIfVoBAIM8v7n/2oASAS1+UwNjgQ0BvoD5AR/8mD58vUP/OgDSe84/vUEE/gF+5oDnQAR9rQKV/9VAFj8awLU+McDjgA4/dL+tvRs86oGBgV2AowEngIr/NEADP2V7gH1lPqh/fn9hPp4AmgGNgG2ApIGEvgrCQH5QQnWDooB0/7b9wEANf9S//36PgKLAin/fvYLDH70EQBgA/f0LuyRCfIFxvnP9uwBoPbiAmD/Ev11BJAFogIk+UIBqQYDCDgKJfgEB/f8EwciAgkC0PtxAccHOvyq9TUKnfyW+QYJ7voP/6gDPA/FAir84/l7CykOpwSHCScBVQqXDWwDSwDQ/vwBqgTDAIv9RQ5IBGYG3ghPAFMFyPnF/Pf4vvrM+ZgK+waKCBT+0gVN/y4FBA9n/0EGvAN1/pn8UwFqCgX3kwJWCtgHQAi9DIUMFf3YAfkF+QCUCPAJmA1y95r72ffb+rcC5ggsBq76n/mkCloATf4J9iwBqwOm/4D2wvuAAzsCo/zNAlr6WgZGAQb9mfer/BQDV/ajCqf3lf96B98FDAHgAwsBKQraA6n8r/moCpj/OAVyCkQGOfgEALoJYgCI/Rr9BwvQ/3j8HAEs+2QKFQUjAy4CYglMBaMI6/48/hj77QOpCOf+Df5ABt8AGvZb+FgLh/1UCVgEY/8K91UCW/6EA073UfuT9OkJZ/+P/A74oAILBF0EIvr3Brb8S/XiAl0N4gOVD8sDSf4S8RcD9v7QDmn3e/8IBp/8XQmH+Qr5QQwtDAECwvfb/soJ7g7IAI388P7Z+E0OAgVKDGAD4fYNEvj6P/go9WUAJf3yAVP8vg2mBEwFwgD1BLMBcwG+AMcIgPhu/zEDRfel/m7z3f3s/u375w3SBWP7m/vd/QP9kO5YAF/69QfR/e0B1Ac6Cmb/QPsy92MC9gIY/jUIvwBk//f+HAbgAzsMo/6i9lYB5vVtARgDS/MUB/j9yAk193z76gaAAUQHJfz7Bl4CqQn7BAAEfwGvBxP9FAPvB/8FxPpcA3jyWgS2B78DJQJz/y/1Rffc+Hf4ZgLN/TUCkAW6BugLBAEnALLxdwAJBDH5CgWdAtj7uv/n9bX/gv2l+Ur/sQY7BSkEGwpe//r9OwaUC1YGOglQ+iT/hwe7/DzzoQfCDkn6lAduBGz/FQf++gf/FQV1APYDvwewArYEDwPgA+zzUvKaCtsG+gRrAwb8XPtQBlfwh/uODdf/j/me+rH4RfmS/iMCcvB3+XcDWQ5RAQQJvRAb/1UEmADdAcgIGvy4/msGxvQlB136y/q09iwAJADJAcoDnQQf/YH73P0HCvoQ9gYB/qP7DgKN8tP+DAgO/xsEUwPE+VT+Wvqe9ycLAffDAz//8QP7+AL2ywPoAC0KUQaRCHUOQwUMA8P9ig24+8YDzvZXBZH6NQNi+CMCrRAZ/Yj+rvE2A38A7AVh/hEJAgJ2/2cIFQvh/IAFowCU8BoEYwxN+M0CUwYKDykDpvjKAaAETAN+BDMCtvwo/qfuqgO0/r//JQKlA54EVgld+SsJPf5gBcD8lvyMB3EGEAdaB1AEGfLsBMEBagO+A8X7cgPHAXr6XADeAxP6PgwjDAT8BfUJ8zwM4Qqn9Or4bvYJD9oLGf/xBcgHKwEkBOH5pvenCRT9Gvue/UYB6fNK+Qj8Agf/814BGQdBAlv5yQe89zz9pA/k//sEt/l/9V3/pvisAPT6i/wi/437MALTBn8IhQA992b6ZAtuBRn+cAE6C+8PWAzi+ksCg/GN/lD3Ffqh/wEFMg5J+xX7svQnAdYB5QPDCCcCNwMlAAP5gwWUCsv+Gv8z9WP5tPyW+6b/gvrUCAMEevO79gv6Rf5kBjTxFQlBBbb7kfmr+WsDAQPD7mH21v/7Arj6ZgI1/a4MK/2yBbP6vACd/Rf7qv50A0j/nALEABgEw/IVAMsKaPoWAdAEPwcR9h378AQWAXT2SPwyCyYHUgb3/M4BI/NQ9IkOcQH0+5kBi/7S/8H2lQTbAjMFLAYg/A4K7OvuDlr5bvFBA8gDjPrOB6P/kQ62BbUEVgf1+iwJaQeZBVX2tf6ADmHvFfIjCaP9IvqdB+wE8Q+rBbYArgNY8lwMswJCB6MFZwnpBcL93PZeDUQEHwIwB4gAUAok++/2L/6d+uD9r/yQBLr/Tgh5AU8B7/xR+aj4of12BND3hgIs/ewJggFlB5wFhvla+YoB+P6L+TD8UQMXBYf8eARnDNgFYxAb8t//+QgZ+sQGPwOcB3MHqQBV8l8Ba/17AlAHSAJb/bf6Ev/pFEkAewUr+4kN5gEp/r0ER/zfAeICkQHIA1IBzAaV+bQGUQy3/BXxAgzMBUcA8gYIBEYF7wLzAoUL/AJn+y8GCgOY7JH2FwhZ9LULq/8PCJH7hgGaAIv/6PwBA/z08AjkATP6QAws/mcF7wd39Nn8P/0PATD/dgdV+7MGZPT29qQFlwS/+Sf60/py/sDvSP9G/moN/QcLAkkE4Qz++Nz/Dfz39un+VvVuCEMC1Qmc+8sGY/e1/9X6rfzCAt36uPFzC10LgQg7/Sv7GBBkBbj1Af3C+g8GCQNk/LD+ev7o+jAI5fw/CPz18fsz+wr8CwVs+zT8n/4eAMULevqm/Wn/lAwzApb89wSwAwj/qPtk+ZEEmftl9fP/SvfMBVn2wwOQ/lT4pAF//AT9ZwLV/k0DBQOiB2f2WvZl+ocByPAC8QgFUgHQBZn8HgDF/iwArPop/Vn8YPqWBGEGZAU9+dn2SPgS9PYDgAlCCRj1sfle/20G3Ap6Cd721PoX95IAPw8JBWYIevo4Am75WPQVAtQBkgLSBy76gwWh9+MCowRo+nf3Pv6I+YsBCwFqAQgIWAhs9sH2zgkbA5MAV//KAUQGnv3W+jQExwrJ++n7Sv1xBdAEYAWo+4kK//0eCL76lA+kAbQC+QE1BSQMnfUiAuACIvuE/t0A1QreArAF1vwnCEz8ieyI/ZAEQQCp+lwDSgxQ9yT+hf8I/zkCVwHoAhADUg71BJYHdgQ+B+TyEwZHBH39mvV09m8DigHN/acC1wLe/fL0Mgfr//oBZw7SAF0HFgxE/sf87/nDBH0B8Pxz9A75pv4EBmEGB/Vh/tz/MAm0/6f6KAa4+9oFeQTmA7MAovUsBAj/iAdc/XbztwMQ+4/78P4VBG32RP8jAtsJN/wl+5kQLw1W/RcJKAAj+ef+aghXCaoOuPlLBO/+x/yt/3v7fPqd/xYKyv1qAVADYQR4BJz/ufoPAXH1nf8G9oAClPPd+WwDNPzX+28Ptf8rAcT/PPYfByP98gZ5/z8AEvgr9fQAiv5EBjsFQgjxCNUA9Pqe9JsJxwTL/WcGVQFzA4EBW/xnA7nv9fYI/Cb7tPpBC4wJdvQ9CwX/ggKyAaX6WwRWBRDzkfltBWD41fvDER740QaHA3XyffrGAmr5wPUL/DX7M/wL+hT2IPfb/FAC6gPsC2MMzwdXB5b8TwkyBjQDfPrc/xP9nvUk/rz8bgSY8vX/mQUxAkH5lfyC+9ABmv3U+W73m+vy/r36bv2N+7H/rv2ZBksCuAQdBoEBYgNM/fMBhfXgBBH8yAAm+lkNsfrf+YX1mvySBjQRMAFD9w0ByvHqC2D7LAMF/x4CIPpWBf7/sgCb/8D/tAhlDFIRDAJ6+NMAUfk/CCv6HfspDgUBUAhG/rgGPwbr+4/6aAJBBFcLzf4mABH/SfeOAi7+dfsVCM4KPgTL/a4EM/miCon9HwvaAcX7hPxPByP4KQHoDKQEHfpBAbkBlfnKApb8EQKC9/YAF+vq86v5gvFM+zD6dPdH/pLwwgMq+Kv9aP0qBXL6zPb9B1D27/+6BLj5HwIoCXT6sAbgCHMGkgg5B9/1EwVT+WH6RfrxAub+Of0l/PD3cgGHBSHyoPrxD2D47PkK/4UB7gPHAVX1dAJgA0f4bvpw+EvulAQP/CUJ9//w+4P/d/1GBqv/vvgtA0oJ9geHB5T4XgQX+r8J4v3f+tb/Owmc/hACfQJQ+9IAuQki8OD5Bwca/PIBlvo3/p7yjQAR6hn6V/+JBq8FgPrhC7j8qf62/b/48ABMC4oCWQHE+0P5Uw5A+gn93gdE/VEXXfi6+Ab5XAsh9+z5jP3L9OQKvQXHAqH9sQH0/F4Dyfv29YkASQCL/Y396/Xc/9P/7v3g9zT/ogKIBgsHpAY7B+z3ZPzl+TwG6PBC9/8JVASm+lj79gPU/gP4GgCsCDIA4gOKAj0Fdgb9DK8FnQLuAGQILPy2E/n/Kv/8/8YAAvR4/CT+z/fJAJvzeARcDnH8YArBAGAINQr7+0AMWwIoAGAC/PPN9hEDTPam9kEBhQKvBkUHbvxlArz7IQHkA0UGIv0TA1wCbwBw8iP4NAETBZr5uAqdBhn44AW4Am4GRwBO+tP5kPoyAU/zOfsCBtADz/lI9gn2jAyg/44BkAIr8nUKsADy/00K5e/uBZ79qQc6+h0F4QRSGpgGvwMv/Rv5lfaxAIICFQP+9+4CkgjpB4cDp/9D+S4MeOp+DHv2Kf/0/8n7WP2L9KsCuPiPACz3r/9z/osIq//RBmr1DAcKBRf/xfhNAZr9SgO+8v783P1vDrj+8v8O/yP3eg0AAOMDXwLL9u72vRGeAy0Gdvvl/2UBqwX6BQABUgdT9R0ICAAaBzwD5AMvCRf9SAar+e4AKfKZB5H6g/2XA4EHxv2iAfX2UAn69EsDlPsG/w3+vf38AOv7fglU/U8CWgfjBsT8qAWK+6kGWvgIAGf/2gCGBZj+ZwNrBDQF7wmAAoMD0gI0ASYEGvuoBKL55vob+jMJcQqd+IwHk/62Afb4EAmXAuACt/6g+nUIwP+dAlr8Wf2m/2v54QFPCDHz4gkY9C4CYgDZADYCVP6wA0oG7/4k+joAUQJ/+yH+jvbTBzoIvv+IBCICiP8L+5HrfAflABL0AgK8AA38rAl7A0EIZgBRA2v9bvVk/woIM/cA/tf9LvpZ9bz9ZAI6+uT9XQN8CZL+Nfen+7n8Hwr5ADP2TvtTA1L8j/nG9aP1dPcj/FELQgT8/9oBrQy/Ak39L/jJ/RIG+/ZL/0sJVQNY83wDagA7CEIIOg0/ANr8Ygv9/oX+vv6wB+b9og05+AL+yf+5/GUL9wFZAlIH5AHqAz0HowxsBfgHKApw/4sCff6jCFgIZfia+OP/3QVtDI37Qg0j/mUApAGrAqj3IQGOBc8ARgU9CK/9c/ZG/ZX7MgQ/AGgC3gOSANn+IQVm/NkCpgiB/APxeQBWBAcD7/uRAp/6UQRG+RAJ3gATAr380fI/9lkPBvVuAmv7rvVYDX3/ugTbCFEDS/yW/fAIfvz0/ej6SAdv/r/4aPil8Vb9FP+gBXQJcv4ZAPoA2/9hCST17Pp0Ah/71/5lBCEEMvfm+bj90AL0/ff+igSg+rgDtP3hBZn+MA7E/hMDdQnw+lT9lgJDAyH8EgYJBTgEjgW8DCj6mAUx9vzyBQQgBawHMPofAdwM7fw791kKd/aO+KYIgge/DSsE8QCgBeb8XPMVAUT71wjy9RcKYQd8Bwv/IgS+AOwA5vR7/zv4hwSI7xgAwQPlANf2KgUOCgEKjfpo+zX60v5Q9kj2wAOBAv8CaP0mC+kHdP24/iUExvvW9G7/Muzk/cT/Fw3dBvIPoAhQAiIHuwNpBBv76/vCAOIAiQMGAsEGdAlW9qoDa/Ew/VcAOAL3BJMD4QW/8IsACeyR+Jn4dRCxA8T9sP46/j3+XgLPDt8ICvsaCdL2swJC/mUAZgI8Bub+IQdK+o0CWQJaBQIJEA8dCcz8jwwjCNEAKAOr/hv4IPot/O/xPvrw+w0NVfotAdf8DgM1/HUO+/9/+/j6YP2IBwMBOP6P/9/6APo8Bq8B6fyZCaX9mwAQ/QH7+/8//pr7D+/E/iQF/QI2/dj4GwjbA5sJdABk930AQPpuA3Hv3f42/FL8NfIB+vgF5wE0+4/9jPbS/LsO1ffaBUIGfvxC/EL+SgVK/soQDAX9AvwCQ/6kDF326Ae4/3MFDQ7d/737A/rnByT86/tB/hYG4P9NC3j+dPo2/hwODgsi+B4DlAHn9r4HE/wj/Qf3lQM5AJ73oQ/NAQoDRvzx/QsERf3e85P+TgBpBmrwv/BVAg/6Tfr6+Gj/Cf4v+o0A9v1nBJv8GvsHBi0D1/2zAZYAKfvR9fUBKvgWAFUG7QFgEXz1qgF79X0Dhw3wBrgDmQetDW0EbA5L8kgJsRPCEIgLkQZ3+wr4sPyv/k0DCfzPB0L9Zfwp9LT/rQFFCejyawNxBoj27gKpAEn8svMf+3b7DgwW+RgAPv8a+EL0WvbE/d7wIAHvAWb/Afx3+or2hekmCdMJyRJaB08B9vOr/uD6uPblB9YHVgCR/qb/cAg5B8cDoPyf9KwIuAA8/YkAZfrU/JUAXAD7AUj6XPse8un2G/Q4+af29/xWBNjyM/7V94T/ifwT+jH9tAYX+/H6OwTzA8f9OP9cBH0HffsiBZwH4gFP/VP9hwJe9VMFfwCx+k72DAC68sH6ugn8BUoD1v28AnLyt/wvBukLof17/+YAOwdr/zD7KP6hAv4GLAEgBgoAqQfKDzkCS/mPB8IDuwBx+cYD6vOu9Ub6cgry/tX7dgEw9x/8/AYW/x38hgCUAij69gILCLgDvQDB8MPqG/5l+8L/6gdf/5365PqFBHIF4fkXCan9Nvx3+IEA3P0lCHAErffMBqsSCQzlB+UJ7wWZDiQZVQoqCdQPUwlzFe8Q9wJY/NsIIArPDTsIEgdcDJP6cP+7BWn8Cg1u+vMJhv7RAewBbffp+5L+PAST/En9rgBqAzb8S/gW9W/wDvcc+UYB9AEs79DnwQKiAB356PSW/Zn59/ll+kEGJvzW+RQBIPVE/Y37wQC8+J8BigSq/6kEgACMA5z/6fKFAWT6+AgkAhv6f/yM9PD20/yU+UgAh/eCBTQA+f7O+tD9RQhvAR0REQp4Cw0A5Qf27SsBYfbh9vQF5QUK/YT9cPu+AC/1p/Wn+cj2u/pA8S78K/VN+2H3av2UA0b/rwPR/zIPaAGWAmgRQwmZEdUITABDDzsR/wcAJvQhBR0bHWQVkhi7DyoSgBSBHOkkRRYMEn0WLAYeEfcI5QezFJYIywvA/K/85Abk7JP49vmO8Hjs0fS85bTsN/EO5SDhwvWe4srhX/UM5eHnDufN78f8lvau8onx6Os295H3d/ay/+sGggGLBq0AmvzMAD8DywPiC6gDigHm+9P3cQRzAvwHRADT+IH9t/dd/VT1jvfm+F34furm67nmVPUoA4j1TfD68bzrAugM8D3xDwdgBEHs9vbc62jwnuxd+kn0UAjdAi8BSPxR+4nwO/tNCtf/ZACpBR36BwCG+mr+DPyWBG79ZvfAAyUFkgRNAuQTIgbWA6L8DQfpFkYPYxV0EpgKvRLMBnwTNg6PIJUmRCnoGRMcdic/H04ZCS16KtY75y9iLS8lyDAXKCsiSB75HuQkoijhGAQaVBLZBgL/t//197H5RALe9WrxCvYF7jLsotVm4iDVwdYp4J7npt0B18nXNtkOy2Ti4tBq4yDiFeq17J3nqd404pTmVOA/71j2T/oC/Zz9NvoX8WXpaAUJBEL+UQpJDAUEtfpU55X1vPyX/K7+lus69vbjGfSE5bDfPeQ0+aLnh+NT57ruhvB+66brat1+34PjbfVNAVwLefOA7yLyHvj1/bb+Kv0nEacHJgyLFIAFoxKVBv8Vpg2OCYwXYAsLBz8Tewc/AoIFAAW4DsMMqgWsBSgHgAtMBcECK/h4DZwECQ44EwsPVBL4CtQS6AQ5GropzifVHXskKSJSGw8mYCENLbkuDC5PP5ApXimnKUQr5i61IbUr+x4dIGYRTRHSHtwG+goMCYD7ku92/EX06+lq30XlNfEp2hjdz9/V5NrlNdD62DLYYdCF3HTYUdqm3GHpwOgF4YT12ebO6UvpJvU++gn5p/zk+9MMwQ93BtUETAQkAOsI8f4mC44EQhM1+a34mPyuAjL/x/bk/WXzhe8H8KXpGuiE3EjnlusI4l3hTOa43zDzKOFK3M3kVN+O6j/u7+La7U3qp+p699vtx/ZIAcn5lwvxB975tvziCBoAQwrKC5AB1Qy//AL53v/4BtMQvBIs9rj8ShTJA4sDvxABBdT3sQvgC6kQiwxgFsQI5RcyG6whAR/GHYIfDCj7JiEqZCbBI9E06TEdLVMsXBoRHrIwrStxKHwnqy0yJVIbKRE7Eu0K6waSE0EGCv89Aur3+vNW7B/jvON95c/d+tu22lDXbeGV2wvdXN/60/DRktQk5tnaJN/z21fpP+UW46vs5/LQ+qb7Q/98BvcAXQCgC4MA8gvk/8IFwgd2D5IJrv8wEdgQwg0lAVYE6fRZ/Nbyxfm19QHqI/G87Gb1tPRP7ErmH/aL6h3w6+Vm4Drln9628Nn/xOa19fH31PF3CEn6Dvy5A3IHAQ6Q++oM9RCnD+kQOAgLCh4Rhg3CC9AM9hiHGIkLcwxkFhsVfBpbDrsS+RiqCy4UExpBE/MgFRmyGroTXRFUFYYZtBpXH1ox5SrxLL0bNSpvKVsb5ykdNw8qhyY2LJwrUCGMHc0fQhEsK14mahsgFuEWtg95GNYLnhA9BLX/DvMf+RX8UuxY5trlp99/0zPpItUr3DzeN+VY0tfSJMLRzrLYjui65Crq1dxn3PXeZ+TO8LP2gATc+CL0zv6k91b9BvdG/jcDVP1mASn8JANa+6/93/tK8Vz/tf5H7AD/+PAg77jq4uKC4Rrc093J4/zxftlt7PTtvtmW2jXaHOZE1F7gaM+P3LLeW+cM4ZzwweBv8vb1oO5Z7ArxPuzb9C39owVC/80CIhIXBVEKfQ/6FGoO8BlzE20TwRcPGF0KPA8REjoVsxTZC1sbNSBFJXwiIhiEJjQksRhsJY4oPyE4Kx4qvDbcHk4s4Sp8NAk7Bi3hOEQsuyzdL6IksioMMkYk0iRoHsgfSCPBFykM6AwxCOH7KwjX//X1X/XM5CznL+BN10Dhkd3B58LXN9X64u3eA9hm33/ecd8w2kPX0dcT23/gS+DO73/tyPeb9GbwHvU17OL/KPziAvAHQvqsC9jzdP/F91D+YgDc7sv48fcpCCr1L/X6+dvy0tla8efjivcC6u3weec27MzjQuZ+6iDqqunF5GHmcNZP8MPtZOZU4+nlQ/Fz7JHpu+c+92X09fWKAycHs/1lBtMCAQCh+BX98P3bB4QBygu8FoMbUhTnDwQBBg7EClIERB10Hjgg4R2MEWUYRRnDIAkbSxnpKroqfSWNLCgpai3BLq0tkiu5J7g0pyb2IQ4vsCbrLXg1/iP0NxQzFh8dF3cTTBagCNoPDAijCDQMRgmL8yP1MO4o5FntlOpm7AT03N5Y5HLR6s1p00nYEOHB3wrUYdUU2m7VzdaK34fWe9kg4ZHiGuSW0abjUvFb6CzrB/ry7tHz2+m79RoCKfRhA4n/yP5A6qv5YPI59moB6gGO9qEDl/T57ILj8OYU4kv7BPc2/4z6EuSm7HHpI+En4xXqW+Ce63Du8ONj72jsn+cm75H3GfdD8e/0E/K0+5EFofhW/G0OGv6lCqUEZwbuDaAJ1xAKGjQSNybiHKccgCWEG44d9iCgKV0r/CRGKB0hIC+JKsck0yVCKmMtTi1TKeUeJTeeLaI7Nid4LRUpSTKCJmsUvRtPHHQjiCWEIIMWGAwYCpgIJvocC20BCgJY8HLzSeY95b7hB98O3+jlMdpQ1dzJFc45zmzHeNDuy9PTQdA2zcPI9cSLzJjCT9HR0TbjCt+96sni2uKU41ni7eKT8TPq8fgV+F70x/o1+4Hu/vw69db7UgcLDRXr5wnDAjoOF/+dAzULqAj2AHH9TwsB/nwJFPnvA/7sgfTH+1wK6fm2/5T6vf6E9w32HRH8/j8CSPty9tP8GgO8BCkJgAZiDpML9vxREIQKCRLFFEcUHBKMGIcRxyJ5FKUVFg+QEi8VzRH4Ic8Q1BcxD+sZsRvTCwoe6hi4FnEarQq1JAUeyBz5HMcUTw5IDi8K8yZxDMAZMCIKE1APkh/SDrwSzRJVGNoQBQ4QBxkH6A3yFxv/VwKF+2kBFABc+/EBje9P6mvneu0B8gzewuT72jLcUOUd2I/R8NpF3EbXsNIW1QPTKs880hTdZNBc2QXWUdOU3ZPoyu1z55jlMuIe3dDhC+Pk4S7hkezS9KnmEd4b9QnrmfHH/EgIq/ff6eLwvv8C+dz5iwZDAqsGlf5d+hnthAAVASsBIftT/RX9LAQq/bH9Mf1P9gzz2vxkCtUEDf1tA2H9Xfk8AAL/WQWuB7ICbAG6AD8PwAwiCeoM1g/cBhvxfQw6AHgH4gwRHQ0evg2YGIwRPRP8D78VKROyBg8SvxHDEigQQwi8FGkPPBtUEDAOVxAxEqMb9Q6UFdoT2x1wHdgN7Rq3HOcZ0RdEFXoXMRk8IV4VBRSKE6YIahIOEYcDoQz1BH0QjwDX/MIEe/oo9ZT0jPbs8kv4b/Dl7Ibtie6T4wjldOfb7HzhruHe4pHgt+Kt54noEOcs6Z/tFOZE7kfrbe6G6bnj8+dT7xnwu/RB9sbvMvdEAbD21Oyh7XLydeUx9zflJPIO8c36LerJ9PXv0PHc99vpo++i9wv/JfpG9gYBPQFf80v2tP6b7nz8Ev6m9Fj1Xvxo9zHwrwMPA0oIAP7C/bD8hP99/q7/i/lp+LgMW/1bAxEDq/aZArYMkgg7/ZoGgf4a/Q8GP/9fB7UDeAn1AocQPhUEE6sIBwrQB5EQFQkrC44X3wvEGYcSxw96GkgdLxbaEuoQoSJyEVMpOiZ7G+ImWh6VENYioBC1GFIZJRfcFV0RCRMqD/oJRAk9+ysEhf4f/ML1De9UASz2Xu2v52byi+3J6ELWF+P05M7ent2W7A/izd9Y8BfYSODG4DXe7uRo6Q/ZNuPv3qrmfNcp4R3sUvNc7vbejeYP5PLfQOnU+qP2TfhB9/rztOnzAh31EvMb60YFPvMP8PX56PjI87sKDvvJBb76SwjtCaELCgHBArj8OQakCMAA/QMEC8MLMwsHB6IRjAcLEGv65w47COQNlxL4DgsWbg9QC1wTtgGWB6gIFAvLDssLPwZ+Cf8KHwSAB34Ttgn5DlkD3AmGDLENfw5U/ysM9hUeDAsWxRotEVUOAhCUD6oMlhTbFaUW9BUXGQ4lMAgdKEEXgwr4IOwLGQuxCp4MzBtxHo0UkwmtCqkJ0A4kBScNvgZJDLAL3AGVAdv6o/0N90D2/foc5/X17PFn7F3kkel97Pfnxetg5iLfPeAz7AXcMtoI6Brr79g56I/dsfPk7V3cGd1q5yjlguoU6rzjOu8e7Izr5fvO7gzvJ+4f+232eu7u+EoLzwF2A9j7AvmjBMgEUQWe+N3+BPF3Bhf/OggF838AewTvCYYFpwhnDbQFmwxXBxwJwgSe/eQKNQTNDtsJSfhEERwNcw1/A5MFzAMHDU4KOAFCDwscYwpBAGER7A5AB/YPJwwjFzANrhcF/ygSwRgdDgsaCweVFJINzgrZCn4Jyxj8FwURAh/rHZIM3gdxD4kamBpdE5IX/hQjHD0PviUpHiAEVxYWDF4QpBOyGHwZ4Q6a/1QGk//wDiQHyQe5DL71c/0H/fntgvji9VrnUvE33CHoO+1C6ibrpOC95yDbz9pz5nLfHtbv2nHcFNUF3JzS49ua4gXg4OcT1z/p0t7p5HzpzuYM56bxheX46Vfu/fAY9DL2j+k5/436fwN+9Mn59gUX9g76lgI5/DELGwL+8xT0N/huAlP/TARn/j8IkQqH/rEHcQXJAoAPTQBrE10JDQ4mEP0JYANaDRIO2hdUF0wJ7QbWDVILsRJODIkUYQ6sE1YJWwwADysHMxOlFOEVwQyCCzoRigr8IBAgtRtGEAEaNRGBE0wYDhYsG3IZphc4FlAMqBCIFBoYTw/tE4QgLxw2FqccHBoYEYoedCA7DcEOdBplFpkNiQxREhH/zfpr/Yb+egHt79j+oPxD8u/0Xuva9lDsb+1w6JHw1ukV7lvoBd0E18fjoeVt3HHiSuYB7gXiMNvM2xXn0uh86DffY+z/4LrprO1c60rzRvZf+sjqduxN89Lq1/cX8/L2XfPG+C360P6/6C/04/bG+wL5K/VdAYb3zf+Q+LH/dfaM+or0cAWq+2//HQVgAQsFPQYcEqQBMgcZA4YApghs9+0GwfzN+SAIBvtqDM8JYxErF4gV+guCEHML8BCY/6oIJBNlEEkYyxobCjAP8CWCDAMeVyHtG4IWFCPVEqwQ1yURE5sg4xyKInkY3iC2GCImpSRHH0cPdSYcKMcsbiKZEHcmNB5vHyoXsxyiFmoZNhy2F/cRMwxwCFYGzwo+DAkAAPpz9UH6NvyK7DH1w/RT/oTk5+3v6gbkSd+i58nk59QS25HhW9+X0mba5tyy2dLl9dLmz4nYPt652NDe3NtZ7pfki+fx5WPss+uA7DTsKOk07WTxxezq+ef5/ABR8cj2CPiuAM4IAfpA94gI7gF9CBD5tALP+okK2vdFBD4I0AYcCh8HPf2X/qcFlAMGCZv+egcvBfATdRIfEPkUQBJQFMAexxBTDogJ1xY1Am0MIQuaCXoK0iBuFSYViRqXDuEcdx4sF6wWuiAyGRMk5RaoHioS1Bp3CowfaylcJv0l7B6qHCUeEid0JiYhMh82L6IgFh8KGUQYjx68E2kYjRXQFAoM5xO9C6L/SQrhCIr+u/3DAon2KO6/727y7Oex6YXSr+TW3gzY8dSX1n7ittJT20Li3NgC1h7VXdD92czP287L1b7WodN34ejcE+Jq5AzhFdv654rhnOok7TzyTfYT88zmsPVs+bP7i/Yq+BX9AgnOBIT+LgI8AU4FFfXt/fEBVQfiGG0DfglMCXoKFhF//o8JB/x6DaX9YAoiD2UIHRUhBgcMJQhdEtAPywmDBu0LPAP/AwIOlA3iBBMOcRokE10TZhUyHfUigiB+HMkZNBcCIVIbPi8oF6sqHhyYJEcyMS9JLKU4LDfMIWQyuzWfL0cugzGELjQqizHlNocx0SyFKlobTxICJREUwhjCEggV+iCEEar4ewPu9Bj5UeTh/xby9uXG483K6NJk1trRydQ2zJzEKswHxaS76bhIx/++08mqy63CfrgPvz3IP9Tv1oDSJdEg2gPbLOFf7wTlFdlJ7R/0mu4a8h/1tQLoDKcF+wppDF8DMw8jFpsC1Ae5Dh8Ukg7fCeYNLQr6FxcIH/+SCOr88AYbDaoG6wmg/i4IBAVR9TsBJ/lzA5D+3QFx+SEBRvu0B18BPQJJAwb1WApVB8UJqv17Ey0Kugh1F8AZXhKQJGYVthukI2UsHzTNLeQxBzgONEQ5lzoaN5VA7z20Rbw+KFEyLNM03jVkPtA80jRILPU3qCUhFHISGh0dFGwW8QgsAon7Sglo+FH5fPLG7OXpydUl4fHTCNA8zrDTDMgRwyq9xcDWx5S7P8MNwHy40MsfyyLMa8/F0W/XGtVjznLeZcO76QftBu6Z7jLzMPs/+ab1Zfhl/9L5FxJnCVsK2w0ZBEkQYhLGDCAE7h8OBgsHtAvaDdYOnwjgDIcB6P5kBiMIxvpm/z/9Xv3AAuT5kAD+76H4IfDnBEv+IfGx/u/r7v+79YkAB+kP/ksKKP8KBZgDcwfTE9kQMxuBFQce7BrHIJEoCivmLjItQjTbLlk5rjJ+KTMzxDyCPHo/40IRP4BDKUMZNrE+CTaTNOwzGjKGLFUiLiJKKoUh6xz9EGEEMwNpANf0yu+t8mvws9lP5AXXTMiU2H/Bh7uAzi7JdbynwSC5vL4cr2/B7sRvtVW3l7+WyiLEps8CzJ/UP9Km2jjgj+Pj3TLibPkr+az0/PLJAa8E5PiuAToEnwkVGnsKcg28C3MULBHWGuwLrg56BLwUcAWs/N0PDATvBCgFtw8AAC3+EQKm+xT1tfKF+cX5DPQo7K/xMv3X+Nv0C/Ge8vv6EwIT+yf9ZgDFA6gCowyyDtETQxSfGL0f2B/yIDQsDBspIwIs1TG+H0436zu1Mss7JTzON205EDdLRB08q0oUQbZBEDPzOnYqVjJGOAIn7yMBIkgM0RjgBm3/OgV/9Yz+WfXe7cLpyt+hxnvW488lyYLFbcZ4spDFxLqruPPBi7bIv3i4bayjrHOznbaUy4TBtb7QyhrG3MRFymDVaOJ83uvrtuFS6dDqTfZD+Q8DjANo890HRSHIEWAOJgu+CZoZ0BeKFGYTiBImFcwS8x4rEYQPzwr3D5UQMQRWEOULOA50D3MF4AagBVDxMO5f9FP/+vxbA20Ctf/wBVUN7ewxCYQMGvvRAr8KVg5fBpgVxhV5E7gVpBtyGQ4iQhJUH48pUCyVJt8tcDAzMLc06y5hLeMp/j/BNK80jjUAOAklDyhXLHQx0CenKawaiCPMEhoOjRVk/84G8AEW9Ub+6/yD85bnJN0x27fcKOBj0W/WZMvbz57NlcYLzRW/gMNnw7S/GcVHuL7H6c4DyH3KX9gkw1be9txw3+TdDde64/7bLOlR6J/zheub9/wDivpE/CsCYwk6EsX3YRDYEjMFrxHdDmkEpQvVBigRdRJoC+EVowfdEU4IyABnDYEJLQQnDI0NfAOBAfQJEQijBc/6xPdABakJKf37AvUFlvqx/HUMQw7YDmwOHwT6BhUGBw0BEVcLjx4bD44YsRRuGKcathV4H64kgyx8G/kdfSOYHSslGSgZI001SS0mL80o+CqHFc4geSClIPMnqhz8G3cOBhkuD7EQoQirCLYPHP+S/Eb3menA8P7dGfIb3qLnRNSd4fbCqc6GxfTVEc4h093Dh8ubvka9Gs6l0VXXL9BryWjPndKO1F/hz9hR1kTlv+oX39XskubS87Dmpvkd+NL2yPz6A3kJtAPFAVAAdwMPBhwPzwsGAhUBQgY+E58Q8AiYBy77cQw1DM/9BwhoCQX7V/tPBogLsA9UA+IHPwe7DAkPNQ5y90EKOwFyA3kP3gEpC+IFDgiNFh8JExOrBfv/AxQlB7ML3BE9F5wLJw4eFSoGlhSJF6sWXhaCCHAXaBvwEAoi1h76DMET7BYeEEsPMwz1B4gYNhJ6EV4eMRKzFX8DxQ9TEF0KQw75FNwLEv/tDDYFhQOUDqkGxfNM8DcF3+Rh/kjwp/Yr5t3r7+UI3oHvsvH25f/eAd7e70TdW9vG4KXmc9sH9OnqCeig4hv46esY69rzROxj/zr6Vvk8AQr1Zvze99L8eQeqAQr6SfjX+OMCLPI4+BX/9AJCAIcDNf4Y9wMBDABR/voEZQWu+TX9zQZY/n/6ePw1AOr09Pqi/gH/zAcfAzP/6vUL/awAJATWCGcAr/so/fgCCv2ZAo0AeQ4nC5j68/wXATkBBv+KCRUFmgeNCfEKvRJeBUoNnBIUF7ES9hI7Agf/4Q0xE68JoRcQD7UL6gNrC3kUoAhmDNQSiQduFMsECQqbEXUJ/xSZCh8CbhDbBscOvgxm+yz//wqKCYwN1BHuDMAIQfs6ElsLFv2a9GT6yvoDBgYE7wMj9V702fIMAy7x5/mX63vvp/Vx7vX30/MO633i6ePu4tft4+m77GbfHvbS6kPxD94j4P3qN+pp4Svu9+tR7R/y5ev5+YLw6PwZ8f7uCOaU78Dp+fCw8tP3d/jC9d/y9/e6+jvva/6f9Pnu4PjZ+sf7dQmH9iL+OAlv+x0A4gDpBOb4yv9/DiEGAAAcBfIPGgRqDc0LLQ6GBgUQkAvhDV//HwhaHxQTpxSQE2ISOv/VBQIQKhb7DDwI3wgmCtEE9wlSF4z/NxRgBuIGWwolF1YQyA4nCLwLEAbOAcYMiQ4cCGYH6QhRDqn92AdGCxsGCwqYDtwOmwRHCuX/bffoATIKgv8CCNUBoPtRALvzXQM7CGD+/wARA2b5vQKJ+RzrV/4T9DLqdQar/tUESv08AEX24AGdAZn6qP268EztkPV+9031NvJQ9V785/xP91/wlPx06dn1yPzx8Zz4y++f+J/3y/zz+YICPwcx+brtF/Uj9iTxJvof88bwh/XJ+/rqBvbc7G3xJe2X/SkCRvtR+zX1v/kr+b/xKv35+5z83gKXAT8S7wLO9UD8Wfk69G79EPrq7GIIVAjNCLP3pQGg+coDIQVNBvQH6xA6+5sGOANbBDoGvghcB/YQifuDARwBvBooAvgBCwqS/zYJLBdzAIgHaQcTEsQJ2wfYA5YOUxToFJALUAKDHSUKKA7X/ywLCQydB1QOdAoREGcCwwjuCowLawLNCugHu/q1EDIOPPzcDbsHrAgyBEwHxvjfB2gEJPjw/j/7hf2sC7D/EACh9X/woffBBvn7EPeE+2wF3fze/8nyQPlU9jAFsvn49O7zifnZ89X8+fmw/YEB8/pi82T7u/jf9IX0w/uj8RMApvls/T3xGfok/cryWvKM/ar5Svs4A74FbfgE/5UBp/HFBtb2r/TtAeIEogGYAOIDtP+8/Xf4T/Q4/aL72vXNAv35nQOK9Vj9sfdoA0LyVvzi/0n4mgIbBLgHyPqgC98BPgD4D2EMhQWR/RAP6Qj7/LIHNQvlDa/02QJ2/Ff54hSO9K0FvRJ8CRsKugvdC/IEKfwVCuEAwg3e/l4A1AqZ+QEMXfqP+iMHbQq0B+AJVwl3+s0PyQTcA3T5jQBMBfAGvQd9A8MCuPvUA+r4qAhpBGf9MP8WAbUD9QcHAosAqgKiAvb/Uw2RDYr9DQpHDIoPOgrUB/8HiwTC+QP86vilEZsQZ/yaECb+hPty/XkAA/r298r7a/ppCIkDZPwO9pD6mvkAAEH7Q/Z9/4wFAPf+BlgIdQSx/ib+tvV39Lz6JQH69dL2+vze//P9Mfqp+G8EMveE/zX5u/xj+/fxmftXAlwBkwIK+OH9dftcBpMFgPre+wgH+ANF+NX5aBUCAtDy3wPNBFP76/5LB/cBuf+GAzz+qP/E8koK5v34/LT3H/FECjQEef0D/kEIfAKz/uEAov4MB6/xnPPT/yH6oAKm+DH9WPSq8xsGt/niBHgFkwQuAD4EIwxi9uQC1ASB/0IFXQHpAv8F9gRXAK8EdABf/6MHr/eAC0n/YgCK/tQEtQS1+qL8gv7Q/rMEoQK3AvX9OQn6/xIMoP2bCVn/d/+GBwn1D/2UDJoF3vzf+Zf8Pv2qCrwJtAdz/TH4aPwIAGH5bRI4A1v7GAKmAlsH1/09Afv3Jv21/5P3kfoM7Ln47wQK/kMHzf1S/j0GYhSR/cP1owGoAAv4bQb79Ij4kAgU+R8ErQXZ97UAwfyi/xn6g/TDBxcCmf+7/3nznPVC+PH0qg1tB+7/1Pgz/srwOO+u/4wA0vnq+pf5HvZM/GP5pA6C9UwJCAntBbICUvAu/kT8mAW8ATAEmAiHAhEBwfgTCCYEjwR4AJMAPvvuAIX1/PzLB18JSQAUAowJjQXdAVgM6QgP9TMBYAA7+BX8eQcq/Db+VQSP9Wf3yQ0ACbAMc/7q94z8B/dh9Irr7PNCAFH82gXrAYP/z/xnAg0DZAU3Bv4J6AIBAk78SgHt648ASwQd9jAIrAoJAXPwwQuG/2EK5fz9Bfv8ugNu/EINzPUPAT4N7f0qEiP+bAXEEmIA0AftDHIGlPes+KADIgTPBSj5ifxFB//6dgeI98j+fgSEAKMHKAV0/FkGgwJpBDn+1fT+/5UDGgtVAy7+6PkFAq4DSAUF8D4DHv1v8/MFefcJ+7cKdAp6C4wCQwO+CXL7qgN1CWT71wJMASwHSwOMAyv9Kv5tC0ADjf08/hQGGAYrA4/4qgTn8UoIFQVR+jf+bgHoBP0ChAHH+AwAowpKDtH8wwSd8+75aPs4+x/8Gv8P99sA4gIMCq74+gBLDHz9fO0JBJ0GlQRh/X/4UfoS99n3TgPsAgsFHffLDUvs2/rZ9dkDwwS+A/n4VABQA+AILv76/hH0fu4nAKgDeQN8+uIE6P+SBkT7uP9OBhsL7gme/Tr4lP3S/SsDGQLMDGYBGPdf/RcCWv8gBZoA5AQ4CA39y/xh7CkDzAH0CHEAkPx1Cvj+v/3w/McAQQzxA3kDjfI+COQBpQidBwQLxgXn+wEBthBHCVX38gv4AFAHIwIz/zb///A+/vsFiP4r+lcJawBlCRcFKwO8Arr6RBFcABcG1/ui/4H/AvhMBXEGXQxz/LEC+P4p+w77UwYJBiD/Gfd2+7n1s/9WCVH5FwNRCKQLG/8pCYgEa/81BMMI6ABK/skGzf9o+2T3wgqxCckDZPlj+zf2Ff2FAxYG+vfH/xwACQP++sn6Jf6QAAMDSf9T/F/6jwEsAW0Jmwb4+FIBlffy9Bj/VAJ7BF4FLwX8+Ij45wFW+hwHI/1TC6UEJQOn9VEAiACiDEkB6vzbAlj5fgZf/dkC4QZr/4n/mAzH/bLm6Am9/Zv+MATg+hkL4/4k/WMB9Q4V/PMFlgZu/DEISPsQBNT+BgXC8iT3c+tCBDQOpwUB+HcESQesBUv4Dg5//I/+qvSP/W38wgPhAKsJewXr7ysCxfq0BfsEpfcfAmsGSfrgAVb6LAckC7cGsga/AdcEL/1R/2b1IgLfBOf/uvlD/Y4DVf0C/YsEwfdz+e3/iwYcBxTxRvtl9ssAY/jdCaoFQ/hwEY3/ywOqAXD7AgN4CZH7lfOQ97T5tAHPAXTySArI/KDz4gU6AEYKNQV1ABP9lvVUCXQEXfqxBQMGAQR7+sUEGPjbD0QBK/rMBcz90QXP8Rv1aPrp/qYBiwcK/C4ACgYr+tv1PA3d9n0PLAGl/ZgBD/wE9CD/yf7QA00AvgS3CMcBnvpm/cwJmQrX//MMb/wQBv74fwag/oYAPwd2+Q/00P6D/Nn8mQhcATQBnvoDABcG9fq98kwDPAGAC0/+jPwlAW4BUfwP+9YDDf6p7Az6+/60CSwFHQvDBMjuAAMM+gcIFwdrABr6yQ7g9ev8bvwW/Gv+hvfoAioApvtc+tn6yPRU/br26Pf29gwArACZ+Az30Qrh+XX6YADnBGT8twZTAoME+QQsCoIDTP9GAY74MQEQAzH7gwV/AFMCmwEd+2QHIPvn/zAHBvcXCArzqQzAAKgG6gK6BGwGfQXuAKn/lf4P+VX/vQGaA2MIXgV1+fD8Iv/e/GUNvQxK/JIGQwQNCCPwVwJc+dv7HPiC+ozxvQXO+yXuYAet/b8PKft/63UD9Aos/QH6fv0FBaH7YAeZ/PYAswDP+n/+aASMAyQAA/EQ9v75rAUf+Fz5OvyGAlj5CP2NCbgFeOvyAIYGLf3iBVjqQvjm+kH5X/+LCMgHVQaOCdz+KASuB9EKnAM2AQMFu/YJAkP0JQfG+nYEIgKFAp4FnQiy9YwDRwR/+wAGpANR+AsJSgPa+9gKYvo2+NcM5v+l+n0EdfqSAbgDJPY2BKEC1Q3O+uAFPQc897sC+f1KA3sPzAWLB0sJsga4AMkEkvIu+rkCHfiD+DcOzfrUCYXwRAX8/4QFcvmp+wH5KP+OAR8H7Qq3CFz+5/wQ/Bn8pwN2+58BovfEBUP4fPc9ArcAmgMlCJz/cOwaCPz6oA1F8VUCkf5q+RT1RQw5AisH8wnj/+UA7PaH+84Di/n7AJz9EfpO/qwAYvnlAtkFFwKE+3nyFP3BAJkLbv2HBfT/BP2X8Iv1G/rs8QQM/gAfBc77/wDR+p72dgn+DToOrwFV+1nrkvTk/vvxAP3WCuwRV/2WA38JRgKK+IP3YADD/lL32O4s+JryXPpI+of8r/nLAmQGjvsW9nT/gvx4BAX0HvIZCP37xvd8/qDv0fRKBLX+8gdrBVcDaANJApD3UgotBlv4LvyL/gUBDf4MBDTyHPVb/1X9Qg8YC0b9i/w196/6WgFIC5kFFAXZAgT6tAjo/O3/JxD3CGwC1QoL+tUK3PZ6CJgBSgbS/v3/0PokAGADIwM8AeX36PgS/tcPhgZQBSz8AQWy/EkD4PFL/pgB2gQ8/9r6ZP5DDWcAGwJC+kMATflLAGMAh/159Zv43QRR9j/sJveg82HpXvuKB84BjQg/BUoA3xDZCLEPbBBV/gwARACT9/35CfSE70D0+vAk7D0B+fth+LYGIgin/xgWIgpfCdkRdg2oFwENwwY7AZ38hfHK7Sr29vIW+R/7EANVBiAChA6I+dQR6AVyFq4bQxD9DrAM8PuGBdb0pP9R8aru7+ic8/nxPe4W/079Hg2QBmwEzg3yB/sPVQxXD+IEVf7W+Uf7YPo7BD34u/nv9a329e6LBlv6NP5PEMsR4QpRDbEZ6REq/jX/GAK4AFr8vuiO4P/qiO1d+6/7lPsS+rMJDQQqAkMIMw1LAq8ITBAb/h/+p/Oc9Fb6dgJR92/mdwE1+D71PPqZ84kISP6hAqAEOvjQEjQQVwi2FJD/xhZWBIz8P/fJ6nbrqPZo4uTkCt8i7HHrdf48BcYBFxalH3Al6h27IOweBCGfCs4SyOrW8JvyM94/5Bbg+txI7Dj2PQxT9iEAmA6BFO4KixlvFnMQ4xY3Bpj/3/88+Vj55vSi+frz++Tv74n63v5p9pEC6w1bA9sNAhPmE7gHrgqiA0gE3PGQ3RrsSOjs5m3mSfju7Wvoaf5e+XALrhg5G50auiPwD/oIigql/C/5FvYM6r3n/+fn34H2suxJ8eD+VQfcDZoLbgxDD/8NuQhC/z4ACQJ07j773ux47uD2O+DE6qsBLfnaBGT9EBHSC3IMoQ/gDq8C/QFEDHn7zRS/BX31E+mKAGsEugRL/DcHfAGCDCEAXgGu99YAlAdc+6AIXvV+8db2ovNBAiX8y/m28dr/fPw0EOMMyP3gDMUKngx8B90GFAGWAlL/pv14/or93/09/cD9ygGS9Gfy7vgM9EsDCflK+h4ESQQV9wn7AAC8AU39QAjF/pH7h/JQATr+/gO0+qbyQPlL/scLVP1w8+n1/Afg8uH70AeI8s31g/nb8A4HwAg+A5H/DgWjAFoCpgdjBJz8hgJuBFj5iQdpCYr9zwVvBVEAQQfc+S8JGv179DYCCQdzBV4AYgFo9CgDRPh1BJsRNgThAVUBIA4z/cD0twRq97kJtATS7UkDs/gDBi7+rgWP/Cn2hfYo/W4BsAVG9ZUOq/ykBv0KKhkUBAoJbQCj+AMDQP5A/jf+f/hC9Q32yACF+oX4cu+T+9kE9wTz+4QQ6vqhAakQYQJ1+98EfADGBuH3/vspBMX4gvwU8AYAHv1BAdkE0gBJEAYLrQewAUX+uu/T71r5c/kC+p/7Wfor90z6dA3PCj8FoQO7DJ0Rpgv8DBD7/gZ6BZf4mwSx9u/4L+7Z/Zf2sAJ1ANYIEgajAtkLaQL1AQ/+5u9G9VLyTvHe8pnuXvQm9o3/Efj38rIGqA0XB/sDhwVfBLAPqAsABqf7QwY19K8J3/V27r/4afsHAELxzP3HBLAHZwFqAqf/Hgtt/TX5fAfU/Q/8Iv+M8tEBNv+48ar8Wfkm+6D69/s1/+QAoADV+3EDyA+2BDgD7QCnFbgCMvAw9WQL7vcT+9H41gDT+uAFkwXhCkv/LwJ+/ikF5wYNB8X7FvrR6qDvi/pXBjX62Qiq8IP8BwMrBx756PQmCXL+lg0YGDv+K/T489n8PvYqAYz+UPjIA3z6cveOEyj3M/OW/zgD5v3A8W4KIgL9BJYNMgKeA8wB3g6/FaMGfgGF8FD4SQSt9rgJM/dJ/l//tvl2/JEB1AOb/XsECPxFA0Xw/wBP/ML7GgaG9EwAmvyEB3r7vfl3BXb49QCc/OAIRf2L58gA6v8YCa/+k/1tAjX7HwHIBVXxrQviBeX7wQMpAJ7wj/2F9hEHmPUpA8T/KgEABtH3cQLA+8/74QsvCA/7zeg0AtH8df9LBVsIhf/N/rAL6guDBo0NqgN4/zn/DAPl/+YPA/zy+BcHX/zL/x/7XwT+AQ0Hrv78A38G0P3XA7gNEQPEBIH5zQNSAk8K0vXRA+8C3vyg8wD/SgDc+cr89P7tBlH+DvvO954ExPfj/RkNeP3F/lIEMPmGD4gHJvUVAwEA4xEgADMFqACa910CzP4E/9ABiPQLBM/85/Si8qQEiAMf+T4Bc/jb/igMXPy3+3EFj/VE/OL5hQQf+oH3lu5W9ZQD6vPg/48FEPxjBmIHN+7l+6/1ngUz/iIB5PbSCkACFAck/qX2Sg7UCNkB5xXPBLv/SgCIFwgYjwxt+7v/WfmVB3v40Pl5AuQEageA+0oCLg6s/4z1HgvnAj353w28+OgFdQEp/gEGwv38/QHy2PhsAZoCKfjYBwX+6v4LATv6hQEtAAb77PgP/VkKygAzBtz9ahPh/YYAzQRhCCb5WgUV9noIRgNLCCgLIQIR/fAE8f3rAWj4qP/3/dL6cQcE+h8JjvyCCOsB5AVmEk0JGwREB8wUswn5BwAF1AruEiANffoODG8HtQNLBN4AR/5Y/g0CV/1IA/MAnP3A+Eb+yQhUA9P9jQZR9eP0uQAc+rgA7vXb9LwHEv8S+MPy/f2I7z4CUwWU+u4D8fEND+D/QAN4FPgVu/ztCTHrV/xu+TcHPAka+Dn2RQlOC4MHA/rN+agFWPoqCxsMRwqm+J/+nwGT92ABj/03B/D3f//5BEcF0QBcARkHrAUsAhYBOgFOBGoKLgSKBs34WQRSA8sHKfH48q4J9fHgBwIEXQ1GAtoJTw/uBC0CbfwuB8wBwfs8+cP8fv7O8sj66gQE/Vjz5QclAy38c/2A/wj5xvpwBqQKzff3Am3uR/At6gnzWwAA+k75CvY4/Zn/rfqZ9Mn9uv8o8t79VQMS+7bxqPXu8kfu4/HK9cL1vP8Q8Tb6DADU+4P8DwPZ+sX2zvw5/sIFAwKQ/HP1Pftf9Ar3xvhz9Qv72vTeBEf8l/AiAKX4p//OAZ/5twTcCLECBgXi+L4MWPBp/ij7hg63BCwHDBXdEYcQcCHeESAg/B49G18VWiOxHyEkABnnGkwREgcWBTD5vvoVBZIFXRXZAi4NKgWQArkCafW79Mv99QEB8kP/guaX7anl8OJx88Hx/eTo8e7vzOc16kjxLOVp5GP07+Gk63/qTeZf79ziA92w7SfweN1O5cTaqNhH2RzhsuN+6DPtBOF76Z3dneO45Sjq7d/86QXd3+GZ7E3rZ/If5v7gceFu38T5wO9C+jv+PfwCAAcHkQpMCagcOBRzFNkGLxB0KG0VsSfYL7E4KzZLRRsySUk1Q0RH9kcCSUI/+UxvQyo4IjEiM/cf1i33MSEbxxeJDiASQhXhDTkG3RkRA6r61f+D9AT42/cP8JPl2eDJ5TbfBtUa3hbK49wb3ynUhujv4yDm4eOq3PrQmeFE3OvaOctO2QPTTNC0y2nPJNRlzgPa3ti12yLSL+L22Wvi+Nb7zjfWMtfz09nhG89hzMzeTdMtx/Das9Xr5lHmR+bk5qXmyuwh9zUCfvkSBP74HwS9/I399A7yCf4PbQ5gB9sLih6aIX0pNjNSN9dGT1WYU5FizW9IcEZqAGWzcVhu6XM2agZiD1vNWy9X4jydROczfTuZNjg8UTYWLfcl/xJeGIkRKQtLDUP0qvFd6h/fvdQv1bfQu8zKytvaas711WDZ2+iLy73p+tso2lTm1tqO2SXeB+1G0GfQJsXA0tDM3s3nzE/KxcubzGrQpdJR27ff9dMa2mnO6tI735PIj8zbyWTa4s1HwhbOStkt2VnSFe9Z4VPyFu0A6eL3evNA91PxkvorBxv22PWl/5T8GvTP/XwBCgL2CJYFNwxLBcQMZgsxKGoaByV9Hg0vfzZLSZNKwln3XlRfommrZO5rIGblWWFrj2UsWlRV9kRGR/cxH0VmPhs1My3lH5oXQQ8KE6UCaP20/RX/L+8J9JDpBt503CnfJNMo2ofd/t4k4DzhudQd6fTp4vaE9pfvMPPl+yj72Pnv71jlY+bM353bcODz3xzhiMm31R7Rf9Sv1LfmPd0d203ce96p0zHTf+JD2pjL18lx07zEQ8otxcnMjsUezpLiqeZB5aPfC/Cs6Wz10u5k7PjwfPJi+xL17uVf7BjZwfIm+KTwsOaX917zvf/l+QgGmxEnHd0eIDzzQLtHNF2HXsFuT29RZ8Fx5HE/dslnYnAjWrxj+FykS7k/LUitO+ovcC7wJXMxySAAEj4MIBBbDqIQRgcW/aj6twQ87y/k0/Az4g/VoeFf78PpIe3T+ULqfgrsB/4FxQXuEjQKAgZ9BJbxMfZW2GTfROij2q/VrdaF2YzPA8u7zgLWyeI43cvZyt9+0fvZd9Wz08/HYM3D0yzHHcGh1gO/g8kx0Wjfxurk6ZruC+oMAEwDNQSv7D7zae8p5ij05+7y5yzTu9M16P3Vzedi2iT3U+iJ+5kIQAxrEFsd1xumJNU4ozhNQrRV0FxcaQ9cX18dWzxeRmhUYGdnwkoqXEpPs0zeRKNC/TmLN3Us3SXeI5cUawvACnX9bQqM/lb6jej37mzysubu5cXb0t6s63vxRuV98SwBigyLAJcDEQ1+/aIHawYt8fb3kPYg4xPQI87R0p/CCMfqvmDEO8NHx/rGy83bzA3b3dZM3xPpxOFo4EHw0tjP1nbbIN/x0DjieNJWydzR39STxS7nqeBB4pfqHOrs9mfnWvUN8f326vRb8NLzeu+o9zLu9udy5rjk9tqG6H39ChRJ8+oEbQFaESsnfSdUMvI/YlbiVM9rvnBbcABv/38fc851V2/3YH1gElfZS5tNoTwIPLMokC7pJFITixuuEmkaBv1LA0bxFP3R85TpQ+X04JjoitSM2+ThI/Cr5UfnzO0l8JfsCutB+LDsdfQb/VvzQ+8U43Db4N0z20TIfb2Wu5q9WcJCvgbFP7Upy0XLa9Z/1FXkwtcF3iflaN384FHV0OULz/TnE+k93Xnoltw02HPgvunJ68fzpO3l95371/lj+PkGBwg8BsgD6/jaAr37Yvka95rpmwJG78z7/v1BAkYIeABHB0IRMRlsIsIktjgKNVlDulAzXiJXgWQRYddmf11+ZRtorF9NXm1Z0E/1WLREHTU8Mvk1QCiNGqgX5glLDGgFL/9C+rD46fA9+dv8Bu4Q6CX2S9z337/mGepk7dfuMfc69Hb3XfFfBX/+we4l+qHvzvct6ELmJN3A1sDC3NEYww63SsWWxsW6Ksq7yILRN85V3I7ib+2e4B7aUew/5wLdv+A+45DpHNur3cnZ0NsH2Jbe9N9E4Yj7yu3O+LDxpATQ+or2Af8B+uT0c/iE/N3yYe3W7GnwTf1Z/bXznQLuAc4LBwsDDEcb2RPuHnYsyDMhSZFMM2KQViZlKGh8bzZtN2s8axVwMmDBU/9J4DeKNA0rpy1GJQIbDRtsENwKuwq3CBsIDv7D+EP9DgjnE7gLbACz/kD+k/CK4rnytuu984T59vjQ8PD4ivUi9gL2h/hT9k35UupK1KnK4drrzPfHLcmHz4e3d8wsubq3msTNwDPC48m15hzWBNTl3dzX5ui64iziVtxt3PXkoujyz4DYadjV2ErY4+ez7EvwzeM26ZP52+tf7HD0AfTP/pz3fv+d+P73pPQS/AnzB/TZ9wsAw/0kD7wDGxN9Eq0TUCwQNEA6g0KlUyhWrmPUXqhcUFzXa5lx+GpwZj5djVo6WNpHeT+ANjwrfCFbNA8gFxgtH3wS/BN2FtoLAP94CEcLog8yBtP9o/qs9b34XvL77ZP9Q//HCDYD8wNd9Q/8Aew8/TPyqvPG49XcCep5xebBbMWSvv7ChMN8vLixXLiiv621HLjbvwnWm9fg0tbSpdt66n7hoeYF54vUSuZr1HrhftiOzu7V5ur34p/nU+uT7x72juDJ4x/xGP1H+uIDqAMQ+yz00vue+h/pEec790/y8vfW8v/7vghjEfQFwA8BCzIg3St6MDJFfFMRUZNmZGJOZSVglmdFbkFl218qYBxS/kvaQWo8TCnUFMcktxoFEngUbgtTBjkQjwVgClgIxv07CzcKJwZCCS72v/VY7yfxdO6v9BD71ftn8aLvT+6E7+n3//Mp5270qPZU3gPYkMX1y/60kr4ivgrCHbqsuBelc8lkv4C3Hs4C1bXiE/Vs6qrqZeYh7zfri90V59Hcj9aw1XLno9ew1XTao+Dl6i/0YOwK5UHzyewyA5T16+xr/if1+PKY+oz6We0k6Kr+vvsP8Hz+hgHiAHMHwwaLE6UZ7iBOKpAwtjrvQERVI1pMZeZyHGMlZqVsOWekdFZsQGLvXHxFDEQYL9Qn8yyeF2oOKikME9YfnAyzD8b3DvzNDjUBKhYl/J0Nkv20Ddr1nPI1+Cj/Dvyq/h/zr+xW8vj1NuSd6Fn07ueS117UEeHtx+y+ltAQyxrNJ8Nnwo3Jcsnaw/DFGc/41EHZ49q+7dTrzvHt2Zjlle3y6GDaq+nn8Ibg4ON72PPWY9WP3treZ+VN2tfr0+8o5DzvLuQg5bjmPOo27AXvkun/6yn0Ouza88P1MfpH88YHjfO3Aq39gAzqFIsT8SzxMAQnl0OzSG9eE16gX/dvGmNQZ4JpTmN7XyhpiE6VRkFD9zzdJ8MqoB1xGboiURZrEVEdrhbUEjoStRAnCl4FXxbcJBkLfQvqC6IKxgTwCgr3GgSSBKDvOuy08aruF/R76GLkOee07PLWaNT6vZHLybmav97Jt8AjwOm7xL9ZtCS+18LDy6bO5dd448/iyt8z2d/ax9h45Xzm/NQX2d7gMc3MxBbKiNFh0trME+Mn3RjjoN7w3hjpeucy6ob57vd99/kEtfEFBMf4kviNAmT+ggPjBeMGvP+nBk8NjQtpGaAmwSlEH1o5q0RMQtJT9la/Zdlu42vfZ2RmaWStYGtVE10XVo1KjUHjJuctBSXJFQQcZRZtBAQl8BwOEdoLrwu/EmMVk/+pEe0SawL9A8z25A9DACD1Xf0c+7HqPORx6/nc6tth1J/cGta01mPLitKCx7y0x7MfuXe5EL98wgeziLrvwTzCJsWP1KXLc92p28LhEOjn1ZXfmueJ4lPd4uCt2q7fYt4e3wXfF9VR0u7aWdn953Xq/+rt5sf3ee7P8wQGw/zS/bf+0gbnAKX6DfIO/aL8XAZOA/b9sgamCTAHyRE5ESch7iRjGqA44zhWVchUm07OXp1hTHCVZ3tpvHDpXVFmHE6nUuZPyT7pNI8tbCZLGZoZQBgjGhQNoxZbCCwQ8QcSDUwGKRjvFfoXhBHe/RgA4AfC+dPygveH9DP1NPE43PPkw+OQ2Nfhqtj53vvJsNI7uT21OrNAuBC9YcgTtn+4AbLKzpHP377LzOTg6uLo32zmAe7B7kTu9enE8NPtT9w62CHdedpo0ojiN9VJyHnPiOAo5UDluOix4afmC+gG6ej5M/jT74v0Z+FJ/WPy6vud+J8DJgCT/toGP/Y8/XwGuxE7DTsaQhmVHZ0wuTorOmlL0FUlWudjJWMbZClkQFkEYtlcU15tYVRP3kJ3McA2fjTWH2AhRiorF+khyR3WGC0SlhjVDCwUHCjlF10kWSTIG34OVhwlCgUU+QxeAzgJuPv885zhVNwz4avkBeBc3B/hOMgDzznKIsIEw8G/gMMXy1nF1754ynnYfc150yfdYuLj3kXlM+DD4zDfm+ID3u/a/NsC3ErKq88xzLPEX9G21a7axN5U1hHj7OA93lDhnOMm+mz8GgFP+L7uUACg7B/6dQuk/IAAyQG2BOYBsgy4CbwZ1xijHewd3zT4KuguhEAUSPxOwVOBWXxoSVwQYalpD27aXYha8FsMSWVPnEuzNV8s6ixNKZAd/h/EINYWgx8OHzIW1xqNCgUROhrCHW0R6Qv3AGYGKQBiAC73jfVR9NXxLuXO6CrYqeMnzonRRtFMycPGb8VSwXG3d7OIp1G9PLNsvjKxcqQEtau08bGCx2bE4cpfyl/TLd4m16PTKtd1zN/bquA/1CjbBdfb1N3LVddP03rRUdSD4h7kO+6J5l38iuv5BevwWgAb/BkB3Ab+Aw8AkA4hBzr9/gYDAWEb+wEEBsUVuw5WFm4Z+A1zIr4jETUZK2k2QEPjTxpXxF0yWiBt32TqXSxoX3CrWlFbBmReRz1OgTzSMVogFC1PFnMm/CJfKQ4a1Q0yGpUULQdEDmIZfSCUG5URdAZ2B/f9fPKo/q/tdu2v8NzlmNnH25HOfd6kz+rYyNUBzejBTL4Cu2etcbvnv0O10MT2xq6za7XttrO/y80b1+3SKcoq05facNib3JXZKdwH4vPcrdgs1tfY59L50erf3OxK2/LqdfPf+9Xmn/h98mr9DP51BEcCEASCBAQPhP6oALoOEgskFKgNsQzXCMMPIw4MFAgURhm6EtkoJBzoKrw1/zQeQlBBnV2zYchgTWx4VC1d/FPFZ3BTFGINWv9Q90+BNTspdCWaIqgdDiMeML4lKBtcG90YAgd9DP8YgB9MFZgVzxHvDTEFw/Hs+Jn9c/7V6o/ulOIr3MHPDdFlypbEW8920+bXKsdgvEm2FLPbyWTAJMi8wU7NUcTGsoHD2c/EyGPCy9DS06TkKd2X08fSN9bB0bS/3t7K5rnX7smf0RPU59vJ0LvQIs0g35nkK99o7mXtE+c05E7yh/dpCan3Zv5QBUwHLwGBCzcAggn29xMDvwcn9RwIkgktGyoWiw6WIXgm6DAIOl1Gg0dsXG5ZqGERZ9doAmv9YeppcV5LXzdS8lx7TLVAeCxCLmozsSPOK0kyTCXLH/YYAh7FFhYXXg9FJIgjvxllGbkOPA3m/hL6ggPG+qD0w/Oz4vvgSdMB1rrQv8+dy+3Zis0WzLDUzsOis/HBk7tTwWXOQrudx1XJDMRnvNW69bjHw7vNasmG4CTWRtYK1tLbZeLHz3TgFNaV3NPeZs3qz2XTjMz03zbn9d3r3mrl7uCz4wboKvLL+Sr6+AklAhcPkQbk/uQN+QNJB9z5BAO1/5QI6QJqEN4O6QURFUUUXS32IE08FT+OUJNSxFfLXpBfdmKYVMpc4XA3YzhhEk/gUlpKeTueMo85ODnOG30wGiGVIgshjiYGFyAaeirtHW8haB6uIPgVXw77CdoJ8QXH/VH6ofqQ7d/imtez0TXSus+R0o/W184305jN6cXqv3TEcLxcyAjHwMlvxynM2sJzvLi/dsGnvYfIt9Wvx8bI3dbyyGXSgMvh5DHMaedN2rjbbtAc2QHYtNZd17/f5tQT49rYmOfj35nn1uTK8cjwPuzW9PH6MgC/AuYB3AGWBZwFqxC/9gYMugfYA4gaIgfFEZ8X8A8qH7ww4TcIMq5Jw0xHUvNkeGpAXIRkHmEgZClZ+W27Vb9SbEHIVTg+KDdqLHMZkCoJM30lqB26HTofWQvIJPMXuCtAHS8NMhaTFDsGdwrt/P/pkvcD/nnuIuY26dPaDtJx3aXO3Noz13XNi8aGy3C/yss9xUO7eMo71A3NwdvGyJbNdcvs0k7WHdfJ3RfVHtmBy6/W99c93ujaj9nV21Hn+uUb6Sfb19j31wXgReGL5cnpceMU7SvvqeL35dHsqPBL5oP4CvlJALz8mvjG/A/53AoKAokAHgALCz77yP5xBp4GAQMHFv0cpBwhIPgqDDuMSa1LzlLnTUxORFbVZs9SMWGBV99Z2FxhTOI/iim2JkEl/TnNJe4wmS0GFwcMgRIUBp0avRlVJ/YfViX0HXYVmQZO/AAMKwFg9/0BQfXL75bhWd110DvUXtSY2PLQIM9f2r7TC8uLvlHILMud0CnR9MyExVjHgL3Txz/WmdAo2AfGwcU43MTS6c880efH69PG3mPWm9kg05nW2NEw06HVx9kO2hXxO+SX7wXxQ/Fn7jrr0ewp6E/6Rvz7/HH+bQIK9Xj4ExCy/HwJowApBWMJJwisH8wLmxhWGRollCNnHsgteTZJSUpgmljMTohVtk05WPJZGFxfYttyM2MoXeFQAkI4Tf41NC9cOOw1WykEMuopayimGV4fXR7mGqci7hvdFsEYlRDKHRcMVPuW/yX9Dgdi//Pwg9+B7traReQI1bDNMNXO0AvSsMTyzz3F1tIew8rKxsvKy6jDuNRNxXnU/8pQx4LNmsjEzLHURM3lzujI383pzpPPv8l06NXVDtH23TbaH9qc6FPgBOu746LtIe0n5Kr5rPgp9ZD6kgBL/yn7CfU4+wHzf/4g/qYAx/17BBP/jPppCBwYzgi0E4EViRtIJOEp5i5yO85Ok0s/Ue1Qmk3kUkJWtVnRWjthB1ZwU6NQ1lG4P+00zzj7N0QxND4sKuEhxSm9H98lyB7sIWIjlhsMJSoq/iHJByIGJRMdDlgHwg1FBPv6ROnK5qDdiOKE2PLaEduN3iDQRtLqwCTItcWE0pXMKMaa26nQO83KyGzLGct/0IHQIdfAz+jCg87D1izQmtMb2TLXm8i/1XPX2N/U2azRmOHm02Xd1+pm6Wbrle894wjtDONE7LHwmPVw8wXtX+6Y+fLzl/i295//PvJUBED/S/cVA//81gpKFW8JFw6aCHsfBxbEKPY0UTwtQ/dHAz6FT5NOu1IFWQBVaVs1We1XgE2LQrk27zGdMv03FzgtOuMm+ibPHk4ceByLKc8jdSKgK3Ui1RDQFRcZHRfvESUH6QUFDLn2Hf9r82PvKOjY2w/lzuGr4ffVEsms0tnTIcxa0FDbzt3e0LnSJ8cxypvEgsre0vDIgMrBzlbQ8dXG0sHKLNVUz8nTAdzUzAfK69WI2GPdkdfZ1dXfFedF4IzjjuKO7eXsa+u7+rnwV/hW+m3y1/ib9EkD3fZpBJcB9gFI+9oFmfI6Cff1NQn7BUAMWBhTCQkP9BYbHKgpCihuNoE84zxlQuZFj0OMTHZAq10RPy5Xlk5rVbhQEDRLNmY7fzdrM0U2CDaIL4YxWyraHgIqhyq2JTgrKidDFkgMQAwDFCkLLg1yHe4S8fzW+Un4++xo6azudeO74irdkt7u4ZXW1dP30DnYHMnhzO/OYMxFz7jZZs1d1hDEudEryUPEws/BzWvJe8iQ3pHRutz741vXt9qU0RnmI9k9z5biTuT93Sff2+dy4/TuDeM52S7kD+zi217ucu3R8sP3wPRv7lDzNvAH+koCIvl+88L7sPkBAhAChwnlDskJpBROGFsPpCY8HqcxxTrqPadAgkJGR5pA5U1xUEdQaVfcafJYtUtaRBBY2ELFTYZJa0r5PjpGIDaWJAc0Kif8J1MwGjJgMQwjFyADGY4RYR9fEdMH7Qhu7vf0WfK14zzpP9oh7Rzis9vP2Wzct9mK2HzXXN5B3c7F782I0nfP68UU0SzBksz1y77VqMcCyPDQeNWJ4JjWkczmyfPZpdVT4lDTfNp/1irnDtHU5B3imteY8xnvQ+1y6aP0qeRM99bw/uuf92D86vciAikAcO8D88jyLfwZ+n7zMvmb+VAGlwCb/0IDLAvKA30EFgoQF+4SySjcOds1pjHLOjA5TDC7U0hdYU7vWwhcMVFfRuQ82FKdVF9BxkUAUJ5CV0IUNPBF3TlIN8s6jTT4OXAzNCH3HOAXbhC6AWUKWB6KCVb+ywMH/uTzKvBi7yrtFu+A52v5QOS82zTb6taz2xPZLtBg1q7GfcaJvvy8O8AlsEPLe8TSwM+5lbvHxMfCosriyVrCzModxOjCmckozCTOpsrbztHSW9h61CDWJdUE58XmHPV286n1kPK07i/xqvJnEksFtADO/pD+LPAS6jH+2P8I+Hv3BPz+A70R4gOmGjkK5AylBrEh/iBxJZQxSjoVPtY8LD4mPNNGWk/+UkVrBFMDU/tQrkbATzZCElXlXsZMCliJQ6M53jXHNqw6Ei4YM0ZAWS94LEEXeBuwDXAW1QyRAocLFAIn+3/35Pog6PrqPuGr8DHmb+Ep7sXGdNJH05nKzcLb1UTJpMncx67VQr9ls0DCw7WcxES77LY7xv3Io8bYvwjR7bxLwUHM8cYX40rWQNQn0mLQS92d1ZfW0erT8vPjAuPQ5HDnJOR34iEAEPJc9Uj1p/IQ9m7rMvkECcD3//1p9xMEjPgQBZEHQhX2DQQJCxVgGDsQ7CGjElUyHi+7SFo+8TNhPE9BxUTRQbtTDUx4XmFn8l3jX7hO8lb/WhZbU1BkVUdWAEOaRzQ5zUC0Swg4hCyxOIcofQ3wF6cO+xefDz0PSwkRCekISwaP+TD5fez38T73N+z56EbiIeEy5RHRi9ff1bzYXt0ozdfNlMvYvLnLeM31yhbEhdTuzNzPDr5E0WTHcM2xy3nXs721zi3aq8vN2KbU0Nbm1PTcrtXP5GLdH+Mt5vnnyeRz8ATygv075BH36uhd+db3LPg1ABv+wPLw7m8G6/PjBf79QfzB9Hb0UQ+0/wQMagULG48Pmh52F2klrCm+Kokx8yw/RSY9ZEyOT91PMFrXYntNXFOkUIBTCFCEWi1P8VD7QSw3vDInLRswljH4Mo1B6idOGN4k3BP3CK4CNhqcEq4RY/SEAo7qh/Lt6+rzsPug9bDkleeB54rP7ssr2O7TSdAhzyfHMNJI1cLKQ8NausXLOM0JwNbDXceUw1bG0M5tyeDS89KiyQ3RedaJzITattPJzkPU39363L3dzdct5KHi4+Q+6pLjm+dG7/rjD+wn7DnsUvN59JnzuPKK8awDhP6W9VIKDgB5BKn7kRApEOEL+wcZE7IQdhOtH44qADa/OwQy+kDQO7ZFF0qxQeZWZFl7VtpbaU9+TfZH+UX2WBVPKl0UUAdPKj/UNi8oIDfhMFA6Fzl1Ng4qWCXjFvUWwRPYA6gGtg2uCY/9qvyn/HzrUu8m/S3nhOmx317psO/24AHUxc5t0xLWPdwi1iHPDsA3ykzEwswlxVHKocMJytTHib8swPHCEtSGyTm96dQA3ZTKNtXz18nIRtZu1kbS5OL/0H7SId4e3ojogd7L5KXZ9NuA9Pzwt/iD7xvxnuMk7dACbwHqAv8E6f/t85/7pQKvCoYFqAF2FZcGvwY/EQUm6CZFKsU3/0TIQ0g7TT1wPjRNK1kbV3Bicl9sZdRhyFqbVv9UZ1gTUUhdNFR8RGA8+DtzOE82mzadLjc0USSzIZ0cJxv9CJ0J3ghOBTwAMgJb9/z8Euoa6irhseSP6XDerdPl0N/PqtOJxS7BttBRxXDAt74jvfm7ObT1tAW808HLtAK/OLex0KS3KcNIz3q/hcS7wkXEyMDAwWvOxMR6xsDMDdmh3nbN6dV43DfWx+gx2avzwOnc7HHg9PdO6af2kPm9AY75mgAgCNQIcRTPFQUMWwp2+4gOIQlQEuQdLBn2IzYXfBzFJR4i9ifSNP44s0E1Sxc+YjwTS4tVOUyDYbFgBF3/Ze1cVGO+T8xhjl5mVu5gHlUcSYFQUTwpNRE6HTYJMYk1TR/aL0Aa+hJQEyEKIvzqC5MOYARI/d7tW+8h4tzsKe9k2X7jdtrT5JPXP8qC2z7MHNAbyB7Ogcs6wUG7aK5auLnJz8AXxRW7ScXGz6vFDsE90nLJ+tNH4e3MataayA7bRMwJ2y3e9NUp35jpEeH326zkSOeU5qXmuvNV+HXprfZa+Pj/R/xtALz+DPd19vP84QPgCEUMPxIIC0D/mwwwDgcXvyFSA2EM/iEXG4whdSXHKoY6TDt9P0M6B0seR/FNjE1pU+9aPmLQRxtVIU+OVBVU9lV/UeZjJ0Q1Rsw2lzUuPz8rySeyJkMkCi2zCaUW1hQT/U/+d/2q88X6h/Vu/IPcYOM+5r/i2t763AvJ6Nk/y6jC88n/vta7uLlgvXm9aL6us266f7urtl274LZhwbnAA8ygyl/DiMDEwmDJLsYF0sjaUdqA3snkHuB600neb+4W4YHrJOUr5Zv77/PK9MztEfBy9kD6OQwwB8j8h/st/UIAePgu+EEMmw+sH3UTNRshBi8Vcgq4D9cO/BaCHB4kdx3dJ9gkIiM5LXU28zO5MohIEErcNQNDGEdEU45IO0GnRb1M7E3PQRxGgE8EVkBMXUFAR8RBWUCLO807jDP7Ms8pQi63LswgqRXLFscNs/9//7YHnAe2APb1te4j7KXjNOTk4ajhV+o91RrdXscMwhvKucTOyXrAMcYVxUXIN8mSxBDA6LYLuGW8pr1jyOG/p8POyE/A0MjOv27XgsjYx6nW/tIP1r7OAt+H1bPfh+EW7pPjGePR3E/pAOAW+Nz2afNN8+gA0/mB9HX6lAmKCv0IfxHmCoIJKQTDCYYDFBpMEWsaliG6HHwP3RkeG8ASsSgjHhQr7CpxKc0tAzT2M4IxdjJJRSw/cz9vQANK0El7ReA9RkGMTJ9GhUirSiNLgD1wMlI3XDCrM4Yoti0PKH0igxElEAUIxf19/AwM4vMk+Znj6efn5o/oVNYF0WHPMNlc0nHRV89wyvrCA7MrvYfHsL31uRfEdrcku5bCJ7P/tY7JJ8Hpv27II7s8wuvJS8Smy9vMo94T0YzVeeJc65PT8N9U1zPoR/Fc8CHnVfU/8dLxtPjzAzsD3/5VBJ4MZgnIEFMTOAhBD2UQ8xTSEMgYKB3vKwYS4wtDIaIOaw60Ej4X3xz6GUkaYyVwF4AUmSS2KdceNCsZLZ4trzg6MuQ0TjZPNg0xgTghQos/VD3gOhc3xjw8RTY6OUfrQHM7uDtnLTMlMCCTK8MijCOMIdsT2xgjEZ0Q3gFsDcIFPv8n+fP7puye5q7oN98Q24fmq+V52DbZZt5BygXS1MaAyafE0NAYzlLHaMcnwdrFpLbF0WzTGc6U16nbFsoD5eLbvttQ5ZDWmd7g6FnYZNxv6wvjAeve6+LvgOjW6VL20vRZ+F35wv5b9VH3tgriC1oCxgWo+3AJTf+CBmEPixM3EIYUNhL9EsUNPxjgGDMSyRpKILEPVRBOCrYQWgxyEMYXYCPeGMkk9BcCHY4gMDEaKf8jyCwlLrwtDTO0Jckw6CrmLzcwpCmcJTouWi0ZOaUgFSynLdkx6iE5IVci9RXLHT8VLBClAhUb6AQ///z7tP2N+0v8hu8+6dLgNtn33Frh2Nbm2kHfqtEDzcXJ1s3EuS28X9E+xGDJ+7xavbizOM7BvpnHjMI7zcTE2NPuxhDND9Q60DrZf9473mHljtiA5PndSuth+RLuzu3W5sz1y/1c9GD7kANwBeD15PHc/XADZAn3EdURLQnYGhEYNwgJHDkTBgraGlAach4TG+0eNBQyGk0jkg1NIo4ioRjQHMYmaBqPIv0j/h1aIdcnJCKzLB40MCKCIYQo1SPTI0oryByOK/4onyRvJDAeADRJHrMvLiZTLEgxgB1IGtMPMCFUIKsQchuiCCwD0QytBg4G7QFI7uf0/PJB4bXrIu2M6DXgE9ji5ErnqtuF3L3S59mL0jvVvMl+zkTdUdBgy6DP/NNG2HPe+MvVzlPP0dDW2R3WuNId5IDb4dGH6Sftt+zn6bTz+d7B7n/tt+l575/37vSW8ez+pvopBxf/FgNIANT9dABqDvIP0wYSA7wQjgiRH4UaDRB3DGEXFg6/FNsdCBirGZIN/BuCD+EUExKZIGcm2xKtHbIiGRUEIpgZ/xhDHZgYaRhNL30j7R+wGgEhGi2YISsXUBVEE/YfACMJIKkdthqmG9sdfCWWGuIYChEmIt8f8xaVHDEUxwDYCQMWXgj8CpwEu/11+mf8M/7+Blv4/fZg83ProOxr5g/i4ejG3T/frONY5Azectr85O7hvtl23iPWvdiw1dzYkduP4LjhReQf3BPeV+bB4Unqheli697xyfLt7QLpS/S89R7yr/1p9MD0fgJ3BD4C/PntA37+G/Z2A1EDMwL0+lYFMglJFrUIiAvEFe4S9RGhDSQRMhX0FMsXFA/gBQMc+BtvCWUVSwgSCEsF4hLOFrMRQBUzC14F9A6mDoAPgwvtAr0KehLaGsIHQQsDGxEMDgTGDt0OYA8LBwEMcxbsCnUMegxRBqwELQbpAnkU0AYWB+wNDAIr/G4HqAMQB0QHDQYe+Jb72/vH83z5nvQ68Uj28+509Pn3wvmd9vj2tOzf94LwVeOi5knnO+3z7hzsVenw5ovzFe357h/1nvrU7xjmyew/Bn3nruo354T4VfJC+Cn8hwIVCh/q6eeW/J39pwTT+ir35g6B+vUKuQor/ZELTQlUCwAZEA66C0INw/9jA5EOYAtXEcwUzAcmA/8LkwntGVgSBhFPATYKlQ0NE40OfgbUEOQSXAniDgUI5xTCAh4Kpg5ECawOcBXXDz0KmPpwGwILmAVUBxQAwwGfDGAPgQRLBlsXBQXN96gCSA/2APD9fQrH/rQUrgIk80n3IQjUCngCnwHd/Y39M/vC9bT7VPk19sr24f9T91Pynewp+ljsEfa77SfoRuvZ7tvx0emh8yvu+e+k+RPuyuUz9K/3A/BJ6ajyafhU75P6se5L9wjuvQDZ/s73Iv1e7XH6HPh6Bh/6PPOp++D3vwMhBJL7ffOjDJf6sv1CDJb1kwKOAf0I0QIn/9kRSwu6AgTyowWqE2cQKRA0/2f61AnmCBIEIgWaBhsHFQQvBOD+rAg9A9D1q/niBMD6bAhUA/77KP/P+zL8cgAi+031VPTh+6DyzQTp8NwR2A9y/WkB3Q2/+UMCqQgzC/v5/QGSDbQEDgrABssIvxAQAqcGQ/wFC9gJEwJhAaADi/xyD7UElwXmAMIKpBDi/+gFsQG++ioGHgXKBAMK1gBL/Gr4e/7O/On8gvsr+HX34/qx9D335vsH8XH62vm+9eb3MvoN+xLpX/vG/Cf4PviVBm3/IfcYAjz7wfvO9mECSfiK9/EJmf/L+foIyvndAfkB7gL4/8MFzwGuA+gI+AYf/JMGgw82E/IHAwm0+wIP9v2JBRH8QgJwBYAK3QGJ+RkFzg3BC0v+IQY9A5b6IgFnCIf9Lf0X+G79Ig2t90MDhQRS/rcS+wQ3/GoEovhs+yELFwbWCFUMXQO1+3YPwArLAKr8JviHAXkLFw6dCbL+Dgh/BS4LLwiBB+r/Sf3ACBUISPQ3CBcPiA7eCnABQgKcBP8B0gjy+RUCkPi8BQb6Tfya9Yf88ggaDxsDhvsPBFQBTwVP/kH/x/Su+5n1u/c1AeD4SveJ70MHyO/eAbH6vPeN6NvvdvJY9/PyFPU77unywOq9+KL9ofS/86r4u/Mj8R/4J+v1A5v1heiE+SP54/rc+nz1c/hU/ioCUwn6/O8EZwGQ/KH8+gDjBYr+Ifka/PIAZ/9zDLL4cBHy/s0NKwBEC2EIugBBBfD7tf7ABEgJIgWRBoz++gd4DwMSuA9ZCp4TjAJhD5gG/RLhDNwPyvtYBiYKewGdDBIWeQcXCDsOKgvQDHAVfAwA/iz88RAfDakBlQMlApEIXf5p/TcLCv/hCj8HfPfaBwb9D//5//j4fvUg+4j8fPyj8KYDn/0s7Dv8yO0E/+rt4/dJ8fT8zvho8yoAhfFY90kPufZn9fXsf/xZAfP/Svgs+0/6P/ux+R74YgXaDE0FZwSG95YBKv3p8r35ivog8yYBS/gu+cv57fsH+fUAQQBh/6D5xP9TDuH3IPct+bYE9wS//+L92QS2EzkMlhWoC/UOkRSNB7UizxbhHegeNh3VIJIeNBJIKP8R1hR0GJQcYQkZCDMNuALS95UVlv2LB3n6JQy3BLkHrQIWBtvy/fJR9gzkk/DT9Irrn/c76t3li+zS6ILxzev535XoQOdE3EXr3O8X8abkmvSY7JbnwvwC7IXt1fu4+DLqgwB0AFj7DvOP+WvxnwYPCcz8l/saBOL+Yvis/7oEwwGj8rP7dgCw9XAElgBF/BP2X/nG7TjwRP+S/REAr/9Y+J75hPzPACf8s/3l+6kDqAC9CUT2WQUjD78KVhcHGygXyxw3GzQjKzUULrdHFTcGRaU9sDi5MUZBjz4jPOg1dB6MIaEnzhdtH70NnxUeBt8VTgp7/5rztv9jBkvoTepb47bm/NqN4Rvck9V2yHvNNdAl1269ysWa1M/JGt7R3s3l2eA45WrzHPhb8R37qe1044766e69+bP3GgK2AWn88QFIBK8E3vzi9woSPgb6CHcFFw1yCpEDTwBAA0v9G/Rk8wfqdP4B6e3uoeJv6OnhFOnm3Yns+u0x59LwXuvL+on1nPOUClkBJwUu+9b0xAzj/CQInwZZC6UYkRtlHpQegTLnQlZObEjqVPxTBktVTBJXDlt8V6xKYEfGPQo4wUBlNJUtwyaiFbsRLg5xAXIJYviaADnuKe208uzf1taZ3IPGusrF0q/BRrZ1v6LCvbgGvUm0Vsbpwi7YltkG1l3Zn+Kf6l/sY//594/zGvm0/dIHpfrg/ccILvNpBEAFhQjfDq8JDR7YFJ4LdQxJAkQKggMP+qwHPwVJ/A3yiedw8mPvcf4J8Artculk5k778vPW9PL7+QGWAoEBmAQs/2H/3gjfAw8IEgwcB3QP5Am8CxACghOYGjUcDiliL+Q0TTYEVA9bxFzOXe9my2e2YdlhhlawUEdTkkoNPsI16jMpJB8efBwYDyQM8QvpBdkFXfbk6RPlC+e23n/VXtb/wa/Jzr1IqDKue65jrsysQr5PtVCwj8Ax0ADgUdnq54XmD/HV8kL+S/0IBef/rPXm/9P/d/kz84jyAPYnBJ7/vP12/13+GvHFBBb1zAGF+I3zau+z55foiekm3tTUZN/b3NHQv9Zp06PYA9Vl0BPZ8uIp5H7j+/j5/wj+yPM5AdwPCAPcDbr7swTXAQID7QfmCiL/mg1UD6we3hn1MRo+NELLUjhVT1OlYqloqG/IXhVmWmL0cllXHEftT7YyRjcIKgwsACE/K9EdehnPCi4JjP+pAg/xHe695yflyc3u26/L6sN3vYaxK7fUsTKysrZ9sZ29hNLSz7vsx+bs9dD2ZwMA/TwGAQX8Bw8J4gTY/DMBY/hb+xj7U/14+xrv/v+rDh8KeQ4LE7n6jgHp9GD7tvTA8GXm3Nux2YbiNMX0yl/HM9MZ0YTSxNmf1knqqOjH5IAAt+qF/Jj//P9q//oCGvGU+GwDu/6c8SkASwf/BUgB9R6/Dm8NaxGVKFIkHzMlMl89lkjgSGtS3lDdRh9iR13kV9pR+FkYUrlN0z3zPzA8ji6kJvIZohcoGdkDRAIX99j9OOhs5ETi2+vW2KfRzsZc0vy4DL41taG8c7cwumm0+rum1OXTM8uW1lLly+di/o770vmB/B4CzgKyCdf2owLJ/dEJwf50BHnv9/SGAaH2qfJE8hgACPXC9WX3avDs9W7mzNvE2MbN79Kl1NXVMNEJwf3V0NZw27nZY9Tw2YbwHO866XboYPhC+Yr6sPbi92QG6/sY+00MJgclBpUVrAtpCNsWTip4HlsiQBuyIGEkkix3I54tRzZOPh5Ci0u1TBBRrVY1WixT5FhiUixgGWJcY3tIl0mwMfIouy/qK2EY+BGqDfAMm/cW7TXyN+eO7/vcUOID3AjI4sLr01fFAMaMwF63Fci10Eq9W8XZ3DjZoesT7xPvZACU+NAHQwr/EJMBPvuu/skLefumB7r7Evku7z32Zvac8u353/gV+f33MuuM7FH1AutS3aLkydLNy9/O58ocyBDQC9M73UbQXNQM4FrZEuhF9evxs+q8+vz5TPne9RkIqfmy9+7/1wdlCFQKYAaIEW0OMRFdHJIq4SJRKEQrSii1LiotgDb+LlJCykFNSUlNYlQ1VXBVY1sHYr9p7FzHYKJKqkegODYr7CgcH6cRUhHGEUH/avr58Jnvgedq8DfVzeet7tXQhtTs1GDMkL9iu0y3CcNeuoW7xLn+vPbK18K11PfcdPiY+EXy4/1U/oD1ofr+/0MDl/my8mL0mu4567vs6/aJ9hv8mQHp8Yj+bPB7+9nyVfNQ8U3u2eMR4rncjtdO2PfLtsf31/TYm8u64AjgYd8e5C/3ePsEBor6E/8X93j3zvQwAWMDYwJHBTgReAXhCEoMEh3vF5UT+RiQL3gi5iH3HmUUzR5THigz3i7ONqY/ZzwNSLBUoVofX3Nr22zoaBFecFukRf0/rTcTL3IeFyhSEqwSeg3QDD4KWQAnCs/zm/gF8vb2Kd/E4rvWs9S30eDGDs5Rvb3J48Ccy0POTsAT2MvRreGf38fsNu8X8bz3S/9a9ifsmAH6/bj/OPEa+JbzRvs1/An5XQYH/pECR/jF/afxIe8p7ybx3dhy5wLa/d0K1h7OWd1L0oTZN9UV3mbe0tMX3zblQ/HT6ivrcfAd9Kr8ufeI5vb8B/i2+O37OgS4C6gFRAxnBqQJWBBeETkZSxdRF+UWOghiEnMXVxNVFs8twSyPNL9RQVK1WzRh4VxNY9ZWamnkWqhUc0pZT3Mx2TT6LM8rFSY7J+MjnRA/KKIcagzWBzcESQY++jPu49hR2BLOs8H6xlHE4b1Vwo7LZr2pyvTI3NG40GjbBPBL9vXzjO6o8q7hDuW8+VHiM+z28/j2/e4M5jzrFvO06X378vpi/vLxlfVo+QgA7fN18Azz3uT66LHf0OM75nnb9t8D3e/x1tso8HTrTOT160vipOrS6U/z3eLk8Ofo/+675d77DPdu9In/mf2lDDYDqBxh/m8bKQ9IG0H8nhaNCZP4gxAcD8wO4xjYG3wuG0ATRpNINk14Sx1dcEw+WRdUr1M2U3VETTduKyIhkyTsHwIZCCFPGtggVCHvIn4CfgFT/YP5Ne8s4HDgPr0ivf7KrbmtwT65wMu+1jnSl9xI2CjV/tai4inv/uUM5Tbnz+ib45rcfe7f7K/1lO2FAkv+xf0MA7sMgAeoAaEM7v+QCCP+sgQl79ruNe9/9nLoCeIn36zrXevW3W3m3tiz7cfjkN5C00XnoulB3Mjnbd2J5WLxXvI17EX4se03+CTvv/7m+yL+Gg3/FsYQERTbBRkSORDqEKkW7BXfHZIUghd7Hp0cCSWLGzo4ZUyaTH4/xj/iSYFPrEgIQjlK8kb2UlY8zTt5LSEpJxcbHrQnbjJRJEctCCKuGav/swbVBHD/DvEA98DfAuDf4cnJsscXzXDXOteR26XmMd/2zlHQ9dv23EbZit2q5evl2Ohu6b7fCOgC7y7qsgTfBXD8Vwk/CXr8sfii9zQA9gLl74EABgRH/Wr9OvrJ9rf7sezL9Dj5uOGP9Wbf4Ntj5Ez0L+dc3AXcPdhJ2afdbNpUy2PgKuq08kTz6/ov8zTvSfvT/Jj5FgRoEdsE9QGUEikIKguXEHgS2xD3HIMZoRp9Fl4CdA4ZEhoqATixPco48UI4RmBFk0C/ScNArEw/X55CsDKmMqozKyEsLFciQSr+LOMh6yKwDbMBKfV7/4/0GeHI7WTfd+H50q3F+tEcxDm96cO72BLMis/yzA/XK9Hi3Urc9t0a6Lnrj+30/S8AsPG58t/wNv9A/2AIrALhCTAI7/m+AbfxDQkQAHDwXvc68B/yvfMb9QDmeumB50ToifBo5enZLNsn2DHZCcU44GDQ3uYB3tDePNp99Xfijuv85Fb8P/ZW8Az7VfV+Bb/xKgX/BwsP0g9bEbQSaA3iEmki8RkRGzkKKxImC+IJthYGGNsrIT1qQvY5bFSWP3E60Dv2R+VTqEoARHdFKzsIMEortC7eIOEsLyNyMd8egBoLGTUGtPho9Tb0QOIR5k3qme+D6GzQd9F8zFHrstY14wfgzd9z3HDLEscnxt7RW84z5QPnH+qf4Eb3cN2q5jr+JhGgB9sRzPZ5/0gFMve89oX/PfMhB+MPxwUkBfr5X/r/+VTwqvQn9c3ku/Og9FPh1dRL3J3VWti52pLiV+Kq41XiAexu2TbYhOer3Gnua+JC6bzvKeVV7hz0kfYkCR0SwhaFERELqf2yDdQYohQVFv8IJh+yD6UashcsDUgXSSIVNFY0aU/RSExJe0ILOy1EgTAyPTYyNzqFNyA51CJkLTEqRCPVJ8srRymCHL4enRFb+Fnmge+o8nbqX/Lc6Srqo/NN4SnHh7+az+7N28tGyKfJ2dOzz6PXEdt71G/eofAe7dgC4/lhApf1N/nq9M3u9PaqAR4BWgBvC3wAZQJjCjsE/hdiAmgT8w3vFuD+XgK+8Xbtc++Y87T5Z/Pe9IbxHO0d7DnubfWi8FXspe7X5ZHqGeb42jXfptzE4DrnqetF637wuPQV8xv2LflUAAcA2gLyBoEFpBBjBiYNlBJ5B5EV3RsGF5QXOxjYFZElsy0hOtBK7l/1SGVLLk1yOn8/w1CPR5g9UEGLOao4YjJSLs0qRSeEMg8wOSyIJhQdtAHL8XT0HegW5ojppeJK6znnXtWU15jSOduPxW/Ons8ZyU7Qo8YUw63aAtYZ1lfuEOK45vjuiuZ74/Po19ni3DjkgetLCJP8UROSBlYWf/9RDtj66AeCCXEVyQtD/uUH9v4p/Ab+ewft+Jj+Hw/c88Hvgeok70vg5+ff5h/mUfBJ6xz3T+tl6WTym+sB9F75//TL95rnW/nL9/n+ovrJ9xICxQ9IEy4P3g+7FlsG4BFCFJEV9QiVBbcI+xIsFv8X3Sf8MlpFZEPbPeIyxCkWMfoxLC0pNWUroSjaMzwq4ygRHwAwpi4pKtwl2CB4DckLTQLZ75v6XuvI8LfzSAHL8SjtMuYI2bnCp83JuX6v+becrTGzL8wkz+veheli3BjtQNL0zhTPz9ku6xDUXNoB4X3uufHfCM/+QBCqAt0WfQ1mBDUHQw3c/SAJ0/8QDikNgiLqFkoLDhGfEWkBl/nw8+rt3O+z8LvwNe90/3zy9fo0+cYEm/UX5p7set2w44/hv9+c3S/kaPPl7jr7R/YIDwsTtg+tBEkGm/8YCG0GzAHMFAQMASLXCjQbxhiFKbAhJibfJl9CAj5bTOUrVyuaKWIjSyDMOM1CLUQhOnkzRC5LK+kmACRGKTojNykmJmkWXAZb//QKAgKgE37+rgYC/KT3EO+l513n6NjE0K7A9sgOyDvBw9AZ1bfbNt2o5jDWVNIoyN3FYMt1yW7Dxc3e37LXl+zv4+D3MuBJ6Rv5Tvnw7p/73v1E+NH+gPmdDdoKGB2uCg0MiAfp/JP///g//PD2P/dg9k/4BAKBCpDy5QQC+sj0nfWW7zLlIuzP42zrFO5K7cz66fUI+hn0/PyH/X75B/Pi+bz0lP+NAT33N/QWBecEMxOcErEQZBfNCuYUxQaT/v0GphWRMRM1sz4UNO0rpCpmFMIXjBiEHdkWtCtJLWIzpigDNHAhHS5KJcEnsCBRC/wWHwyuG+cbMBbBDpcWiBkOF8EI+f3m5yv3O++68CHzF+3E5dHumuzV5jLvofDT8KfiWdyi1iHR1sZo2zvEWd0w7u/0+ezB7OjsEOlM2v/d4ehA5MHrWey+8lDvjPhU+Hb7DP+D8FHnsPKf/2z10/hP+7UBF/1YBbgMEAlqD7z9F/dk7SLxcfRaAF78hQpaBj0DzAR7/sv7E/lO+kwLmPpo8mP5Cf4N/+sJMAa1DGcUlg4VB/kK5AaCAtz2/f3AAGkEGgZYGbcWjRbmIoAScfmqDNsNKhCZDZcUkR/SIPwr6yn9HxkexyTKIE4snCOfEjca/hFlEQMezhlcJvMbzC+KFdYNKAnq/o/9owN0+64KYgB184D5U/NV/+Hs3PTx8mntI+bB01TfMt193RvjQuyn5CLqWe0a62DZaN4M2A/mp95s4int/uVL7vTdfO1Y6r7nO/GB8B7r7P/s7G7m3/Od6tr9cuzM6eYCGQHF+t72T//QAEn9JPdQ+mX8tRCE/WsABQGoBz/66wC2/LkPeAL2Agr8XQ8MCNIH9w7hARcN/P8qCIcICQsSB5YETAiVC1T+ogtP+6L/DhFSBhAEfwcWE4UGbgUdBDQLxwzYCLUVGCBMELoLiwmhC4AGyAeYEboXpxSTFpkjJBrlGQIOOBEfI6ASXBu4GdUT9Q0gCkYWLQTWF/UJqAoXFLUDnQEJBsMCywBJBvPysgpo+SMMCf9L9jbuJ/Om8knl7O9//+/esOsl8p7sA9tk8BPh9/K788Lyk+0H4uzqCe5O6grrC/jy9kru9+tgAAvr2Oyy81rt7fcX90X8RwFg6/LyGe4T9Pv+q/z6+fTtpPLp+0XzcemD/ij7TPRnCE/3t/6M+GkCI/HF9AP5svfB8YEBCPnoBIIGPf7i/Y/7rvan7FT3ivEL+C0O7QFTDS8OAgbGCzwJIASs/18Pzgf7IUIiGhwXG/cgsyR5KfkkyybbHl8nQjOJGJYmrStqKK089zzXOcUg/yUFJKIaDBa8GOYc4hZ2FTIJWgr5CnoH0Qg5CtAB9fNO7IHy5vDW5lnrOfVW7+jm1ub44irlIuaG3CTi0NmH6SHnR9wt2V3T89Hy4bTaiOEc5iTZeNt86wvjSOGT46LooOcW75HvvvAK5mDmHuvr9j/zr/aC5ebwjOi4ACr7Avgd++b42/3J+4T49vSK7If//f3H/msAhQ0AAJj8MQkxAUgFXAstAEwLb+9u+2AGaBABFLsM9AkHAKgASAi8CngFPARKCmgPEv7EB/cJvQOgC+EAbf9U+BEKfRAMDq4V+Q3NDqkFBgSVGKUUzxpaEi4geC2WJ4gfbR+lKA8sujk/JzcrMyoMJGcXAyYxMVwvSikIJqguKSzeH3kWfA/LEswUPwnPDX8EeuyT6lz7NfU98MzlF+r84rDShNMc1//PxtfS0hzPpdFezqLYaNKIx7bNhMdPyGnRusxC353cDOtQ5RzmYuNP6g7uaPNf8OD52gMc+Lr3F/xV+SX+XQd8DrUFYxmuErgOhQ+eEasT+xMWGiwXQRY6EMUMv/1vGpgMNQzT+s/zRw4HC4ALCAFQEjP1AQKe89rw+/Qd7iX/h/HJ5nDzvPoe7TjnFe9/AoXskuqe8xvsmupf+GL7W/bc7An6m/ZKAwYT7RThDNALzhb8E172uQD2C2IYBylLI3MsDyaYJrUfWCu7LksybUGLQHUsGCeLImccLi1xK8UtuzkjLoErzRgcDS8J8wwFArINrfzU92L1hfRo1UTnJOPt3KjiidCs0ODeW9iW0VnED8jNusfRqc98xoHUPNFf1a/J0M5pyUrIA96A1I7mLuIW7CbvheA65k73UQdd/BADqQoSApMPGAfkDG8JSQ9uFjgL2wEv/6kGYAUM+9YGYBDq81T5sQisANsFLgBPCU4Be/hq9S3yLPNw8KD7xuZj8QPu6vBo7Pjy7/Ch6THxleEo7zXysfll86ntkehR9vny+OYi7HvxhvH09k8C4AqyB1YcdBHSFewQcRCXD+skyCXeML4w7TppMuM2jzbsNcFMVz81Rrk9PEeeO6Y0HTVvMZA64j4zMTc47iMzILIcpRQjEaEaXxSmFFLungGqBovqc/Rb6KHe3uDT0VrOpM7P1PTb0MspyE3K/butwv7QRNW40MrSkslDzTrSV9515FjryfP58Gb1UewE8Gf1u/k6/1EO2QwPDH/8eA81DPcJhQepGiwfdR9jC6cYYwOg/A4PthszHIX94guF/VQCc/iJ+0AB1PPE7TnvXPJOAHHyHvNb8aXjtuk+1u7rddyD4grlr9O85P/l193A4tzgl945+c3tT96o6Ef4tPeM91z//fDn+w4ReRRTD90ZoxjlDzcYfB7II/wwUCt3KMo0pDDpNC4z5jd7Ry07HjxlN14rI0CsL9goUi4eMRJAdDZYIg4jtQx2BZoX+A4VCeUK6vl48rT12Or84YLmBOG94zrLQtIZ0pPJSc53wtrFa8HlysvGCNE21xHFGr51yi7QFtlN3uri5dxq3qXpL+g+6Cf0cftU8rf0jAEC/ygLgwvQBr8FvgbVC04P8gMRDrQYjBMvDcoUQfwPD6AP5xEPCbQKxQxV9wb9XAI8+xr/yvfW/s3xCvzz/Vr9h/UAAUTt7OZ07Db7Fuww807+VPnL7ozyMvEr9Fj9N/L8/GXy0POP/7UK3wUdDesGUAWACMQMGhIuE+sRyw+fEs0Zfxr6IIgqmCR0MfQvkTRcJa8oljhYNjEvQDTrLhdCOSeXKdczMDLVKq4sminNIwQYPg5wCvgRhwytCdL/+gZO+I38Buwf6Mnb4N4/4kHfuOTE1JXTjdMF1iPdEsYC1UrIF7qaz5jVHNlM18vIAd66znHbOdgvxdjimuQJ+8PsVO2q97n1c/mr/L78YAH3EKsNqAXuB4oGHBs+HYkQuwtjDN8USAd3FzMRjgqzELwS4QT3BE4KaAc1/1UCggZl9jLpA/QR8QruRfjg8/7rn/pC9yb6vfMJ5gniEune7p3tWO+qBXP+sPC/+Tb14wqf8W/1CvRQAx8BBQbpACUBegjzES8JzhMPFPMXXx7/E6IfzSA3G94yBDT/MPgxcy4CJ1Iq3TOtRVk/NzQuLDo9ZiIzPJssTjFqL1AxNCwpJA4QCxujGn4OU/72AtIIUgL96c7mAO8t6HzritfG00Hh1MSd1Xe7vMyEwI3F9LW3xynSdMKlt826w8gk1fzKr94A237fDOGd2ZPkjO598JvrTPdj9fcBM+4jCcMSPhfNDxwMKx4SE3sHCRtrFAoY3RmcFFMfdRYiCpgNIgiRDBkZDRNwElELSgrt/WkJ6PHW7t3vWOi05xvyxvNL5hLqQOzB8tPnrt9S5FHk4OpD45rt4e6T7srmxeE08wv5M/M59ajzjfHU/7L+/AZmBMgCAQqq9/0EyAg0GqYXrRqMJIop4SJuIUYovySRImQqs0VdIy0y7SbSKgY7MD35N+1DHC5VKQUuGTbkI0YsTS2rIdISEhqmEwMZDR0Q/bEIPg8K/if2pvoi5krij+JM1ETLXtx6x3HWR8ynzHfN4MlHwOe8Grw9ybTUu8vOzvHKpM5R3kLZneZw82bu1fMg7LbrmP2m+p4GwvxD93AV/wAIHIEUPh57F2EgRhh5FrIcUyfLE1IdghXoEXAS0Be9EBIM8hxLBJwCTBA1BLD0DgGh+Hf+Te8m95rz4uPV57PreOKP6KrfA/P+6rHsCeqF4gr6sfGe7pL20ezD+Uj3/fHo+tHwKPNDBsv7swNW+VUKHwyHEMYGjxk3ERcWkQ73E3Eeli4sJXskgxiUKT8ghxhnMcs0njlbLwYxOCxFHyUiJjmyMOEkjDi6Keoh1RzFFUQb3hh9J4AtsRaG/2P/9/tu/zH6t/gp97Lmy+h35r3hE9G+z4rU1cF0x03QF8qjvsnIzLyIu+S7aLiovxXKm8xxyurOI9IL0VXNxtEE1xvm++yC32ztyeGz6WrvgQmi9YMVZwt7C+0HNhLaC8gOAB7DFg0RdhPyFEMXshvsDncVBw6qFNIOlxr0E7YFLQORADL4gvli/+0Fn/Dx8j39QfaN/lXmiuuS19TqmPJ55rjxMfTj8D3oDed/9bns9/t38Pj6hwTl86H6rQLl/M4Gfwmx/wkKzArfCYQMLBWeHaoZRSKZJaAShSdYIaomUC3kLSw1kSznM5ckhB/ILQAsK0L6JYAoCRq0JVUrTzDMNFUxjyvNLmsYhyBnHK8XCxzxF/sTIB/HAocEU/RK8zoFevbJ5bfwsOp74kvg1dlr2WvQpNKpw6zLJc/oxmHGaciGv83RDsZBy8jFdssv1oPWRdGH2EPeLN8F2ZPwhesn+mDuS/X+++YSnAJ3CRgD/gwOGbIRixeoFtEWChHJCZULIxnyEH4TpBU5GhQRmQEB+t79lf3q/d4FNP+48KHwqOwD5iXrvNwK6iDsPOaX85Df+ePx5/LmP+Dq3XPoNO4Y7evdye7h5Qjvn/P1+yDuffJP+xv61wVXBJIBzgC5GFgYbAoRB0MW3SHAHnUUayCHKY8nyCo4IYwxVS+DMJ0ymDB2LsgqwjkkMOA4ij20Rog1QynOKY46kR7eNQk5nCtMKPYjHBo/GF8VuhpaFJQXJwZ0Atz48O3857r5Hva471/uheWT29zev9S51rLM/NHwy6rT5sO8voK8dM9fyBfIQ8XNzDTe98y8zpjOYc7s0oDYlOKW17v4c/db/ef7O/k9/S/rmwQnBJwOqw3+Da0c3gXwCUwLLg5qGRYKIBKOEsYQohH6BngCWACTDDIA9/arAx4B/AAK/dP3EPvF8dXvbeoe+V3xCf/V4hfoJPDX9EjtmgSH8P/vvfV96Lb8FvFC8wcAqwNgDi4CRQb7Al4FXQl1CmgDdQ/YEk0PjRf1GyUh1xd1FtoeERnlD2oZNCOMHEcXhxRhGRch4CZGK4MfWSYvDnoQ5hiSI0YqJzKcK2YabRgfG1sfTRPyE/8SsBlLEX8ghhbgFBsPcxbdBB0SDgeGBCAU+vjZ/Ljzrf6fAmr/4/fd8+XxDOWp6M3rGeEn6MjfT+Cy4ALU2soQ2ZfeleXY5fbY9tu48TbWSud860XaVOob3nDrJvB37SHs7PJw8srwOvu38e7z7/dnBTsLQgISA4kApgeM+Jz6jhSQ/oAP9PzFAf/5aQtqCXoGFw+lAYcAzhKb/NXxuPlo9bv+Ke4q9NrzOfeA9FHtXPAU/P0AKPMm8KD2GvEG7l39+vf883T5Nvp7/t/0rQMWBn3+2f/XBfgIrQfoBYgClw+GBh0BQxBnDmsCIRacCtAJbQJTDWcNWQzyCdYGOQmNAFIQByD/CZEMTgVdBUEL3ApoDXEaKyYcHMsgUBO8EkMGsA0bGy0a2A48Iv8ZoQsmAkMGVv0PFTgQ1w/hBW4CIQFCB20FtgX6AX0HvQEj8/vy4u7i9LfnQ+8w6pTgBund56DbdeZb4Mrsqeq25jPcsd5O5/vrOuRW6F7hNdxU6uDhAe3V6rbkzfWL7QX1jvmB+FXxpvKmAMvzR/VUAQkDC/x0/7z7RRO9+8b95fQzA9EL+gGfBoULYwd9/hH+Ggfh+qf+GwNUBlwReQRd/A/zkgOd/eH2ovdhAxT/EwFGAE8GYPcD6zMBBAQMAIv99QTYCvUAkvYQAaEKMgnmDo0H2QP9Ef4MNhUsAyoPKgt7CGoWtghEBwMMIRJJ/3YE/we4DdMPygzc/pACswO3A3cLkw75EKIX3g3BBC8GmQX7FD0CWg0OFoAMuv9d+7wObA1VB2kVCxd2EX4NtgLlECgJRBHJFygFsQqSDgD9EwJJCdj0QvOtAU7yyvgvAjD0f+eF9wb2Sfbq9CPsyfoR7B3tGeeq8iL1m+h17MTq++xE5OTnhOor66rsX+5U7jvb3Osg85PkvPuf9P/ot/1J+p0EFvHT9sf35/bx+vH8IwSEAbcIPgqs/qL+2v3YCbAQ0PziAh4VmgFoAwsAZQy+ENcOaQkRCJQRaAmZBfcKKAIfESAPJAAtCRH4RwU0DjgFDQ/bCfUL5wu4Bwz9aAq6/Cr6JgP8/t0HVQbj/M8HegLVBRMF1PeU/9oAEAJZ8Sn7c/Od+nEC1/km84wKkPrq+yIEuP3zBCj6l/jB+IX+uQYMApUKv/9fDFUGgAVK++sBLgjPCwYYHxuxGP0Pyf4a/0IQIgjaHKkRNxeOAv0CKgwIE/8QcRElF0sHYw3TBHwHOQ30+bD/cBMUDxsGfQBe/0T3vfh892L9zfnA8mj5Le/25grmHfKk8An17Our5ovqVOuT79fij/QW7Yztpevg7dbrovB95+3l8fx56/L2++Ic7SX2CPBh9BX8xvfp/2X8B/VV9XsA0fPiDNECpwT0/jf+JQmQ/f4NfAfdAbn9bf54CKL+Nv+UA8sMhg3wCmIADwl/ApEQofVDBPkFnwcGAFkHWv+D+A30awScBKcGtf0vBO38sgmgBI0B4gJmCWUK3gAeA28M4weYCBz/bA+HBUYI5AWkAkcMVATgCloEVffO/437nQXTAnMHWAi7AlIGGP94AxcLWw7MD1kItgtACIgFVfueDgcGTh+1FBUNXAd8B9ILwAdP/LwTwA29EL8OEBHdCRH9yAz8FNkLKA3dCRQDvQXD+e722wR19H38qPeZ6P7xW/Zv8dXikv24//7vQ+YZ8Lr0cPO28gDyONvA7Wzl1umb7tfmf+sv4ZT3FvEc5SjnHews6Un3tPrCAAr0CPhd+jj6+vaK9479BgSOCjoGVPoTGdURB/2M+EcA0gff/CQEPgr1AK4NRA4H/L0NHQaiBygEOQsQBcYKagz0BzwCXvoR/Gv9BfTQ9hT+NgAUALX7v/iD8RX6Huuy+hD/Ev3w+Qzw+e6S/KL1+Pic+RP5QQOOAvzy9QN4BCH8UgeyCbwNaP7x8in5JgXXCkUA9Ay//E0KSQXkA7IHePwcD/j+rwtlAm0O1xC3GWIMuxFMBkAKtRf+DQMVuRVPH6YaKQM7B6UZtRI3GtARXReBElwIZQuJCqYOewXOEFYVawIJCjUB3PT+/KD/jgHW8y39+fl39v3ro/N98KDuZfnO7JHopvLi8Bnryexx6w/tU/E450nrwevB48XjG+305sbxv+FJ7jrqzPBX8lb0yP7xAzv8/v5D+IP3qv4oC3gGFAc9C9AGh/8fCCcIzP4KCcMJTgrCC1cGYP9+BSv/gv7LBPQDgQ/OAEv9ZwrfA+b5vgO4Bpj7UwBa9aX57wPS87P72O/s/nvy/QNWAk0B2wT+8Tv8I/8eBq72cwQX+1sD+v9QDjEGAAkS9xwB0wkVBasCkAua/lkFgPwrBrcadQg3EpsGLAZBBHUIsg5TC6YDBQvcDlwSSxUFEHIh2hzFCZcQmgB9C9UgzRXtHKAMMROgDvP6rQkJB9MRZxCqGH4I8xeBBIAG5A19Bl/8KQix7Nn7o+5C9yHyYvXU9PT+//Xz4rvkUOU6343fEPBh4x0BSN+I44HgB94F5d3lg+u68KLXZOei4mLj0upV7TXq5+pM9Zb5e+xL7qcDuviDAMUUcgeWFbb7awLKBkAPAA+gKAILjhjlCgH/4hCGDUIcThnDEub2fwGR+db5MPlMHF8J4hlcCRb6HgGu8+b47QfCDEn6nf4J+QLsJe0F6zz9pfz9/7TurfWL94PvnfhKAM7/W/5B+PH1UfWF7cIDMgSM/DP5ygVx+ITysviP/pMLQQyKBNoEPQ3MA1sA7v1XAG0ETAs8B5kT3wsaBTX3qwo5/zgRDBSQF3QgdxcrC5AFQxhnFUgbayDgKzsmJCW8IqYS7hblGn8Zrh1bIJYY1QjYCnwI2wQqCJMVyxHNCyrvUvCH9pDtZ/WU9pL1lvGb20vdrdXX4NPlouL43aXr6dblyhPgFdz+6+ztx+cq9bHmc+U99ODku+q5ARf2kfZyB9QMTvNMCAsBOQkbEM4WUBelDJwQTQmlDVwOZw9fCnsD4RIrDUoJMgRfBPYFT/OB6m71fPqY7aLtJ/MN9drfWuw96B7onuD+3/ziM+fn62Xr7e7Q+2TwI+6Z/ZH1lvqhAqQH4QQFC9IP/vutEbUNURv4DcIPRBgKEIwP1gaUF9ESpxGIF2wOuRYmFOIMDAsaA1sO/QAyAC3+XQdX/IH96Pv1/qADAvOI/60DxPT79bzwVwCJAIcL4w9cGo8JcR2/DfMGkBBWD7kUHyP0K3MreinYHqAhsClKHXgxpCwQJBomch2sFBkL5hLCEDgO2g26ADoAovWJ5ufqAuf26mPucthf47nMlMy+19zLS96+07HZDddezJnPCMx70n3Xc+bb5uDvoOiQ6Cjq3/Gq/f7zHAfJApsKAQijDjwKmhckCDQZKhwNEGYWWhSQEmkHNRxAECsU3fnq/gsRfAjK9bsAwfWm89z9E/iK8BnyiPSz6tzr7uOg4vPnTOCC77Dffuq05wvzrugJ9qgFxPZz92r+CPqd+QIMYw4aBwgPuRADDyUcaxuUJA0gCB0XGpAcMSOGE0oMLBTXGWETpAJ9DCsL7gVLD5kBnf1pCvHt3PiHAAL3Gf4eAaP0gO7X98EF8wtlCQYNzRFrDm0GyAfUCAoR2yn7IJ0gtx7SJVwaLRsmHukaiClzH8wc9hIJEiMSyg24GXYQKwhrCZkEOPWr6DHi4utu+Wz7iOn83lnX29Cp4e7aotlS2FDXZt1w3Qbbht3C1fPch+4A6Wn2UPhy6MrojfC/AKcDqQZHE8AUpg9PALYPCg5dEzIW5xreF4cc/xpWBaL5KAQWB1wDyQk6BNMF6frh9Hbnpfrh72DvqOpH64PeNOIg6ZXdMeh77nfhYeux6Z3jce/H9t4HMAGk9qkE3gm1+cIHUxbtDB0NxRenDakQih+0EpgZ3RmWIsgiECFdEJkTLQ4+FFwZ6wjDEm8Gu/u3CZ/zOvHF72b4Z+lY8z/se+5f9tDuxfzK+sH/P/dX9av6afZD8T3/qgPGEFgH2B9sFqYjXworB4cVJxzkMzwlUjOAM3AkjCX6G9cTux/OHO0iFg05CDwB5wGoARr/Ngk484rxeuz0zmfLg9RnznrEM9Qsyou/6MY71/fUyeKR0QDZuuWj28vfitPr1Dvh/ukZ6dH65AsODIIcrQ0s/yEMgATyAl4E3w5nIfAj/BmAD2UWSw7CBvkETwk4DMD7dfFs9zH5iPDB7Hr8H/Az7oH2d/Yq2gjYKOTp6KX1futU57PvFfaD+/H7gQmsAe0DggI6B5cX+ABgCzkL7AGTFqkPHhnbItcWxRfAFlUSUQ1zEqMX0xP5DjELDgoiCCQOgwzRCJwAu/6W/m/0sujS7Znw1P4E7cnt3/Yw8dDoM/EE7ZvygPKK8u34NAH38swPfgMQE4EXphUqH7AYJhf5FPMchConJW4xIS+rPSYrACUlI14bLx5WFm0ruhaSGZwCPPjc89LzzPu989/8W+zu7CvkW9dYzITUC84+1VTVjdWwx4XcNdPs2Qjij+3E8OLtyunD3O/jU+0J7gwF8wfFDjQTxA5CCfcUYBUYDCwShxC7GbYJDAwRDIMH3APuGt//FgvQCnQCWQp6+evxLORT99Tx+fNz5ojvWPXE6x/8uv6G5IHptePA/Zr7dv+C8joEzQ6J/iD4ngDyApgdwA3KFAENTw4GEtAHChotDQkRDRrtF+8TARH3EXwawQz+/7IL5gvYAdf7JQCgDYL9iwZy+9Dxt+ca8cHrNvj86lb4KO2j3YHhe+zv4xf2+PmL8pECZPnV9Un6nvw2/Vf6xQa0H28bQCOEJcYrGSZ3GSYl7AwFE4IRNBbCGggrwSfGI1kgvB2OH38dzxnHCaAFavVt4djo1+F16tT0lPuM/IzwM+r20o7HN9eUyvfTANrU1NncLdqX2DznFe8Y7mH6UP9d/ob8xf1N/f74o/7iDH4MugkOERIaKxM9DsIDDxL7EboRhBR8ChsPiQYTA//5ge3H/I735/Mw65fySepM7q78ke0M8kvqRfA39ivlLvdx9ULzzPQl+wb1qexz8X7uSvdd8eUFxRJ8Ey8fnhFTHRAheiB0FF8OSRMFCSANrgsjDTQNBRcXG9YTrBChIy4OLghMC7AM1AjR8kT4bfFP7Qjyx/Jp33PtIu3O/HfzF/FG8h31E/HK8b39KwMk/3sBfgKPCT4PkgnBD/0Kwgj7COQX3iafM54t0iOBKtomwSJJL20iUiaTIcEneiYNJCYfZxnNDpkaeP3h/6gDZvyU6v7xAuy+6/fw7gHI8Nz6z+va4XvZI9zp1w3cMNrI2VfjnOkc3vHvTfHy9Mb6efty/BYAXPxdDewDzQSfB7YdOA5EE0v+MBArAS0RP//H/UoLaBBHChIMD/uEBf/6bPrdD6/5mPOT9oLzYej07EPb8OT88i8CtwYx/kkAIuzM7k76ZO7+/psMcgLB+1HyJQPRB3sJcBwjEJgI4QRjBZQEs/+dBqcAvRstEekRygcK+bLyfesy/2ECHgaPCqIAePnF8q3/Hvpy6x338u4385b90O8c7lf0Ae8F8lTtRunC9XXsH/3aABT5ZwZdCj8GQxxTE5MKjfui/+f/5/74BI8Xii+oQEgvfyyoKSIg1yTSGUIXQhfbCEQbTQ3zCEYMSBL+EQUi+hWpDoT9JvkL9KjxZec087/8y+0e/voAXfir6WfnBuAl8ePoVOlj8/LyJuj57vjd1/E09EnuRfrFCG0CuQg1+IIG/gmzCa8QVBI/BAAIvP3y+wT0EQG1A28PmAFaDkcFC/o3+tD8F/F+85P3++te51zjw+Wi5zTyTO1H9ObuTvX05yPjOeqI7XLvM+cV7Y34DvR79lYB3g4aDUUHVf8PDFgPLQMkBBcKuwh9AocQWQouCyX/4Q2kFm0BPgV0CBIC0/bjCdPxkAGE/8H3mveUCDj+C/PG8W7vFPdP8DH1IPtB/+L89fQ490PwwP6E/XkDBfhfARoF5ALxBfkCZAWxAnwE+gv3DmAOsxVBEswTbQ1KHqMaEhAUGUgoERACHOYc7hd9ILwd5xrBJV4RvycIE0kLAQjEDz8NJA6y/WYA3wXjAIHwCPUGAMHvl9+U8I7u7OBA6PT4ofLa65LrR/WX8CjzVO0V+OPnLuas8+H8QAye/vkORf4cBdL5bAFg/rsA2e+9A30IQwbm8SQJ9fYYBXEJzfvdCMsBTP6v+h7fM+1D7aDrD/nC5wP0LOjS98z4Ugaf+yTsjfAH7rnzJ/xX9Oj5QPqNCdf9RwGR/9kBeAMGBbIFNPcD/E0CTQ09ACUR3xdDAdAJ1hMiEikdWBbcBk73lQrFC8IGdAnf/4IBVgcu8RX0SvpU+pv5u/Th+iDvDOtuACP2fvDk/IrwGO6S/+X0pvrXA+EFcwUIBWAM8AQH/5wIXgTECpwNsw32DlILNB5nIG8b7x0qHZspRiH1GJEbgRM2GSId3RTREXoOUhZ9+dMJkQWO9l4FkAx69Dz71vgu6NDnQ9qx08bkq99v7v3kredQ7Q7pstuG61r+9+1I6ejr2N/v807zZfWO+Cj9sAAvB37r3gTxCVUZ4wZQAmQCQgyL/6AJ0g+nBl//vA60Dt4NFg71+g79F/UF/bny8f6t9SvkM+67+jvxp/9w+PLw2/PX+3r/hv1NB177JfUrBKUAewjSADcMCAirBS0F2QxsENIQlBUfD3kP8RA0GUYNXA9LFNsJwhqpElUEJgXLBcAA4QB0BWYBqgAC/Fr9JfsE8EgC8P3W+HjncvGK8Cb97e0T91YC6vzi8OjwVPlR+UH93PZA79b9ZPIf/nkFHgZP+5UNaP/vDTwJBwfHB7wGIQi+A94KgQprFZQXVxY8AYsNVRGeA3oKeQ+SF/AKNRAq+Yn+G/+r/mwG9QLuBKMBhvEb85/7x++B9zn4MuEc7eb1qvCe+iDxDPa46cj0FwL58lLrXO5y8kbuuvAlABb7ofMw/eL3V/qaCOwNugJLBNcEifcMBSAAWPSUA/sEugqG/njzNQdbAOwAWAeaACb0afyw+kkBvPCf80b9rPVy/c8DvPq6/irzJv+0+GT/zQLL+pj94AJIAoTlWwE9/EIEL/4BB1UDfgSO+8YIJQNL/kL0G/m+BnIG8AUVDNIGyfz56QoHw/re8inzC/bX/kv6XvSx9BHzvvl9883/YfMn+kb3gPqY7MjmfP1A8Fv7AADi/rsDCP3H9U8B+gCaDDEJ6g59BT8BYAV0ALL/xQvqCC8KPR39/B4EEBIBBOQIvREZGdQblAzaGWMXFw5EDfsTZwuACoYWLgG7AN8F8gZnAAEF8RKmCLz9DPav6n3tz/op+8oABf4sA6z1kfu/9UjywvaU9obmffKL8Pv3MPUn+mn6g+ff8VYBywP6/QD+s/wtAU713QAXDhP1hQKW+QMNG/Jl/N3wKem47//+4wAC+jj22P4/88AFCgV6Ak3yze5U8Cf3Wv03+yfxR+mF+QryUggeBeb/RwqdCEsDPwIkCEb6ZggyCp4C5QK6DOQA9wBuDaQXXw5NEUQbKAQUCvEHCgULCcf4HQa3+pH/qvna6h3tovc//hj6WAAkBbb8Bf2iATX7iv7j88H8GfToA93s4Pzf9f0FmvQXCpf8QwrY+pcHtf+W/ioAjgF6/jT7Qgd6ECUDzweBE6kVvQAaBGASIADoE7EJrQM2DK8R4BNkFKwLxRFDDW0ONgKW+SIEHQVMCT0HIwg1EHAGXwfk/mr9GwDiBvz/bg1D+xn/iPy89y0FVPOq9LDuowCU6nP1UeyO/E3+6fUdAnsDAf3o8D/1KfZ8/lP99AScBUcBYQGF/SwHjwHp/pX5CQZuAlkBVAdS86r+H/+k7RfuLf5Q9sn0vve58n/6ivom+Wny7vvWAD33Zf7o+Jz3m/qB/7f4ZPhnAqAK+Pd39jIIRxId/rX7PAIc/RkMP/9TAnoHhPcqCV8PwgMK8r31PgSf+8IDDQECAO0ISgYXAsoCQv8fBCgLoQrw/HMP+v1RBcz4vgNZ/oICwQjcB4gKAQl0AckEXP1ABmgOZ/wpBWD9qwaQBvsE0Qt7CMECgvrQ/7YDKw5rCz0TARf5DW8CjBLIAjAPxwCWHkQIDAFNEtcNlADGDCAPRQ5rCYwHYwRQA4r62v/yAA0D+AqHAIkHCQHH9LrzG/EBAqUHwgBHAvEBkvR+9gP4COGX/oj8PO+19aEHGfsK+YX7pP4Q9fT+rPk090IBMfW0CO4PfQynDWn/fvft+acGx/ve8u78zPJJ/Zf+Agi378UGJP05B5b8VASzCC8O1wi2BHoKfPdbCPUIrvky/KIExPc+7e//qg15BbsGwwLcD+IFzwBQD1sCMAA//0oCpu7S+5gJzAeL/88JWQMYB88G0wPaBpAFWwsUB9oNYgQJ+FL6mwip+2cT0PvI9Jzx2/wI8+TwPAX4BGr0/PS4/Lr8yQDRBWD1PPsZAEH4AwSv/AIBSQCa7af2ePV0CJz8n/9VAr0JbguoEI7+vBARCy4FIv02/RoBqgBx+uMBKP+DFqADOwf8BlQHNQFjARUMCAb0C9gIowvCCRQLJ/qJ/RIBO/+0+Lj8bPe6/i/4A/Xp8xnr9PR3BjAJVgEhAO8ApvyU/YT5N+7k/9T3Hv1tBE4FdwkLCWwPRgRBCxIEAvlR8Rr0uPmb9e4FNwTDEuELmQlKBsoEKgBV+Gr/Lf618p/0zQX5BHT/H/UJ8Jfyoftf8w4GeAH3FjvwwAdUBDYHhPox8Cnv3fHV7Un7gPh9/7H7ufz58zkFGwRE+3MEXP4QB5f9Wvgk+xIB2wDXAYL0FQ7LAwb/EQywFI4LRRD+Ay4E3wRCCDsEEw1jATUOcgSaCa0H/QN6CO8FyPoHEdoAUgN+C6oG7AiAAn8EEABkCMsIvP19/zX/wQLgA7H+6wOMBtj3WfsI/JUHDf8G9U0HNAm4+6wA7wQVAvMNyf3tAmH6ofjoBMX6yftkAyX9gfwB+t7t3AAc7631GPFI/hQBIPws/dj++ffVAHzzz/om81j5YQcQ/dz4KfuH/nn7qvwA+Kr7kAec/Or/GwY+/VDsSvU8BhQDcPv8AccI+fdk+3r8Sv4P7wD8/QrxAsb5pQHUA3MCDAFS9H71sP1BBSoDlwcdCsQMTAUlBwn+jQa8A9MKZgAx/1wK1AmDCa/3hwYAD4ICAQdS92X7ZwTT/NHsHvgI+Mz9vv74A6n/uQOi+Cz7QguN/Lf34w4k8R39fxCP8yPwX/rQAAUFrxBoDUYYIv0m90j7c/dw9Nv9RwJH/EUFGQU/CZgNjBEwAlsIVwRyCTb9PASDBQH3vAYg9D7+rgSP6ekFMAiqBqsOuAqAEaMMiwVm9NUCn/ll+pnzf/qjAN8Fng8Y/2oIyvoD/XERigob/0P0VwO6B4X6MgfG/8r8JQCpD/sEqAJFGDP9uASG9qv3zP7J/pf0RviqBvP2mvK0A80GRwziAln/ov9A+xHrjf+CAln7j/RC+CQOX/CY84IK6gGx/tb+qgFv/xDy8v+V+bfm/vUU/3MDmwHx+tsCePYEBjT1N/Yw/yz5Hvnq8Vn6y/qdBHL/5RPXAT8EP/GLBXzrK/jBAdr08P2GAmb/EfelBAwPVvfd8kX3sP1X/8v9zghEAK8CQhEFBRkAxRBFBLACrA9lCicQXAqgCgwQrwaNBdj0/wI1BsD9UQYtBGX/fv6iAzQMzxCKDMUJ9QLl8iD8YwM//rv3mv+KAC8C+frk9h0ESwio8lr/qwClDl73MPuQ9JDuOPq7/m0AeQg+CWX91vCa+en9cvRD+NP81fsI+rL+6P3sDFv/ewh8+x33Cfzk92EE4/ID++T92QOP89gAsP23+SAAsAF19dbthvYv+2IDUfcl/rL88Pne/jzwBfIdAHj4Rgez/aT9DQYoBdUDCfns+iELcvz8/zbtYvLb+yH9VwKjCCH7J/8VC1r2n/4eAQ4IOw06714C8QCJ/ZsGjAhyChb/UP0V/xX9sP1fB5gFGvpL/9X6x/nk/r77rQkQADgC4v7kDpIIAv6C/+b5+ACb+/QH5w3YAJcA/fwaEagKXgwgB3EXRwe0+hcGvf/K927+tPtrCVsLYv2KB2H81QHsCpAFGAAzCL/52vq5/hPzk/+39lv2ZvY+BWoI9f9q/KsIzQnE+030tvaw/iv0f/2F9hEBvAHp+r3+jPp1/6EA9f1d9Cf5BAEg8m4Ce/pO9W3+nPspCaz8Sv5///T23/mb/lP/B/1V9z7wGwEd+0f9VAG/AIoFUwB8AFsBqvbj/VwFCQTn/9T1pgARBTEGSgXXFPUCqxOMCr8IpQCQDdXxCQHxBJ74+fzi/kb8n/iv/+7+IQxuAvoGtgu9BN8EYAGr/w0QvAU5/OL3T/7nCMEJnv15AMv7D/xG++4DRwAOAX8DmQmm+60LffmS/QEGqPcYC/IC2PxT8JwCj/FrB2f/7wndAtn8uwit/sEJsAyK/jYFBAV/Ar/smvKr9/X1sQcD/+sLpg3W+Mb24fYYDPb8wAUUB+oF3e84/Gn1vP5z8u3yQe0F95gDbftRDHz64gJa/rjrFftnB8QCoQSy/K72z/mIAQn/hvyZ+c8B5AU78YH20fZ5/I8ENwe+B+740P19Bx7rKwEa9ND9QPja+zH2MP9lFMYIHPx8AF/2jQD6AHQBcQS6AhUCVPxVAmMGyAbgBXf59fpEBpYGyQijA58QSQqtDMcNCgFmBUL6fgHoDDMOeP1++fAGXf8nA9n9R/7p+ecD3wIx/kIFswM++rn91PDNA0oJGw7u+tb/zAOd+I33C/zxASLxYv13/BP/G/6q+4EE/QZ6/8oFN/Vy+wD97QP29iH/oQPr9ukM3Puz+Rz2y/pfAIL2efzABm0Bpv/o/hX8kfYNAeEA3fqU8/L3PA3jAIjzaPHw9Yn4Efsw/nn/n/B1AtkIo/r98wH5LwAY/nP+lPxo86kIev5BDQIFffVcBJnvd/tP+7X8XOyx/JUD0wLMAjwLpwRr+RIBL/gp/Hz8fv/o97EF+AyF/iQFvACEBnX8Qflu9ZkMqv/v/4n9mf39+BD8bPzN/EL/hw9eDLv+7gw6/PoJ4PzyAYb8xgCG/vAGJwQO/RcIJ/zZCjcDk/db8+MHbAa3BhIDK/wn+nL39vxq+uX68vjG/jkBWRHLCJ/8OQQXCIsEjv7W/PzskAEuDwYHxQJeB5v4Zvyb+1r9bvmoCB8FcAC4+yr+8v5oEP34sgEW7K4GBASh+of6IghF/eX2e/yX/3r5NPZQAt8GFv3n+1H3+Pp79cX60vyz7p34vwHe/IX86AWh+nwCE/y8/s0DzAiUBfsBDANSAbsG4ggG/aD1vQTb/675Yva2+oL3ZgXsAU8Cu/d+CjcDyPNK/DYA7wG1EAACu/J+9g0N8f/5Dpz8mvoI/usCuAlhBgUQIf0P/qoC2PcjAyYHNQQB+04EngFf8z37mv5r/3vy6vvpAvQMQQoxBqkAaQF8Cm747/jK/zYIkQRfAKYBKQN0AuD+wASk+y4CxPikAPX9Zgpz9S/+SQ9+B4H5AwBC+7EDdPsdC7r7+P+sAe3/gQIQCKL4lwwdBUb+1/8A++T0TvwUBOALP/Fy/Af9ivxqCIEA/wOEBHb99Pq2BSD/WwDI9QYItwNu+M7z2AhP9dTyGvkx/KvtWAPw9PAEzfjS+WX1RveCBG33RgM09lEE4fTk8pcQfgMX/2r2ogDyB6YA/vcCBSj+DwiIBBH1Iv9V92v4Wvn5+g4ARAbX9u/5ZgDGB00I9fpn/8sAr/f8B27/QgdxBv/2evqHAUP+iAgjBf33NAuBCvsBcgMuARoCGAA6C6UFFgH8C3L6Hv08Cg78yAyhA5QG1AheCkoExwkH+ggDS/loBqwBWgqHAl8DFAsbBIQGef2GAxgAnBCeBqoAOf09DvD+n/mrBpABSfva76n8LwXz/MgAfvvA9sv5HAOl+0jt2QBaAa/6MweMBkb8PAQ4+TH+RPj/9H78WQvd8PP3V/FxAd0B8gTn/rP0aPbM+Pb6dQFx+jX3jPCQ/Bn8KgG58yH4BxGj+Qf3LwX+AsH4u/ZcCSLzC/o2AvHsFf0c8vr4MPFTB98KJBFfBDUAJvv4Bq0A8PyrABT6UAJq/Yj8Pf5vCgoFz/mB/EsJNgCf+j7/yf77BS0FzQJEBuMLlgzkAy/7lQI1BEgBgQXkA0gLwAgyB37+wgz4CrwIeP4MAa4Isfw5BlAGSQZ6CGr76fxO+aP6aglQAwwEbwhPC70BZg/JAPIEEgVHCRP3VfYhAanyqAQJ+mARsQHn/kQFXwY7C2b8MvRH+iMKL/hV/0P+WAMg7yH99AIz9kcP1/8C+xMFFPRM/L38P/0L/50BfgPZ7fH9avoiAiH8NQu4CIf8dPuAAYL63v7I72744u7YAgP8xf5m++cA/fqo8qn8cvzEAOr/6Q8ABAwCXfKh9jX64vhA88v8zezz+6j1rPlK/pL6D/b29jcGfgLPBJcHJ/n4EH8RgPW8A/L3yfgtAPT60flnAeoE+wobCsQFUvXn8gsBM/5VAvoCsfv3DtUHOQQFBcgGDvg9AUwCsvn7/ogDfABiCJUC2RFMF9gTZAeiAeYDF/rhAcj/AwX4BH8BawP8CjsJ3Qn/C6/+df6P+fDvtvV+/kr+fvyZDH4FiAagCOD7Dfrr/y4Fifdz82kFrALb+3cJYPvE9wD97vZ/9FYB2PxT/ZEEZvaH8dIAVflVAWQAX/1F7Av7yAjz/H4LQQjl9R/79Pic/qv6/PWs7jz/CACw+0H53f22Abb7fgHM/7L8IwLW/Eb/Ffri+Jv8ZP0V+OoGuvhSBFX/LQYDDf8ELwAWCm3/4v5e+nf/jwXI/V7+QhYBBqYGmQLJB3f6PvzfBeT2XQUgAFgMhQWtD20EoQikCvP/ofZO+gH9cfZaDAwDRwTACUYaKAyd/cAAov42BBIGZwWcAVn/pfzNCqsEAwki+Lf7Zw0v9gT+zP7dAR4DkA8QA1EBb/zcB28GCwiB+RED+xLg+v4AYQvLDisC7v39+DED8QaiBlQKbPXE/HIKFPSjCuYGhv6xA4P2GPj8Av74vvr7+QMAhfGVDQsKqvyRCST8FApHAnIAOf8K8Vj4tPaG9IP1tw0a/OQKU/6DDYoFdfmrDN8BrvaJ+JoD9f5mBa7/EAi4/XkBDAY9/M30qANuA633TgHpAMsKNP0FDfoMaglCAQb5/g27ACf5Y/9l/0kKV/1EDcr7DPphBqP6fvmy+aQAxg3AAKsB4gGWCqAJgQdPBfb6Bvmo/h/46wFFAYsBnP4eAYoEbP8j/ogF0vCb+Iz7ev7REjMEwg/DBL7/wQI7+IT++fm9/lrzUADoABz2aAFk+0QFyPla/uQLA/Sf9CUEcgZuA0MEzRKpBz76DQYoC/f4+f79A9oHrAU0/j31QPn0+Er8Lwef/3oD/QXT/KcIh/8d8zf5tvhl9ZIE0QOYBd4E9gOZANL8sfQj9vTxqQIu91H+lwf/Ch0UwgQ0+tMQvfs59fn0BPV1/Sr41RDACn0AtgzBA1wBQf6x+kH8CQFJ/QL7b/83BGr6qBT/+AD3CgYN+IL/4/W1ErADBPWeAif4E/vCAMICPwJoDLjxKAgBCa8BYf2NAZ/5rf5DHMT9XQeBDfMK//bI/wz8Tv28+Gr3Y/3+DLb/DwB6BRgBPf5S/QAJ7wRb+8r/Ngrm/8n4xfx1ACb6JAc4B3r2hgUd/OINavWr94ADB/6lAa8G5frfAXwBe/uyDaABtgQM/SgGkRMx/70ALwqmAPD9EPlA+RwBFP+gBIf6IAnz+9sDx/iWA0YKmwZk/Yftnf0H/OT9PvaQ9Pf2e/o0AUz4BAkEBpv+KfdvB+/66PRi/v0KCAS2+l32OgeyBnwH5QMDA6j7zgL5+k4AzP8M//IOMvi9/s734QIECfIAOxI8CiUBWgEvABcB4wKRB6v9+/9i/VwFvPDY/R338gOf+QD9IQLRCOYMNv0EA1sB6fsP96UGGPaWAqQAZQjHAuIFYgUuBeoFFv4s+37+twHfApMIuP89BFsMtgLgAssGp/6/+yYDkO/j/TT6JgVa9wsDCQRoAw4Fefh96bn9x/uK/fDzxfqs+eD/PgzjAC71oAEoAd8GjvmK9QAEugGq/hcHngPz+uvu7/IH8hr+cwXoCwP5AQmBBwT+wwlY+hb///lp8+P3+fU6AE35+P4ZDWIEKf/++FgH3/si+tkBye3LCtYD9gEJAH8DIPLfBvb9IP2u/rD1DvhBBNIR/QMEAyHyLwgK99v7cQF/+bUEhwd6Aor9P/7dC6P2NQNk+cr1ufmk+hoHeQBsBbQApgZf/xb2rf51+Bnu7fNW8VAFaQFSA57/gvoMBIIMwwTA8//4+/tF91oFHwOx9UQMEAVG/KPtTPNJ/2oNVwPhCKoJi/73AXH7N/tJ80wEBe8Q9VcSUQm3/j8VXg6sBGIDkflZ9LDxYQXy/9kEXgVRCswAZ/pn/6L0TfPx+AAFV/bsCwX9XAVi+nf9aQLcAHv+dfK/CD8HlvpkCUz7xvrVCar6M/3R89jv8Pgb/5QARQR9CzQH3vTYAxMEgv8vBXgDnwnoCuD/VwHN9gL6CfoS/4v9FPbTAJL24f/jAN386AKB/grydP63AcH0kvwA/YL6ffouA9cC3vxY7pID9v5QA50HO//iAsEAGQOaAZL0IgzI/b4HTwYgCP/z9f7R+TP7ugkFAMj+V/1Y+hb6Jg1uAJ34YAVABTMAnPue8dT4bghNBZn3fAUe8HT5nfLxAZX2vf9nDMULJvREDV0D/P+I9ncFMPHsBc4EFv0x/ekDjQXc+ksJKwY19Gr9VQALCJgGCwUsByoIQfwuAwz0F/7B/ID4mgc7BYL9HgjSBub/jwCMCdUFrPwf/GX+v/7z/cn94/hpDQjyZvjQAan+jABnBzb/y/yo+QsHOv/BBxkGf/2G/aUCgQTm9hns2QJGBFoShQMA/zgGoguv93j6/f7+9qv88QSGBu/8DQZW+tkDvP7v+FYAjgG68uv4L/+i9NT15fPT77Xuqvw3AY4Hugev+4z/CgBDC9UARgHP8lv67f+2BPEEzgLy/cEOxAMTGtL5zQW1BQMArv53+TkD2vi++/oNcP42AhH/afoOBzX/w/aQB7v2h/5fDPjpx//L6ArzY/tW+2MFxPle/8AHSwTqEIMMpP3pAxMJL/vl/2EAB/dNE8AKRvNqBrABI/Vs/bYEHwEtATEFzwyVBqD4NQBq/jD8fvag9d/zrvZD/ywGf/K69lH+MQY4Eh4HQAcIAEL8IQWh/AT2KwBGAtD3ZQDVDcUEUP71EjEBHP8pD7D1Nvm792v3OAcP/Ff/aAGO/FMJlgDhCA0K/PJIBD7/ewOs+8P/xPsH9SDxfv8v+YX3if699dAO2QmGAhEFTf/CARYApAd4+jD6GfyX8mL8P//b/CUBPgQN+fz4OAuv7n/9TQO7Aln9AQOk+KgMcv9nA6f80QUBBBf22vQGAW4ONAk/+PYCg//e+tYDlwS/8ocDAQYSAiwDsftj+Nn/6wVr/yr/fAEcBQH/qf909r4GOO+D87703ANiCFsJnP91CE//tf9A9D76PwMT+Rj4PvFCA8/1pwP8/nn6kQGo+iT5/gV18Mb4CQfM9/wJvgH//MABKQLDAEL1Z/sEAmn/XwXL87EA+QCG8Mj+0gmSAmj7/P8ABo0A0ACf/2j7iQlCAowDb/dQBL8AiABs/Lz/dvYeAp32PO+K9/r5Iu6O+RsCMAePCgcJAwq6EC36uwfOAqMOHPcIClX9OP7z+QT7+AMX/MDw1AFV+qQCgwUz/z/94gUA/t71UAPDBpT/gQnO+6ABJPs0A+gNZgCc/Pv+OPB7/EjsIPjV/vH8qf2uGnoAMw3uAw4V6wYiAwMCbARQBOX2f/cwAzkDwga8A+j2ZwMBCmfyUQqS/A0OGPzZFiMHIA6ABQICaPMCAgLzhfapBNUFvQTeCrIBZgPP/qQHJP5DAiPwPgg3+Hb2CAlN+fnzM/1F8wP2GwWy+579A/aW/6j/LgxRAZDzGAF98j8EYQQdBLAISfodBdII7w/e+yADF/gL+qD1Ov8KAu4EMgGj/nX7APoj+ODqQwUf9Lf8MfV8BwwbqwURCxwCeAYY/kIAyQA7+90Dduxh8dYJCgQpB7AAFwuq+4EHPAh8AjL5uP3fAabwWv7nCFsObu+vBU8EQwU3B8H3C/oF/lIGC/1o/78FvfquB2/veAuPDwf5SAZPChcJhgjG+MYCmfYw/lYB3fuS+dv/Sviq/rANzAa6A+gCyfoiBm/9Pv6xAAD/MgVc/OD6IfiG+qIAxfRf/cv6Gf1tB0sGIxI1BjYUWfKS/az5BfYe61cHZ/0++ZMORPtvEW4Lf/qeBTX9zfdf72kE9vjTB6MHtgqtCEb+uPh/+CYBGgXn+A4Uv+6CAv4D2PfU/mX39O+0ASz6TP2f/bIEUvmABU8NPhCF/eMC8ASCEIv6JvmQ/xbxxvFK9yL8nP0G+Dj5m/caCfH+JgZ2B08IxQIi/y0H1wbW+EcGbwiN9xYBr/6u97D4ivAj8tP90Pl5AuEIRQzAB1EK3Qw9BSUVlQah+f76rQBE/LTyA/Ug7KjzpvFmAe7uc/ka897+0wGTBLoTn/zBBiAORwm0CZ8CjfzZ+SH2CwdEBXvuhwJt75Pxxfd4+K384/wHBKEFXQgMANoJoggfC6oCOQUXCGQI8Pm3/Q4AEP21+835PfnR8aXvDvtlBNH3R/ak+A/3hQKk/ncBhgHUCdf8eAS3A24NnQD+AVT5jf6+BcDrovZv+yf4A/fKBOAFMgXw8DcEMAWVBCQA5gMGAF79gPWV+Gfz3/hw+Cf9vQXD+N8FfvpK/WQLHQV66pQCDwV585YJK/vN/PML8QEiBiAFhP3H/x78FvrQ+TAH2AVSA8MA4/UaCaUChQxnAE30tP9+64X5wfbGAi4CX/6dAp/93v3CBzEGyAg5C5r6sg+h+k4HLwiuDh/2CQkP+iD8Yff3AnrwS/wLCaL7WQq+DhYCSAViA30PagGV/0f5cfbb9Ir4PPMp/oYCfvjaEOP3AftL/p79YQfDCoMFHAswC04b3BI/CgT+b/58AlL75QJN+vf5oPqm+0n2zQohA30IXQi5AKkIhAe2AV4BYQQBAY/3MPiQCI/1yvqC/nP98QRHC0gFBP88Boz8ZPmf+U36JAYU+vbysfiR/9H/+/T2AGkFugPc/+H4IwGtD34Ld/IOC0j/F/3IAPQU+AKCCYX4yvkVBFD5hAH4A6v9a/1I9EMBTPr7/q/+vAZmA4oK3/wX+6v+mQKnB472WgYY/V74FgSX/Lb4MPcWAxT8OvoX/9r6vPiEACIAdfPaA2MBEwLr9n7/KvYj+zH8eQAj9N7+SQJgCPIMJA2NDfD04QZyDXQBKPFjAqX5qP5q/JL4RPfJ+sL/AQIB//wBg/7H+c0BjQSrAi8FcAgS/MIJWADr+Pz+QQX++7z8pQYnBW0F5ADVBpr9nAPWCHnvFQIU9iwD7f1D94r/2vrL+uv7hPYzAu78Wgcr9iz3kv0gAuEG6QI2B/YJRPzR9fYHVfl8+iYHxPLk/X0CAAAH/rEDawig/yD+Xf3e9zn6rfbE/ekLUQZ3AKv2u/4bAiT/FvwG/qn3MfpgBZoLfwB0/8MJjQ+mA2nvNfPQ/dUBywJn+rj8gPMv+MEFHwes+Pf+ygalArf9gwdnCfcHKAJkBe79lPw1Cav43APs/UL4Qwum/xb3vAJh8MP1pvG1BcYA5fKQ/vL6Vgt3+qnzzgwvC68J3gV3DPADTQ6B9hQGkfE6/Q4BpAAtAZb5UvvtBq7+jwzpBU/1e/9dDXf8a/yhAtr5FQmxCSD2Kf5Z+wkLi/3EATP3d/UYB5IEKAZg/IwLgACrD+wE6wRBBXrzJgTJCXcBvPT/AxT7swIL9xUG/PSwBl0ANwWHBowFLAHK8JUHUP9e+bYB5O5d6RT7mOnp9g4K4QxvApT//QhSAL8Ixv/N/gn/+/+d/ur1NQ8eDnoNxAH3CTARowMK/DALVw+H+j/6YQQg/sP+deyn+tL+0/3q7YX7LAR3BrAMvwiwBd4ERfEx/WP5PfAZ/fwA+fqoBVkHIgIG/s7xOAYO7If7Efl996UJ1QTK/SUHfwOZ+osAAQ+J+7cDyv/bAcH6LQAi+Qb5Fwb1B/H3MQgFE5TtxRRP+j0KQP7LBZIAbPOsAcX2+/gU9t74T/iN9GoMdPduCYgE8w1S/2AP/gnMD0gLSgNdBQj0Pfsl9Mf2G+3q/0f2uAR09AQIofd6AoACqgNtCCUJ2PxlCTsEVAcD+aIGtfvW/JEEf/Qa/TwB8/cF8WH54AG0Bxr8BgEy+jYAdvfnA0D/ewkA/UMAh/5J9CcH8fqc+FX95/bg+pD/1/ip9ST8AfxZDegINfm2+DgC2QzNDk8AR/x/APYObe6KAh0JvfkT+e74LPP6BlX2VArsDn4HkwKaAUMKGv/y/hP5Ef1W+vL0F/tT/JLx1P1+9bD72PlBAFb+A/1yCVz2dQru/9X4rgVr95j/Hv488pL+Gfc+8mwCYAOrBgoEEgFb/ukOGgNYBGUBUv6f9/j8yvwUCkgJKwBg/6X5nPKT+CD19AOyBSEADwu+DuIINgOGDm358ALI/mQBlvb072X15fC6/DX80vcYBrz7Qwd5BWb4qBH99ev79QXwBcUEBf98Aoj+bPq7AWoFTw2t/QUApAdm+wrul/7fAxoNHA7Q+Qf08gCgCfAGQ/do+z0Bu/GM+TgCzgIT/wwK3wKeCTcNrwtwBL31svoiBHX7+QfN8Hz5Dv6S95wCTAFX+nX8gPnwA3cFlRHV/5f9/vcQAwADx/xfBmkCngsX9X7tp/2GE0kALwazB8H8GAF+AR0I0vYOD7f/lw9hArkIrAUDAeDvZQZ5/WTzv/eQ/vPz3AKmALz1PASYCO8F/gND9U7/mQJkD8j9QAqZ/fT8ggzn+X79dgDp9tn4hvoz+b3+MAbEC88CAwpqDkgADAki/hH/R/GI+kr00vVu/qj/Dfp69FEJZP1b+jsJjwI09vn8PfoI99z9pQfQ+hj6F/Y8/7f6D/+59mH18Pzt/qsFPv9D/78Jjvf/9z0AvgHoAu0GyfIS94D7/g2H/YH3lv3H91n8qvtbABn3Zftj+tfzlf5SFCf6lf0T+yYG/v5M/qUAQgHh7178XwAVApv3S/7c9GL+yP6L+ej+x/fEAzgAYA7SBVUBSxMHCSkFS/pJA2UEugFX/tv5F+5u/KH7Q/2t+SADUfifBugM2REDA4oSnAYnALgBmQo0+wTzzPP+/UT4jvkWATgHxQkrB34EiBIZHqEa6gnF/0YFTvvdALL3s/Vg8xL8E/T8/Dnzyvg+ACkLnAZF/YIJbBHwGH0MKAwW/8cCC/Qj++HqlQLR9aIEdAQl+U//zwjs+g8KqQI/DuQSCg9dEeIGjwpoA+j71u169UP+rvPq8nL9EQTN/WP+RgMxCCAOGgi+DGQGbwNnBmUI+v2UAD37KwCQARP0ovpx+8j0Lfdv/bj7pvjs+wcIIBHZBvQX2gGyBssFTwqGAe0FwvLX+CwBBvS9DrL+cgHu/K376w0h9cP+jgfCBUH6nfYUBdwM8fSY/NYPivf198P8df7q/JX8nAe/6vEFShDu+mwEhASv+xL6HPoa/VD6n/swBf0D2ffbBK0MP/C7/w4B1vn3/Q4GPvfjBMj5uAaI/f4AaAci83EAafg8/oEBywjP/ZoBYAVA+lcEi/d39bH7yA2y9Ej7vvoI/MsAEv/U+o38QPyTA5sM8gWP/YEBjwNGADH7yQAc/XX6B/9G8Gf2GQgj+1sH7vbvAeAPBAOIB44Dn+5yABECe/koBT8BEfPR8Az2Nvl6CVQFCw1fCu//4/sh+8YEWgJr+d3/MvMyBKgEVAmiBaz9YQctAV//MfXiBcIFO/YU9i8H2QA5/NMEiAGr9CT8qQu6CHT9gQZMApjzKP/lA0kBSgZi973+aAO2/EEB5vZ8/ZIIdgESCQUBOAURCNr83fT1/lf5IQjJ9mn6+fWjAWEPkBbJCy0GJv6XCV0BpfOW9vPuhPUS+ZwEDfc9DncQ1QQkCDwRXQle+I32JgnpBEH+zPGg9xv9kvrPBtUIPwyUEHgNuAW+Bhr9NgPd/SDy//YY+Or7TPbiAXX/0ATNDcMBbwMC+M34xf6LA2QKkf2Y/hn88widBSf5iu+f+a/5zOsF+NH7i/yd90ACSg9CBg0QpQSEAskEMAFRAsYCggod/r35/wdT9iv+DPqsAnsCS/gO70X46AYNDpD8HwDGAcX6FASj9Zf/Zv/RAZEA9PrJAmAHmAItBsH73AHl+8sH5wAmAE4Iz/ot87r06vYz/9YAUgWeBKkCowVJBCMAHwokAIL2v/tX9jv25vB09aT0Cwfh/VL0/wIaCtULIv2/9xD9OgGw+BP5ev0TBXIB9gSn/YUFGP93Dcv4Nvif72j/7u8FAE//2QyiAwAACQfUAoz+nANf/tQBgQoYBK/3XP0B90/3MfZa8Z75VgI2BR8DggY9A3L//gyJC6z9CgEy90EJ2fv478jydAa4B5oFSwOmDWQGhvfmAHoHMPDuCk0RivjwAc0B6AscCH4ITgaJAV0HWfhf+5T6z/Iq/IL+lv4xAbsAhw2oGIcGuw7DEHn4hPxG/TbvXvO9/QPwPfi2+TUE3Qls/VMDCf5yDcb25AjX/BP8JPy3BA74cfMV97f/LwskARYHP/4YARH8jQUC9Wv6fgUG/NwENQXGA+UDUhQ/+y0RGvcMA+T1bwep+iT5OfVz/HL91wASANn+mwBIAhQFaAMBEmYOgQaQBcf4CwlG9or5yPKd/xP66vlf+QcAvPc39mz1qgMK/7oQeAe/AyMJbgwvA+8B3Pvj/LX0oP1+A6QI2QjZAtv9tPuNA0T3y/g298HxrPzxCzoNEwKEEPcM/wgbC3cAsvqdAfP3UPj+AOzz2PSE/L77cwUmDDT8//z/BvwCJQRJ/p7/2PQz/2ABhP0d/D77vP1yBiHwhwHKD9L+wvxv+ecHZf4sA7v3tguFFVQJpvs39rMEcwQL/AkJP/nAAOb2fP5H/qT6zv8uCgYFhffw+5v5rfwOEqUCuAeIC80N6QFoCXYLEP6C+i/6P+8i+bb2APxGALMIkvRDDV0OLAflBmjyRgEDCnwFQQC9BEsCCvpe+Af4TPLY/lX9qwIV/XMJbP5mBZYA0PtuB0oIcgSvAfYFN/tr9UD4y/Ok70j7uegeB8n5pgYPCaX/YfbaAHwNpxC4E7UOZwdi+nztnPkpA1jvBO+//d8BMO4SAysJEP9JBPAMYQlRC6wLlfYwA4QLyAiBAJ0NUQvX/dL7+whV6zz6j/SJ6wb7hflT8yoI4v9JFMIaVgyUCSQN8hDT/cz+pfE09O/u+fcb81ruffQC/pj4oAgj/fX00fvlAqAJGf7PBJ8A0hLo/ez5lAzbAeMI1/4L+gz2i/ff8dv2e/OX+LwGIQRXDu4M2wnLBuMPwQ9OApwGfPeFAJYFN/2D9+31XvN294b99wK4/ZcC7AdD/VcFeADI/qgIKwmcAl0KgAXJBPr22vnZBRf2n/CxAWX8iQiX8sn4ngMkBi8Hy/tgAEH8JQBcBGMCRBBaArDw8/5d+T/5o/D9/rv/pv8Q8RzuvPm/+7P65wyOFvYE8gjqA3P+2v6rBdH3Hgj8BfX9HfFECl73nPNvCKj6XwDSBK39H/8g+Bn+efy3+EAOj/+6Bo8Ntv8U/RsCmPSvA9gCCvb7A/4DTfp0Bdvw1vpzBUMBQAMg+8360f2NBP4RtgDOD40EXwO/A/Lwgvyw+t/5K/dU/br83fuiESYHVxag9cv8mgevDKQIwAWoBBAAlgpL8dnloPwb9ZIBNP7AC8D7zgjoB50NuxGWBnMQUfZJ9XwGeggw+Vv/AAnQDfcARQLIAGf8eQNt837yS/rm7rT8KgCz/esA/AV6EGkJ7vnkAib3D/Sr9oftQvwN+NoBe/zk9lf4bhJP/wUDHvn1+8b1OPT/+x3+l/6r/SD+pAHXBSMFRABDAjMM+vSJ9T/+t/06+04AjfM7+5vz5wMr+JME5gSaCa8F5QOEBWECawK4AOLzpPqPA/z7Z/1xALYCWQYsBNUHlfpX+In5V/rn8VUJzAbT///9+f7RCncNGgwFA/3/7Agw8DgUPvyG/Q7zhv6eAG4DDvSoBmIByggaDEn3y/WuB2AKMghdAhEC0veV+PwEyQR5/B0HDPny8q4Dbfsq9J73nfTiAp8MYAUfB6cMAv6qAC0E5wPaB78AhgFp7XT/h/MP+M4FvgX3/kEJRAhGEXYQrQFF+xj+8e6H+AH6ov4m+gP8NQmLAXj9x/Ft+WkG3/pt79oDQPc49hEE5wOQBV0HXAJfDJsF6f3uACIKQwgs/AH8zv7u7KP3D/XEADzxcv0wBt/8uP6vA2kG8gWpBocSxgEY+qX/kPmI8zwJMPZXA7X7R/8U9eMBiAGT+6kAzvt9+RT+Aw26DmAKd/208+0N3f5OAQ35vv0tB9D+RPlu9cz7afSbCC3/HwcZDH0BoxGUFIsR/wHuA6IMkv2p+g38mvij9wX/TPGR+sD9iP/q91ECwvteDQEC8ga5BdsIJfd2AqP+LPn4+2Tz6ve385ECyP5SCHUIVQ0oCmAEqvxr+h4Dm/4nCQb0vgAfDenzQgaUDlgGVgSeDAf7R/lp83frOwftEPUJ/wWGCkQOGAd/CHIJ4wkwAmL88fY88PXwpvXcAGD9RgixDocHsfoqBHECAAOt/vr47AQl/zb+TwaLAm3/RgKc+lj9jgDwA8/6l/TA/M3zdfgh+jryCg1AE2MFpwnJCz390QbFBwz/UfYc98LxTfQ7AbH1n+4S840EdwYFCgYEtf40C8wAOf4W+l39ePKZ987uiPao/2YBFfYCBbr8pwEBC18C5vui/UD6TPm7A+z4gQIz+9UAlPok//n4DgaECR73iAJ8+rfz9vc+/37/pw36/GoD2v/NCBv+VgB9DVoS7/uwBEr81fi+843zVP4rCSj7s/20BvD4sgNDE3n+uQElBp/y9v2U9AD9vvps+fP4cgatAHwKrQX4/4QAUAyUBSH7RO0Q+/Hz8++k/0jxBvwyCEMJhwZDBW8TyQLKBAX1HvXm7dj9mvjA/R/8gw/MCbQUIgr/CsoJihSUA5r/Nvpb+g0BO/9d+0X6QvM2ESwIvP82CkQHZRTV+g0RFQL97H37duv7+zD5IxIoBAAEFAo1/ar8fflUDWYARQSu/t33eO387of9W/TbB+0ANASlDJQFYwfk/Lb0HQHgAuAA6uwJ9JIDufO7BRMEV/8XAUH09wIX+IL4EPo+BsQFsvH9AZcFaQsr+ygMhfYnBJkGB/65Br35U/PhAdr+jf3kAUr5JgcM/pcHQP4a9KkA5Aj5+hv3kQaXBYIGcwM4+ALxevuC9qX7Af6P+7YCEv+PALsASAMj60v80Ps/An7+fv3V/w38UQ3U+Ib5BACH+tUEvf6wBKEEqwly9zL3p/Tx9X8DjP8ABmMLuguoCKL/ggHfByACG/SFA2bwQPgcAwwGTQU3DGYBuwqQCAf7pP6kBsQBCQIvCKr/kAp/A8cF1P1/96X92vuH/fbxQAVDB8MMEAMS+DjxsvynAI/9tvQHCJ8Myvz4/XkDHv0g914FZQMQCqEByxVG+/oGJgMu/yD4iQBR/cr2IPhIAiIOwfAkCqINpfyRAHoIdAJx920DxPyu8GoHrQaV/tICZ/t+/9T/gPqcAxMChwpAAr4BJ/np+twK2wKQ8tfzXQDzB0UAMf/e+40EO/iA+VX/NPVU/JgCZPro/cgHQP7xCEQB6v4pBzz4D/df/NP6MgtG9/cErvrf9ML9bv76/ab5TAuQ8vj4Tvqu+vP/qgjVB/70ogiFCbILpf46AcwJO/iV/fwDaxIG+Fb4vwF693MAJQaF9Pb7LPmyAugGRgmmBNAGmwfSBVQMY/2i/8n8Tf7jA77y3vjXAskAzAMQCQT2if/rBvAE0wktBQL5dvZ7/DwBB/TQ9NwGnge1/zsEWAdD95AAJgFG/PL8q/+xADQGyPltCjj5Dg9rD4v6+PL4DpAAvf3NB07+Se+3Awr8zPkJBsgIygKYCF0FpQGgBGcFSP37/B/xm/fVBuYGOvwaA4LpvPo7BxUN2w0k96j8x/SmE8L3YAKdBQr9Xw7h/R3+1welBhsKyvUv96v6OPUfBOAGDv9eAikB9/nr9TwBMf8h+/4KlwSo+gHyQgUGA7EK8AgEBRgDPgae8vUBR/3X/m0I3gAKAbMBrQcLCGj38AiyDnz5/f7t/AsGyf5CA70AqQz8/N4A5AL6+xYHDvxZAuESxQFc/SEKbwA+/R7/cQ9YBCYANvrZBTYBrQRbBoT1LQKv+uEFnvim9ZYBjwp793b9u/6OAvj7jQI0/CX7Gf3oDsr2hfpmCMj2G/7h/bQH2QTcA5X/mgRx+ZD+IP/W/dr5fgKp/wD8GATO/Pnz7gAQ/EMEyPvDCJ//awLo/t0HV/wgA2EBq/xn/JMApvb08kX/U/GE+2DvFP8QAuQCEgyRBIb4Ov6EAg37J/42AWYFJwbIBVP7egPG+uAFpwCTBMjyNwF+DpEAOQhc/kX6xwMUBej8KgeoBc0B9AkCACn44v4dAlIE9gEV948C0Qml94b+KgCi+an8F/9M/2P/avy7/ljxUAAHAYgJXgDZBYX2lAAK+/L5Gf21EC4Cbv/q+TX+aw/C/hz6lfi++68HyPNX+QUKtP+Q9nj9y/XqB4gBTP4DAgkEUwVvAPv/Sgti9zIPUfe3+CMGlP8dAEX8sfts+ZMHngYkAH/3rwjhBPMDeABaAAwDyfmQ/Ub96w/9ALf+K/6FEvIEcgNC+C3/Lv8U/8b+HwxP/RPv2wDD85v+af2GDHD7e/2nAeEDCwJbBAz74/vpAAoCxevhBOgFJAEZ9w0B8Pz7+P4By/wpBeQHJQsB/ssOogjpAiAB/QpMAe8DCPyH/nIDdAjF/Zn73/44/4UFRQ7+/KL9S/jvBAnwLwRR/3v8/vR1BIP/PPvw+68EyQMY9x8GjgoOAKAIFfp7+87/agRL9tH8/PtnAvUBNwnpA/8D/wGbA1EDlPrU98v+vPsK+ND5zwJO/LsB0/0197b92/8e9lT+ifXN+dAMlQxz/ZoHjAIQCnMIhvgf/PPydQrt/z/+zwEOCCDzgv88CWH6EgwvBwT8bff9B/rv5wgYCMAE6wTB+p736P118ZwE1PeQB138tQjb/L32LPZBA6kGaPoRBan81QbkBNH8VPqV/y8CjgJcCT/7PAqC9rgB+Q2qBo0F0QdPBG3/1AUgAnnzxPvs+av29f9F/xz59fzM9r/9iwobBUr44QOk/drqZAFT/kACMvvW+CYC/wTDAmUJZfvc/rkEp/Xy/UD80QdDAoUAr/w0CoUJSv2b/6sAywYA/dIJcArf+zwBmv1vADkO2gGTAG7yHwTyAL37B/8cA/v66QbvBKD/aQ9W9hT12gHj+gMJbf0RBdj9qwaY+c3/vwK58frzLfwgBKz7hf7OBFT25xCRARoEkQA2B1MAtv88AFwK5v+O9wX1Mv4sBevt4v98A4b9wvlKCbn4uPerB1f6iRGj+2kFMgUWA6UEsAiwBo4ASf7P/Vn8nf+WBJQKOQLH+NEDJwERCPcE6fmc/7UFw/qM+38DGAdmAW4GQwEs+Uv1Pg8CBdr/uQcp+ZARcANu//kCBAL6+zT89Qk1DqD0HgE5BJb9kv/k/IQAVPch/qsGhQGrAv357P4dC3UC3QI4BY8CN/lC/yz4t/we+87vCgNb+jj+2PQ5CSfyi/v0CckDtgJd+vX3owkmAEn3IwkVB9L9Gwv9/GX5t/myBCoK8wPv+yoE0gIhCv7zWgPeAgMA3gU1BeYEtgKY+I8DBv4HCuIBBv88/Z8H9v64/ur6U/ukCbcFC/TI/sUHRv6gDocGgfuc/4v8GAGi/FL8qwz/+34C1fas+VYAv/oo+y/9B+7/AgAArvS79N76vvGp+W4GcP63/MYKdvkKA2/2zgcnB0gDAfIs+vP4vwMDAIsJnAOh/Rn7bPgb/mX5Hwk3+sP2Xv8Y+vgEAQhcBOT3v/7FAxz5mPUw/NMGFALe/icBygV5Af4Ecw1gDiD8zwEAAsP6Zvw+/tL4Nf0tCI/01PuOC3j2d/rW8/7/sfND9W0FKgVNCOoC//3SA+b9tPhd930HBPu8Avf8DQFQBoP5eACE+M73AAhyAdkMeAIp/cUGPAJa/+X2FPpH+V8GEgN8/xH7iAE2AHIIvBH3+Pz6DhB+CHUCqP5gBRD8c/y4/7oHAwgc/n8BCP5JBbcL0ProBHb97AeFAgAFJP7nCPMEFgC3/KkAkf/m9w36HgPd/MMBZvP3BXP9j/76+Fr7Vfw2AxYOuvk29aEG5PkfEKr3MvMmBnD8XPz2C8ABcP5m9xPxCPnSB64AevlxAFwFbfqOAgYDeQHAAQn7kvcR+nAAQ/CsDDEEqQRt+lL9nvcp/YQBGvWU+T8NRfQ7/l0AjwNYCuD1S/4RA3YAwP4IBnAAzgGBA0kF2AzaAMf5NvIu+7UE/AIP+iQDc/GNAKkDr/9T+MgA0Q0AAAL+w/qo9UIDlQNE/TH1hftDBG8PkgNbAuf6VAJrBCL/tPZaCGYA3vgH/VoR3whHBvgLiAaE+VUBfQzA+AoDpv0v/I73evjc/Oz2ZPba/7nymwNBCQ7+GwrTB8cFdwFjAPMHmASZ9TP/QgPn+d37OvQQ+0oHagVi9j72UwDmCiICCf7l/g/yRACt/678mvqlBK4AQf6A+Dz9EO4g+8QD7AIUA2UCiP37Ay0J1QP0/r8LQvd8Di8C2Pkx/kQBGe2sAswClPqa9Vn3XvNoBmX+pAR5/YQIlAMw+ev5JAZM95n/hweLAFIDUQ6EAD4AafaOAVz+zAbGBVX89fjzAYT5XxGVBFP8NviyAs72ZvmGB4cA7vlsBAkBffWy/0YIHghCAvP7Hfvy/10G5/53BRD5FvzdDKkADfv6+u8D5P769QH+xfYkAHIGMA2g7537wgXPAH793Pna+0H4agMHCb0CSgT1AL4A5QtY9yIJTfaqB6oBu/lV+ir8LgEXAJ35bfzvA08JdQvL/ssEu/iaDbL46AQL+dEFegbP+aX/bf7iAkH7cPtMBDf/Jf3jABX8+AZj/1QFXPsHBugM7QLTCCUI4flcB14HqPi5BAL5uvjnBrwDXwB4B+3+FP2U+jEJEwvnBWP5KAffArgGjvY+CK0B9fzZ9rkBH/s5A7L6i/2G96/4TfHD/JoCAgm0CbQBKP8j+5vxhQBx+kID+PrL/bX4DQEtBHD5UAKb9g/+/QogBOb3wP5b/IMH1QIr9AoNAPpn94rx6PXn9gsANQSZ8zUHNwlQBZMEa/5dFbv/WPwH+nsCbQS5+pT6YQLW9kX0qgOI/hjyQv60ATz9yQAiBKv7HwFhAyX13QAGANgK6f5q/nj7iRONBG4RhghR+d7vvgnAAxwA4wO5BGICmP6nCs4A8gB/BZkJ/P05+AH9gQltCVMH4fYeAp0Alfu8Cl723/Pn9aUFR/xT/u4Tg/ld8S0IYvZw/pz1gwIJ/YYEpvvfAcr2iRHa8hEGtfv9+PsK+gFmBxkGUAjtCpT/Zvk/CZcCogRxAmv+I/7GAT3+6gljAuf2gQaL/C4PCgACBtD9jPrk+/IFsfap/V75ZAENBz71U/4d+Mr7YgY8BU0BlAID9zUAR/7pBHH6NPFH+rsEwQBM+9j7iQHb9M0HDwA0B9QLL/KpAMUGHQFiBiEHC/TXAg4EbPr1BgwGsQiJ98oD0QHA/or6M/TgAsME2wNt/U8GiAb++qsJFwbvBcn6QAPU+I4FTf1qAhUHsQWMCwL4jvi+CP37kQEcAGABWf8SB1oD7gAoBEX/9QFbBS0IJvTC/xjzZ/7D/671TQmp+fDyAwLyA9j/dgIT/4IGZwaHC44JKvSP+GL/bfecCYL/E/AfAnb5UAvaBZgBHPvo/C4CFQiWAbX2HQaRDBsASQqQ79T16vLpADj8FvL5+VkHuvrLBqn93gFq/cL/wQZ6+An9af989t/6nwdy+wP8e/4xBN3ziQs8DUYFcvcDALoDIf6OBLj+BftkBawI3AHi/UgFaQd3CJb6AAFi+QUHKAsn/qP+fQvF/NQFQe3O96P/m/qlAovsif7OAqj+KQAe/4z/lQCfANgCJABO+jULwgOxBJAJw/ih+3H6Xwmf9iEBcP3OBdAFMwFvCX76SwMm+jkGXP1dAev8lOxJ+1v7BAeeBg8IuQHxArH2ogF3+88BdgXO+zMGwgT7BY3+GA2l/9n83vwLBmnzrQMo8tcHvQY4/Sf8PgKxBAj+lwBn/NYAbvgD8fP9nPUUC7b6LPwLBBsEXvCN/+77jPZlA1n03/haCZr49f/sB/v+lv2Z/NICvvoR/cH9nAY7/58CO/Xq+if88f8G+1gMOwIuB1v8HwNzC6f+iPer+scFWgKT/zz9xfumADb4YfzF/NYDd/7I/Zn1Yfd0/poEUfpK/xEBzvOEBX/8KAQa7qYE7AFoAZH8M/5a8cL/rAQL/bj7RwE7BKj9nABE8mjwFPlr9y8Cgv3uA1v5kwC++dX+vPyGCrn3KwLSAKnyBQkg+ScNWAX0/NkA+PrYBE/9qPxI+qL5+QOLA/wGDwRJB+38WwTwCnX7fAueBZkFkgb2AeUAn/k9/hQDQwscFs789fpN6YP6hv4aAzkCWvcS/eD2a/EK/3P9CfuF76n1QggOADr7OP1X7sb7LQI3AxX/cgLU9l4ABvkwAAsB/QTy+m8BBPxlAlMAUP7Y+yoGA/yyCiUHag5oBQL/FwG+/4vw7PWG+0z4WQE8Bj0Dxvuf9Lf1FQUFB48FQvpuBHP8F/5VBZP1qfGo/AT7bAkdDi38YAZoBWX8HvjSB/L3fv3cBRb83Pvi7B0F9gW09hsOffvL9BHvgATy9UMBfgL0AREHLgPF+wcGOwojA/gBVf2L+eUCqPwbBgX3cP7BAY/5cfgs/BH95giMCY0J+vYRBL70YwoLDpIODQoJAL8EuQfy9lv/NAhG94/8JvroA+T9T/6nBNL/1Pxb+4z7kv3AC1AFkAxK+Br5IfdeAcEF9u6y/mj9Zf2A+jQE/PVLB54DRP1//2cDjgNH+/gEBwUjCgYF/Aie+B/37/B4D5EACPfJAAwDrAaXEKL96f8Z/5QG7/XaClwCbPXL+S75AAYu8oT5Tv7N9lL3nwBSCvr/bQhX/Qv/kQrx+5kAu/03C+P5DBFmATAFxQRXAIwIEQ2R/pf3oQSB/+34ou9u+Yz63PXC+0T54/cBBef+0P7a+Wb+fxHUA1P+EQRW+jz8mvlHC9j8g/+GAFkJqAKI/MH2c/onAwH9NPoG/KgCHQAOA34JowuL/nMAf/oLAHn7HAT1BOH2NAGNA7X/ZwPPB1j7IfzEAowDxAhXBQP0sP8a+D4NnAIM9oX/nf3MApP/Rgun/F0CdPXwEKUBVhMN+Uz6jPptC9MACACI+/PzGxBf+TX5Pg0k9VwAIwfOBewARPyiEQX36wHxA6MIoQbn/DQHbA4T/Jf1DPbJBGj+svo4AVcMbQLgAFcK+/sgANv45wJRCHMFr/0rBUT8PfuV/AL4bgPX/An1ngxE/fD8xfQjCPsFHvwB+Jv/dfzHB94DvQIe/dz+BvmHCFz1qPqb/6QJfgfA+uEA5fyi/m0LNP86DU4I8wQ9/Gj3vQMg/koBEP/b/DYKJf36/dsGvf8Y+BUCuPsmAPoA1/16Dk37RAA09Nj2qADBBZr5cwhZ+uII2QN7/Q79D/2PAAz1H/MTBRUFoQw3CCUDGwB5CDX3D/8E/m/9hf5ZC2P+i/HWCI8FJQM69YcDWf5pDRz4JP+mBAwLdgpX+NwEufsgCYn+l/r0/xoEIQLp/LAC+f8K+BsC+vv8+kQA7QAp/QL9yf22+jAB/QcF7dr3QvpW+gn7sAP7/FUCpfzKBmoI0v0sDBwCnwrc/mT/6/6WATP7Ivnu/5QDcQYI+Yv3l/x8/4b7wwfMA3T/3QUUAFb2Jvx6BXUL8PhcCt0IoQJLAroL0/8/AsAOZgqU9tD+jfOX+Sv4BfxLCsoJBwdoBNACmf67CpENagM7BRn9XAFXAFb+3AK6/rP6zfGeCyUHBQXYBQUBcwCP/n8ElvjJ/Yz/rftQ8or65A5mBygLbgNU8Dn8IAC1+YMDlf3HAJv6OPcW8ZQH5v6G91L57/tP/rv60v0C/678owHGA9gFwwMR+fT61QEz+rz9gAP8/XL3iwZO+yMDTvcT/e/4qQerAG/7Vf6MAmUFL/uq9Ur49vuR9+0AhwI9BGH+Kf/E/KP5lggXCHb13gDrEewBpQAa99cGIAru/zT48gPqC/QJLwSY9pb5AQWG+eP5HQWdBAkE0fuFBz0CPQYR/7D5NQbrBrwCU/9vBwMAXwHg+uj9DwfnAX3+Ofkp9RwAafqr+lH+nfxAA+gCsPlYA8IFi/+E/rcAxARxAlP/DgX2/UwAgwAs+k36IPs0/ur5owUZCcwJS/tI84wDrPjC+qEE9v3g/tAFJgg5AIIAv/amA1H7cATUCF4KX/t+CG70sf7TBZX3igph/iH3Jv9pB20BX/4mCbn6i/TXBwsFFw6/8o0GmwQoCUD6iwMD+6sH9vzn+y8CRP7P/lQB4f/C/+cKh/2i/uv6qg44CRUCZgHKBNP3Ee2W+zr6Pfpu+doJ6vxD+sb/7/9b/RH+d/z5/0YEEwa4/9wBwQT57Yf5VPvQDLX3dATP+lr9i/goARH3+PfEBNj2NOXQA2kErf3+Ab8JHvni9PT+YwaF8VICUfrU/VMAuAPt/lL+WwExC+7+6fk9CH/4IQKKBmn0hP74ApgBsO5n/iQE4vjR/hkDf/Jl/oDwS/tMCRz96gJsB8PxXQJyAxP9mf1EDVQCzvuM+NL7CvhT+9sCCwA9BBX82fpe9iMHevUi/775pQk3B6YAu/u8ApkGcfPu9Rn+dvqYAKYI5gX1CMsLtQqMBy/8KgtqBsX95/7dCPAAGv3M7cUIXQOcBI39Mw0X9nT8IQN/+MEFBgCm/jINlfqU+sn6uPi7BIT9kPtNBE8CcwmU/2//bAXeC+D5BfoE+6/72P4v/JECgv9o9TX/Wvsy9YcJVf3x9QMFtwFO+XT86vbe/SEDdvuH+YEBnwN2CbcDIvs7BWYCJvyvBND9J/q9+aX9+wwO/i/9D/xe/nsE+/lCBWr91v+B/Hr2mgGrAPkDOvwT80UC8PjACpoCRgRx/W0Ec/zO+8f8p/nPBbIEdv01CHTqqQbx+S7xaQdQ+kf8YQGzCBT5uvYQC68LXQla/NsDCvz4AAQGzAPf9B8Mov63+2b/pPjU/SEEJf81/JX/iBFuCPMJGwjaBJoIaQKWA/kJUAMgB2kEAACp9Sj1ogKHApAFpQXK8vMHBwaZ/xD5dAWNDe3+YAMB+0gAkPWrASYL7P28DQLpIAXY+7LzqwId+YH+hPes/18PfvVVBIgJrPiwC+33qP+fCDkHNQe8/vb8+gNQDRT4TAkfCukE3wTT/x0CvvhcBlH4FgGk+mEE6/gY+ivwbPwr9gMAevr2/fUHfgaWArL8H/zBC2D8Swaa77sJv/1W+OcKGP4cCND5Av6IBQf90f17/ZwApgjrBDz5jv84+eT8kwRg9fMCh//jAtf80v5m+7jy/wiH9j0Agvd+A4YHTPvh9r0IeAXwBH4FiPds/UjzFv1v/2T76faS9JAAIAEnBiICSwIhCSoK5fvG+Ez2k/q2/On/vggyCjkC0/yCAnf92/5qBjD6V/o1BUr99O0c/+YL6fkpBkL7ZAEeAD8IIABcBQcB1QLm/rP5Tfps9RMDpfXV+AwB4w/AAUQH3AVZ9zn/2Pp891H55gBHAPL7igOGBTwAyv+uA7UC+gxlBtgIzvzN7LX6TvwAAaX/GvXT/o4Mrv8S/i8GvvovBqoGtf5tFFgJ5v6g+xwAlv6EBeQDuP9t85EF6fx0AKwNHP1fB18EEPww+2z3OAe192Px1fXFA7f55QIvCcgCcAe7AFcG0QNL+gD7Fv4ZAWUAm/eFA1MGxw+NAvP4dQCH+WcBOvnC/RkK5v1uESsGj/WvAX8ESQKpDrwOYAjz9wj8qPwwBjD5/wG89pT5cfxd/gn9uvQ0+uH8eAAMBHr/4fZ6BAn48vRIBbT2AgRFCDgCWf8c+DwE7/oJ/TEH3gKW90EEtvif9P0L4vd2/qgHYv1K/NH56fjaAe8FLQP98/f7vA/tBgkFtPwmC8QASAQm+l3/BQA+A0MKwfRG8p3/svsF/3UL+fR5BKUEnwxhAuUGogCL/4ICd/cb/6IGoALT+lvz8wid/XwG+PjfCI4NHwM3AID/P/HJBdgDKQDz/+L6PQAG/XD5JAMbAff34wS2/wEGFP/4+vQB2gJe/Sb6awKL/bkD0giy/ewEnfbQ9E4CGfwMCFL/OwSODb4HUACo+6b9hQBAASb8XQASAmgJTf6l+7YOkPdpAGsJHvIv+z0AOAcZB80CevbU+/wPKwD19dP5GwTMBAIF6QGk7wcDIAD1AeUI+/z4DnUDOP04/fYJagFaBX378QZE9K8EIflfAWAF1fXTAbD66/mt/b7+sfEe+rLz2AjA+3kDfQvS9wb9bvgKBMsE6vT2/BQEqfUXDEL2tAHiBJgFkwJF+v/73/jW7RX9qAM3C137m/pzCBn/jgISBL0ErPjTBLYDrQhF/cwDW/+xAZf3VPCSBN7+cwVv7OADagvqA9b6+gKAAZP8GgjdAqv5YQIR90wJnADp/Nz+VABk/qgPIgOc+mr9jv1P8af7fvTO+G8HI/nc+cP2VAMNBmvyWgBg+p8B+wLs/Wj9MQMa+3MC2fyk/P/5qwT4A+r8Mg+s7hELsff27UoBQfyzCHv9GQKh+ZDzoAp+AV8A6fh1CQwIyQuK/wsGNwOi+EP+9AvT9pz5JwSL+mH96Ps1BTL4Q/rxCbn42fujAlrysf+TBJ8A9PFjBV/+3we5/yH3pfpi+IQBTvQJBg/4YPYZBl4HzQcuBfUBGQgfDIsDcv0kCCr6IQEvALL5e/gXAhf4oAY49qcC8QkiBKsK2/qg+mT6hAMzBOkIXwL7/Pn/BQQ9AOwDhgVn/+P7Wgjq/hz9vvTq/vIHdwT2/LH63vmb/+0Q/P5gAbD+XwbCBsYF9P6j+jH/4QZn+wX92/U9920I8gmF/agBegMDCrIB5Pj4CL3/FgvX+MkEyfg+CcIHJP+qD/v5DQFGEHEPCwbuA6cE+PyK6F//pf1CCr4FRANr/EoB+QK47L35H/5d/p0BdwgJ+WUEFRH6A6H9vfOeCZMCnPwNAo//vvnrDNL1mu22ADUQ2QHCANP8/QEiEZH/M/nM/on8GgqUCYn7GAGaESf/+Pm6BlIDd/xA/6wA0wKrAtvsPQ39BJ/4WvtA9u0E5gCKDFkBDAcR+Nz7PfJA/T0HbP3u+if/GQKb9e76zwFb/gsDSQIQA0Pui/8B/VD8Ggoj96wGI/urB+UGTAfUAvj+1wSS/n8HOPUtBD38zQIA9e/7Hvp3BIj6KgbZ9ykAUf7oARj4vgMIA5MGFvfLAxcGgQh4/Dr8cQjQBHfsqAD3+3oJ0vnVAgwE0gOE/KgFff2TBjf//gOfB6AAZgcbAyr3wgGXBJj+LQAo/Db+1/aABDb7Kg6uAeH2zPWG+GwHyv7pBEj6zwdc/GYJ3/ax/o0JwAOD/2AAAQTE//YDpv8QAiP2CfQmAtEJv/9XA8QC3gehAqUINQB++qwCXRDu+SIHgvxWA3n1LgEsCJgKgQh19i34Av4MAmz5TwGX/mTxrwkz+rQHKQBzAMYAafXf+NIBVgO+/E/5JAkfDYH7+/Mh9sYEtRLP+kkPggXZBmgFF/jHACb7QPWWAoP7h/zS+JP7ig4g+s8DrP3XAQoKMAUWBTIDo/357TkADwT98hQLnfi7CF/88A9N+5kPNv5GAlwHNwF9/lj7VAHo+4sHUfwE+Vn3dgg=\" type=\"audio/wav\" />\n",
       "                    Your browser does not support the audio element.\n",
       "                </audio>\n",
       "              "
      ],
      "text/plain": [
       "<IPython.lib.display.Audio object>"
      ]
     },
     "execution_count": 22,
     "metadata": {},
     "output_type": "execute_result"
    }
   ],
   "source": [
    "aug_noise = AddNoise(0, 0.03)\n",
    "aug_ts = TimeStretch((0.5, 2))\n",
    "aug_pitch = PitchShift((-5, 5))\n",
    "\n",
    "combo_aug = OneOf([\n",
    "    aug_noise,\n",
    "    aug_ts,\n",
    "    aug_pitch\n",
    "])\n",
    "\n",
    "ipd.Audio(combo_aug(raw), rate=SR)"
   ]
  },
  {
   "cell_type": "code",
   "execution_count": null,
   "metadata": {},
   "outputs": [],
   "source": []
  },
  {
   "cell_type": "code",
   "execution_count": null,
   "metadata": {},
   "outputs": [],
   "source": []
  },
  {
   "cell_type": "code",
   "execution_count": 23,
   "metadata": {},
   "outputs": [],
   "source": [
    "def audio2image(signal, sample_rate=SR, window_length=0.05, window_step=0.0045, NFFT=2205):\n",
    "\n",
    "    # preemphasis\n",
    "    signal = psf.sigproc.preemphasis(signal, coeff=0.95)\n",
    "\n",
    "    # get specrogram\n",
    "    # Get the frames\n",
    "    frames = psf.sigproc.framesig(signal, \n",
    "                                  window_length*sample_rate, \n",
    "                                  window_step*sample_rate, \n",
    "                                  lambda x:np.ones((x,)))        # Window function \n",
    "\n",
    "    # magnitude Spectrogram\n",
    "    spectrogram = np.rot90(psf.sigproc.magspec(frames, NFFT))\n",
    "\n",
    "    # get rid of high frequencies\n",
    "    spectrogram = spectrogram[512:,:]\n",
    "\n",
    "    # normalize in [0, 1]\n",
    "    spectrogram -= spectrogram.min(axis=None)\n",
    "    spectrogram /= spectrogram.max(axis=None)        \n",
    "\n",
    "    spectrogram = spectrogram[:591, :549]\n",
    "\n",
    "    return spectrogram \n",
    "\n",
    "\n",
    "def build_spectrogram(raw_audio):\n",
    "\n",
    "    # Use our function from earlier\n",
    "    spectrogram = audio2image(raw_audio) # a 2D array\n",
    "\n",
    "    # Pad to make sure it is 512 x 512\n",
    "    h, w = spectrogram.shape\n",
    "    spectrogram = np.pad(spectrogram, [(591-h, 0), (549-w, 0)])\n",
    "\n",
    "    # Scale to (0, 255)\n",
    "    spectrogram  -= spectrogram.min()\n",
    "    spectrogram *= 255.0/spectrogram.max()\n",
    "\n",
    "    # Make it uint8\n",
    "    im_arr = np.array(spectrogram, np.uint8)\n",
    "\n",
    "    # Make it rgb (hint - some fun tricks you can do here!)\n",
    "    r = im_arr\n",
    "    g = im_arr\n",
    "    b = im_arr\n",
    "\n",
    "    return np.stack([r, g, b], axis=-1)"
   ]
  },
  {
   "cell_type": "code",
   "execution_count": 24,
   "metadata": {},
   "outputs": [
    {
     "name": "stdout",
     "output_type": "stream",
     "text": [
      "CPU times: user 695 ms, sys: 304 ms, total: 999 ms\n",
      "Wall time: 1 s\n"
     ]
    }
   ],
   "source": [
    "%%time\n",
    "\n",
    "## try read all audios and hold them in memory:\n",
    "train_audios_dict = dict()\n",
    "for p, _ in train_df[[\"image_fn\", \"label\"]].values.tolist():\n",
    "    tmp_a, _ = librosa.core.load(p, sr=SR)\n",
    "    train_audios_dict[p] = tmp_a\n",
    "    \n",
    "val_audios_dict = dict()\n",
    "for p, _ in val_df[[\"image_fn\", \"label\"]].values.tolist():\n",
    "    tmp_a, _ = librosa.core.load(p, sr=SR)\n",
    "    val_audios_dict[p] = tmp_a\n",
    "    "
   ]
  },
  {
   "cell_type": "code",
   "execution_count": null,
   "metadata": {},
   "outputs": [],
   "source": []
  },
  {
   "cell_type": "code",
   "execution_count": 25,
   "metadata": {},
   "outputs": [],
   "source": [
    "import torchvision.transforms as tr\n",
    "from PIL import Image\n",
    "\n",
    "MEAN = np.array([0.485, 0.456, 0.406])\n",
    "STD = np.array([0.229, 0.224, 0.225])\n",
    "\n",
    "def normalize(image, mean, std):\n",
    "    image = (image / 255.0).astype(np.float32)\n",
    "    image = (image - mean) / std\n",
    "    return image\n",
    "\n",
    "class SpectrogramDataset(data.Dataset):\n",
    "    def __init__(\n",
    "        self,\n",
    "        file_list: tp.List[tp.List[str]],\n",
    "        audios_dict,\n",
    "        img_size=224,\n",
    "        transform=None,\n",
    "        normalize=True\n",
    "    ):\n",
    "        self.file_list = file_list  # list of list: [file_path, ebird_code]\n",
    "        self.img_size = img_size\n",
    "        self.transform = transform\n",
    "        self.normalize = normalize\n",
    "        self.audios_dict = audios_dict\n",
    "\n",
    "    def __len__(self):\n",
    "        return len(self.file_list)\n",
    "\n",
    "    def __getitem__(self, idx: int):\n",
    "        fn, word = self.file_list[idx]\n",
    "        #audio, _ = librosa.core.load(fn, sr=SR)\n",
    "        audio = self.audios_dict[fn]\n",
    "\n",
    "        if self.transform:\n",
    "            audio = self.transform(audio)\n",
    "\n",
    "        image = build_spectrogram(audio)\n",
    "        image = cv2.resize(image, (self.img_size, self.img_size))\n",
    "        \n",
    "        if self.normalize:\n",
    "            norm_image = normalize(np.array(image), mean=MEAN, std=STD)\n",
    "        else:\n",
    "            norm_image = image\n",
    "        \n",
    "        return np.moveaxis(norm_image, 2, 0), label2code[word]\n",
    "    \n",
    "    \n",
    "class SpectrogramTestDataset(data.Dataset):\n",
    "    def __init__(\n",
    "        self,\n",
    "        file_list: tp.List[tp.List[str]],\n",
    "        img_size=224,\n",
    "        transform=None\n",
    "    ):\n",
    "        self.file_list = file_list  # list of list: [file_path, ebird_code]\n",
    "        self.img_size = img_size\n",
    "        self.transform = transform\n",
    "        self.normalize = normalize\n",
    "#         self.audios_dict = audios_dict\n",
    "\n",
    "    def __len__(self):\n",
    "        return len(self.file_list)\n",
    "\n",
    "    def __getitem__(self, idx: int):\n",
    "        fn, word = self.file_list[idx]\n",
    "        audio, _ = librosa.core.load(fn, sr=SR)\n",
    "#         audio = self.audios_dict[fn]\n",
    "\n",
    "        if self.transform:\n",
    "            audio = self.transform(audio)\n",
    "\n",
    "        image = build_spectrogram(audio)\n",
    "        image = cv2.resize(image, (self.img_size, self.img_size))\n",
    "        \n",
    "        if self.normalize:\n",
    "            norm_image = normalize(np.array(image), mean=MEAN, std=STD)\n",
    "        else:\n",
    "            norm_image = image\n",
    "        \n",
    "        return np.moveaxis(norm_image, 2, 0)"
   ]
  },
  {
   "cell_type": "code",
   "execution_count": 26,
   "metadata": {},
   "outputs": [],
   "source": [
    "import torchvision.transforms as tr\n",
    "\n",
    "\n",
    "img_size = 224\n",
    "\n",
    "aug_noise = AddNoise(0, 0.07)\n",
    "aug_ts = TimeStretch((0.5, 2))\n",
    "aug_pitch = PitchShift((-5, 5))\n",
    "\n",
    "train_transforms = OneOf([\n",
    "    aug_noise,\n",
    "    aug_ts,\n",
    "    aug_pitch\n",
    "])\n"
   ]
  },
  {
   "cell_type": "code",
   "execution_count": null,
   "metadata": {},
   "outputs": [],
   "source": []
  },
  {
   "cell_type": "code",
   "execution_count": null,
   "metadata": {},
   "outputs": [],
   "source": []
  },
  {
   "cell_type": "code",
   "execution_count": 27,
   "metadata": {},
   "outputs": [],
   "source": [
    "sdf_train = SpectrogramDataset(train_df[[\"image_fn\", \"label\"]].values.tolist(), train_audios_dict,\n",
    "                               transform=train_transforms, normalize=True)\n",
    "sdf_val = SpectrogramDataset(val_df[[\"image_fn\", \"label\"]].values.tolist(), val_audios_dict, img_size)"
   ]
  },
  {
   "cell_type": "code",
   "execution_count": null,
   "metadata": {
    "scrolled": true
   },
   "outputs": [],
   "source": []
  },
  {
   "cell_type": "code",
   "execution_count": 29,
   "metadata": {},
   "outputs": [
    {
     "name": "stdout",
     "output_type": "stream",
     "text": [
      "2048\n"
     ]
    }
   ],
   "source": [
    "import torch.nn as nn\n",
    "import torch.optim as optim\n",
    "\n",
    "from torchvision import datasets, models, transforms\n",
    "\n",
    "model_ft = models.resnet50(pretrained=True)\n",
    "print(model_ft.fc.in_features)\n",
    "\n",
    "n_classes = len(label2code)\n",
    "\n",
    "model_ft.fc = nn.Sequential(\n",
    "    nn.Linear(model_ft.fc.in_features, n_classes)\n",
    ")\n",
    "\n",
    "device = torch.device(\"cuda\")\n",
    "\n",
    "model_ft = model_ft.to(device)\n",
    "\n",
    "criterion = nn.CrossEntropyLoss(reduction=\"sum\")\n",
    "\n",
    "optimizer_ft = optim.Adam(model_ft.parameters(), lr=2e-4)"
   ]
  },
  {
   "cell_type": "code",
   "execution_count": 31,
   "metadata": {},
   "outputs": [],
   "source": [
    "from torch.optim.lr_scheduler import ReduceLROnPlateau\n",
    "\n",
    "lr_scheduler = ReduceLROnPlateau(optimizer_ft, 'min', patience=4, factor=0.5, verbose=True, min_lr=2e-5)"
   ]
  },
  {
   "cell_type": "code",
   "execution_count": null,
   "metadata": {},
   "outputs": [],
   "source": []
  },
  {
   "cell_type": "code",
   "execution_count": 32,
   "metadata": {},
   "outputs": [],
   "source": [
    "def train_epoch(log_interval, model, device, criterion, train_loader, optimizer, epoch):\n",
    "#     print(epoch)\n",
    "    model.train()\n",
    "    for batch_idx, (data, target) in enumerate(train_loader):\n",
    "        data, target = data.type(torch.FloatTensor).to(device), target.to(device)\n",
    "        optimizer.zero_grad()\n",
    "        output = model(data)\n",
    "        loss = criterion(output, target)\n",
    "        loss.backward()\n",
    "        optimizer.step()\n",
    "        if batch_idx % log_interval == 0:\n",
    "            print('Train Epoch: {} [{}/{} ({:.0f}%)]\\tLoss: {:.6f}'.format(\n",
    "                epoch, batch_idx * len(data), len(train_loader.dataset),\n",
    "                100. * batch_idx / len(train_loader), loss.item()))\n",
    "    return loss.item()\n",
    "\n",
    "            \n",
    "def test(model, device, criterion, test_loader):\n",
    "    model.eval()\n",
    "    test_loss = 0\n",
    "    correct = 0\n",
    "    with torch.no_grad():\n",
    "        for data, target in test_loader:\n",
    "            data, target = data.type(torch.FloatTensor).to(device), target.to(device)\n",
    "            output = model(data)\n",
    "            test_loss += criterion(output, target).item()  # sum up batch loss\n",
    "            pred = output.argmax(dim=1, keepdim=True)  # get the index of the max log-probability\n",
    "            correct += pred.eq(target.view_as(pred)).sum().item()\n",
    "\n",
    "    test_loss /= len(test_loader.dataset)\n",
    "    \n",
    "    accuracy = 100. * correct / len(test_loader.dataset)\n",
    "\n",
    "    print('\\nTest set: Average loss: {:.4f}, Accuracy: {}/{} ({:.0f}%)\\n'.format(\n",
    "        test_loss, correct, len(test_loader.dataset),\n",
    "        accuracy))\n",
    "\n",
    "    return test_loss, accuracy"
   ]
  },
  {
   "cell_type": "code",
   "execution_count": 33,
   "metadata": {},
   "outputs": [],
   "source": [
    "train_loader = torch.utils.data.DataLoader(sdf_train, batch_size=64, shuffle=True,\n",
    "                                           num_workers=4, drop_last=False, pin_memory=True) ## ADDED shuffle\n",
    "val_loader = torch.utils.data.DataLoader(sdf_val, batch_size=32, drop_last=False, pin_memory=True)"
   ]
  },
  {
   "cell_type": "code",
   "execution_count": 34,
   "metadata": {},
   "outputs": [
    {
     "name": "stdout",
     "output_type": "stream",
     "text": [
      "\n",
      "Test set: Average loss: 5.2923, Accuracy: 0/349 (0%)\n",
      "\n"
     ]
    },
    {
     "data": {
      "text/plain": [
       "(5.292257139539308, 0.0)"
      ]
     },
     "execution_count": 34,
     "metadata": {},
     "output_type": "execute_result"
    }
   ],
   "source": [
    "test(model_ft, device, criterion, val_loader)"
   ]
  },
  {
   "cell_type": "code",
   "execution_count": null,
   "metadata": {},
   "outputs": [],
   "source": []
  },
  {
   "cell_type": "code",
   "execution_count": 35,
   "metadata": {
    "scrolled": true
   },
   "outputs": [
    {
     "name": "stdout",
     "output_type": "stream",
     "text": [
      "Train Epoch: 0 [0/4360 (0%)]\tLoss: 342.523315\n",
      "\n",
      "Test set: Average loss: 4.3727, Accuracy: 42/349 (12%)\n",
      "\n",
      "Training so far 1.234120535850525 minutes\n",
      "====================\n",
      "Train Epoch: 1 [0/4360 (0%)]\tLoss: 253.998260\n",
      "\n",
      "Test set: Average loss: 3.3529, Accuracy: 87/349 (25%)\n",
      "\n",
      "Training so far 2.4755823850631713 minutes\n",
      "====================\n",
      "Train Epoch: 2 [0/4360 (0%)]\tLoss: 176.148193\n",
      "\n",
      "Test set: Average loss: 2.9135, Accuracy: 112/349 (32%)\n",
      "\n",
      "Training so far 3.730493410428365 minutes\n",
      "====================\n",
      "Train Epoch: 3 [0/4360 (0%)]\tLoss: 116.348457\n",
      "\n",
      "Test set: Average loss: 2.3206, Accuracy: 156/349 (45%)\n",
      "\n",
      "Training so far 4.969377589225769 minutes\n",
      "====================\n",
      "Train Epoch: 4 [0/4360 (0%)]\tLoss: 117.559639\n",
      "\n",
      "Test set: Average loss: 2.3598, Accuracy: 154/349 (44%)\n",
      "\n",
      "Training so far 6.184211901823679 minutes\n",
      "====================\n",
      "Train Epoch: 5 [0/4360 (0%)]\tLoss: 90.339401\n",
      "\n",
      "Test set: Average loss: 1.8244, Accuracy: 201/349 (58%)\n",
      "\n",
      "Training so far 7.3976314504941305 minutes\n",
      "====================\n",
      "Train Epoch: 6 [0/4360 (0%)]\tLoss: 64.734421\n",
      "\n",
      "Test set: Average loss: 1.6505, Accuracy: 206/349 (59%)\n",
      "\n",
      "Training so far 8.623793292045594 minutes\n",
      "====================\n",
      "Train Epoch: 7 [0/4360 (0%)]\tLoss: 69.369308\n",
      "\n",
      "Test set: Average loss: 1.7663, Accuracy: 199/349 (57%)\n",
      "\n",
      "Training so far 9.849530347188313 minutes\n",
      "====================\n",
      "Train Epoch: 8 [0/4360 (0%)]\tLoss: 70.936302\n",
      "\n",
      "Test set: Average loss: 1.6805, Accuracy: 198/349 (57%)\n",
      "\n",
      "Training so far 11.0668710231781 minutes\n",
      "====================\n",
      "Train Epoch: 9 [0/4360 (0%)]\tLoss: 47.959431\n",
      "\n",
      "Test set: Average loss: 1.3851, Accuracy: 235/349 (67%)\n",
      "\n",
      "Training so far 12.278426178296407 minutes\n",
      "====================\n",
      "Train Epoch: 10 [0/4360 (0%)]\tLoss: 53.289577\n",
      "\n",
      "Test set: Average loss: 1.7156, Accuracy: 207/349 (59%)\n",
      "\n",
      "Training so far 13.502912533283233 minutes\n",
      "====================\n",
      "Train Epoch: 11 [0/4360 (0%)]\tLoss: 43.035526\n",
      "\n",
      "Test set: Average loss: 1.4512, Accuracy: 230/349 (66%)\n",
      "\n",
      "Training so far 14.727040731906891 minutes\n",
      "====================\n",
      "Train Epoch: 12 [0/4360 (0%)]\tLoss: 29.896734\n",
      "\n",
      "Test set: Average loss: 1.8307, Accuracy: 196/349 (56%)\n",
      "\n",
      "Training so far 15.960680401325225 minutes\n",
      "====================\n",
      "Train Epoch: 13 [0/4360 (0%)]\tLoss: 34.016495\n",
      "\n",
      "Test set: Average loss: 1.2282, Accuracy: 237/349 (68%)\n",
      "\n",
      "Training so far 17.175743782520293 minutes\n",
      "====================\n",
      "Train Epoch: 14 [0/4360 (0%)]\tLoss: 48.679054\n",
      "\n",
      "Test set: Average loss: 1.2677, Accuracy: 252/349 (72%)\n",
      "\n",
      "Training so far 18.39592603047689 minutes\n",
      "====================\n",
      "Train Epoch: 15 [0/4360 (0%)]\tLoss: 37.796581\n",
      "\n",
      "Test set: Average loss: 1.1956, Accuracy: 254/349 (73%)\n",
      "\n",
      "Training so far 19.61408357222875 minutes\n",
      "====================\n",
      "Train Epoch: 16 [0/4360 (0%)]\tLoss: 34.934509\n",
      "\n",
      "Test set: Average loss: 1.4625, Accuracy: 238/349 (68%)\n",
      "\n",
      "Training so far 20.822592016061147 minutes\n",
      "====================\n",
      "Train Epoch: 17 [0/4360 (0%)]\tLoss: 43.726654\n",
      "\n",
      "Test set: Average loss: 1.0361, Accuracy: 262/349 (75%)\n",
      "\n",
      "Training so far 22.036180130640666 minutes\n",
      "====================\n",
      "Train Epoch: 18 [0/4360 (0%)]\tLoss: 32.970249\n",
      "\n",
      "Test set: Average loss: 1.3480, Accuracy: 231/349 (66%)\n",
      "\n",
      "Training so far 23.245939803123473 minutes\n",
      "====================\n",
      "Train Epoch: 19 [0/4360 (0%)]\tLoss: 22.656187\n",
      "\n",
      "Test set: Average loss: 1.2869, Accuracy: 237/349 (68%)\n",
      "\n",
      "Training so far 24.46528695424398 minutes\n",
      "====================\n",
      "Train Epoch: 20 [0/4360 (0%)]\tLoss: 15.460280\n",
      "\n",
      "Test set: Average loss: 1.3651, Accuracy: 238/349 (68%)\n",
      "\n",
      "Training so far 25.676775749524435 minutes\n",
      "====================\n",
      "Train Epoch: 21 [0/4360 (0%)]\tLoss: 25.727848\n",
      "\n",
      "Test set: Average loss: 1.1974, Accuracy: 255/349 (73%)\n",
      "\n",
      "Training so far 26.886522380510964 minutes\n",
      "====================\n",
      "Train Epoch: 22 [0/4360 (0%)]\tLoss: 28.638479\n",
      "\n",
      "Test set: Average loss: 1.1479, Accuracy: 254/349 (73%)\n",
      "\n",
      "Epoch    23: reducing learning rate of group 0 to 1.0000e-04.\n",
      "Training so far 28.105921574433644 minutes\n",
      "====================\n",
      "Train Epoch: 23 [0/4360 (0%)]\tLoss: 27.476786\n",
      "\n",
      "Test set: Average loss: 0.9877, Accuracy: 276/349 (79%)\n",
      "\n",
      "Training so far 29.34541337887446 minutes\n",
      "====================\n",
      "Train Epoch: 24 [0/4360 (0%)]\tLoss: 12.193491\n",
      "\n",
      "Test set: Average loss: 0.9379, Accuracy: 274/349 (79%)\n",
      "\n",
      "Training so far 30.57500576575597 minutes\n",
      "====================\n",
      "Train Epoch: 25 [0/4360 (0%)]\tLoss: 16.465761\n",
      "\n",
      "Test set: Average loss: 0.9193, Accuracy: 277/349 (79%)\n",
      "\n",
      "Training so far 31.802355321248374 minutes\n",
      "====================\n",
      "Train Epoch: 26 [0/4360 (0%)]\tLoss: 9.768817\n",
      "\n",
      "Test set: Average loss: 0.9893, Accuracy: 271/349 (78%)\n",
      "\n",
      "Training so far 33.03758056163788 minutes\n",
      "====================\n",
      "Train Epoch: 27 [0/4360 (0%)]\tLoss: 8.260857\n",
      "\n",
      "Test set: Average loss: 1.1063, Accuracy: 269/349 (77%)\n",
      "\n",
      "Training so far 34.256572755177814 minutes\n",
      "====================\n",
      "Train Epoch: 28 [0/4360 (0%)]\tLoss: 5.944275\n",
      "\n",
      "Test set: Average loss: 0.9773, Accuracy: 278/349 (80%)\n",
      "\n",
      "Training so far 35.50292265812556 minutes\n",
      "====================\n",
      "Train Epoch: 29 [0/4360 (0%)]\tLoss: 21.768559\n",
      "\n",
      "Test set: Average loss: 1.0812, Accuracy: 271/349 (78%)\n",
      "\n",
      "Training so far 36.72399274508158 minutes\n",
      "====================\n",
      "Train Epoch: 30 [0/4360 (0%)]\tLoss: 10.042702\n",
      "\n",
      "Test set: Average loss: 1.0355, Accuracy: 276/349 (79%)\n",
      "\n",
      "Epoch    31: reducing learning rate of group 0 to 5.0000e-05.\n",
      "Training so far 37.94139768282572 minutes\n",
      "====================\n",
      "Train Epoch: 31 [0/4360 (0%)]\tLoss: 10.296958\n",
      "\n",
      "Test set: Average loss: 0.9129, Accuracy: 279/349 (80%)\n",
      "\n",
      "Training so far 39.153167267640434 minutes\n",
      "====================\n",
      "Train Epoch: 32 [0/4360 (0%)]\tLoss: 10.381695\n",
      "\n",
      "Test set: Average loss: 0.9927, Accuracy: 276/349 (79%)\n",
      "\n",
      "Training so far 40.38980924685796 minutes\n",
      "====================\n",
      "Train Epoch: 33 [0/4360 (0%)]\tLoss: 6.213452\n",
      "\n",
      "Test set: Average loss: 0.9302, Accuracy: 275/349 (79%)\n",
      "\n",
      "Training so far 41.6165755033493 minutes\n",
      "====================\n",
      "Train Epoch: 34 [0/4360 (0%)]\tLoss: 4.167705\n",
      "\n",
      "Test set: Average loss: 0.9223, Accuracy: 280/349 (80%)\n",
      "\n",
      "Training so far 42.825812085469565 minutes\n",
      "====================\n",
      "Train Epoch: 35 [0/4360 (0%)]\tLoss: 13.834362\n",
      "\n",
      "Test set: Average loss: 0.9649, Accuracy: 279/349 (80%)\n",
      "\n",
      "Training so far 44.04559202591578 minutes\n",
      "====================\n",
      "Train Epoch: 36 [0/4360 (0%)]\tLoss: 8.764750\n",
      "\n",
      "Test set: Average loss: 0.9510, Accuracy: 276/349 (79%)\n",
      "\n",
      "Epoch    37: reducing learning rate of group 0 to 2.5000e-05.\n",
      "Training so far 45.26036723057429 minutes\n",
      "====================\n",
      "Train Epoch: 37 [0/4360 (0%)]\tLoss: 7.425125\n",
      "\n",
      "Test set: Average loss: 0.9298, Accuracy: 285/349 (82%)\n",
      "\n",
      "Training so far 46.469884459177656 minutes\n",
      "====================\n",
      "Train Epoch: 38 [0/4360 (0%)]\tLoss: 9.891372\n",
      "\n",
      "Test set: Average loss: 0.9278, Accuracy: 283/349 (81%)\n",
      "\n",
      "Training so far 47.68188657363256 minutes\n",
      "====================\n",
      "Train Epoch: 39 [0/4360 (0%)]\tLoss: 21.765240\n",
      "\n",
      "Test set: Average loss: 0.9196, Accuracy: 285/349 (82%)\n",
      "\n",
      "Training so far 48.8906371474266 minutes\n",
      "====================\n",
      "Train Epoch: 40 [0/4360 (0%)]\tLoss: 11.951969\n",
      "\n",
      "Test set: Average loss: 0.9356, Accuracy: 283/349 (81%)\n",
      "\n",
      "Training so far 50.109029932816824 minutes\n",
      "====================\n",
      "Train Epoch: 41 [0/4360 (0%)]\tLoss: 5.892813\n",
      "\n",
      "Test set: Average loss: 0.9331, Accuracy: 284/349 (81%)\n",
      "\n",
      "Epoch    42: reducing learning rate of group 0 to 2.0000e-05.\n",
      "Training so far 51.33506011565526 minutes\n",
      "====================\n",
      "Train Epoch: 42 [0/4360 (0%)]\tLoss: 9.272791\n",
      "\n",
      "Test set: Average loss: 0.9118, Accuracy: 288/349 (83%)\n",
      "\n",
      "Training so far 52.55353347063065 minutes\n",
      "====================\n",
      "Train Epoch: 43 [0/4360 (0%)]\tLoss: 8.003501\n",
      "\n",
      "Test set: Average loss: 0.9363, Accuracy: 281/349 (81%)\n",
      "\n",
      "Training so far 53.774321122964224 minutes\n",
      "====================\n",
      "Train Epoch: 44 [0/4360 (0%)]\tLoss: 12.469231\n",
      "\n",
      "Test set: Average loss: 0.9199, Accuracy: 283/349 (81%)\n",
      "\n",
      "Training so far 54.98299078941345 minutes\n",
      "====================\n",
      "Train Epoch: 45 [0/4360 (0%)]\tLoss: 22.282263\n",
      "\n",
      "Test set: Average loss: 0.8992, Accuracy: 289/349 (83%)\n",
      "\n",
      "Training so far 56.20616163015366 minutes\n",
      "====================\n",
      "Train Epoch: 46 [0/4360 (0%)]\tLoss: 6.905025\n",
      "\n",
      "Test set: Average loss: 0.9589, Accuracy: 283/349 (81%)\n",
      "\n",
      "Training so far 57.42931626240412 minutes\n",
      "====================\n",
      "Train Epoch: 47 [0/4360 (0%)]\tLoss: 11.542215\n",
      "\n",
      "Test set: Average loss: 0.9069, Accuracy: 285/349 (82%)\n",
      "\n",
      "Training so far 58.63373748461405 minutes\n",
      "====================\n"
     ]
    },
    {
     "name": "stdout",
     "output_type": "stream",
     "text": [
      "Train Epoch: 48 [0/4360 (0%)]\tLoss: 7.184763\n",
      "\n",
      "Test set: Average loss: 0.9025, Accuracy: 290/349 (83%)\n",
      "\n",
      "Training so far 59.86297037204107 minutes\n",
      "====================\n",
      "Train Epoch: 49 [0/4360 (0%)]\tLoss: 3.671824\n",
      "\n",
      "Test set: Average loss: 0.9231, Accuracy: 289/349 (83%)\n",
      "\n",
      "Training so far 61.09418869415919 minutes\n",
      "====================\n",
      "time spent training: 61.094191145896914 minutes\n"
     ]
    }
   ],
   "source": [
    "def set_seed(seed: int = 42):\n",
    "    random.seed(seed)\n",
    "    np.random.seed(seed)\n",
    "    os.environ[\"PYTHONHASHSEED\"] = str(seed)\n",
    "    torch.manual_seed(seed)\n",
    "    torch.cuda.manual_seed(seed)\n",
    "\n",
    "\n",
    "\n",
    "t0 = time.time()\n",
    "alphabet = \"abcdefghijklmnopqrstuvwxyz\"\n",
    "tmp_folder_name = \"resnet50_aug_exp\"\n",
    "\n",
    "best_loss = 1e5\n",
    "best_acc = 0\n",
    "\n",
    "max_patience = 20\n",
    "patience = 0\n",
    "os.mkdir(f\"tmp/{tmp_folder_name}\")\n",
    "\n",
    "train_loss_hist = list()\n",
    "val_loss_hist = list()\n",
    "val_acc_hist = list()\n",
    "\n",
    "save_each_epoch = False\n",
    "\n",
    "set_seed(9)\n",
    "\n",
    "\n",
    "for ep in range(50):\n",
    "    train_loss = train_epoch(1e10, model_ft, device, criterion, train_loader, optimizer_ft, ep)\n",
    "    cur_loss, cur_acc = test(model_ft, device, criterion, val_loader)\n",
    "    \n",
    "    train_loss_hist.append(train_loss)\n",
    "    val_loss_hist.append(cur_loss)\n",
    "    val_acc_hist.append(cur_acc)\n",
    "    \n",
    "    if save_each_epoch:\n",
    "        torch.save(model_ft.state_dict(), f\"tmp/{tmp_folder_name}/model_ep_{ep}.pth\")\n",
    "\n",
    "    if cur_loss < best_loss:\n",
    "        torch.save(model_ft.state_dict(), f\"tmp/{tmp_folder_name}/best_run.pth\")\n",
    "        best_loss = cur_loss\n",
    "        best_acc = cur_acc\n",
    "        patience = 0\n",
    "    else:\n",
    "        patience += 1\n",
    "#         print(\"patience:\", patience)\n",
    "#         if patience > max_patience:\n",
    "#             break\n",
    "\n",
    "    lr_scheduler.step(cur_loss) ## removed lr scheduler for now\n",
    "    print(\"Training so far {} minutes\".format((time.time() - t0) / 60))\n",
    "    print(\"=\"*20)\n",
    "\n",
    "print(\"time spent training: {} minutes\".format((time.time() - t0) / 60))"
   ]
  },
  {
   "cell_type": "code",
   "execution_count": 37,
   "metadata": {},
   "outputs": [],
   "source": [
    "torch.save(model_ft.state_dict(), f\"tmp/{tmp_folder_name}/model_ep_{ep}.pth\")\n"
   ]
  },
  {
   "cell_type": "code",
   "execution_count": 38,
   "metadata": {},
   "outputs": [
    {
     "data": {
      "text/plain": [
       "0.8991776878990895"
      ]
     },
     "execution_count": 38,
     "metadata": {},
     "output_type": "execute_result"
    }
   ],
   "source": [
    "# torch.save(model_ft.state_dict(), f\"resnet18_ep30.pth\")\n",
    "best_loss"
   ]
  },
  {
   "cell_type": "code",
   "execution_count": 39,
   "metadata": {},
   "outputs": [
    {
     "data": {
      "text/plain": [
       "'resnet50_aug_exp'"
      ]
     },
     "execution_count": 39,
     "metadata": {},
     "output_type": "execute_result"
    }
   ],
   "source": [
    "tmp_folder_name"
   ]
  },
  {
   "cell_type": "code",
   "execution_count": 40,
   "metadata": {},
   "outputs": [
    {
     "data": {
      "text/plain": [
       "0.8280802292263609"
      ]
     },
     "execution_count": 40,
     "metadata": {},
     "output_type": "execute_result"
    }
   ],
   "source": [
    "best_acc / 100"
   ]
  },
  {
   "cell_type": "code",
   "execution_count": 41,
   "metadata": {},
   "outputs": [],
   "source": [
    "import matplotlib.pyplot as plt"
   ]
  },
  {
   "cell_type": "code",
   "execution_count": 42,
   "metadata": {},
   "outputs": [
    {
     "data": {
      "text/plain": [
       "[<matplotlib.lines.Line2D at 0x7f5a956641d0>]"
      ]
     },
     "execution_count": 42,
     "metadata": {},
     "output_type": "execute_result"
    },
    {
     "data": {
      "image/png": "[encoded data removed]",
      "text/plain": [
       "<Figure size 432x288 with 1 Axes>"
      ]
     },
     "metadata": {},
     "output_type": "display_data"
    }
   ],
   "source": [
    "plt.plot(range(len(val_loss_hist)), val_loss_hist)"
   ]
  },
  {
   "cell_type": "code",
   "execution_count": 43,
   "metadata": {},
   "outputs": [
    {
     "data": {
      "text/plain": [
       "[<matplotlib.lines.Line2D at 0x7f5a9499e8d0>]"
      ]
     },
     "execution_count": 43,
     "metadata": {},
     "output_type": "execute_result"
    },
    {
     "data": {
      "image/png": "[encoded data removed]",
      "text/plain": [
       "<Figure size 432x288 with 1 Axes>"
      ]
     },
     "metadata": {},
     "output_type": "display_data"
    }
   ],
   "source": [
    "plt.plot(range(len(val_acc_hist)), val_acc_hist)"
   ]
  },
  {
   "cell_type": "code",
   "execution_count": 44,
   "metadata": {},
   "outputs": [
    {
     "data": {
      "text/plain": [
       "[<matplotlib.lines.Line2D at 0x7f5a94900d30>]"
      ]
     },
     "execution_count": 44,
     "metadata": {},
     "output_type": "execute_result"
    },
    {
     "data": {
      "image/png": "[encoded data removed]",
      "text/plain": [
       "<Figure size 432x288 with 1 Axes>"
      ]
     },
     "metadata": {},
     "output_type": "display_data"
    }
   ],
   "source": [
    "plt.plot(range(len(train_loss_hist)), train_loss_hist)"
   ]
  },
  {
   "cell_type": "code",
   "execution_count": null,
   "metadata": {},
   "outputs": [],
   "source": []
  },
  {
   "cell_type": "code",
   "execution_count": 45,
   "metadata": {},
   "outputs": [
    {
     "data": {
      "text/plain": [
       "<All keys matched successfully>"
      ]
     },
     "execution_count": 45,
     "metadata": {},
     "output_type": "execute_result"
    }
   ],
   "source": [
    "model_ft.load_state_dict(torch.load(f\"tmp/{tmp_folder_name}/best_run.pth\"))"
   ]
  },
  {
   "cell_type": "code",
   "execution_count": null,
   "metadata": {},
   "outputs": [],
   "source": []
  },
  {
   "cell_type": "code",
   "execution_count": 46,
   "metadata": {},
   "outputs": [],
   "source": [
    "## try inference:\n",
    "test_loader = torch.utils.data.DataLoader(sdf_val, batch_size=16)"
   ]
  },
  {
   "cell_type": "code",
   "execution_count": 47,
   "metadata": {},
   "outputs": [
    {
     "name": "stderr",
     "output_type": "stream",
     "text": [
      "/home/letfoolsdie/virtual_envs/ml/lib/python3.6/site-packages/ipykernel_launcher.py:12: UserWarning: Implicit dimension choice for softmax has been deprecated. Change the call to include dim=X as an argument.\n",
      "  if sys.path[0] == '':\n"
     ]
    },
    {
     "name": "stdout",
     "output_type": "stream",
     "text": [
      "CPU times: user 9.49 s, sys: 11.4 ms, total: 9.5 s\n",
      "Wall time: 8.59 s\n"
     ]
    }
   ],
   "source": [
    "%%time\n",
    "\n",
    "sfm = nn.Softmax()\n",
    "predictions = list()\n",
    "\n",
    "for batch_idx, (inputs, _) in enumerate(test_loader):\n",
    "    inputs = inputs.type(torch.FloatTensor).to(device)\n",
    "\n",
    "    # forward\n",
    "    # track history if only in train\n",
    "    with torch.set_grad_enabled(False):\n",
    "        outputs = model_ft(inputs)\n",
    "        predictions.append(sfm(outputs)) ## ADD SOFTMAX\n",
    "\n",
    "predictions = np.concatenate([t.cpu().numpy() for t in predictions])\n",
    "preds = np.argmax(predictions, axis=1)"
   ]
  },
  {
   "cell_type": "code",
   "execution_count": 48,
   "metadata": {},
   "outputs": [],
   "source": [
    "val_df[\"preds\"] = [code2label[c] for c in preds]"
   ]
  },
  {
   "cell_type": "code",
   "execution_count": 49,
   "metadata": {},
   "outputs": [
    {
     "data": {
      "text/plain": [
       "0.828080229226361"
      ]
     },
     "execution_count": 49,
     "metadata": {},
     "output_type": "execute_result"
    }
   ],
   "source": [
    "(val_df.label == val_df.preds).mean()"
   ]
  },
  {
   "cell_type": "code",
   "execution_count": null,
   "metadata": {},
   "outputs": [],
   "source": []
  },
  {
   "cell_type": "markdown",
   "metadata": {},
   "source": [
    "## Prepare submission:"
   ]
  },
  {
   "cell_type": "code",
   "execution_count": 50,
   "metadata": {},
   "outputs": [
    {
     "data": {
      "text/html": [
       "<div>\n",
       "<style scoped>\n",
       "    .dataframe tbody tr th:only-of-type {\n",
       "        vertical-align: middle;\n",
       "    }\n",
       "\n",
       "    .dataframe tbody tr th {\n",
       "        vertical-align: top;\n",
       "    }\n",
       "\n",
       "    .dataframe thead th {\n",
       "        text-align: right;\n",
       "    }\n",
       "</style>\n",
       "<table border=\"1\" class=\"dataframe\">\n",
       "  <thead>\n",
       "    <tr style=\"text-align: right;\">\n",
       "      <th></th>\n",
       "      <th>fn</th>\n",
       "      <th>maize streak virus</th>\n",
       "      <th>disease</th>\n",
       "      <th>okukkoola</th>\n",
       "      <th>muwogo</th>\n",
       "      <th>mpeke</th>\n",
       "      <th>mucungwa</th>\n",
       "      <th>greens</th>\n",
       "      <th>garden</th>\n",
       "      <th>mango</th>\n",
       "      <th>...</th>\n",
       "      <th>kasaanyi</th>\n",
       "      <th>suckers</th>\n",
       "      <th>insects</th>\n",
       "      <th>fertilizer</th>\n",
       "      <th>nakavundira</th>\n",
       "      <th>ekiwojjolo</th>\n",
       "      <th>akawuka</th>\n",
       "      <th>ddagala</th>\n",
       "      <th>ebiwojjolo</th>\n",
       "      <th>obutungulu</th>\n",
       "    </tr>\n",
       "  </thead>\n",
       "  <tbody>\n",
       "    <tr>\n",
       "      <td>0</td>\n",
       "      <td>audio_files/00118N3.wav</td>\n",
       "      <td>0.002769</td>\n",
       "      <td>0.002084</td>\n",
       "      <td>0.005227</td>\n",
       "      <td>0.002884</td>\n",
       "      <td>0.004507</td>\n",
       "      <td>0.003533</td>\n",
       "      <td>0.001687</td>\n",
       "      <td>0.001626</td>\n",
       "      <td>0.003026</td>\n",
       "      <td>...</td>\n",
       "      <td>0.001507</td>\n",
       "      <td>0.002586</td>\n",
       "      <td>0.000081</td>\n",
       "      <td>0.000787</td>\n",
       "      <td>0.001928</td>\n",
       "      <td>0.004070</td>\n",
       "      <td>0.000132</td>\n",
       "      <td>0.000324</td>\n",
       "      <td>0.003241</td>\n",
       "      <td>0.003494</td>\n",
       "    </tr>\n",
       "    <tr>\n",
       "      <td>1</td>\n",
       "      <td>audio_files/00P0NMV.wav</td>\n",
       "      <td>0.001113</td>\n",
       "      <td>0.006091</td>\n",
       "      <td>0.001480</td>\n",
       "      <td>0.005104</td>\n",
       "      <td>0.004039</td>\n",
       "      <td>0.001252</td>\n",
       "      <td>0.000326</td>\n",
       "      <td>0.009214</td>\n",
       "      <td>0.000750</td>\n",
       "      <td>...</td>\n",
       "      <td>0.002991</td>\n",
       "      <td>0.001708</td>\n",
       "      <td>0.001014</td>\n",
       "      <td>0.000887</td>\n",
       "      <td>0.218384</td>\n",
       "      <td>0.002322</td>\n",
       "      <td>0.026944</td>\n",
       "      <td>0.014598</td>\n",
       "      <td>0.005134</td>\n",
       "      <td>0.004125</td>\n",
       "    </tr>\n",
       "    <tr>\n",
       "      <td>2</td>\n",
       "      <td>audio_files/01QEEZI.wav</td>\n",
       "      <td>0.001245</td>\n",
       "      <td>0.003642</td>\n",
       "      <td>0.001077</td>\n",
       "      <td>0.005952</td>\n",
       "      <td>0.006379</td>\n",
       "      <td>0.003655</td>\n",
       "      <td>0.002700</td>\n",
       "      <td>0.002457</td>\n",
       "      <td>0.000995</td>\n",
       "      <td>...</td>\n",
       "      <td>0.007273</td>\n",
       "      <td>0.005435</td>\n",
       "      <td>0.000962</td>\n",
       "      <td>0.002200</td>\n",
       "      <td>0.001465</td>\n",
       "      <td>0.001184</td>\n",
       "      <td>0.000905</td>\n",
       "      <td>0.000909</td>\n",
       "      <td>0.000670</td>\n",
       "      <td>0.001558</td>\n",
       "    </tr>\n",
       "  </tbody>\n",
       "</table>\n",
       "<p>3 rows × 194 columns</p>\n",
       "</div>"
      ],
      "text/plain": [
       "                        fn  maize streak virus   disease  okukkoola    muwogo  \\\n",
       "0  audio_files/00118N3.wav            0.002769  0.002084   0.005227  0.002884   \n",
       "1  audio_files/00P0NMV.wav            0.001113  0.006091   0.001480  0.005104   \n",
       "2  audio_files/01QEEZI.wav            0.001245  0.003642   0.001077  0.005952   \n",
       "\n",
       "      mpeke  mucungwa    greens    garden     mango  ...  kasaanyi   suckers  \\\n",
       "0  0.004507  0.003533  0.001687  0.001626  0.003026  ...  0.001507  0.002586   \n",
       "1  0.004039  0.001252  0.000326  0.009214  0.000750  ...  0.002991  0.001708   \n",
       "2  0.006379  0.003655  0.002700  0.002457  0.000995  ...  0.007273  0.005435   \n",
       "\n",
       "    insects  fertilizer  nakavundira  ekiwojjolo   akawuka   ddagala  \\\n",
       "0  0.000081    0.000787     0.001928    0.004070  0.000132  0.000324   \n",
       "1  0.001014    0.000887     0.218384    0.002322  0.026944  0.014598   \n",
       "2  0.000962    0.002200     0.001465    0.001184  0.000905  0.000909   \n",
       "\n",
       "   ebiwojjolo  obutungulu  \n",
       "0    0.003241    0.003494  \n",
       "1    0.005134    0.004125  \n",
       "2    0.000670    0.001558  \n",
       "\n",
       "[3 rows x 194 columns]"
      ]
     },
     "execution_count": 50,
     "metadata": {},
     "output_type": "execute_result"
    }
   ],
   "source": [
    "sample_subm = pd.read_csv(\"Submission1.csv\")\n",
    "sample_subm.head(3)"
   ]
  },
  {
   "cell_type": "code",
   "execution_count": 51,
   "metadata": {},
   "outputs": [],
   "source": [
    "sample_subm[\"image_fn\"] = sample_subm.fn.apply(get_image_path)"
   ]
  },
  {
   "cell_type": "code",
   "execution_count": 52,
   "metadata": {},
   "outputs": [
    {
     "data": {
      "text/html": [
       "<div>\n",
       "<style scoped>\n",
       "    .dataframe tbody tr th:only-of-type {\n",
       "        vertical-align: middle;\n",
       "    }\n",
       "\n",
       "    .dataframe tbody tr th {\n",
       "        vertical-align: top;\n",
       "    }\n",
       "\n",
       "    .dataframe thead th {\n",
       "        text-align: right;\n",
       "    }\n",
       "</style>\n",
       "<table border=\"1\" class=\"dataframe\">\n",
       "  <thead>\n",
       "    <tr style=\"text-align: right;\">\n",
       "      <th></th>\n",
       "      <th>fn</th>\n",
       "      <th>maize streak virus</th>\n",
       "      <th>disease</th>\n",
       "      <th>okukkoola</th>\n",
       "      <th>muwogo</th>\n",
       "      <th>mpeke</th>\n",
       "      <th>mucungwa</th>\n",
       "      <th>greens</th>\n",
       "      <th>garden</th>\n",
       "      <th>mango</th>\n",
       "      <th>...</th>\n",
       "      <th>suckers</th>\n",
       "      <th>insects</th>\n",
       "      <th>fertilizer</th>\n",
       "      <th>nakavundira</th>\n",
       "      <th>ekiwojjolo</th>\n",
       "      <th>akawuka</th>\n",
       "      <th>ddagala</th>\n",
       "      <th>ebiwojjolo</th>\n",
       "      <th>obutungulu</th>\n",
       "      <th>image_fn</th>\n",
       "    </tr>\n",
       "  </thead>\n",
       "  <tbody>\n",
       "    <tr>\n",
       "      <td>0</td>\n",
       "      <td>audio_files/00118N3.wav</td>\n",
       "      <td>0.002769</td>\n",
       "      <td>0.002084</td>\n",
       "      <td>0.005227</td>\n",
       "      <td>0.002884</td>\n",
       "      <td>0.004507</td>\n",
       "      <td>0.003533</td>\n",
       "      <td>0.001687</td>\n",
       "      <td>0.001626</td>\n",
       "      <td>0.003026</td>\n",
       "      <td>...</td>\n",
       "      <td>0.002586</td>\n",
       "      <td>0.000081</td>\n",
       "      <td>0.000787</td>\n",
       "      <td>0.001928</td>\n",
       "      <td>0.004070</td>\n",
       "      <td>0.000132</td>\n",
       "      <td>0.000324</td>\n",
       "      <td>0.003241</td>\n",
       "      <td>0.003494</td>\n",
       "      <td>/home/letfoolsdie/zindi_nlp/data/all_audio_res...</td>\n",
       "    </tr>\n",
       "    <tr>\n",
       "      <td>1</td>\n",
       "      <td>audio_files/00P0NMV.wav</td>\n",
       "      <td>0.001113</td>\n",
       "      <td>0.006091</td>\n",
       "      <td>0.001480</td>\n",
       "      <td>0.005104</td>\n",
       "      <td>0.004039</td>\n",
       "      <td>0.001252</td>\n",
       "      <td>0.000326</td>\n",
       "      <td>0.009214</td>\n",
       "      <td>0.000750</td>\n",
       "      <td>...</td>\n",
       "      <td>0.001708</td>\n",
       "      <td>0.001014</td>\n",
       "      <td>0.000887</td>\n",
       "      <td>0.218384</td>\n",
       "      <td>0.002322</td>\n",
       "      <td>0.026944</td>\n",
       "      <td>0.014598</td>\n",
       "      <td>0.005134</td>\n",
       "      <td>0.004125</td>\n",
       "      <td>/home/letfoolsdie/zindi_nlp/data/all_audio_res...</td>\n",
       "    </tr>\n",
       "    <tr>\n",
       "      <td>2</td>\n",
       "      <td>audio_files/01QEEZI.wav</td>\n",
       "      <td>0.001245</td>\n",
       "      <td>0.003642</td>\n",
       "      <td>0.001077</td>\n",
       "      <td>0.005952</td>\n",
       "      <td>0.006379</td>\n",
       "      <td>0.003655</td>\n",
       "      <td>0.002700</td>\n",
       "      <td>0.002457</td>\n",
       "      <td>0.000995</td>\n",
       "      <td>...</td>\n",
       "      <td>0.005435</td>\n",
       "      <td>0.000962</td>\n",
       "      <td>0.002200</td>\n",
       "      <td>0.001465</td>\n",
       "      <td>0.001184</td>\n",
       "      <td>0.000905</td>\n",
       "      <td>0.000909</td>\n",
       "      <td>0.000670</td>\n",
       "      <td>0.001558</td>\n",
       "      <td>/home/letfoolsdie/zindi_nlp/data/all_audio_res...</td>\n",
       "    </tr>\n",
       "  </tbody>\n",
       "</table>\n",
       "<p>3 rows × 195 columns</p>\n",
       "</div>"
      ],
      "text/plain": [
       "                        fn  maize streak virus   disease  okukkoola    muwogo  \\\n",
       "0  audio_files/00118N3.wav            0.002769  0.002084   0.005227  0.002884   \n",
       "1  audio_files/00P0NMV.wav            0.001113  0.006091   0.001480  0.005104   \n",
       "2  audio_files/01QEEZI.wav            0.001245  0.003642   0.001077  0.005952   \n",
       "\n",
       "      mpeke  mucungwa    greens    garden     mango  ...   suckers   insects  \\\n",
       "0  0.004507  0.003533  0.001687  0.001626  0.003026  ...  0.002586  0.000081   \n",
       "1  0.004039  0.001252  0.000326  0.009214  0.000750  ...  0.001708  0.001014   \n",
       "2  0.006379  0.003655  0.002700  0.002457  0.000995  ...  0.005435  0.000962   \n",
       "\n",
       "   fertilizer  nakavundira  ekiwojjolo   akawuka   ddagala  ebiwojjolo  \\\n",
       "0    0.000787     0.001928    0.004070  0.000132  0.000324    0.003241   \n",
       "1    0.000887     0.218384    0.002322  0.026944  0.014598    0.005134   \n",
       "2    0.002200     0.001465    0.001184  0.000905  0.000909    0.000670   \n",
       "\n",
       "   obutungulu                                           image_fn  \n",
       "0    0.003494  /home/letfoolsdie/zindi_nlp/data/all_audio_res...  \n",
       "1    0.004125  /home/letfoolsdie/zindi_nlp/data/all_audio_res...  \n",
       "2    0.001558  /home/letfoolsdie/zindi_nlp/data/all_audio_res...  \n",
       "\n",
       "[3 rows x 195 columns]"
      ]
     },
     "execution_count": 52,
     "metadata": {},
     "output_type": "execute_result"
    }
   ],
   "source": [
    "sample_subm.head(3)"
   ]
  },
  {
   "cell_type": "code",
   "execution_count": 53,
   "metadata": {},
   "outputs": [],
   "source": [
    "def get_predictions(model, test_loader):\n",
    "    sfm = nn.Softmax()\n",
    "    predictions = list()\n",
    "    for batch_idx, inputs in enumerate(test_loader):\n",
    "        inputs = inputs.type(torch.FloatTensor).to(device)\n",
    "\n",
    "        # forward\n",
    "        # track history if only in train\n",
    "        with torch.set_grad_enabled(False):\n",
    "            outputs = model(inputs)\n",
    "            predictions.append(sfm(outputs)) ## ADD SOFTMAX\n",
    "    predictions = np.concatenate([t.cpu().numpy() for t in predictions])\n",
    "    return predictions"
   ]
  },
  {
   "cell_type": "code",
   "execution_count": 54,
   "metadata": {},
   "outputs": [],
   "source": [
    "subm_dataset = SpectrogramTestDataset([[path, None] for path in sample_subm.image_fn.values ])\n",
    "subm_loader = torch.utils.data.DataLoader(subm_dataset, batch_size=16)"
   ]
  },
  {
   "cell_type": "code",
   "execution_count": 55,
   "metadata": {},
   "outputs": [
    {
     "name": "stderr",
     "output_type": "stream",
     "text": [
      "/home/letfoolsdie/virtual_envs/ml/lib/python3.6/site-packages/ipykernel_launcher.py:11: UserWarning: Implicit dimension choice for softmax has been deprecated. Change the call to include dim=X as an argument.\n",
      "  # This is added back by InteractiveShellApp.init_path()\n"
     ]
    },
    {
     "name": "stdout",
     "output_type": "stream",
     "text": [
      "CPU times: user 27.9 s, sys: 81.6 ms, total: 28 s\n",
      "Wall time: 25.3 s\n"
     ]
    }
   ],
   "source": [
    "%%time\n",
    "\n",
    "preds = get_predictions(model_ft, subm_loader)"
   ]
  },
  {
   "cell_type": "code",
   "execution_count": 56,
   "metadata": {},
   "outputs": [
    {
     "name": "stdout",
     "output_type": "stream",
     "text": [
      "(1017, 193)\n"
     ]
    }
   ],
   "source": [
    "print(preds.shape)"
   ]
  },
  {
   "cell_type": "code",
   "execution_count": 57,
   "metadata": {},
   "outputs": [
    {
     "data": {
      "text/plain": [
       "(1017, 195)"
      ]
     },
     "execution_count": 57,
     "metadata": {},
     "output_type": "execute_result"
    }
   ],
   "source": [
    "sample_subm.shape"
   ]
  },
  {
   "cell_type": "code",
   "execution_count": 58,
   "metadata": {},
   "outputs": [
    {
     "name": "stdout",
     "output_type": "stream",
     "text": [
      "CPU times: user 35.2 ms, sys: 0 ns, total: 35.2 ms\n",
      "Wall time: 34.8 ms\n"
     ]
    }
   ],
   "source": [
    "%%time\n",
    "\n",
    "for c in sample_subm.columns:\n",
    "    if c in {\"fn\", \"image_fn\"}:\n",
    "        continue\n",
    "    c_idx = label2code[c]\n",
    "    sample_subm[c] = preds[:, c_idx]"
   ]
  },
  {
   "cell_type": "code",
   "execution_count": 59,
   "metadata": {},
   "outputs": [
    {
     "data": {
      "text/html": [
       "<div>\n",
       "<style scoped>\n",
       "    .dataframe tbody tr th:only-of-type {\n",
       "        vertical-align: middle;\n",
       "    }\n",
       "\n",
       "    .dataframe tbody tr th {\n",
       "        vertical-align: top;\n",
       "    }\n",
       "\n",
       "    .dataframe thead th {\n",
       "        text-align: right;\n",
       "    }\n",
       "</style>\n",
       "<table border=\"1\" class=\"dataframe\">\n",
       "  <thead>\n",
       "    <tr style=\"text-align: right;\">\n",
       "      <th></th>\n",
       "      <th>fn</th>\n",
       "      <th>maize streak virus</th>\n",
       "      <th>disease</th>\n",
       "      <th>okukkoola</th>\n",
       "      <th>muwogo</th>\n",
       "      <th>mpeke</th>\n",
       "      <th>mucungwa</th>\n",
       "      <th>greens</th>\n",
       "      <th>garden</th>\n",
       "      <th>mango</th>\n",
       "      <th>...</th>\n",
       "      <th>suckers</th>\n",
       "      <th>insects</th>\n",
       "      <th>fertilizer</th>\n",
       "      <th>nakavundira</th>\n",
       "      <th>ekiwojjolo</th>\n",
       "      <th>akawuka</th>\n",
       "      <th>ddagala</th>\n",
       "      <th>ebiwojjolo</th>\n",
       "      <th>obutungulu</th>\n",
       "      <th>image_fn</th>\n",
       "    </tr>\n",
       "  </thead>\n",
       "  <tbody>\n",
       "    <tr>\n",
       "      <td>1014</td>\n",
       "      <td>audio_files/ZSC69U3.wav</td>\n",
       "      <td>2.797891e-08</td>\n",
       "      <td>1.328794e-08</td>\n",
       "      <td>4.924840e-08</td>\n",
       "      <td>3.448700e-08</td>\n",
       "      <td>5.146625e-10</td>\n",
       "      <td>7.025384e-06</td>\n",
       "      <td>7.994064e-08</td>\n",
       "      <td>6.376961e-12</td>\n",
       "      <td>1.356911e-11</td>\n",
       "      <td>...</td>\n",
       "      <td>1.357961e-08</td>\n",
       "      <td>1.328991e-06</td>\n",
       "      <td>2.154531e-07</td>\n",
       "      <td>8.351095e-08</td>\n",
       "      <td>0.000003</td>\n",
       "      <td>2.267393e-07</td>\n",
       "      <td>1.858863e-07</td>\n",
       "      <td>2.326619e-07</td>\n",
       "      <td>9.053625e-08</td>\n",
       "      <td>/home/letfoolsdie/zindi_nlp/data/all_audio_res...</td>\n",
       "    </tr>\n",
       "    <tr>\n",
       "      <td>1015</td>\n",
       "      <td>audio_files/ZU1I8MR.wav</td>\n",
       "      <td>1.391982e-07</td>\n",
       "      <td>1.632082e-08</td>\n",
       "      <td>9.107687e-06</td>\n",
       "      <td>1.539279e-04</td>\n",
       "      <td>4.833664e-05</td>\n",
       "      <td>4.117179e-05</td>\n",
       "      <td>3.534446e-07</td>\n",
       "      <td>7.720200e-08</td>\n",
       "      <td>9.057889e-08</td>\n",
       "      <td>...</td>\n",
       "      <td>1.838001e-08</td>\n",
       "      <td>9.813753e-08</td>\n",
       "      <td>7.946419e-08</td>\n",
       "      <td>1.399131e-05</td>\n",
       "      <td>0.000086</td>\n",
       "      <td>4.168159e-05</td>\n",
       "      <td>1.350921e-05</td>\n",
       "      <td>2.144405e-04</td>\n",
       "      <td>2.114101e-04</td>\n",
       "      <td>/home/letfoolsdie/zindi_nlp/data/all_audio_res...</td>\n",
       "    </tr>\n",
       "    <tr>\n",
       "      <td>1016</td>\n",
       "      <td>audio_files/ZYO56VD.wav</td>\n",
       "      <td>6.028327e-07</td>\n",
       "      <td>2.894619e-09</td>\n",
       "      <td>4.892521e-10</td>\n",
       "      <td>5.656037e-10</td>\n",
       "      <td>4.112975e-10</td>\n",
       "      <td>7.232257e-08</td>\n",
       "      <td>2.086050e-09</td>\n",
       "      <td>2.042432e-12</td>\n",
       "      <td>6.604727e-13</td>\n",
       "      <td>...</td>\n",
       "      <td>4.862017e-10</td>\n",
       "      <td>2.201146e-07</td>\n",
       "      <td>1.028511e-08</td>\n",
       "      <td>7.325855e-09</td>\n",
       "      <td>0.000010</td>\n",
       "      <td>1.194072e-08</td>\n",
       "      <td>2.448773e-08</td>\n",
       "      <td>4.244355e-09</td>\n",
       "      <td>1.265914e-10</td>\n",
       "      <td>/home/letfoolsdie/zindi_nlp/data/all_audio_res...</td>\n",
       "    </tr>\n",
       "  </tbody>\n",
       "</table>\n",
       "<p>3 rows × 195 columns</p>\n",
       "</div>"
      ],
      "text/plain": [
       "                           fn  maize streak virus       disease     okukkoola  \\\n",
       "1014  audio_files/ZSC69U3.wav        2.797891e-08  1.328794e-08  4.924840e-08   \n",
       "1015  audio_files/ZU1I8MR.wav        1.391982e-07  1.632082e-08  9.107687e-06   \n",
       "1016  audio_files/ZYO56VD.wav        6.028327e-07  2.894619e-09  4.892521e-10   \n",
       "\n",
       "            muwogo         mpeke      mucungwa        greens        garden  \\\n",
       "1014  3.448700e-08  5.146625e-10  7.025384e-06  7.994064e-08  6.376961e-12   \n",
       "1015  1.539279e-04  4.833664e-05  4.117179e-05  3.534446e-07  7.720200e-08   \n",
       "1016  5.656037e-10  4.112975e-10  7.232257e-08  2.086050e-09  2.042432e-12   \n",
       "\n",
       "             mango  ...       suckers       insects    fertilizer  \\\n",
       "1014  1.356911e-11  ...  1.357961e-08  1.328991e-06  2.154531e-07   \n",
       "1015  9.057889e-08  ...  1.838001e-08  9.813753e-08  7.946419e-08   \n",
       "1016  6.604727e-13  ...  4.862017e-10  2.201146e-07  1.028511e-08   \n",
       "\n",
       "       nakavundira  ekiwojjolo       akawuka       ddagala    ebiwojjolo  \\\n",
       "1014  8.351095e-08    0.000003  2.267393e-07  1.858863e-07  2.326619e-07   \n",
       "1015  1.399131e-05    0.000086  4.168159e-05  1.350921e-05  2.144405e-04   \n",
       "1016  7.325855e-09    0.000010  1.194072e-08  2.448773e-08  4.244355e-09   \n",
       "\n",
       "        obutungulu                                           image_fn  \n",
       "1014  9.053625e-08  /home/letfoolsdie/zindi_nlp/data/all_audio_res...  \n",
       "1015  2.114101e-04  /home/letfoolsdie/zindi_nlp/data/all_audio_res...  \n",
       "1016  1.265914e-10  /home/letfoolsdie/zindi_nlp/data/all_audio_res...  \n",
       "\n",
       "[3 rows x 195 columns]"
      ]
     },
     "execution_count": 59,
     "metadata": {},
     "output_type": "execute_result"
    }
   ],
   "source": [
    "sample_subm.tail(3)"
   ]
  },
  {
   "cell_type": "code",
   "execution_count": 60,
   "metadata": {},
   "outputs": [],
   "source": [
    "sample_subm.drop(\"image_fn\", axis=1).to_csv('submissions/resnet50_augmented.csv', index=False)"
   ]
  },
  {
   "cell_type": "code",
   "execution_count": null,
   "metadata": {},
   "outputs": [],
   "source": []
  }
 ],
 "metadata": {
  "kernelspec": {
   "display_name": "Python 3",
   "language": "python",
   "name": "python3"
  },
  "language_info": {
   "codemirror_mode": {
    "name": "ipython",
    "version": 3
   },
   "file_extension": ".py",
   "mimetype": "text/x-python",
   "name": "python",
   "nbconvert_exporter": "python",
   "pygments_lexer": "ipython3",
   "version": "3.6.9"
  }
 },
 "nbformat": 4,
 "nbformat_minor": 2
}
