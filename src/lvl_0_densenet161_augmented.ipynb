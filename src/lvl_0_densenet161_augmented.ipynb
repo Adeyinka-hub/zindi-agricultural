{
 "cells": [
  {
   "cell_type": "code",
   "execution_count": 1,
   "metadata": {},
   "outputs": [],
   "source": [
    "import os\n",
    "import time\n",
    "import random\n",
    "import warnings\n",
    "import typing as tp\n",
    "import pathlib\n",
    "from contextlib import contextmanager\n",
    "\n",
    "import cv2\n",
    "import librosa\n",
    "\n",
    "import numpy as np\n",
    "import pandas as pd\n",
    "\n",
    "import torch\n",
    "import torch.nn as nn\n",
    "import torch.nn.functional as F\n",
    "import torch.utils.data as data"
   ]
  },
  {
   "cell_type": "code",
   "execution_count": 2,
   "metadata": {},
   "outputs": [],
   "source": [
    "import python_speech_features as psf\n",
    "import matplotlib.pyplot as plt\n",
    "\n",
    "%matplotlib inline"
   ]
  },
  {
   "cell_type": "code",
   "execution_count": 3,
   "metadata": {},
   "outputs": [],
   "source": [
    "data_path = pathlib.Path(\"../data\")"
   ]
  },
  {
   "cell_type": "code",
   "execution_count": 4,
   "metadata": {},
   "outputs": [
    {
     "data": {
      "text/html": [
       "<div>\n",
       "<style scoped>\n",
       "    .dataframe tbody tr th:only-of-type {\n",
       "        vertical-align: middle;\n",
       "    }\n",
       "\n",
       "    .dataframe tbody tr th {\n",
       "        vertical-align: top;\n",
       "    }\n",
       "\n",
       "    .dataframe thead th {\n",
       "        text-align: right;\n",
       "    }\n",
       "</style>\n",
       "<table border=\"1\" class=\"dataframe\">\n",
       "  <thead>\n",
       "    <tr style=\"text-align: right;\">\n",
       "      <th></th>\n",
       "      <th>fn</th>\n",
       "      <th>label</th>\n",
       "    </tr>\n",
       "  </thead>\n",
       "  <tbody>\n",
       "    <tr>\n",
       "      <td>0</td>\n",
       "      <td>audio_files/IV38R7F.wav</td>\n",
       "      <td>akawuka</td>\n",
       "    </tr>\n",
       "    <tr>\n",
       "      <td>1</td>\n",
       "      <td>audio_files/KM4SKWT.wav</td>\n",
       "      <td>banana</td>\n",
       "    </tr>\n",
       "    <tr>\n",
       "      <td>2</td>\n",
       "      <td>audio_files/F5POSU9.wav</td>\n",
       "      <td>obulwadde</td>\n",
       "    </tr>\n",
       "    <tr>\n",
       "      <td>3</td>\n",
       "      <td>audio_files/MMVDXG2.wav</td>\n",
       "      <td>nnyaanya</td>\n",
       "    </tr>\n",
       "    <tr>\n",
       "      <td>4</td>\n",
       "      <td>audio_files/9TVM96F.wav</td>\n",
       "      <td>pampu</td>\n",
       "    </tr>\n",
       "  </tbody>\n",
       "</table>\n",
       "</div>"
      ],
      "text/plain": [
       "                        fn      label\n",
       "0  audio_files/IV38R7F.wav    akawuka\n",
       "1  audio_files/KM4SKWT.wav     banana\n",
       "2  audio_files/F5POSU9.wav  obulwadde\n",
       "3  audio_files/MMVDXG2.wav   nnyaanya\n",
       "4  audio_files/9TVM96F.wav      pampu"
      ]
     },
     "execution_count": 4,
     "metadata": {},
     "output_type": "execute_result"
    }
   ],
   "source": [
    "train = pd.read_csv(data_path/'Train.csv')\n",
    "train.head()"
   ]
  },
  {
   "cell_type": "code",
   "execution_count": 5,
   "metadata": {},
   "outputs": [
    {
     "data": {
      "text/html": [
       "<div>\n",
       "<style scoped>\n",
       "    .dataframe tbody tr th:only-of-type {\n",
       "        vertical-align: middle;\n",
       "    }\n",
       "\n",
       "    .dataframe tbody tr th {\n",
       "        vertical-align: top;\n",
       "    }\n",
       "\n",
       "    .dataframe thead th {\n",
       "        text-align: right;\n",
       "    }\n",
       "</style>\n",
       "<table border=\"1\" class=\"dataframe\">\n",
       "  <thead>\n",
       "    <tr style=\"text-align: right;\">\n",
       "      <th></th>\n",
       "      <th>fn</th>\n",
       "      <th>label</th>\n",
       "    </tr>\n",
       "  </thead>\n",
       "  <tbody>\n",
       "    <tr>\n",
       "      <td>0</td>\n",
       "      <td>audio_files_full/3d43af6faf2244c288154dc4ff6a7...</td>\n",
       "      <td>obuwuka</td>\n",
       "    </tr>\n",
       "    <tr>\n",
       "      <td>1</td>\n",
       "      <td>audio_files_full/3d43af6faf2244c288154dc4ff6a7...</td>\n",
       "      <td>obuwuka</td>\n",
       "    </tr>\n",
       "    <tr>\n",
       "      <td>2</td>\n",
       "      <td>audio_files_full/744b1a437234489fae9512694d221...</td>\n",
       "      <td>obuwuka</td>\n",
       "    </tr>\n",
       "  </tbody>\n",
       "</table>\n",
       "</div>"
      ],
      "text/plain": [
       "                                                  fn    label\n",
       "0  audio_files_full/3d43af6faf2244c288154dc4ff6a7...  obuwuka\n",
       "1  audio_files_full/3d43af6faf2244c288154dc4ff6a7...  obuwuka\n",
       "2  audio_files_full/744b1a437234489fae9512694d221...  obuwuka"
      ]
     },
     "execution_count": 5,
     "metadata": {},
     "output_type": "execute_result"
    }
   ],
   "source": [
    "train_extra = pd.read_csv(data_path/'train_add.csv')\n",
    "train_extra.head(3)"
   ]
  },
  {
   "cell_type": "code",
   "execution_count": 6,
   "metadata": {},
   "outputs": [
    {
     "data": {
      "text/html": [
       "<div>\n",
       "<style scoped>\n",
       "    .dataframe tbody tr th:only-of-type {\n",
       "        vertical-align: middle;\n",
       "    }\n",
       "\n",
       "    .dataframe tbody tr th {\n",
       "        vertical-align: top;\n",
       "    }\n",
       "\n",
       "    .dataframe thead th {\n",
       "        text-align: right;\n",
       "    }\n",
       "</style>\n",
       "<table border=\"1\" class=\"dataframe\">\n",
       "  <thead>\n",
       "    <tr style=\"text-align: right;\">\n",
       "      <th></th>\n",
       "      <th>fn</th>\n",
       "      <th>label</th>\n",
       "    </tr>\n",
       "  </thead>\n",
       "  <tbody>\n",
       "    <tr>\n",
       "      <td>0</td>\n",
       "      <td>audio_files_full_20201029/2497942026ef4d7e97d4...</td>\n",
       "      <td>obuwuka</td>\n",
       "    </tr>\n",
       "    <tr>\n",
       "      <td>1</td>\n",
       "      <td>audio_files_full_20201029/d027264654b94950aeb2...</td>\n",
       "      <td>ejjobyo</td>\n",
       "    </tr>\n",
       "    <tr>\n",
       "      <td>2</td>\n",
       "      <td>audio_files_full_20201029/d027264654b94950aeb2...</td>\n",
       "      <td>ejjobyo</td>\n",
       "    </tr>\n",
       "  </tbody>\n",
       "</table>\n",
       "</div>"
      ],
      "text/plain": [
       "                                                  fn    label\n",
       "0  audio_files_full_20201029/2497942026ef4d7e97d4...  obuwuka\n",
       "1  audio_files_full_20201029/d027264654b94950aeb2...  ejjobyo\n",
       "2  audio_files_full_20201029/d027264654b94950aeb2...  ejjobyo"
      ]
     },
     "execution_count": 6,
     "metadata": {},
     "output_type": "execute_result"
    }
   ],
   "source": [
    "train_extra_2 = pd.read_csv(data_path/'train_add_20201029.csv')\n",
    "train_extra_2.head(3)"
   ]
  },
  {
   "cell_type": "code",
   "execution_count": null,
   "metadata": {},
   "outputs": [],
   "source": []
  },
  {
   "cell_type": "code",
   "execution_count": 7,
   "metadata": {},
   "outputs": [],
   "source": [
    "label2code = {word: idx for idx, word in enumerate(train.label.unique().tolist())}\n",
    "code2label = {v:k for k,v in label2code.items()}"
   ]
  },
  {
   "cell_type": "code",
   "execution_count": 8,
   "metadata": {},
   "outputs": [],
   "source": [
    "audios_path = data_path / \"all_audio_resampled\""
   ]
  },
  {
   "cell_type": "code",
   "execution_count": 9,
   "metadata": {},
   "outputs": [],
   "source": [
    "def get_image_path(audio_path):\n",
    "    file_name = audio_path.split(\"/\")[-1].split(\".\")[0]\n",
    "    ip = str(audios_path.resolve() / f\"{file_name}.wav\")\n",
    "    return ip\n",
    "\n",
    "train[\"image_fn\"] = train.fn.apply(get_image_path)\n",
    "train_extra[\"image_fn\"] = train_extra.fn.apply(get_image_path)\n",
    "train_extra_2[\"image_fn\"] = train_extra_2.fn.apply(get_image_path)"
   ]
  },
  {
   "cell_type": "code",
   "execution_count": 10,
   "metadata": {},
   "outputs": [],
   "source": [
    "train_df = pd.concat([train, train_extra], axis=0).reset_index(drop=True)"
   ]
  },
  {
   "cell_type": "code",
   "execution_count": 11,
   "metadata": {},
   "outputs": [],
   "source": [
    "### build validation that includes all classes:\n",
    "\n",
    "\n",
    "vcs = train_df.label.value_counts()\n",
    "\n",
    "## possible schema:\n",
    "# 25+ - take 3\n",
    "# 12-25 - take 2\n",
    "# 12- - take 1\n",
    "\n",
    "def num_for_val(num_examples):\n",
    "    if num_examples >= 25:\n",
    "        return 3\n",
    "    if num_examples >= 12:\n",
    "        return 2\n",
    "    return 1\n",
    "\n",
    "train_df[\"num_examples\"] = train_df.label.map(vcs.to_dict())\n",
    "train_df[\"num_for_val\"] = train_df.num_examples.apply(num_for_val)\n",
    "\n",
    "random.seed(12)\n",
    "train_df_new = pd.DataFrame()\n",
    "for label in train_df.label.unique():\n",
    "    tmp = train_df.loc[train_df.label == label].copy()\n",
    "    tmp[\"dummy\"] = tmp.label.apply(lambda _: random.random())\n",
    "    tmp.sort_values(by=\"dummy\", inplace=True)\n",
    "    tmp[\"rank\"] = range(tmp.shape[0])\n",
    "    train_df_new = pd.concat([train_df_new, tmp])\n",
    "\n",
    "train_df_new.reset_index(drop=True, inplace=True)\n",
    "train_df_new[\"val_subset\"] = train_df_new.num_for_val > train_df_new[\"rank\"]\n",
    "train_df_new.drop(\"dummy\", axis=1, inplace=True)"
   ]
  },
  {
   "cell_type": "code",
   "execution_count": 12,
   "metadata": {},
   "outputs": [],
   "source": [
    "assert (\n",
    "    set(train_df_new.loc[train_df_new.val_subset].label.unique()) == \n",
    "    set(train_df_new.loc[~train_df_new.val_subset].label.unique())\n",
    ")"
   ]
  },
  {
   "cell_type": "code",
   "execution_count": null,
   "metadata": {},
   "outputs": [],
   "source": []
  },
  {
   "cell_type": "code",
   "execution_count": 13,
   "metadata": {},
   "outputs": [
    {
     "name": "stdout",
     "output_type": "stream",
     "text": [
      "(2500, 7)\n",
      "(349, 7)\n"
     ]
    }
   ],
   "source": [
    "# from sklearn.model_selection import train_test_split\n",
    "\n",
    "train_df, val_df = train_df_new.loc[~train_df_new.val_subset].copy(), train_df_new.loc[train_df_new.val_subset].copy()\n",
    "print(train_df.shape)\n",
    "print(val_df.shape)"
   ]
  },
  {
   "cell_type": "code",
   "execution_count": 14,
   "metadata": {},
   "outputs": [],
   "source": [
    "train_df = pd.concat([\n",
    "    train_df.drop([\"num_examples\", \"num_for_val\", \"rank\", \"val_subset\"], axis=1),\n",
    "    train_extra_2\n",
    "]).reset_index(drop=True)"
   ]
  },
  {
   "cell_type": "code",
   "execution_count": 15,
   "metadata": {},
   "outputs": [
    {
     "name": "stdout",
     "output_type": "stream",
     "text": [
      "(4360, 3)\n",
      "(349, 7)\n"
     ]
    }
   ],
   "source": [
    "print(train_df.shape)\n",
    "print(val_df.shape)"
   ]
  },
  {
   "cell_type": "code",
   "execution_count": 16,
   "metadata": {},
   "outputs": [],
   "source": [
    "## check no val leaking\n",
    "assert train_df.merge(val_df, on=[\"image_fn\"], how=\"inner\").shape[0] == 0"
   ]
  },
  {
   "cell_type": "code",
   "execution_count": null,
   "metadata": {},
   "outputs": [],
   "source": []
  },
  {
   "cell_type": "code",
   "execution_count": null,
   "metadata": {},
   "outputs": [],
   "source": []
  },
  {
   "cell_type": "code",
   "execution_count": 17,
   "metadata": {},
   "outputs": [],
   "source": [
    "class Compose:\n",
    "    def __init__(self, transforms):\n",
    "        self.transforms = transforms\n",
    "\n",
    "    def __call__(self, image, trg=None):\n",
    "        if trg is None:\n",
    "            for t in self.transforms:\n",
    "                image = t(image)\n",
    "            return image\n",
    "        else:\n",
    "            for t in self.transforms:\n",
    "                image, trg = t(image, trg)\n",
    "            return image, trg\n",
    "\n",
    "\n",
    "class UseWithProb:\n",
    "    def __init__(self, transform, prob=.5):\n",
    "        self.transform = transform\n",
    "        self.prob = prob\n",
    "\n",
    "    def __call__(self, image, trg=None):\n",
    "        if trg is None:\n",
    "            if random.random() < self.prob:\n",
    "                image = self.transform(image)\n",
    "            return image\n",
    "        else:\n",
    "            if random.random() < self.prob:\n",
    "                image, trg = self.transform(image, trg)\n",
    "            return image, trg\n",
    "\n",
    "\n",
    "class OneOf:\n",
    "    def __init__(self, transforms, p=None):\n",
    "        self.transforms = transforms\n",
    "        self.p = p\n",
    "\n",
    "    def __call__(self, image, trg=None):\n",
    "        transform = np.random.choice(self.transforms, p=self.p)\n",
    "        if trg is None:\n",
    "            image = transform(image)\n",
    "            return image\n",
    "        else:\n",
    "            image, trg = transform(image, trg)\n",
    "            return image, trg"
   ]
  },
  {
   "cell_type": "code",
   "execution_count": 18,
   "metadata": {},
   "outputs": [],
   "source": [
    "SR = 22050"
   ]
  },
  {
   "cell_type": "code",
   "execution_count": 19,
   "metadata": {},
   "outputs": [],
   "source": [
    "class PitchShift:\n",
    "    def __init__(self, pitch_range, sr=SR):\n",
    "        self.pr_low, self.pr_hi = pitch_range\n",
    "        self.sr=sr\n",
    "    \n",
    "    def __call__(self, audio):\n",
    "        shift = np.random.choice(np.linspace(self.pr_low, self.pr_hi, 100))\n",
    "        return librosa.effects.pitch_shift(audio, self.sr, shift)\n",
    "\n",
    "\n",
    "class TimeStretch:\n",
    "    def __init__(self, stretch_param):\n",
    "        self.stretch = stretch_param\n",
    "    \n",
    "    def __call__(self, audio):\n",
    "        \"\"\"\n",
    "        if self.stretch is one number, use it as stretch param.\n",
    "        if it's 2nums array, use it as limits for uniform distribution\n",
    "        from which we sample stretch param\n",
    "        \"\"\"\n",
    "        if type(self.stretch) in (int, float):\n",
    "            return librosa.effects.time_stretch(audio, self.stretch)\n",
    "        else:\n",
    "            low, hi = self.stretch\n",
    "            s = np.random.choice(np.linspace(low, hi, 100))\n",
    "            return librosa.effects.time_stretch(audio, s)\n",
    "        \n",
    "class AddNoise:\n",
    "    def __init__(self, loc, scale):\n",
    "        self.loc = loc\n",
    "        self.scale = scale\n",
    "        \n",
    "    def __call__(self, audio):\n",
    "        noise = np.random.normal(loc=self.loc, scale=self.scale, size=audio.shape)\n",
    "        return noise + audio"
   ]
  },
  {
   "cell_type": "code",
   "execution_count": 20,
   "metadata": {},
   "outputs": [
    {
     "name": "stdout",
     "output_type": "stream",
     "text": [
      "1964\n",
      "['audio_files/S53SFYK.wav' 'sukumawiki'\n",
      " '/home/letfoolsdie/zindi_nlp/data/all_audio_resampled/S53SFYK.wav']\n"
     ]
    }
   ],
   "source": [
    "import IPython.display as ipd\n",
    "\n",
    "idx = np.random.randint(train_df.shape[0])\n",
    "print(idx)\n",
    "print(train_df.iloc[idx].values)\n",
    "p = train_df.iloc[idx][\"image_fn\"]\n",
    "\n",
    "raw, _ = librosa.core.load(p, sr=SR)"
   ]
  },
  {
   "cell_type": "code",
   "execution_count": 21,
   "metadata": {},
   "outputs": [
    {
     "data": {
      "text/html": [
       "\n",
       "                <audio controls=\"controls\" >\n",
       "                    <source src=\"data:audio/wav;base64,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\" type=\"audio/wav\" />\n",
       "                    Your browser does not support the audio element.\n",
       "                </audio>\n",
       "              "
      ],
      "text/plain": [
       "<IPython.lib.display.Audio object>"
      ]
     },
     "execution_count": 21,
     "metadata": {},
     "output_type": "execute_result"
    }
   ],
   "source": [
    "ipd.Audio(raw, rate=SR)"
   ]
  },
  {
   "cell_type": "code",
   "execution_count": 22,
   "metadata": {},
   "outputs": [
    {
     "data": {
      "text/html": [
       "\n",
       "                <audio controls=\"controls\" >\n",
       "                    <source src=\"data:audio/wav;base64,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\" type=\"audio/wav\" />\n",
       "                    Your browser does not support the audio element.\n",
       "                </audio>\n",
       "              "
      ],
      "text/plain": [
       "<IPython.lib.display.Audio object>"
      ]
     },
     "execution_count": 22,
     "metadata": {},
     "output_type": "execute_result"
    }
   ],
   "source": [
    "aug_noise = AddNoise(0, 0.03)\n",
    "aug_ts = TimeStretch((0.5, 2))\n",
    "aug_pitch = PitchShift((-5, 5))\n",
    "\n",
    "combo_aug = OneOf([\n",
    "    aug_noise,\n",
    "    aug_ts,\n",
    "    aug_pitch\n",
    "])\n",
    "\n",
    "ipd.Audio(combo_aug(raw), rate=SR)"
   ]
  },
  {
   "cell_type": "code",
   "execution_count": null,
   "metadata": {},
   "outputs": [],
   "source": []
  },
  {
   "cell_type": "code",
   "execution_count": null,
   "metadata": {},
   "outputs": [],
   "source": []
  },
  {
   "cell_type": "code",
   "execution_count": 23,
   "metadata": {},
   "outputs": [],
   "source": [
    "def audio2image(signal, sample_rate=SR, window_length=0.05, window_step=0.0045, NFFT=2205):\n",
    "\n",
    "    # preemphasis\n",
    "    signal = psf.sigproc.preemphasis(signal, coeff=0.95)\n",
    "\n",
    "    # get specrogram\n",
    "    # Get the frames\n",
    "    frames = psf.sigproc.framesig(signal, \n",
    "                                  window_length*sample_rate, \n",
    "                                  window_step*sample_rate, \n",
    "                                  lambda x:np.ones((x,)))        # Window function \n",
    "\n",
    "    # magnitude Spectrogram\n",
    "    spectrogram = np.rot90(psf.sigproc.magspec(frames, NFFT))\n",
    "\n",
    "    # get rid of high frequencies\n",
    "    spectrogram = spectrogram[512:,:]\n",
    "\n",
    "    # normalize in [0, 1]\n",
    "    spectrogram -= spectrogram.min(axis=None)\n",
    "    spectrogram /= spectrogram.max(axis=None)        \n",
    "\n",
    "    spectrogram = spectrogram[:591, :549]\n",
    "\n",
    "    return spectrogram \n",
    "\n",
    "\n",
    "def build_spectrogram(raw_audio):\n",
    "\n",
    "    # Use our function from earlier\n",
    "    spectrogram = audio2image(raw_audio) # a 2D array\n",
    "\n",
    "    # Pad to make sure it is 512 x 512\n",
    "    h, w = spectrogram.shape\n",
    "    spectrogram = np.pad(spectrogram, [(591-h, 0), (549-w, 0)])\n",
    "\n",
    "    # Scale to (0, 255)\n",
    "    spectrogram  -= spectrogram.min()\n",
    "    spectrogram *= 255.0/spectrogram.max()\n",
    "\n",
    "    # Make it uint8\n",
    "    im_arr = np.array(spectrogram, np.uint8)\n",
    "\n",
    "    # Make it rgb (hint - some fun tricks you can do here!)\n",
    "    r = im_arr\n",
    "    g = im_arr\n",
    "    b = im_arr\n",
    "\n",
    "    return np.stack([r, g, b], axis=-1)"
   ]
  },
  {
   "cell_type": "code",
   "execution_count": 24,
   "metadata": {},
   "outputs": [
    {
     "name": "stdout",
     "output_type": "stream",
     "text": [
      "CPU times: user 690 ms, sys: 315 ms, total: 1 s\n",
      "Wall time: 1.01 s\n"
     ]
    }
   ],
   "source": [
    "%%time\n",
    "\n",
    "## try read all audios and hold them in memory:\n",
    "train_audios_dict = dict()\n",
    "for p, _ in train_df[[\"image_fn\", \"label\"]].values.tolist():\n",
    "    tmp_a, _ = librosa.core.load(p, sr=SR)\n",
    "    train_audios_dict[p] = tmp_a\n",
    "    \n",
    "val_audios_dict = dict()\n",
    "for p, _ in val_df[[\"image_fn\", \"label\"]].values.tolist():\n",
    "    tmp_a, _ = librosa.core.load(p, sr=SR)\n",
    "    val_audios_dict[p] = tmp_a\n",
    "    "
   ]
  },
  {
   "cell_type": "code",
   "execution_count": null,
   "metadata": {},
   "outputs": [],
   "source": []
  },
  {
   "cell_type": "code",
   "execution_count": 25,
   "metadata": {},
   "outputs": [],
   "source": [
    "import torchvision.transforms as tr\n",
    "from PIL import Image\n",
    "\n",
    "MEAN = np.array([0.485, 0.456, 0.406])\n",
    "STD = np.array([0.229, 0.224, 0.225])\n",
    "\n",
    "def normalize(image, mean, std):\n",
    "    image = (image / 255.0).astype(np.float32)\n",
    "    image = (image - mean) / std\n",
    "    return image\n",
    "\n",
    "class SpectrogramDataset(data.Dataset):\n",
    "    def __init__(\n",
    "        self,\n",
    "        file_list: tp.List[tp.List[str]],\n",
    "        audios_dict,\n",
    "        img_size=224,\n",
    "        transform=None,\n",
    "        normalize=True\n",
    "    ):\n",
    "        self.file_list = file_list  # list of list: [file_path, ebird_code]\n",
    "        self.img_size = img_size\n",
    "        self.transform = transform\n",
    "        self.normalize = normalize\n",
    "        self.audios_dict = audios_dict\n",
    "\n",
    "    def __len__(self):\n",
    "        return len(self.file_list)\n",
    "\n",
    "    def __getitem__(self, idx: int):\n",
    "        fn, word = self.file_list[idx]\n",
    "        #audio, _ = librosa.core.load(fn, sr=SR)\n",
    "        audio = self.audios_dict[fn]\n",
    "\n",
    "        if self.transform:\n",
    "            audio = self.transform(audio)\n",
    "\n",
    "        image = build_spectrogram(audio)\n",
    "        image = cv2.resize(image, (self.img_size, self.img_size))\n",
    "        \n",
    "        if self.normalize:\n",
    "            norm_image = normalize(np.array(image), mean=MEAN, std=STD)\n",
    "        else:\n",
    "            norm_image = image\n",
    "        \n",
    "        return np.moveaxis(norm_image, 2, 0), label2code[word]\n",
    "    \n",
    "    \n",
    "class SpectrogramTestDataset(data.Dataset):\n",
    "    def __init__(\n",
    "        self,\n",
    "        file_list: tp.List[tp.List[str]],\n",
    "        img_size=224,\n",
    "        transform=None\n",
    "    ):\n",
    "        self.file_list = file_list  # list of list: [file_path, ebird_code]\n",
    "        self.img_size = img_size\n",
    "        self.transform = transform\n",
    "        self.normalize = normalize\n",
    "#         self.audios_dict = audios_dict\n",
    "\n",
    "    def __len__(self):\n",
    "        return len(self.file_list)\n",
    "\n",
    "    def __getitem__(self, idx: int):\n",
    "        fn, word = self.file_list[idx]\n",
    "        audio, _ = librosa.core.load(fn, sr=SR)\n",
    "#         audio = self.audios_dict[fn]\n",
    "\n",
    "        if self.transform:\n",
    "            audio = self.transform(audio)\n",
    "\n",
    "        image = build_spectrogram(audio)\n",
    "        image = cv2.resize(image, (self.img_size, self.img_size))\n",
    "        \n",
    "        if self.normalize:\n",
    "            norm_image = normalize(np.array(image), mean=MEAN, std=STD)\n",
    "        else:\n",
    "            norm_image = image\n",
    "        \n",
    "        return np.moveaxis(norm_image, 2, 0)"
   ]
  },
  {
   "cell_type": "code",
   "execution_count": 26,
   "metadata": {},
   "outputs": [],
   "source": [
    "import torchvision.transforms as tr\n",
    "\n",
    "\n",
    "img_size = 224\n",
    "\n",
    "aug_noise = AddNoise(0, 0.07)\n",
    "aug_ts = TimeStretch((0.5, 2))\n",
    "aug_pitch = PitchShift((-5, 5))\n",
    "\n",
    "train_transforms = OneOf([\n",
    "    aug_noise,\n",
    "    aug_ts,\n",
    "    aug_pitch\n",
    "])\n"
   ]
  },
  {
   "cell_type": "code",
   "execution_count": null,
   "metadata": {},
   "outputs": [],
   "source": []
  },
  {
   "cell_type": "code",
   "execution_count": null,
   "metadata": {},
   "outputs": [],
   "source": []
  },
  {
   "cell_type": "code",
   "execution_count": 27,
   "metadata": {},
   "outputs": [],
   "source": [
    "sdf_train = SpectrogramDataset(train_df[[\"image_fn\", \"label\"]].values.tolist(), train_audios_dict,\n",
    "                               transform=train_transforms, normalize=True)\n",
    "sdf_val = SpectrogramDataset(val_df[[\"image_fn\", \"label\"]].values.tolist(), val_audios_dict, img_size)"
   ]
  },
  {
   "cell_type": "code",
   "execution_count": null,
   "metadata": {
    "scrolled": true
   },
   "outputs": [],
   "source": []
  },
  {
   "cell_type": "code",
   "execution_count": 29,
   "metadata": {},
   "outputs": [
    {
     "name": "stdout",
     "output_type": "stream",
     "text": [
      "2208\n"
     ]
    }
   ],
   "source": [
    "import torch.nn as nn\n",
    "import torch.optim as optim\n",
    "\n",
    "from torchvision import datasets, models, transforms\n",
    "\n",
    "# model_ft = models.resnet101(pretrained=True)\n",
    "model_ft = models.densenet161(pretrained=True)\n",
    "print(model_ft.classifier.in_features)\n",
    "\n",
    "n_classes = len(label2code)\n",
    "\n",
    "model_ft.classifier = nn.Sequential(\n",
    "    nn.Linear(model_ft.classifier.in_features, n_classes)\n",
    ")\n",
    "# model_ft.fc = nn.Sequential(\n",
    "#     nn.Linear(model_ft.fc.in_features, n_classes)\n",
    "# )\n",
    "\n",
    "device = torch.device(\"cuda\")\n",
    "\n",
    "model_ft = model_ft.to(device)\n",
    "\n",
    "criterion = nn.CrossEntropyLoss(reduction=\"sum\")\n",
    "\n",
    "optimizer_ft = optim.Adam(model_ft.parameters(), lr=5e-4)"
   ]
  },
  {
   "cell_type": "code",
   "execution_count": 30,
   "metadata": {},
   "outputs": [],
   "source": [
    "from torch.optim.lr_scheduler import ReduceLROnPlateau\n",
    "\n",
    "lr_scheduler = ReduceLROnPlateau(optimizer_ft, 'min', patience=4, factor=0.5, verbose=True, min_lr=2e-5)"
   ]
  },
  {
   "cell_type": "code",
   "execution_count": null,
   "metadata": {},
   "outputs": [],
   "source": []
  },
  {
   "cell_type": "code",
   "execution_count": null,
   "metadata": {},
   "outputs": [],
   "source": []
  },
  {
   "cell_type": "code",
   "execution_count": 31,
   "metadata": {},
   "outputs": [],
   "source": [
    "def train_epoch(log_interval, model, device, criterion, train_loader, optimizer, epoch):\n",
    "#     print(epoch)\n",
    "    model.train()\n",
    "    for batch_idx, (data, target) in enumerate(train_loader):\n",
    "        data, target = data.type(torch.FloatTensor).to(device), target.to(device)\n",
    "        optimizer.zero_grad()\n",
    "        output = model(data)\n",
    "        loss = criterion(output, target)\n",
    "        loss.backward()\n",
    "        optimizer.step()\n",
    "        if batch_idx % log_interval == 0:\n",
    "            print('Train Epoch: {} [{}/{} ({:.0f}%)]\\tLoss: {:.6f}'.format(\n",
    "                epoch, batch_idx * len(data), len(train_loader.dataset),\n",
    "                100. * batch_idx / len(train_loader), loss.item()))\n",
    "    return loss.item()\n",
    "\n",
    "            \n",
    "def test(model, device, criterion, test_loader):\n",
    "    model.eval()\n",
    "    test_loss = 0\n",
    "    correct = 0\n",
    "    with torch.no_grad():\n",
    "        for data, target in test_loader:\n",
    "            data, target = data.type(torch.FloatTensor).to(device), target.to(device)\n",
    "            output = model(data)\n",
    "            test_loss += criterion(output, target).item()  # sum up batch loss\n",
    "            pred = output.argmax(dim=1, keepdim=True)  # get the index of the max log-probability\n",
    "            correct += pred.eq(target.view_as(pred)).sum().item()\n",
    "\n",
    "    test_loss /= len(test_loader.dataset)\n",
    "    \n",
    "    accuracy = 100. * correct / len(test_loader.dataset)\n",
    "\n",
    "    print('\\nTest set: Average loss: {:.4f}, Accuracy: {}/{} ({:.0f}%)\\n'.format(\n",
    "        test_loss, correct, len(test_loader.dataset),\n",
    "        accuracy))\n",
    "\n",
    "    return test_loss, accuracy"
   ]
  },
  {
   "cell_type": "code",
   "execution_count": 32,
   "metadata": {},
   "outputs": [],
   "source": [
    "train_loader = torch.utils.data.DataLoader(sdf_train, batch_size=32, shuffle=True, num_workers=4) ## ADDED shuffle\n",
    "val_loader = torch.utils.data.DataLoader(sdf_val, batch_size=16)"
   ]
  },
  {
   "cell_type": "code",
   "execution_count": 33,
   "metadata": {},
   "outputs": [
    {
     "name": "stdout",
     "output_type": "stream",
     "text": [
      "\n",
      "Test set: Average loss: 5.2924, Accuracy: 2/349 (1%)\n",
      "\n"
     ]
    },
    {
     "data": {
      "text/plain": [
       "(5.292350681600052, 0.5730659025787965)"
      ]
     },
     "execution_count": 33,
     "metadata": {},
     "output_type": "execute_result"
    }
   ],
   "source": [
    "test(model_ft, device, criterion, val_loader)"
   ]
  },
  {
   "cell_type": "code",
   "execution_count": null,
   "metadata": {},
   "outputs": [],
   "source": []
  },
  {
   "cell_type": "code",
   "execution_count": 34,
   "metadata": {
    "scrolled": true
   },
   "outputs": [
    {
     "name": "stdout",
     "output_type": "stream",
     "text": [
      "Train Epoch: 0 [0/4360 (0%)]\tLoss: 172.893234\n",
      "\n",
      "Test set: Average loss: 4.9659, Accuracy: 12/349 (3%)\n",
      "\n",
      "Training so far 1.3535181403160095 minutes\n",
      "====================\n",
      "Train Epoch: 1 [0/4360 (0%)]\tLoss: 131.907547\n",
      "\n",
      "Test set: Average loss: 3.8213, Accuracy: 50/349 (14%)\n",
      "\n",
      "Training so far 2.7188123067220054 minutes\n",
      "====================\n",
      "Train Epoch: 2 [0/4360 (0%)]\tLoss: 101.169342\n",
      "\n",
      "Test set: Average loss: 3.3045, Accuracy: 81/349 (23%)\n",
      "\n",
      "Training so far 4.046714715162913 minutes\n",
      "====================\n",
      "Train Epoch: 3 [0/4360 (0%)]\tLoss: 82.384605\n",
      "\n",
      "Test set: Average loss: 3.1134, Accuracy: 100/349 (29%)\n",
      "\n",
      "Training so far 5.372169760862986 minutes\n",
      "====================\n",
      "Train Epoch: 4 [0/4360 (0%)]\tLoss: 64.027985\n",
      "\n",
      "Test set: Average loss: 2.1054, Accuracy: 165/349 (47%)\n",
      "\n",
      "Training so far 6.697311381498973 minutes\n",
      "====================\n",
      "Train Epoch: 5 [0/4360 (0%)]\tLoss: 38.905315\n",
      "\n",
      "Test set: Average loss: 1.9795, Accuracy: 168/349 (48%)\n",
      "\n",
      "Training so far 8.014516866207122 minutes\n",
      "====================\n",
      "Train Epoch: 6 [0/4360 (0%)]\tLoss: 54.830997\n",
      "\n",
      "Test set: Average loss: 1.7241, Accuracy: 197/349 (56%)\n",
      "\n",
      "Training so far 9.349347575505574 minutes\n",
      "====================\n",
      "Train Epoch: 7 [0/4360 (0%)]\tLoss: 32.757950\n",
      "\n",
      "Test set: Average loss: 1.5057, Accuracy: 216/349 (62%)\n",
      "\n",
      "Training so far 10.666336214542389 minutes\n",
      "====================\n",
      "Train Epoch: 8 [0/4360 (0%)]\tLoss: 40.653477\n",
      "\n",
      "Test set: Average loss: 1.9905, Accuracy: 172/349 (49%)\n",
      "\n",
      "Training so far 12.011944766839346 minutes\n",
      "====================\n",
      "Train Epoch: 9 [0/4360 (0%)]\tLoss: 37.058159\n",
      "\n",
      "Test set: Average loss: 1.5703, Accuracy: 205/349 (59%)\n",
      "\n",
      "Training so far 13.341329471270244 minutes\n",
      "====================\n",
      "Train Epoch: 10 [0/4360 (0%)]\tLoss: 27.854593\n",
      "\n",
      "Test set: Average loss: 1.4749, Accuracy: 210/349 (60%)\n",
      "\n",
      "Training so far 14.677860109011332 minutes\n",
      "====================\n",
      "Train Epoch: 11 [0/4360 (0%)]\tLoss: 28.488779\n",
      "\n",
      "Test set: Average loss: 1.8371, Accuracy: 199/349 (57%)\n",
      "\n",
      "Training so far 16.0202863017718 minutes\n",
      "====================\n",
      "Train Epoch: 12 [0/4360 (0%)]\tLoss: 16.715395\n",
      "\n",
      "Test set: Average loss: 1.2476, Accuracy: 242/349 (69%)\n",
      "\n",
      "Training so far 17.343663811683655 minutes\n",
      "====================\n",
      "Train Epoch: 13 [0/4360 (0%)]\tLoss: 13.764339\n",
      "\n",
      "Test set: Average loss: 2.5537, Accuracy: 139/349 (40%)\n",
      "\n",
      "Training so far 18.65649419228236 minutes\n",
      "====================\n",
      "Train Epoch: 14 [0/4360 (0%)]\tLoss: 20.079203\n",
      "\n",
      "Test set: Average loss: 2.1010, Accuracy: 175/349 (50%)\n",
      "\n",
      "Training so far 19.98025377988815 minutes\n",
      "====================\n",
      "Train Epoch: 15 [0/4360 (0%)]\tLoss: 34.234985\n",
      "\n",
      "Test set: Average loss: 1.2492, Accuracy: 239/349 (68%)\n",
      "\n",
      "Training so far 21.305246086915336 minutes\n",
      "====================\n",
      "Train Epoch: 16 [0/4360 (0%)]\tLoss: 20.901791\n",
      "\n",
      "Test set: Average loss: 1.3388, Accuracy: 230/349 (66%)\n",
      "\n",
      "Training so far 22.63043451309204 minutes\n",
      "====================\n",
      "Train Epoch: 17 [0/4360 (0%)]\tLoss: 16.176697\n",
      "\n",
      "Test set: Average loss: 1.0656, Accuracy: 255/349 (73%)\n",
      "\n",
      "Training so far 23.952302281061808 minutes\n",
      "====================\n",
      "Train Epoch: 18 [0/4360 (0%)]\tLoss: 8.190152\n",
      "\n",
      "Test set: Average loss: 1.0544, Accuracy: 254/349 (73%)\n",
      "\n",
      "Training so far 25.28576204776764 minutes\n",
      "====================\n",
      "Train Epoch: 19 [0/4360 (0%)]\tLoss: 14.285793\n",
      "\n",
      "Test set: Average loss: 1.1555, Accuracy: 241/349 (69%)\n",
      "\n",
      "Training so far 26.598971569538115 minutes\n",
      "====================\n",
      "Train Epoch: 20 [0/4360 (0%)]\tLoss: 10.041148\n",
      "\n",
      "Test set: Average loss: 1.2618, Accuracy: 226/349 (65%)\n",
      "\n",
      "Training so far 27.916048125425974 minutes\n",
      "====================\n",
      "Train Epoch: 21 [0/4360 (0%)]\tLoss: 8.117005\n",
      "\n",
      "Test set: Average loss: 1.0345, Accuracy: 262/349 (75%)\n",
      "\n",
      "Training so far 29.24698241551717 minutes\n",
      "====================\n",
      "Train Epoch: 22 [0/4360 (0%)]\tLoss: 14.705115\n",
      "\n",
      "Test set: Average loss: 1.6713, Accuracy: 197/349 (56%)\n",
      "\n",
      "Training so far 30.699980040391285 minutes\n",
      "====================\n",
      "Train Epoch: 23 [0/4360 (0%)]\tLoss: 21.092367\n",
      "\n",
      "Test set: Average loss: 2.4416, Accuracy: 181/349 (52%)\n",
      "\n",
      "Training so far 32.14563582340876 minutes\n",
      "====================\n",
      "Train Epoch: 24 [0/4360 (0%)]\tLoss: 16.673141\n",
      "\n",
      "Test set: Average loss: 2.3451, Accuracy: 163/349 (47%)\n",
      "\n",
      "Training so far 33.465637926260634 minutes\n",
      "====================\n",
      "Train Epoch: 25 [0/4360 (0%)]\tLoss: 13.647373\n",
      "\n",
      "Test set: Average loss: 1.0269, Accuracy: 265/349 (76%)\n",
      "\n",
      "Training so far 34.79397124846776 minutes\n",
      "====================\n",
      "Train Epoch: 26 [0/4360 (0%)]\tLoss: 21.994350\n",
      "\n",
      "Test set: Average loss: 0.9638, Accuracy: 268/349 (77%)\n",
      "\n",
      "Training so far 36.11764304240545 minutes\n",
      "====================\n",
      "Train Epoch: 27 [0/4360 (0%)]\tLoss: 10.661972\n",
      "\n",
      "Test set: Average loss: 1.2395, Accuracy: 239/349 (68%)\n",
      "\n",
      "Training so far 37.4523143808047 minutes\n",
      "====================\n",
      "Train Epoch: 28 [0/4360 (0%)]\tLoss: 11.789698\n",
      "\n",
      "Test set: Average loss: 1.0838, Accuracy: 263/349 (75%)\n",
      "\n",
      "Training so far 38.78071102698644 minutes\n",
      "====================\n",
      "Train Epoch: 29 [0/4360 (0%)]\tLoss: 20.678740\n",
      "\n",
      "Test set: Average loss: 1.0196, Accuracy: 266/349 (76%)\n",
      "\n",
      "Training so far 40.11629052956899 minutes\n",
      "====================\n",
      "Train Epoch: 30 [0/4360 (0%)]\tLoss: 19.998142\n",
      "\n",
      "Test set: Average loss: 1.7648, Accuracy: 211/349 (60%)\n",
      "\n",
      "Training so far 41.45751442511877 minutes\n",
      "====================\n",
      "Train Epoch: 31 [0/4360 (0%)]\tLoss: 14.315460\n",
      "\n",
      "Test set: Average loss: 0.9559, Accuracy: 274/349 (79%)\n",
      "\n",
      "Training so far 42.77861221631368 minutes\n",
      "====================\n",
      "Train Epoch: 32 [0/4360 (0%)]\tLoss: 19.709337\n",
      "\n",
      "Test set: Average loss: 1.0302, Accuracy: 270/349 (77%)\n",
      "\n",
      "Training so far 44.105421582857765 minutes\n",
      "====================\n",
      "Train Epoch: 33 [0/4360 (0%)]\tLoss: 8.798286\n",
      "\n",
      "Test set: Average loss: 14.1295, Accuracy: 33/349 (9%)\n",
      "\n",
      "Training so far 45.43358754316966 minutes\n",
      "====================\n",
      "Train Epoch: 34 [0/4360 (0%)]\tLoss: 11.967537\n",
      "\n",
      "Test set: Average loss: 1.5010, Accuracy: 227/349 (65%)\n",
      "\n",
      "Training so far 46.7665806333224 minutes\n",
      "====================\n",
      "Train Epoch: 35 [0/4360 (0%)]\tLoss: 16.222639\n",
      "\n",
      "Test set: Average loss: 1.0558, Accuracy: 274/349 (79%)\n",
      "\n",
      "Training so far 48.08977898756663 minutes\n",
      "====================\n",
      "Train Epoch: 36 [0/4360 (0%)]\tLoss: 11.805822\n",
      "\n",
      "Test set: Average loss: 1.1997, Accuracy: 262/349 (75%)\n",
      "\n",
      "Epoch    37: reducing learning rate of group 0 to 2.5000e-04.\n",
      "Training so far 49.42059688568115 minutes\n",
      "====================\n",
      "Train Epoch: 37 [0/4360 (0%)]\tLoss: 2.079649\n",
      "\n",
      "Test set: Average loss: 0.9319, Accuracy: 281/349 (81%)\n",
      "\n",
      "Training so far 50.756855909029646 minutes\n",
      "====================\n",
      "Train Epoch: 38 [0/4360 (0%)]\tLoss: 16.788151\n",
      "\n",
      "Test set: Average loss: 0.8818, Accuracy: 283/349 (81%)\n",
      "\n",
      "Training so far 52.08644210497538 minutes\n",
      "====================\n",
      "Train Epoch: 39 [0/4360 (0%)]\tLoss: 16.096224\n",
      "\n",
      "Test set: Average loss: 1.0802, Accuracy: 273/349 (78%)\n",
      "\n",
      "Training so far 53.420843636989595 minutes\n",
      "====================\n",
      "Train Epoch: 40 [0/4360 (0%)]\tLoss: 3.581583\n",
      "\n",
      "Test set: Average loss: 0.9920, Accuracy: 278/349 (80%)\n",
      "\n",
      "Training so far 54.74926323493322 minutes\n",
      "====================\n",
      "Train Epoch: 41 [0/4360 (0%)]\tLoss: 5.591686\n",
      "\n",
      "Test set: Average loss: 0.9144, Accuracy: 285/349 (82%)\n",
      "\n",
      "Training so far 56.062349204222365 minutes\n",
      "====================\n",
      "Train Epoch: 42 [0/4360 (0%)]\tLoss: 3.245205\n",
      "\n",
      "Test set: Average loss: 0.8866, Accuracy: 281/349 (81%)\n",
      "\n",
      "Training so far 57.39461311499278 minutes\n",
      "====================\n",
      "Train Epoch: 43 [0/4360 (0%)]\tLoss: 1.079964\n",
      "\n",
      "Test set: Average loss: 0.8891, Accuracy: 282/349 (81%)\n",
      "\n",
      "Epoch    44: reducing learning rate of group 0 to 1.2500e-04.\n",
      "Training so far 58.724488107363385 minutes\n",
      "====================\n",
      "Train Epoch: 44 [0/4360 (0%)]\tLoss: 9.223007\n",
      "\n",
      "Test set: Average loss: 0.9551, Accuracy: 287/349 (82%)\n",
      "\n",
      "Training so far 60.03984140157699 minutes\n",
      "====================\n",
      "Train Epoch: 45 [0/4360 (0%)]\tLoss: 6.881785\n",
      "\n",
      "Test set: Average loss: 0.9354, Accuracy: 286/349 (82%)\n",
      "\n",
      "Training so far 61.35662675698598 minutes\n",
      "====================\n",
      "Train Epoch: 46 [0/4360 (0%)]\tLoss: 11.762593\n",
      "\n",
      "Test set: Average loss: 0.9687, Accuracy: 287/349 (82%)\n",
      "\n",
      "Training so far 62.666809817155205 minutes\n",
      "====================\n",
      "Train Epoch: 47 [0/4360 (0%)]\tLoss: 4.332954\n",
      "\n",
      "Test set: Average loss: 0.8801, Accuracy: 286/349 (82%)\n",
      "\n",
      "Training so far 63.99835569063823 minutes\n",
      "====================\n",
      "Train Epoch: 48 [0/4360 (0%)]\tLoss: 3.466262\n",
      "\n",
      "Test set: Average loss: 0.9975, Accuracy: 284/349 (81%)\n",
      "\n",
      "Training so far 65.32321310440699 minutes\n",
      "====================\n"
     ]
    },
    {
     "name": "stdout",
     "output_type": "stream",
     "text": [
      "Train Epoch: 49 [0/4360 (0%)]\tLoss: 6.102268\n",
      "\n",
      "Test set: Average loss: 0.8631, Accuracy: 286/349 (82%)\n",
      "\n",
      "Training so far 66.65820778210959 minutes\n",
      "====================\n",
      "time spent training: 66.65821254650751 minutes\n"
     ]
    }
   ],
   "source": [
    "def set_seed(seed: int = 42):\n",
    "    random.seed(seed)\n",
    "    np.random.seed(seed)\n",
    "    os.environ[\"PYTHONHASHSEED\"] = str(seed)\n",
    "    torch.manual_seed(seed)\n",
    "    torch.cuda.manual_seed(seed)\n",
    "\n",
    "\n",
    "t0 = time.time()\n",
    "alphabet = \"abcdefghijklmnopqrstuvwxyz\"\n",
    "tmp_folder_name = \"densenet161_aug_exp\"#\"\".join(random.choices(alphabet, k=6))\n",
    "\n",
    "best_loss = 1e5\n",
    "best_acc = 0\n",
    "\n",
    "max_patience = 20\n",
    "patience = 0\n",
    "os.mkdir(f\"tmp/{tmp_folder_name}\")\n",
    "\n",
    "train_loss_hist = list()\n",
    "val_loss_hist = list()\n",
    "val_acc_hist = list()\n",
    "\n",
    "save_each_epoch = False\n",
    "\n",
    "set_seed(9)\n",
    "\n",
    "for ep in range(50):\n",
    "    train_loss = train_epoch(1e10, model_ft, device, criterion, train_loader, optimizer_ft, ep)\n",
    "    cur_loss, cur_acc = test(model_ft, device, criterion, val_loader)\n",
    "    \n",
    "    train_loss_hist.append(train_loss)\n",
    "    val_loss_hist.append(cur_loss)\n",
    "    val_acc_hist.append(cur_acc)\n",
    "    \n",
    "    if save_each_epoch:\n",
    "        torch.save(model_ft.state_dict(), f\"tmp/{tmp_folder_name}/model_ep_{ep}.pth\")\n",
    "\n",
    "    if cur_loss < best_loss:\n",
    "        torch.save(model_ft.state_dict(), f\"tmp/{tmp_folder_name}/best_run.pth\")\n",
    "        best_loss = cur_loss\n",
    "        best_acc = cur_acc\n",
    "        patience = 0\n",
    "    else:\n",
    "        patience += 1\n",
    "#         print(\"patience:\", patience)\n",
    "#         if patience > max_patience:\n",
    "#             break\n",
    "\n",
    "    lr_scheduler.step(cur_loss) ## removed lr scheduler for now\n",
    "    print(\"Training so far {} minutes\".format((time.time() - t0) / 60))\n",
    "    print(\"=\"*20)\n",
    "\n",
    "print(\"time spent training: {} minutes\".format((time.time() - t0) / 60))"
   ]
  },
  {
   "cell_type": "code",
   "execution_count": null,
   "metadata": {},
   "outputs": [],
   "source": []
  },
  {
   "cell_type": "code",
   "execution_count": 61,
   "metadata": {},
   "outputs": [
    {
     "data": {
      "text/plain": [
       "0.8522127838992116"
      ]
     },
     "execution_count": 61,
     "metadata": {},
     "output_type": "execute_result"
    }
   ],
   "source": [
    "# torch.save(model_ft.state_dict(), f\"resnet18_ep30.pth\")\n",
    "best_loss"
   ]
  },
  {
   "cell_type": "code",
   "execution_count": 62,
   "metadata": {},
   "outputs": [
    {
     "data": {
      "text/plain": [
       "'densenet161_aug_exp'"
      ]
     },
     "execution_count": 62,
     "metadata": {},
     "output_type": "execute_result"
    }
   ],
   "source": [
    "tmp_folder_name"
   ]
  },
  {
   "cell_type": "code",
   "execution_count": 63,
   "metadata": {},
   "outputs": [
    {
     "data": {
      "text/plain": [
       "0.839541547277937"
      ]
     },
     "execution_count": 63,
     "metadata": {},
     "output_type": "execute_result"
    }
   ],
   "source": [
    "best_acc / 100"
   ]
  },
  {
   "cell_type": "code",
   "execution_count": 64,
   "metadata": {},
   "outputs": [],
   "source": [
    "import matplotlib.pyplot as plt"
   ]
  },
  {
   "cell_type": "code",
   "execution_count": 65,
   "metadata": {},
   "outputs": [
    {
     "data": {
      "text/plain": [
       "[<matplotlib.lines.Line2D at 0x7f6e477b0a58>]"
      ]
     },
     "execution_count": 65,
     "metadata": {},
     "output_type": "execute_result"
    },
    {
     "data": {
      "image/png": "[encoded data removed]",
      "text/plain": [
       "<Figure size 432x288 with 1 Axes>"
      ]
     },
     "metadata": {},
     "output_type": "display_data"
    }
   ],
   "source": [
    "plt.plot(range(len(val_loss_hist)), val_loss_hist)"
   ]
  },
  {
   "cell_type": "code",
   "execution_count": 66,
   "metadata": {},
   "outputs": [
    {
     "data": {
      "text/plain": [
       "[<matplotlib.lines.Line2D at 0x7f6e4438dc18>]"
      ]
     },
     "execution_count": 66,
     "metadata": {},
     "output_type": "execute_result"
    },
    {
     "data": {
      "image/png": "[encoded data removed]",
      "text/plain": [
       "<Figure size 432x288 with 1 Axes>"
      ]
     },
     "metadata": {},
     "output_type": "display_data"
    }
   ],
   "source": [
    "plt.plot(range(len(val_acc_hist)), val_acc_hist)"
   ]
  },
  {
   "cell_type": "code",
   "execution_count": 67,
   "metadata": {},
   "outputs": [
    {
     "data": {
      "text/plain": [
       "[<matplotlib.lines.Line2D at 0x7f6e443c1da0>]"
      ]
     },
     "execution_count": 67,
     "metadata": {},
     "output_type": "execute_result"
    },
    {
     "data": {
      "image/png": "[encoded data removed]",
      "text/plain": [
       "<Figure size 432x288 with 1 Axes>"
      ]
     },
     "metadata": {},
     "output_type": "display_data"
    }
   ],
   "source": [
    "plt.plot(range(len(train_loss_hist)), train_loss_hist)"
   ]
  },
  {
   "cell_type": "code",
   "execution_count": null,
   "metadata": {},
   "outputs": [],
   "source": []
  },
  {
   "cell_type": "code",
   "execution_count": 68,
   "metadata": {},
   "outputs": [
    {
     "data": {
      "text/plain": [
       "<All keys matched successfully>"
      ]
     },
     "execution_count": 68,
     "metadata": {},
     "output_type": "execute_result"
    }
   ],
   "source": [
    "model_ft.load_state_dict(torch.load(f\"tmp/{tmp_folder_name}/best_run.pth\"))"
   ]
  },
  {
   "cell_type": "code",
   "execution_count": null,
   "metadata": {},
   "outputs": [],
   "source": []
  },
  {
   "cell_type": "code",
   "execution_count": 69,
   "metadata": {},
   "outputs": [],
   "source": [
    "## try inference:\n",
    "test_loader = torch.utils.data.DataLoader(sdf_val, batch_size=16)"
   ]
  },
  {
   "cell_type": "code",
   "execution_count": 70,
   "metadata": {},
   "outputs": [
    {
     "name": "stderr",
     "output_type": "stream",
     "text": [
      "/home/letfoolsdie/virtual_envs/ml/lib/python3.6/site-packages/ipykernel_launcher.py:12: UserWarning: Implicit dimension choice for softmax has been deprecated. Change the call to include dim=X as an argument.\n",
      "  if sys.path[0] == '':\n"
     ]
    },
    {
     "name": "stdout",
     "output_type": "stream",
     "text": [
      "CPU times: user 9.69 s, sys: 39.3 ms, total: 9.73 s\n",
      "Wall time: 8.79 s\n"
     ]
    }
   ],
   "source": [
    "%%time\n",
    "\n",
    "sfm = nn.Softmax()\n",
    "predictions = list()\n",
    "\n",
    "for batch_idx, (inputs, _) in enumerate(test_loader):\n",
    "    inputs = inputs.type(torch.FloatTensor).to(device)\n",
    "\n",
    "    # forward\n",
    "    # track history if only in train\n",
    "    with torch.set_grad_enabled(False):\n",
    "        outputs = model_ft(inputs)\n",
    "        predictions.append(sfm(outputs)) ## ADD SOFTMAX\n",
    "\n",
    "predictions = np.concatenate([t.cpu().numpy() for t in predictions])\n",
    "preds = np.argmax(predictions, axis=1)"
   ]
  },
  {
   "cell_type": "code",
   "execution_count": 71,
   "metadata": {},
   "outputs": [],
   "source": [
    "val_df[\"preds\"] = [code2label[c] for c in preds]"
   ]
  },
  {
   "cell_type": "code",
   "execution_count": 72,
   "metadata": {},
   "outputs": [
    {
     "data": {
      "text/plain": [
       "0.839541547277937"
      ]
     },
     "execution_count": 72,
     "metadata": {},
     "output_type": "execute_result"
    }
   ],
   "source": [
    "(val_df.label == val_df.preds).mean()"
   ]
  },
  {
   "cell_type": "code",
   "execution_count": null,
   "metadata": {},
   "outputs": [],
   "source": []
  },
  {
   "cell_type": "markdown",
   "metadata": {},
   "source": [
    "## Prepare submission:"
   ]
  },
  {
   "cell_type": "code",
   "execution_count": 73,
   "metadata": {},
   "outputs": [
    {
     "data": {
      "text/html": [
       "<div>\n",
       "<style scoped>\n",
       "    .dataframe tbody tr th:only-of-type {\n",
       "        vertical-align: middle;\n",
       "    }\n",
       "\n",
       "    .dataframe tbody tr th {\n",
       "        vertical-align: top;\n",
       "    }\n",
       "\n",
       "    .dataframe thead th {\n",
       "        text-align: right;\n",
       "    }\n",
       "</style>\n",
       "<table border=\"1\" class=\"dataframe\">\n",
       "  <thead>\n",
       "    <tr style=\"text-align: right;\">\n",
       "      <th></th>\n",
       "      <th>fn</th>\n",
       "      <th>maize streak virus</th>\n",
       "      <th>disease</th>\n",
       "      <th>okukkoola</th>\n",
       "      <th>muwogo</th>\n",
       "      <th>mpeke</th>\n",
       "      <th>mucungwa</th>\n",
       "      <th>greens</th>\n",
       "      <th>garden</th>\n",
       "      <th>mango</th>\n",
       "      <th>...</th>\n",
       "      <th>kasaanyi</th>\n",
       "      <th>suckers</th>\n",
       "      <th>insects</th>\n",
       "      <th>fertilizer</th>\n",
       "      <th>nakavundira</th>\n",
       "      <th>ekiwojjolo</th>\n",
       "      <th>akawuka</th>\n",
       "      <th>ddagala</th>\n",
       "      <th>ebiwojjolo</th>\n",
       "      <th>obutungulu</th>\n",
       "    </tr>\n",
       "  </thead>\n",
       "  <tbody>\n",
       "    <tr>\n",
       "      <td>0</td>\n",
       "      <td>audio_files/00118N3.wav</td>\n",
       "      <td>0.002769</td>\n",
       "      <td>0.002084</td>\n",
       "      <td>0.005227</td>\n",
       "      <td>0.002884</td>\n",
       "      <td>0.004507</td>\n",
       "      <td>0.003533</td>\n",
       "      <td>0.001687</td>\n",
       "      <td>0.001626</td>\n",
       "      <td>0.003026</td>\n",
       "      <td>...</td>\n",
       "      <td>0.001507</td>\n",
       "      <td>0.002586</td>\n",
       "      <td>0.000081</td>\n",
       "      <td>0.000787</td>\n",
       "      <td>0.001928</td>\n",
       "      <td>0.004070</td>\n",
       "      <td>0.000132</td>\n",
       "      <td>0.000324</td>\n",
       "      <td>0.003241</td>\n",
       "      <td>0.003494</td>\n",
       "    </tr>\n",
       "    <tr>\n",
       "      <td>1</td>\n",
       "      <td>audio_files/00P0NMV.wav</td>\n",
       "      <td>0.001113</td>\n",
       "      <td>0.006091</td>\n",
       "      <td>0.001480</td>\n",
       "      <td>0.005104</td>\n",
       "      <td>0.004039</td>\n",
       "      <td>0.001252</td>\n",
       "      <td>0.000326</td>\n",
       "      <td>0.009214</td>\n",
       "      <td>0.000750</td>\n",
       "      <td>...</td>\n",
       "      <td>0.002991</td>\n",
       "      <td>0.001708</td>\n",
       "      <td>0.001014</td>\n",
       "      <td>0.000887</td>\n",
       "      <td>0.218384</td>\n",
       "      <td>0.002322</td>\n",
       "      <td>0.026944</td>\n",
       "      <td>0.014598</td>\n",
       "      <td>0.005134</td>\n",
       "      <td>0.004125</td>\n",
       "    </tr>\n",
       "    <tr>\n",
       "      <td>2</td>\n",
       "      <td>audio_files/01QEEZI.wav</td>\n",
       "      <td>0.001245</td>\n",
       "      <td>0.003642</td>\n",
       "      <td>0.001077</td>\n",
       "      <td>0.005952</td>\n",
       "      <td>0.006379</td>\n",
       "      <td>0.003655</td>\n",
       "      <td>0.002700</td>\n",
       "      <td>0.002457</td>\n",
       "      <td>0.000995</td>\n",
       "      <td>...</td>\n",
       "      <td>0.007273</td>\n",
       "      <td>0.005435</td>\n",
       "      <td>0.000962</td>\n",
       "      <td>0.002200</td>\n",
       "      <td>0.001465</td>\n",
       "      <td>0.001184</td>\n",
       "      <td>0.000905</td>\n",
       "      <td>0.000909</td>\n",
       "      <td>0.000670</td>\n",
       "      <td>0.001558</td>\n",
       "    </tr>\n",
       "  </tbody>\n",
       "</table>\n",
       "<p>3 rows × 194 columns</p>\n",
       "</div>"
      ],
      "text/plain": [
       "                        fn  maize streak virus   disease  okukkoola    muwogo  \\\n",
       "0  audio_files/00118N3.wav            0.002769  0.002084   0.005227  0.002884   \n",
       "1  audio_files/00P0NMV.wav            0.001113  0.006091   0.001480  0.005104   \n",
       "2  audio_files/01QEEZI.wav            0.001245  0.003642   0.001077  0.005952   \n",
       "\n",
       "      mpeke  mucungwa    greens    garden     mango  ...  kasaanyi   suckers  \\\n",
       "0  0.004507  0.003533  0.001687  0.001626  0.003026  ...  0.001507  0.002586   \n",
       "1  0.004039  0.001252  0.000326  0.009214  0.000750  ...  0.002991  0.001708   \n",
       "2  0.006379  0.003655  0.002700  0.002457  0.000995  ...  0.007273  0.005435   \n",
       "\n",
       "    insects  fertilizer  nakavundira  ekiwojjolo   akawuka   ddagala  \\\n",
       "0  0.000081    0.000787     0.001928    0.004070  0.000132  0.000324   \n",
       "1  0.001014    0.000887     0.218384    0.002322  0.026944  0.014598   \n",
       "2  0.000962    0.002200     0.001465    0.001184  0.000905  0.000909   \n",
       "\n",
       "   ebiwojjolo  obutungulu  \n",
       "0    0.003241    0.003494  \n",
       "1    0.005134    0.004125  \n",
       "2    0.000670    0.001558  \n",
       "\n",
       "[3 rows x 194 columns]"
      ]
     },
     "execution_count": 73,
     "metadata": {},
     "output_type": "execute_result"
    }
   ],
   "source": [
    "sample_subm = pd.read_csv(\"Submission1.csv\")\n",
    "sample_subm.head(3)"
   ]
  },
  {
   "cell_type": "code",
   "execution_count": 74,
   "metadata": {},
   "outputs": [],
   "source": [
    "sample_subm[\"image_fn\"] = sample_subm.fn.apply(get_image_path)"
   ]
  },
  {
   "cell_type": "code",
   "execution_count": 75,
   "metadata": {},
   "outputs": [
    {
     "data": {
      "text/html": [
       "<div>\n",
       "<style scoped>\n",
       "    .dataframe tbody tr th:only-of-type {\n",
       "        vertical-align: middle;\n",
       "    }\n",
       "\n",
       "    .dataframe tbody tr th {\n",
       "        vertical-align: top;\n",
       "    }\n",
       "\n",
       "    .dataframe thead th {\n",
       "        text-align: right;\n",
       "    }\n",
       "</style>\n",
       "<table border=\"1\" class=\"dataframe\">\n",
       "  <thead>\n",
       "    <tr style=\"text-align: right;\">\n",
       "      <th></th>\n",
       "      <th>fn</th>\n",
       "      <th>maize streak virus</th>\n",
       "      <th>disease</th>\n",
       "      <th>okukkoola</th>\n",
       "      <th>muwogo</th>\n",
       "      <th>mpeke</th>\n",
       "      <th>mucungwa</th>\n",
       "      <th>greens</th>\n",
       "      <th>garden</th>\n",
       "      <th>mango</th>\n",
       "      <th>...</th>\n",
       "      <th>suckers</th>\n",
       "      <th>insects</th>\n",
       "      <th>fertilizer</th>\n",
       "      <th>nakavundira</th>\n",
       "      <th>ekiwojjolo</th>\n",
       "      <th>akawuka</th>\n",
       "      <th>ddagala</th>\n",
       "      <th>ebiwojjolo</th>\n",
       "      <th>obutungulu</th>\n",
       "      <th>image_fn</th>\n",
       "    </tr>\n",
       "  </thead>\n",
       "  <tbody>\n",
       "    <tr>\n",
       "      <td>0</td>\n",
       "      <td>audio_files/00118N3.wav</td>\n",
       "      <td>0.002769</td>\n",
       "      <td>0.002084</td>\n",
       "      <td>0.005227</td>\n",
       "      <td>0.002884</td>\n",
       "      <td>0.004507</td>\n",
       "      <td>0.003533</td>\n",
       "      <td>0.001687</td>\n",
       "      <td>0.001626</td>\n",
       "      <td>0.003026</td>\n",
       "      <td>...</td>\n",
       "      <td>0.002586</td>\n",
       "      <td>0.000081</td>\n",
       "      <td>0.000787</td>\n",
       "      <td>0.001928</td>\n",
       "      <td>0.004070</td>\n",
       "      <td>0.000132</td>\n",
       "      <td>0.000324</td>\n",
       "      <td>0.003241</td>\n",
       "      <td>0.003494</td>\n",
       "      <td>/home/letfoolsdie/zindi_nlp/data/all_audio_res...</td>\n",
       "    </tr>\n",
       "    <tr>\n",
       "      <td>1</td>\n",
       "      <td>audio_files/00P0NMV.wav</td>\n",
       "      <td>0.001113</td>\n",
       "      <td>0.006091</td>\n",
       "      <td>0.001480</td>\n",
       "      <td>0.005104</td>\n",
       "      <td>0.004039</td>\n",
       "      <td>0.001252</td>\n",
       "      <td>0.000326</td>\n",
       "      <td>0.009214</td>\n",
       "      <td>0.000750</td>\n",
       "      <td>...</td>\n",
       "      <td>0.001708</td>\n",
       "      <td>0.001014</td>\n",
       "      <td>0.000887</td>\n",
       "      <td>0.218384</td>\n",
       "      <td>0.002322</td>\n",
       "      <td>0.026944</td>\n",
       "      <td>0.014598</td>\n",
       "      <td>0.005134</td>\n",
       "      <td>0.004125</td>\n",
       "      <td>/home/letfoolsdie/zindi_nlp/data/all_audio_res...</td>\n",
       "    </tr>\n",
       "    <tr>\n",
       "      <td>2</td>\n",
       "      <td>audio_files/01QEEZI.wav</td>\n",
       "      <td>0.001245</td>\n",
       "      <td>0.003642</td>\n",
       "      <td>0.001077</td>\n",
       "      <td>0.005952</td>\n",
       "      <td>0.006379</td>\n",
       "      <td>0.003655</td>\n",
       "      <td>0.002700</td>\n",
       "      <td>0.002457</td>\n",
       "      <td>0.000995</td>\n",
       "      <td>...</td>\n",
       "      <td>0.005435</td>\n",
       "      <td>0.000962</td>\n",
       "      <td>0.002200</td>\n",
       "      <td>0.001465</td>\n",
       "      <td>0.001184</td>\n",
       "      <td>0.000905</td>\n",
       "      <td>0.000909</td>\n",
       "      <td>0.000670</td>\n",
       "      <td>0.001558</td>\n",
       "      <td>/home/letfoolsdie/zindi_nlp/data/all_audio_res...</td>\n",
       "    </tr>\n",
       "  </tbody>\n",
       "</table>\n",
       "<p>3 rows × 195 columns</p>\n",
       "</div>"
      ],
      "text/plain": [
       "                        fn  maize streak virus   disease  okukkoola    muwogo  \\\n",
       "0  audio_files/00118N3.wav            0.002769  0.002084   0.005227  0.002884   \n",
       "1  audio_files/00P0NMV.wav            0.001113  0.006091   0.001480  0.005104   \n",
       "2  audio_files/01QEEZI.wav            0.001245  0.003642   0.001077  0.005952   \n",
       "\n",
       "      mpeke  mucungwa    greens    garden     mango  ...   suckers   insects  \\\n",
       "0  0.004507  0.003533  0.001687  0.001626  0.003026  ...  0.002586  0.000081   \n",
       "1  0.004039  0.001252  0.000326  0.009214  0.000750  ...  0.001708  0.001014   \n",
       "2  0.006379  0.003655  0.002700  0.002457  0.000995  ...  0.005435  0.000962   \n",
       "\n",
       "   fertilizer  nakavundira  ekiwojjolo   akawuka   ddagala  ebiwojjolo  \\\n",
       "0    0.000787     0.001928    0.004070  0.000132  0.000324    0.003241   \n",
       "1    0.000887     0.218384    0.002322  0.026944  0.014598    0.005134   \n",
       "2    0.002200     0.001465    0.001184  0.000905  0.000909    0.000670   \n",
       "\n",
       "   obutungulu                                           image_fn  \n",
       "0    0.003494  /home/letfoolsdie/zindi_nlp/data/all_audio_res...  \n",
       "1    0.004125  /home/letfoolsdie/zindi_nlp/data/all_audio_res...  \n",
       "2    0.001558  /home/letfoolsdie/zindi_nlp/data/all_audio_res...  \n",
       "\n",
       "[3 rows x 195 columns]"
      ]
     },
     "execution_count": 75,
     "metadata": {},
     "output_type": "execute_result"
    }
   ],
   "source": [
    "sample_subm.head(3)"
   ]
  },
  {
   "cell_type": "code",
   "execution_count": 76,
   "metadata": {},
   "outputs": [],
   "source": [
    "def get_predictions(model, test_loader):\n",
    "    sfm = nn.Softmax()\n",
    "    predictions = list()\n",
    "    for batch_idx, inputs in enumerate(test_loader):\n",
    "        inputs = inputs.type(torch.FloatTensor).to(device)\n",
    "\n",
    "        # forward\n",
    "        # track history if only in train\n",
    "        with torch.set_grad_enabled(False):\n",
    "            outputs = model(inputs)\n",
    "            predictions.append(sfm(outputs)) ## ADD SOFTMAX\n",
    "    predictions = np.concatenate([t.cpu().numpy() for t in predictions])\n",
    "    return predictions"
   ]
  },
  {
   "cell_type": "code",
   "execution_count": 77,
   "metadata": {},
   "outputs": [],
   "source": [
    "subm_dataset = SpectrogramTestDataset([[path, None] for path in sample_subm.image_fn.values ])\n",
    "subm_loader = torch.utils.data.DataLoader(subm_dataset, batch_size=16)"
   ]
  },
  {
   "cell_type": "code",
   "execution_count": 78,
   "metadata": {},
   "outputs": [
    {
     "name": "stderr",
     "output_type": "stream",
     "text": [
      "/home/letfoolsdie/virtual_envs/ml/lib/python3.6/site-packages/ipykernel_launcher.py:11: UserWarning: Implicit dimension choice for softmax has been deprecated. Change the call to include dim=X as an argument.\n",
      "  # This is added back by InteractiveShellApp.init_path()\n"
     ]
    },
    {
     "name": "stdout",
     "output_type": "stream",
     "text": [
      "CPU times: user 28 s, sys: 91.9 ms, total: 28.1 s\n",
      "Wall time: 25.4 s\n"
     ]
    }
   ],
   "source": [
    "%%time\n",
    "\n",
    "preds = get_predictions(model_ft, subm_loader)"
   ]
  },
  {
   "cell_type": "code",
   "execution_count": 79,
   "metadata": {},
   "outputs": [
    {
     "name": "stdout",
     "output_type": "stream",
     "text": [
      "(1017, 193)\n"
     ]
    }
   ],
   "source": [
    "print(preds.shape)"
   ]
  },
  {
   "cell_type": "code",
   "execution_count": 80,
   "metadata": {},
   "outputs": [
    {
     "data": {
      "text/plain": [
       "(1017, 195)"
      ]
     },
     "execution_count": 80,
     "metadata": {},
     "output_type": "execute_result"
    }
   ],
   "source": [
    "sample_subm.shape"
   ]
  },
  {
   "cell_type": "code",
   "execution_count": 81,
   "metadata": {},
   "outputs": [
    {
     "name": "stdout",
     "output_type": "stream",
     "text": [
      "CPU times: user 38 ms, sys: 440 µs, total: 38.4 ms\n",
      "Wall time: 37.9 ms\n"
     ]
    }
   ],
   "source": [
    "%%time\n",
    "\n",
    "for c in sample_subm.columns:\n",
    "    if c in {\"fn\", \"image_fn\"}:\n",
    "        continue\n",
    "    c_idx = label2code[c]\n",
    "    sample_subm[c] = preds[:, c_idx]"
   ]
  },
  {
   "cell_type": "code",
   "execution_count": 82,
   "metadata": {},
   "outputs": [
    {
     "data": {
      "text/html": [
       "<div>\n",
       "<style scoped>\n",
       "    .dataframe tbody tr th:only-of-type {\n",
       "        vertical-align: middle;\n",
       "    }\n",
       "\n",
       "    .dataframe tbody tr th {\n",
       "        vertical-align: top;\n",
       "    }\n",
       "\n",
       "    .dataframe thead th {\n",
       "        text-align: right;\n",
       "    }\n",
       "</style>\n",
       "<table border=\"1\" class=\"dataframe\">\n",
       "  <thead>\n",
       "    <tr style=\"text-align: right;\">\n",
       "      <th></th>\n",
       "      <th>fn</th>\n",
       "      <th>maize streak virus</th>\n",
       "      <th>disease</th>\n",
       "      <th>okukkoola</th>\n",
       "      <th>muwogo</th>\n",
       "      <th>mpeke</th>\n",
       "      <th>mucungwa</th>\n",
       "      <th>greens</th>\n",
       "      <th>garden</th>\n",
       "      <th>mango</th>\n",
       "      <th>...</th>\n",
       "      <th>suckers</th>\n",
       "      <th>insects</th>\n",
       "      <th>fertilizer</th>\n",
       "      <th>nakavundira</th>\n",
       "      <th>ekiwojjolo</th>\n",
       "      <th>akawuka</th>\n",
       "      <th>ddagala</th>\n",
       "      <th>ebiwojjolo</th>\n",
       "      <th>obutungulu</th>\n",
       "      <th>image_fn</th>\n",
       "    </tr>\n",
       "  </thead>\n",
       "  <tbody>\n",
       "    <tr>\n",
       "      <td>1014</td>\n",
       "      <td>audio_files/ZSC69U3.wav</td>\n",
       "      <td>8.832162e-10</td>\n",
       "      <td>5.667135e-14</td>\n",
       "      <td>6.895249e-12</td>\n",
       "      <td>1.311376e-12</td>\n",
       "      <td>3.434804e-12</td>\n",
       "      <td>3.215632e-10</td>\n",
       "      <td>6.908841e-10</td>\n",
       "      <td>1.024811e-15</td>\n",
       "      <td>5.614863e-15</td>\n",
       "      <td>...</td>\n",
       "      <td>9.886892e-14</td>\n",
       "      <td>6.233246e-09</td>\n",
       "      <td>1.060058e-08</td>\n",
       "      <td>8.697857e-09</td>\n",
       "      <td>5.110167e-08</td>\n",
       "      <td>7.117945e-11</td>\n",
       "      <td>1.838302e-11</td>\n",
       "      <td>1.108683e-08</td>\n",
       "      <td>7.936084e-11</td>\n",
       "      <td>/home/letfoolsdie/zindi_nlp/data/all_audio_res...</td>\n",
       "    </tr>\n",
       "    <tr>\n",
       "      <td>1015</td>\n",
       "      <td>audio_files/ZU1I8MR.wav</td>\n",
       "      <td>1.150832e-14</td>\n",
       "      <td>5.034388e-22</td>\n",
       "      <td>2.958057e-11</td>\n",
       "      <td>1.060698e-06</td>\n",
       "      <td>8.382032e-10</td>\n",
       "      <td>2.339503e-10</td>\n",
       "      <td>1.366641e-15</td>\n",
       "      <td>9.900380e-14</td>\n",
       "      <td>3.824074e-16</td>\n",
       "      <td>...</td>\n",
       "      <td>5.521030e-17</td>\n",
       "      <td>7.142785e-16</td>\n",
       "      <td>3.832899e-14</td>\n",
       "      <td>3.279323e-09</td>\n",
       "      <td>4.398527e-09</td>\n",
       "      <td>7.360212e-11</td>\n",
       "      <td>2.439150e-12</td>\n",
       "      <td>5.913812e-08</td>\n",
       "      <td>1.335763e-07</td>\n",
       "      <td>/home/letfoolsdie/zindi_nlp/data/all_audio_res...</td>\n",
       "    </tr>\n",
       "    <tr>\n",
       "      <td>1016</td>\n",
       "      <td>audio_files/ZYO56VD.wav</td>\n",
       "      <td>2.182697e-11</td>\n",
       "      <td>6.552114e-14</td>\n",
       "      <td>1.066938e-15</td>\n",
       "      <td>7.560331e-14</td>\n",
       "      <td>9.376625e-15</td>\n",
       "      <td>1.218984e-14</td>\n",
       "      <td>8.085924e-17</td>\n",
       "      <td>4.825745e-18</td>\n",
       "      <td>5.436146e-20</td>\n",
       "      <td>...</td>\n",
       "      <td>4.295981e-14</td>\n",
       "      <td>8.066951e-12</td>\n",
       "      <td>6.591391e-12</td>\n",
       "      <td>1.484375e-12</td>\n",
       "      <td>2.606446e-09</td>\n",
       "      <td>2.614460e-11</td>\n",
       "      <td>1.188237e-14</td>\n",
       "      <td>1.223194e-15</td>\n",
       "      <td>4.041501e-18</td>\n",
       "      <td>/home/letfoolsdie/zindi_nlp/data/all_audio_res...</td>\n",
       "    </tr>\n",
       "  </tbody>\n",
       "</table>\n",
       "<p>3 rows × 195 columns</p>\n",
       "</div>"
      ],
      "text/plain": [
       "                           fn  maize streak virus       disease     okukkoola  \\\n",
       "1014  audio_files/ZSC69U3.wav        8.832162e-10  5.667135e-14  6.895249e-12   \n",
       "1015  audio_files/ZU1I8MR.wav        1.150832e-14  5.034388e-22  2.958057e-11   \n",
       "1016  audio_files/ZYO56VD.wav        2.182697e-11  6.552114e-14  1.066938e-15   \n",
       "\n",
       "            muwogo         mpeke      mucungwa        greens        garden  \\\n",
       "1014  1.311376e-12  3.434804e-12  3.215632e-10  6.908841e-10  1.024811e-15   \n",
       "1015  1.060698e-06  8.382032e-10  2.339503e-10  1.366641e-15  9.900380e-14   \n",
       "1016  7.560331e-14  9.376625e-15  1.218984e-14  8.085924e-17  4.825745e-18   \n",
       "\n",
       "             mango  ...       suckers       insects    fertilizer  \\\n",
       "1014  5.614863e-15  ...  9.886892e-14  6.233246e-09  1.060058e-08   \n",
       "1015  3.824074e-16  ...  5.521030e-17  7.142785e-16  3.832899e-14   \n",
       "1016  5.436146e-20  ...  4.295981e-14  8.066951e-12  6.591391e-12   \n",
       "\n",
       "       nakavundira    ekiwojjolo       akawuka       ddagala    ebiwojjolo  \\\n",
       "1014  8.697857e-09  5.110167e-08  7.117945e-11  1.838302e-11  1.108683e-08   \n",
       "1015  3.279323e-09  4.398527e-09  7.360212e-11  2.439150e-12  5.913812e-08   \n",
       "1016  1.484375e-12  2.606446e-09  2.614460e-11  1.188237e-14  1.223194e-15   \n",
       "\n",
       "        obutungulu                                           image_fn  \n",
       "1014  7.936084e-11  /home/letfoolsdie/zindi_nlp/data/all_audio_res...  \n",
       "1015  1.335763e-07  /home/letfoolsdie/zindi_nlp/data/all_audio_res...  \n",
       "1016  4.041501e-18  /home/letfoolsdie/zindi_nlp/data/all_audio_res...  \n",
       "\n",
       "[3 rows x 195 columns]"
      ]
     },
     "execution_count": 82,
     "metadata": {},
     "output_type": "execute_result"
    }
   ],
   "source": [
    "sample_subm.tail(3)"
   ]
  },
  {
   "cell_type": "code",
   "execution_count": 83,
   "metadata": {},
   "outputs": [],
   "source": [
    "sample_subm.drop(\"image_fn\", axis=1).to_csv('submissions/densenet161_augmented_1.csv', index=False)"
   ]
  },
  {
   "cell_type": "code",
   "execution_count": null,
   "metadata": {},
   "outputs": [],
   "source": []
  }
 ],
 "metadata": {
  "kernelspec": {
   "display_name": "Python 3",
   "language": "python",
   "name": "python3"
  },
  "language_info": {
   "codemirror_mode": {
    "name": "ipython",
    "version": 3
   },
   "file_extension": ".py",
   "mimetype": "text/x-python",
   "name": "python",
   "nbconvert_exporter": "python",
   "pygments_lexer": "ipython3",
   "version": "3.6.9"
  }
 },
 "nbformat": 4,
 "nbformat_minor": 2
}
