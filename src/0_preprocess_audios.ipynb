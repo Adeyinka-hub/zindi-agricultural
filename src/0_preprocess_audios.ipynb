{
 "cells": [
  {
   "cell_type": "markdown",
   "metadata": {},
   "source": [
    "### resample and encode to wav all audios and save them to all_audio_resampled:"
   ]
  },
  {
   "cell_type": "code",
   "execution_count": 1,
   "metadata": {},
   "outputs": [],
   "source": [
    "import glob\n",
    "import librosa\n",
    "import soundfile as sf\n",
    "\n",
    "import pathlib\n",
    "\n",
    "import warnings\n",
    "warnings.filterwarnings(\"ignore\")"
   ]
  },
  {
   "cell_type": "code",
   "execution_count": 2,
   "metadata": {},
   "outputs": [],
   "source": [
    "data_path = pathlib.Path(\"../data\")\n",
    "source_folder = data_path / \"audio_files_full\"\n",
    "target_folder = data_path / \"all_audio_resampled\"\n",
    "\n",
    "SR = 22050"
   ]
  },
  {
   "cell_type": "code",
   "execution_count": 3,
   "metadata": {},
   "outputs": [
    {
     "name": "stdout",
     "output_type": "stream",
     "text": [
      "CPU times: user 5min 31s, sys: 1min 1s, total: 6min 32s\n",
      "Wall time: 29min 12s\n"
     ]
    }
   ],
   "source": [
    "%%time\n",
    "\n",
    "for audio in glob.glob(str(source_folder.resolve()) + \"/*\"):\n",
    "    fname = audio.split(\"/\")[-1].split(\".\")[0]\n",
    "    raw, _ = librosa.core.load(audio, sr=SR)\n",
    "    sf.write(target_folder / f\"{fname}.wav\", raw, samplerate=SR)"
   ]
  },
  {
   "cell_type": "code",
   "execution_count": null,
   "metadata": {},
   "outputs": [],
   "source": []
  }
 ],
 "metadata": {
  "kernelspec": {
   "display_name": "Python 3",
   "language": "python",
   "name": "python3"
  },
  "language_info": {
   "codemirror_mode": {
    "name": "ipython",
    "version": 3
   },
   "file_extension": ".py",
   "mimetype": "text/x-python",
   "name": "python",
   "nbconvert_exporter": "python",
   "pygments_lexer": "ipython3",
   "version": "3.6.9"
  }
 },
 "nbformat": 4,
 "nbformat_minor": 2
}
